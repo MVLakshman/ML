{
 "cells": [
  {
   "cell_type": "markdown",
   "metadata": {},
   "source": [
    "___\n",
    "\n",
    "<a href='http://www.pieriandata.com'> <img src='../Pierian_Data_Logo.png' /></a>\n",
    "___\n",
    "# Plotly and Cufflinks"
   ]
  },
  {
   "cell_type": "markdown",
   "metadata": {},
   "source": [
    "Plotly is a library that allows you to create interactive plots that you can use in dashboards or websites (you can save them as html files or static images).\n",
    "\n",
    "## Installation\n",
    "\n",
    "In order for this all to work, you'll need to install plotly and cufflinks to call plots directly off of a pandas dataframe. These libraries are not currently available through **conda** but are available through **pip**. Install the libraries at your command line/terminal using:\n",
    "\n",
    "    pip install plotly\n",
    "    pip install cufflinks\n",
    "\n",
    "** NOTE: Make sure you only have one installation of Python on your computer when you do this, otherwise the installation may not work. **\n",
    "\n",
    "## Imports and Set-up"
   ]
  },
  {
   "cell_type": "code",
   "execution_count": 40,
   "metadata": {},
   "outputs": [],
   "source": [
    "import pandas as pd\n",
    "import numpy as np\n",
    "import seaborn as  sns\n",
    "%matplotlib inline"
   ]
  },
  {
   "cell_type": "code",
   "execution_count": 2,
   "metadata": {},
   "outputs": [
    {
     "name": "stdout",
     "output_type": "stream",
     "text": [
      "4.14.1\n"
     ]
    }
   ],
   "source": [
    "from plotly import __version__\n",
    "from plotly.offline import download_plotlyjs, init_notebook_mode, plot, iplot\n",
    "\n",
    "print(__version__) # requires version >= 1.9.0"
   ]
  },
  {
   "cell_type": "code",
   "execution_count": 5,
   "metadata": {},
   "outputs": [],
   "source": [
    "import cufflinks as cf"
   ]
  },
  {
   "cell_type": "code",
   "execution_count": 6,
   "metadata": {},
   "outputs": [
    {
     "data": {
      "text/html": [
       "        <script type=\"text/javascript\">\n",
       "        window.PlotlyConfig = {MathJaxConfig: 'local'};\n",
       "        if (window.MathJax) {MathJax.Hub.Config({SVG: {font: \"STIX-Web\"}});}\n",
       "        if (typeof require !== 'undefined') {\n",
       "        require.undef(\"plotly\");\n",
       "        requirejs.config({\n",
       "            paths: {\n",
       "                'plotly': ['https://cdn.plot.ly/plotly-latest.min']\n",
       "            }\n",
       "        });\n",
       "        require(['plotly'], function(Plotly) {\n",
       "            window._Plotly = Plotly;\n",
       "        });\n",
       "        }\n",
       "        </script>\n",
       "        "
      ]
     },
     "metadata": {},
     "output_type": "display_data"
    }
   ],
   "source": [
    "# For Notebooks\n",
    "init_notebook_mode(connected=True)"
   ]
  },
  {
   "cell_type": "code",
   "execution_count": 7,
   "metadata": {},
   "outputs": [
    {
     "data": {
      "text/html": [
       "        <script type=\"text/javascript\">\n",
       "        window.PlotlyConfig = {MathJaxConfig: 'local'};\n",
       "        if (window.MathJax) {MathJax.Hub.Config({SVG: {font: \"STIX-Web\"}});}\n",
       "        if (typeof require !== 'undefined') {\n",
       "        require.undef(\"plotly\");\n",
       "        requirejs.config({\n",
       "            paths: {\n",
       "                'plotly': ['https://cdn.plot.ly/plotly-latest.min']\n",
       "            }\n",
       "        });\n",
       "        require(['plotly'], function(Plotly) {\n",
       "            window._Plotly = Plotly;\n",
       "        });\n",
       "        }\n",
       "        </script>\n",
       "        "
      ]
     },
     "metadata": {},
     "output_type": "display_data"
    }
   ],
   "source": [
    "# For offline use\n",
    "cf.go_offline()"
   ]
  },
  {
   "cell_type": "markdown",
   "metadata": {},
   "source": [
    "### Fake Data"
   ]
  },
  {
   "cell_type": "code",
   "execution_count": 41,
   "metadata": {},
   "outputs": [],
   "source": [
    "df = pd.DataFrame(np.random.randn(100,4),columns='A B C D'.split())\n",
    "titanic = sns.load_dataset('titanic')"
   ]
  },
  {
   "cell_type": "code",
   "execution_count": 20,
   "metadata": {},
   "outputs": [
    {
     "data": {
      "text/html": [
       "<div>\n",
       "<style scoped>\n",
       "    .dataframe tbody tr th:only-of-type {\n",
       "        vertical-align: middle;\n",
       "    }\n",
       "\n",
       "    .dataframe tbody tr th {\n",
       "        vertical-align: top;\n",
       "    }\n",
       "\n",
       "    .dataframe thead th {\n",
       "        text-align: right;\n",
       "    }\n",
       "</style>\n",
       "<table border=\"1\" class=\"dataframe\">\n",
       "  <thead>\n",
       "    <tr style=\"text-align: right;\">\n",
       "      <th></th>\n",
       "      <th>A</th>\n",
       "      <th>B</th>\n",
       "      <th>C</th>\n",
       "      <th>D</th>\n",
       "    </tr>\n",
       "  </thead>\n",
       "  <tbody>\n",
       "    <tr>\n",
       "      <th>0</th>\n",
       "      <td>1.066034</td>\n",
       "      <td>1.233267</td>\n",
       "      <td>0.599412</td>\n",
       "      <td>-0.454141</td>\n",
       "    </tr>\n",
       "    <tr>\n",
       "      <th>1</th>\n",
       "      <td>-0.202341</td>\n",
       "      <td>-1.740257</td>\n",
       "      <td>0.649862</td>\n",
       "      <td>-0.569503</td>\n",
       "    </tr>\n",
       "    <tr>\n",
       "      <th>2</th>\n",
       "      <td>-0.720203</td>\n",
       "      <td>-1.358566</td>\n",
       "      <td>0.304683</td>\n",
       "      <td>-0.365860</td>\n",
       "    </tr>\n",
       "    <tr>\n",
       "      <th>3</th>\n",
       "      <td>0.587697</td>\n",
       "      <td>-0.836777</td>\n",
       "      <td>1.551649</td>\n",
       "      <td>1.171540</td>\n",
       "    </tr>\n",
       "    <tr>\n",
       "      <th>4</th>\n",
       "      <td>0.589408</td>\n",
       "      <td>-0.701291</td>\n",
       "      <td>-0.421952</td>\n",
       "      <td>-0.286172</td>\n",
       "    </tr>\n",
       "  </tbody>\n",
       "</table>\n",
       "</div>"
      ],
      "text/plain": [
       "          A         B         C         D\n",
       "0  1.066034  1.233267  0.599412 -0.454141\n",
       "1 -0.202341 -1.740257  0.649862 -0.569503\n",
       "2 -0.720203 -1.358566  0.304683 -0.365860\n",
       "3  0.587697 -0.836777  1.551649  1.171540\n",
       "4  0.589408 -0.701291 -0.421952 -0.286172"
      ]
     },
     "execution_count": 20,
     "metadata": {},
     "output_type": "execute_result"
    }
   ],
   "source": [
    "df.head()"
   ]
  },
  {
   "cell_type": "code",
   "execution_count": 42,
   "metadata": {},
   "outputs": [
    {
     "data": {
      "text/html": [
       "<div>\n",
       "<style scoped>\n",
       "    .dataframe tbody tr th:only-of-type {\n",
       "        vertical-align: middle;\n",
       "    }\n",
       "\n",
       "    .dataframe tbody tr th {\n",
       "        vertical-align: top;\n",
       "    }\n",
       "\n",
       "    .dataframe thead th {\n",
       "        text-align: right;\n",
       "    }\n",
       "</style>\n",
       "<table border=\"1\" class=\"dataframe\">\n",
       "  <thead>\n",
       "    <tr style=\"text-align: right;\">\n",
       "      <th></th>\n",
       "      <th>survived</th>\n",
       "      <th>pclass</th>\n",
       "      <th>sex</th>\n",
       "      <th>age</th>\n",
       "      <th>sibsp</th>\n",
       "      <th>parch</th>\n",
       "      <th>fare</th>\n",
       "      <th>embarked</th>\n",
       "      <th>class</th>\n",
       "      <th>who</th>\n",
       "      <th>adult_male</th>\n",
       "      <th>deck</th>\n",
       "      <th>embark_town</th>\n",
       "      <th>alive</th>\n",
       "      <th>alone</th>\n",
       "    </tr>\n",
       "  </thead>\n",
       "  <tbody>\n",
       "    <tr>\n",
       "      <th>0</th>\n",
       "      <td>0</td>\n",
       "      <td>3</td>\n",
       "      <td>male</td>\n",
       "      <td>22.0</td>\n",
       "      <td>1</td>\n",
       "      <td>0</td>\n",
       "      <td>7.2500</td>\n",
       "      <td>S</td>\n",
       "      <td>Third</td>\n",
       "      <td>man</td>\n",
       "      <td>True</td>\n",
       "      <td>NaN</td>\n",
       "      <td>Southampton</td>\n",
       "      <td>no</td>\n",
       "      <td>False</td>\n",
       "    </tr>\n",
       "    <tr>\n",
       "      <th>1</th>\n",
       "      <td>1</td>\n",
       "      <td>1</td>\n",
       "      <td>female</td>\n",
       "      <td>38.0</td>\n",
       "      <td>1</td>\n",
       "      <td>0</td>\n",
       "      <td>71.2833</td>\n",
       "      <td>C</td>\n",
       "      <td>First</td>\n",
       "      <td>woman</td>\n",
       "      <td>False</td>\n",
       "      <td>C</td>\n",
       "      <td>Cherbourg</td>\n",
       "      <td>yes</td>\n",
       "      <td>False</td>\n",
       "    </tr>\n",
       "    <tr>\n",
       "      <th>2</th>\n",
       "      <td>1</td>\n",
       "      <td>3</td>\n",
       "      <td>female</td>\n",
       "      <td>26.0</td>\n",
       "      <td>0</td>\n",
       "      <td>0</td>\n",
       "      <td>7.9250</td>\n",
       "      <td>S</td>\n",
       "      <td>Third</td>\n",
       "      <td>woman</td>\n",
       "      <td>False</td>\n",
       "      <td>NaN</td>\n",
       "      <td>Southampton</td>\n",
       "      <td>yes</td>\n",
       "      <td>True</td>\n",
       "    </tr>\n",
       "    <tr>\n",
       "      <th>3</th>\n",
       "      <td>1</td>\n",
       "      <td>1</td>\n",
       "      <td>female</td>\n",
       "      <td>35.0</td>\n",
       "      <td>1</td>\n",
       "      <td>0</td>\n",
       "      <td>53.1000</td>\n",
       "      <td>S</td>\n",
       "      <td>First</td>\n",
       "      <td>woman</td>\n",
       "      <td>False</td>\n",
       "      <td>C</td>\n",
       "      <td>Southampton</td>\n",
       "      <td>yes</td>\n",
       "      <td>False</td>\n",
       "    </tr>\n",
       "    <tr>\n",
       "      <th>4</th>\n",
       "      <td>0</td>\n",
       "      <td>3</td>\n",
       "      <td>male</td>\n",
       "      <td>35.0</td>\n",
       "      <td>0</td>\n",
       "      <td>0</td>\n",
       "      <td>8.0500</td>\n",
       "      <td>S</td>\n",
       "      <td>Third</td>\n",
       "      <td>man</td>\n",
       "      <td>True</td>\n",
       "      <td>NaN</td>\n",
       "      <td>Southampton</td>\n",
       "      <td>no</td>\n",
       "      <td>True</td>\n",
       "    </tr>\n",
       "  </tbody>\n",
       "</table>\n",
       "</div>"
      ],
      "text/plain": [
       "   survived  pclass     sex   age  sibsp  parch     fare embarked  class  \\\n",
       "0         0       3    male  22.0      1      0   7.2500        S  Third   \n",
       "1         1       1  female  38.0      1      0  71.2833        C  First   \n",
       "2         1       3  female  26.0      0      0   7.9250        S  Third   \n",
       "3         1       1  female  35.0      1      0  53.1000        S  First   \n",
       "4         0       3    male  35.0      0      0   8.0500        S  Third   \n",
       "\n",
       "     who  adult_male deck  embark_town alive  alone  \n",
       "0    man        True  NaN  Southampton    no  False  \n",
       "1  woman       False    C    Cherbourg   yes  False  \n",
       "2  woman       False  NaN  Southampton   yes   True  \n",
       "3  woman       False    C  Southampton   yes  False  \n",
       "4    man        True  NaN  Southampton    no   True  "
      ]
     },
     "execution_count": 42,
     "metadata": {},
     "output_type": "execute_result"
    }
   ],
   "source": [
    "titanic.head()"
   ]
  },
  {
   "cell_type": "code",
   "execution_count": 10,
   "metadata": {},
   "outputs": [],
   "source": [
    "df2 = pd.DataFrame({'Category':['A','B','C'],'Values':[32,43,50]})"
   ]
  },
  {
   "cell_type": "code",
   "execution_count": 40,
   "metadata": {},
   "outputs": [
    {
     "data": {
      "text/html": [
       "<div>\n",
       "<table border=\"1\" class=\"dataframe\">\n",
       "  <thead>\n",
       "    <tr style=\"text-align: right;\">\n",
       "      <th></th>\n",
       "      <th>Category</th>\n",
       "      <th>Values</th>\n",
       "    </tr>\n",
       "  </thead>\n",
       "  <tbody>\n",
       "    <tr>\n",
       "      <th>0</th>\n",
       "      <td>A</td>\n",
       "      <td>32</td>\n",
       "    </tr>\n",
       "    <tr>\n",
       "      <th>1</th>\n",
       "      <td>B</td>\n",
       "      <td>43</td>\n",
       "    </tr>\n",
       "    <tr>\n",
       "      <th>2</th>\n",
       "      <td>C</td>\n",
       "      <td>50</td>\n",
       "    </tr>\n",
       "  </tbody>\n",
       "</table>\n",
       "</div>"
      ],
      "text/plain": [
       "  Category  Values\n",
       "0        A      32\n",
       "1        B      43\n",
       "2        C      50"
      ]
     },
     "execution_count": 40,
     "metadata": {},
     "output_type": "execute_result"
    }
   ],
   "source": [
    "df2.head()"
   ]
  },
  {
   "cell_type": "code",
   "execution_count": 22,
   "metadata": {},
   "outputs": [
    {
     "data": {
      "text/plain": [
       "<AxesSubplot:>"
      ]
     },
     "execution_count": 22,
     "metadata": {},
     "output_type": "execute_result"
    },
    {
     "data": {
      "image/png": "[encoded data removed]",
      "text/plain": [
       "<Figure size 432x288 with 1 Axes>"
      ]
     },
     "metadata": {
      "needs_background": "light"
     },
     "output_type": "display_data"
    }
   ],
   "source": [
    "df.plot()"
   ]
  },
  {
   "cell_type": "code",
   "execution_count": 23,
   "metadata": {},
   "outputs": [
    {
     "data": {
      "application/vnd.plotly.v1+json": {
       "config": {
        "linkText": "Export to plot.ly",
        "plotlyServerURL": "https://plot.ly",
        "showLink": true
       },
       "data": [
        {
         "line": {
          "color": "rgba(255, 153, 51, 1.0)",
          "dash": "solid",
          "shape": "linear",
          "width": 1.3
         },
         "mode": "lines",
         "name": "A",
         "text": "",
         "type": "scatter",
         "x": [
          0,
          1,
          2,
          3,
          4,
          5,
          6,
          7,
          8,
          9,
          10,
          11,
          12,
          13,
          14,
          15,
          16,
          17,
          18,
          19,
          20,
          21,
          22,
          23,
          24,
          25,
          26,
          27,
          28,
          29,
          30,
          31,
          32,
          33,
          34,
          35,
          36,
          37,
          38,
          39,
          40,
          41,
          42,
          43,
          44,
          45,
          46,
          47,
          48,
          49,
          50,
          51,
          52,
          53,
          54,
          55,
          56,
          57,
          58,
          59,
          60,
          61,
          62,
          63,
          64,
          65,
          66,
          67,
          68,
          69,
          70,
          71,
          72,
          73,
          74,
          75,
          76,
          77,
          78,
          79,
          80,
          81,
          82,
          83,
          84,
          85,
          86,
          87,
          88,
          89,
          90,
          91,
          92,
          93,
          94,
          95,
          96,
          97,
          98,
          99
         ],
         "y": [
          1.066033821726836,
          -0.20234052225325377,
          -0.7202032807069448,
          0.5876969285770565,
          0.5894082810927319,
          1.0966408592248225,
          0.9342602449467096,
          0.45296834381798506,
          0.11377689854572721,
          -0.015182384924197444,
          -1.0023195013509085,
          1.0561253511156685,
          -3.4069802426307905,
          1.1611381772450249,
          -0.9786531922381543,
          0.44150829410781106,
          0.6550320148323283,
          -0.18086514362098016,
          -1.449574844999948,
          -0.17652965182450162,
          1.620252667693584,
          0.34754355653960467,
          1.806768138822351,
          -0.45768771410313575,
          0.5368199083416141,
          -1.4123877529844118,
          1.5335615896164654,
          0.23143665121821524,
          0.8796131857211662,
          -1.5237599640761714,
          0.7761978467117557,
          -0.08109345148154067,
          -0.413836495422542,
          0.020236012487686746,
          -0.04477050480869064,
          -0.49951388000907565,
          -0.4806284409081598,
          0.584993947243313,
          -0.27779430391771787,
          -0.15322694744405466,
          -0.588812261369928,
          0.1438485486177861,
          0.22345350285618593,
          1.618844652296915,
          -0.05694763283213327,
          -1.657071732664729,
          -1.593089336724505,
          1.6000584860302083,
          1.0176911484944948,
          0.8542171967685713,
          -0.36609839265452254,
          -1.0582049409198413,
          -0.846492613702825,
          0.2507321823050788,
          -0.6436062165242302,
          1.732747650462511,
          0.30497304527003627,
          0.15365002124718544,
          -0.3540020506432751,
          1.1840653305767703,
          0.7270262810067589,
          -0.70069897762385,
          0.9810580691855825,
          1.3220716359779021,
          0.5625799092419832,
          -0.6683024207977339,
          0.6257885818020589,
          0.2471605057719761,
          -1.696173446761564,
          2.1155751926898527,
          -1.9708059670950684,
          1.0332980131889038,
          -1.2362625542127095,
          1.219736920395166,
          0.48928410461053945,
          -0.6609876535119567,
          -0.6955142021113592,
          -0.17152903062152622,
          -0.091697205713416,
          2.315426686821721,
          -2.59702218027904,
          1.178504757026743,
          0.33792090009429093,
          -0.1225023934654358,
          1.0701341251338765,
          -0.18119663733909702,
          -0.8921873197729137,
          -0.5337266529391964,
          1.138979553626761,
          0.6456178705727974,
          -0.23483846497245486,
          0.33817744840281194,
          -0.5140821741093899,
          0.2549530496412349,
          -1.5543264799586611,
          1.2893130377985462,
          -0.10069376715778916,
          0.44153810947872046,
          -0.3404624778743094,
          -0.5791620878582109
         ]
        },
        {
         "line": {
          "color": "rgba(55, 128, 191, 1.0)",
          "dash": "solid",
          "shape": "linear",
          "width": 1.3
         },
         "mode": "lines",
         "name": "B",
         "text": "",
         "type": "scatter",
         "x": [
          0,
          1,
          2,
          3,
          4,
          5,
          6,
          7,
          8,
          9,
          10,
          11,
          12,
          13,
          14,
          15,
          16,
          17,
          18,
          19,
          20,
          21,
          22,
          23,
          24,
          25,
          26,
          27,
          28,
          29,
          30,
          31,
          32,
          33,
          34,
          35,
          36,
          37,
          38,
          39,
          40,
          41,
          42,
          43,
          44,
          45,
          46,
          47,
          48,
          49,
          50,
          51,
          52,
          53,
          54,
          55,
          56,
          57,
          58,
          59,
          60,
          61,
          62,
          63,
          64,
          65,
          66,
          67,
          68,
          69,
          70,
          71,
          72,
          73,
          74,
          75,
          76,
          77,
          78,
          79,
          80,
          81,
          82,
          83,
          84,
          85,
          86,
          87,
          88,
          89,
          90,
          91,
          92,
          93,
          94,
          95,
          96,
          97,
          98,
          99
         ],
         "y": [
          1.233266812374226,
          -1.7402567803505051,
          -1.358566143928217,
          -0.8367770740645993,
          -0.7012906671338337,
          0.5214221088966884,
          1.130656755623005,
          0.10620727502497401,
          1.1554537851920814,
          1.1898942149915956,
          -0.4377379019747667,
          0.870028656547461,
          0.2943623135809353,
          0.39851414446194866,
          0.2601405761115901,
          -0.08101567419341556,
          0.6331632659062719,
          -1.847871549101868,
          -0.13007017306560822,
          0.6576454048691114,
          -0.06184842256785442,
          0.6632311939067133,
          -0.8418445387482837,
          -1.2234967212365655,
          1.1660837483569917,
          0.5702265236941769,
          -0.8828295708864294,
          0.08858544580338629,
          -0.6039464808497047,
          0.27751089732015743,
          0.23773467119761932,
          0.9596679917078207,
          0.22882892170015323,
          -0.6911618846720546,
          1.2842639386861472,
          -0.9183189472271543,
          -2.1774765259306714,
          -1.4203480211686401,
          0.7854717474930244,
          1.8236103725384551,
          -0.704217245892739,
          -1.2342903835901602,
          0.5577329754748598,
          -0.16423534301831957,
          0.14042363793765705,
          -0.6416607676468893,
          -0.9627993871563965,
          -1.703311023194733,
          -1.1487095825677889,
          1.5399614028160655,
          -1.1991151139196599,
          0.19692413989012664,
          0.9315558795977984,
          0.09856066084607118,
          -0.10198132436510375,
          0.30400937295614777,
          0.05809304987267057,
          0.20011656325223198,
          0.6029186395754181,
          -0.9274408040383253,
          2.0577425132832543,
          -1.134150319475954,
          -1.256673619624687,
          -0.9074753135094895,
          -0.5756203271751599,
          -0.9629392237994313,
          -0.623149564871256,
          0.8276883194379768,
          -0.8589945199948905,
          0.4677725330081428,
          -1.6985900658691038,
          -0.9867624637416783,
          -2.022454517111775,
          -0.21775079903675096,
          -0.007937706344356203,
          -1.681172747849504,
          0.8809516636506162,
          -0.42638268350880426,
          0.9721106503709406,
          0.8355688756171287,
          -1.2754244810465318,
          0.8699831007726233,
          -1.5563609714960738,
          0.5289152199852237,
          0.09644044356903302,
          -1.1262920622152162,
          -0.5987742670824937,
          -0.655433833253772,
          -0.7373569045659396,
          -0.6932204667046754,
          1.2619370773512206,
          0.8568160877701628,
          2.38634890000913,
          -0.03440815051190474,
          0.06548412771859694,
          0.6333793703650737,
          0.9828647473710335,
          -1.0273832581590594,
          -1.9356477936944356,
          0.5618265955894801
         ]
        },
        {
         "line": {
          "color": "rgba(50, 171, 96, 1.0)",
          "dash": "solid",
          "shape": "linear",
          "width": 1.3
         },
         "mode": "lines",
         "name": "C",
         "text": "",
         "type": "scatter",
         "x": [
          0,
          1,
          2,
          3,
          4,
          5,
          6,
          7,
          8,
          9,
          10,
          11,
          12,
          13,
          14,
          15,
          16,
          17,
          18,
          19,
          20,
          21,
          22,
          23,
          24,
          25,
          26,
          27,
          28,
          29,
          30,
          31,
          32,
          33,
          34,
          35,
          36,
          37,
          38,
          39,
          40,
          41,
          42,
          43,
          44,
          45,
          46,
          47,
          48,
          49,
          50,
          51,
          52,
          53,
          54,
          55,
          56,
          57,
          58,
          59,
          60,
          61,
          62,
          63,
          64,
          65,
          66,
          67,
          68,
          69,
          70,
          71,
          72,
          73,
          74,
          75,
          76,
          77,
          78,
          79,
          80,
          81,
          82,
          83,
          84,
          85,
          86,
          87,
          88,
          89,
          90,
          91,
          92,
          93,
          94,
          95,
          96,
          97,
          98,
          99
         ],
         "y": [
          0.5994120076476884,
          0.6498616528538104,
          0.3046831204025749,
          1.5516488192755589,
          -0.42195227768795424,
          -0.8887110226837811,
          -0.1168810943603337,
          0.37347700310975696,
          0.69768800021002,
          -0.5150534240644967,
          -0.08104181239766277,
          -1.5484498712109056,
          -0.3128139467801025,
          0.49190919665998156,
          -0.15400114441109639,
          1.7533662363145293,
          1.6008697605982305,
          -2.116958944478306,
          -1.2692861704525555,
          1.282255074221262,
          0.27760559913880745,
          1.7667364014973577,
          0.030339245499863277,
          -0.7478889395724653,
          -0.8272909699781593,
          0.1986031561693901,
          2.0376889364014095,
          -0.6804189297325682,
          -0.08241752933412747,
          -0.005426176223586138,
          -0.9134477347776213,
          -1.304377594768939,
          -0.6073067432226447,
          -0.826090262604425,
          -1.5585221357767416,
          1.0847500678670792,
          1.5604810980798483,
          0.719385638718891,
          -0.6230810956190972,
          -1.0220406069915593,
          -1.562681254837399,
          -1.9975074687896952,
          -1.6696665504067478,
          -0.1555636507641116,
          -0.16956989893473873,
          -0.010618951527133423,
          -1.284757156915189,
          -0.6380766263624598,
          -2.694417324544465,
          2.717283223327881,
          0.07775128420471893,
          0.6385910124673914,
          -1.3211514499858508,
          0.4464447398870291,
          -0.6766976967945117,
          0.5868865918783076,
          1.0364127863613017,
          0.09411933660845229,
          -0.6722138892501521,
          -0.07616680185008597,
          -1.2462853094588557,
          0.9962281269898077,
          -1.5251730522803522,
          0.02197029865557785,
          0.555735627454961,
          -0.7361034723330865,
          2.1476263562067714,
          0.2315490532197758,
          -1.816232027158175,
          1.8004811308213995,
          -0.3312812860490179,
          0.9942165748030192,
          -1.7948028789610264,
          -1.3700635771510143,
          0.07340402749818636,
          1.4059088991663504,
          -1.187189274343056,
          1.1309993283793958,
          0.9538736789915857,
          -0.471766560474822,
          1.5440727060765869,
          -1.3106068995407942,
          0.7259993304059889,
          -1.3603085455241253,
          1.1631713866040434,
          -1.7911601320563981,
          -0.9041090231820336,
          -0.2467399581906401,
          -0.8912418842742846,
          -2.2524832223534235,
          -0.6516359443711669,
          1.3205289278553214,
          -0.9563588958502423,
          -1.6454911262776188,
          -0.8691633664797821,
          -1.778966112595113,
          0.30458041772760425,
          -0.5805746690160797,
          -0.6204966782535924,
          0.8183502384209421
         ]
        },
        {
         "line": {
          "color": "rgba(128, 0, 128, 1.0)",
          "dash": "solid",
          "shape": "linear",
          "width": 1.3
         },
         "mode": "lines",
         "name": "D",
         "text": "",
         "type": "scatter",
         "x": [
          0,
          1,
          2,
          3,
          4,
          5,
          6,
          7,
          8,
          9,
          10,
          11,
          12,
          13,
          14,
          15,
          16,
          17,
          18,
          19,
          20,
          21,
          22,
          23,
          24,
          25,
          26,
          27,
          28,
          29,
          30,
          31,
          32,
          33,
          34,
          35,
          36,
          37,
          38,
          39,
          40,
          41,
          42,
          43,
          44,
          45,
          46,
          47,
          48,
          49,
          50,
          51,
          52,
          53,
          54,
          55,
          56,
          57,
          58,
          59,
          60,
          61,
          62,
          63,
          64,
          65,
          66,
          67,
          68,
          69,
          70,
          71,
          72,
          73,
          74,
          75,
          76,
          77,
          78,
          79,
          80,
          81,
          82,
          83,
          84,
          85,
          86,
          87,
          88,
          89,
          90,
          91,
          92,
          93,
          94,
          95,
          96,
          97,
          98,
          99
         ],
         "y": [
          -0.45414068899548193,
          -0.569503417934077,
          -0.3658602772802609,
          1.1715399878990258,
          -0.286171788997619,
          0.241692600929055,
          0.3019874027423667,
          0.37188345070492823,
          -0.5514778012248703,
          -1.2446486079715322,
          0.15427184622118562,
          1.2371574782615342,
          0.063728479745294,
          -0.0723578886847311,
          0.9369959094534575,
          0.5604696814520157,
          0.034488042427384534,
          -0.5624825690602822,
          1.0575675379354337,
          -0.7673134778794491,
          2.0191762847156607,
          -0.40445012875403574,
          0.4332379524925514,
          -0.9629989657141601,
          0.7045585891452165,
          -1.8919719825765557,
          1.5040770285857086,
          -1.212042225336976,
          0.46550783072473934,
          -1.1765271780384736,
          -0.9974300898255919,
          -0.7303791274666122,
          -0.8587603459659061,
          0.06526791136361426,
          -0.16617562795343316,
          0.5880514800287971,
          1.114951464082975,
          -0.7696264015375608,
          -1.8233509997595088,
          -0.42484850366188504,
          0.6285263471662252,
          1.494791644797778,
          1.5591100309071775,
          0.9821848105755602,
          -0.20583301572745863,
          -0.11242978795024335,
          1.5783462856318944,
          -0.39329612276873654,
          0.13469732859447955,
          0.3716446490272115,
          2.06817738409221,
          -0.25652937516721386,
          -1.0012480359161127,
          -0.8308034138366769,
          -0.1011714282598752,
          0.14231255227852044,
          -1.0162608270511453,
          -0.2905203262260313,
          0.8101756746137846,
          -0.2915314159489297,
          0.4633043789905505,
          -0.8664481508053743,
          2.281577150096869,
          -0.9426579485353858,
          0.39485348207220927,
          -0.3218590706127958,
          0.01621655902970112,
          -1.3478917702578823,
          -0.24908770959303236,
          -0.5111422159642806,
          -0.22408711378641663,
          -0.7237979604587003,
          -0.4730183990197249,
          1.0558066776857984,
          -0.22907711719980395,
          0.13911336083107806,
          0.6096534837428528,
          -1.0255651477700614,
          0.8185277279794085,
          -0.7152312787259772,
          -1.1460764094578726,
          0.7119503675021116,
          -0.7561380748773046,
          -0.3848216501674369,
          -0.8711919974788526,
          0.933565206715582,
          0.5512510356934629,
          -1.3313249196800399,
          0.4068426852450932,
          -1.3908325960616381,
          0.19602219233970367,
          -0.5640284781947329,
          -0.4790340171432119,
          0.25930470608923806,
          -1.5231859631711948,
          -0.6679068073570559,
          -1.3212171100260335,
          2.330252024285022,
          1.2450329426404732,
          0.32323517474758595
         ]
        }
       ],
       "layout": {
        "legend": {
         "bgcolor": "#F5F6F9",
         "font": {
          "color": "#4D5663"
         }
        },
        "paper_bgcolor": "#F5F6F9",
        "plot_bgcolor": "#F5F6F9",
        "template": {
         "data": {
          "bar": [
           {
            "error_x": {
             "color": "#2a3f5f"
            },
            "error_y": {
             "color": "#2a3f5f"
            },
            "marker": {
             "line": {
              "color": "#E5ECF6",
              "width": 0.5
             }
            },
            "type": "bar"
           }
          ],
          "barpolar": [
           {
            "marker": {
             "line": {
              "color": "#E5ECF6",
              "width": 0.5
             }
            },
            "type": "barpolar"
           }
          ],
          "carpet": [
           {
            "aaxis": {
             "endlinecolor": "#2a3f5f",
             "gridcolor": "white",
             "linecolor": "white",
             "minorgridcolor": "white",
             "startlinecolor": "#2a3f5f"
            },
            "baxis": {
             "endlinecolor": "#2a3f5f",
             "gridcolor": "white",
             "linecolor": "white",
             "minorgridcolor": "white",
             "startlinecolor": "#2a3f5f"
            },
            "type": "carpet"
           }
          ],
          "choropleth": [
           {
            "colorbar": {
             "outlinewidth": 0,
             "ticks": ""
            },
            "type": "choropleth"
           }
          ],
          "contour": [
           {
            "colorbar": {
             "outlinewidth": 0,
             "ticks": ""
            },
            "colorscale": [
             [
              0,
              "#0d0887"
             ],
             [
              0.1111111111111111,
              "#46039f"
             ],
             [
              0.2222222222222222,
              "#7201a8"
             ],
             [
              0.3333333333333333,
              "#9c179e"
             ],
             [
              0.4444444444444444,
              "#bd3786"
             ],
             [
              0.5555555555555556,
              "#d8576b"
             ],
             [
              0.6666666666666666,
              "#ed7953"
             ],
             [
              0.7777777777777778,
              "#fb9f3a"
             ],
             [
              0.8888888888888888,
              "#fdca26"
             ],
             [
              1,
              "#f0f921"
             ]
            ],
            "type": "contour"
           }
          ],
          "contourcarpet": [
           {
            "colorbar": {
             "outlinewidth": 0,
             "ticks": ""
            },
            "type": "contourcarpet"
           }
          ],
          "heatmap": [
           {
            "colorbar": {
             "outlinewidth": 0,
             "ticks": ""
            },
            "colorscale": [
             [
              0,
              "#0d0887"
             ],
             [
              0.1111111111111111,
              "#46039f"
             ],
             [
              0.2222222222222222,
              "#7201a8"
             ],
             [
              0.3333333333333333,
              "#9c179e"
             ],
             [
              0.4444444444444444,
              "#bd3786"
             ],
             [
              0.5555555555555556,
              "#d8576b"
             ],
             [
              0.6666666666666666,
              "#ed7953"
             ],
             [
              0.7777777777777778,
              "#fb9f3a"
             ],
             [
              0.8888888888888888,
              "#fdca26"
             ],
             [
              1,
              "#f0f921"
             ]
            ],
            "type": "heatmap"
           }
          ],
          "heatmapgl": [
           {
            "colorbar": {
             "outlinewidth": 0,
             "ticks": ""
            },
            "colorscale": [
             [
              0,
              "#0d0887"
             ],
             [
              0.1111111111111111,
              "#46039f"
             ],
             [
              0.2222222222222222,
              "#7201a8"
             ],
             [
              0.3333333333333333,
              "#9c179e"
             ],
             [
              0.4444444444444444,
              "#bd3786"
             ],
             [
              0.5555555555555556,
              "#d8576b"
             ],
             [
              0.6666666666666666,
              "#ed7953"
             ],
             [
              0.7777777777777778,
              "#fb9f3a"
             ],
             [
              0.8888888888888888,
              "#fdca26"
             ],
             [
              1,
              "#f0f921"
             ]
            ],
            "type": "heatmapgl"
           }
          ],
          "histogram": [
           {
            "marker": {
             "colorbar": {
              "outlinewidth": 0,
              "ticks": ""
             }
            },
            "type": "histogram"
           }
          ],
          "histogram2d": [
           {
            "colorbar": {
             "outlinewidth": 0,
             "ticks": ""
            },
            "colorscale": [
             [
              0,
              "#0d0887"
             ],
             [
              0.1111111111111111,
              "#46039f"
             ],
             [
              0.2222222222222222,
              "#7201a8"
             ],
             [
              0.3333333333333333,
              "#9c179e"
             ],
             [
              0.4444444444444444,
              "#bd3786"
             ],
             [
              0.5555555555555556,
              "#d8576b"
             ],
             [
              0.6666666666666666,
              "#ed7953"
             ],
             [
              0.7777777777777778,
              "#fb9f3a"
             ],
             [
              0.8888888888888888,
              "#fdca26"
             ],
             [
              1,
              "#f0f921"
             ]
            ],
            "type": "histogram2d"
           }
          ],
          "histogram2dcontour": [
           {
            "colorbar": {
             "outlinewidth": 0,
             "ticks": ""
            },
            "colorscale": [
             [
              0,
              "#0d0887"
             ],
             [
              0.1111111111111111,
              "#46039f"
             ],
             [
              0.2222222222222222,
              "#7201a8"
             ],
             [
              0.3333333333333333,
              "#9c179e"
             ],
             [
              0.4444444444444444,
              "#bd3786"
             ],
             [
              0.5555555555555556,
              "#d8576b"
             ],
             [
              0.6666666666666666,
              "#ed7953"
             ],
             [
              0.7777777777777778,
              "#fb9f3a"
             ],
             [
              0.8888888888888888,
              "#fdca26"
             ],
             [
              1,
              "#f0f921"
             ]
            ],
            "type": "histogram2dcontour"
           }
          ],
          "mesh3d": [
           {
            "colorbar": {
             "outlinewidth": 0,
             "ticks": ""
            },
            "type": "mesh3d"
           }
          ],
          "parcoords": [
           {
            "line": {
             "colorbar": {
              "outlinewidth": 0,
              "ticks": ""
             }
            },
            "type": "parcoords"
           }
          ],
          "pie": [
           {
            "automargin": true,
            "type": "pie"
           }
          ],
          "scatter": [
           {
            "marker": {
             "colorbar": {
              "outlinewidth": 0,
              "ticks": ""
             }
            },
            "type": "scatter"
           }
          ],
          "scatter3d": [
           {
            "line": {
             "colorbar": {
              "outlinewidth": 0,
              "ticks": ""
             }
            },
            "marker": {
             "colorbar": {
              "outlinewidth": 0,
              "ticks": ""
             }
            },
            "type": "scatter3d"
           }
          ],
          "scattercarpet": [
           {
            "marker": {
             "colorbar": {
              "outlinewidth": 0,
              "ticks": ""
             }
            },
            "type": "scattercarpet"
           }
          ],
          "scattergeo": [
           {
            "marker": {
             "colorbar": {
              "outlinewidth": 0,
              "ticks": ""
             }
            },
            "type": "scattergeo"
           }
          ],
          "scattergl": [
           {
            "marker": {
             "colorbar": {
              "outlinewidth": 0,
              "ticks": ""
             }
            },
            "type": "scattergl"
           }
          ],
          "scattermapbox": [
           {
            "marker": {
             "colorbar": {
              "outlinewidth": 0,
              "ticks": ""
             }
            },
            "type": "scattermapbox"
           }
          ],
          "scatterpolar": [
           {
            "marker": {
             "colorbar": {
              "outlinewidth": 0,
              "ticks": ""
             }
            },
            "type": "scatterpolar"
           }
          ],
          "scatterpolargl": [
           {
            "marker": {
             "colorbar": {
              "outlinewidth": 0,
              "ticks": ""
             }
            },
            "type": "scatterpolargl"
           }
          ],
          "scatterternary": [
           {
            "marker": {
             "colorbar": {
              "outlinewidth": 0,
              "ticks": ""
             }
            },
            "type": "scatterternary"
           }
          ],
          "surface": [
           {
            "colorbar": {
             "outlinewidth": 0,
             "ticks": ""
            },
            "colorscale": [
             [
              0,
              "#0d0887"
             ],
             [
              0.1111111111111111,
              "#46039f"
             ],
             [
              0.2222222222222222,
              "#7201a8"
             ],
             [
              0.3333333333333333,
              "#9c179e"
             ],
             [
              0.4444444444444444,
              "#bd3786"
             ],
             [
              0.5555555555555556,
              "#d8576b"
             ],
             [
              0.6666666666666666,
              "#ed7953"
             ],
             [
              0.7777777777777778,
              "#fb9f3a"
             ],
             [
              0.8888888888888888,
              "#fdca26"
             ],
             [
              1,
              "#f0f921"
             ]
            ],
            "type": "surface"
           }
          ],
          "table": [
           {
            "cells": {
             "fill": {
              "color": "#EBF0F8"
             },
             "line": {
              "color": "white"
             }
            },
            "header": {
             "fill": {
              "color": "#C8D4E3"
             },
             "line": {
              "color": "white"
             }
            },
            "type": "table"
           }
          ]
         },
         "layout": {
          "annotationdefaults": {
           "arrowcolor": "#2a3f5f",
           "arrowhead": 0,
           "arrowwidth": 1
          },
          "autotypenumbers": "strict",
          "coloraxis": {
           "colorbar": {
            "outlinewidth": 0,
            "ticks": ""
           }
          },
          "colorscale": {
           "diverging": [
            [
             0,
             "#8e0152"
            ],
            [
             0.1,
             "#c51b7d"
            ],
            [
             0.2,
             "#de77ae"
            ],
            [
             0.3,
             "#f1b6da"
            ],
            [
             0.4,
             "#fde0ef"
            ],
            [
             0.5,
             "#f7f7f7"
            ],
            [
             0.6,
             "#e6f5d0"
            ],
            [
             0.7,
             "#b8e186"
            ],
            [
             0.8,
             "#7fbc41"
            ],
            [
             0.9,
             "#4d9221"
            ],
            [
             1,
             "#276419"
            ]
           ],
           "sequential": [
            [
             0,
             "#0d0887"
            ],
            [
             0.1111111111111111,
             "#46039f"
            ],
            [
             0.2222222222222222,
             "#7201a8"
            ],
            [
             0.3333333333333333,
             "#9c179e"
            ],
            [
             0.4444444444444444,
             "#bd3786"
            ],
            [
             0.5555555555555556,
             "#d8576b"
            ],
            [
             0.6666666666666666,
             "#ed7953"
            ],
            [
             0.7777777777777778,
             "#fb9f3a"
            ],
            [
             0.8888888888888888,
             "#fdca26"
            ],
            [
             1,
             "#f0f921"
            ]
           ],
           "sequentialminus": [
            [
             0,
             "#0d0887"
            ],
            [
             0.1111111111111111,
             "#46039f"
            ],
            [
             0.2222222222222222,
             "#7201a8"
            ],
            [
             0.3333333333333333,
             "#9c179e"
            ],
            [
             0.4444444444444444,
             "#bd3786"
            ],
            [
             0.5555555555555556,
             "#d8576b"
            ],
            [
             0.6666666666666666,
             "#ed7953"
            ],
            [
             0.7777777777777778,
             "#fb9f3a"
            ],
            [
             0.8888888888888888,
             "#fdca26"
            ],
            [
             1,
             "#f0f921"
            ]
           ]
          },
          "colorway": [
           "#636efa",
           "#EF553B",
           "#00cc96",
           "#ab63fa",
           "#FFA15A",
           "#19d3f3",
           "#FF6692",
           "#B6E880",
           "#FF97FF",
           "#FECB52"
          ],
          "font": {
           "color": "#2a3f5f"
          },
          "geo": {
           "bgcolor": "white",
           "lakecolor": "white",
           "landcolor": "#E5ECF6",
           "showlakes": true,
           "showland": true,
           "subunitcolor": "white"
          },
          "hoverlabel": {
           "align": "left"
          },
          "hovermode": "closest",
          "mapbox": {
           "style": "light"
          },
          "paper_bgcolor": "white",
          "plot_bgcolor": "#E5ECF6",
          "polar": {
           "angularaxis": {
            "gridcolor": "white",
            "linecolor": "white",
            "ticks": ""
           },
           "bgcolor": "#E5ECF6",
           "radialaxis": {
            "gridcolor": "white",
            "linecolor": "white",
            "ticks": ""
           }
          },
          "scene": {
           "xaxis": {
            "backgroundcolor": "#E5ECF6",
            "gridcolor": "white",
            "gridwidth": 2,
            "linecolor": "white",
            "showbackground": true,
            "ticks": "",
            "zerolinecolor": "white"
           },
           "yaxis": {
            "backgroundcolor": "#E5ECF6",
            "gridcolor": "white",
            "gridwidth": 2,
            "linecolor": "white",
            "showbackground": true,
            "ticks": "",
            "zerolinecolor": "white"
           },
           "zaxis": {
            "backgroundcolor": "#E5ECF6",
            "gridcolor": "white",
            "gridwidth": 2,
            "linecolor": "white",
            "showbackground": true,
            "ticks": "",
            "zerolinecolor": "white"
           }
          },
          "shapedefaults": {
           "line": {
            "color": "#2a3f5f"
           }
          },
          "ternary": {
           "aaxis": {
            "gridcolor": "white",
            "linecolor": "white",
            "ticks": ""
           },
           "baxis": {
            "gridcolor": "white",
            "linecolor": "white",
            "ticks": ""
           },
           "bgcolor": "#E5ECF6",
           "caxis": {
            "gridcolor": "white",
            "linecolor": "white",
            "ticks": ""
           }
          },
          "title": {
           "x": 0.05
          },
          "xaxis": {
           "automargin": true,
           "gridcolor": "white",
           "linecolor": "white",
           "ticks": "",
           "title": {
            "standoff": 15
           },
           "zerolinecolor": "white",
           "zerolinewidth": 2
          },
          "yaxis": {
           "automargin": true,
           "gridcolor": "white",
           "linecolor": "white",
           "ticks": "",
           "title": {
            "standoff": 15
           },
           "zerolinecolor": "white",
           "zerolinewidth": 2
          }
         }
        },
        "title": {
         "font": {
          "color": "#4D5663"
         }
        },
        "xaxis": {
         "gridcolor": "#E1E5ED",
         "showgrid": true,
         "tickfont": {
          "color": "#4D5663"
         },
         "title": {
          "font": {
           "color": "#4D5663"
          },
          "text": ""
         },
         "zerolinecolor": "#E1E5ED"
        },
        "yaxis": {
         "gridcolor": "#E1E5ED",
         "showgrid": true,
         "tickfont": {
          "color": "#4D5663"
         },
         "title": {
          "font": {
           "color": "#4D5663"
          },
          "text": ""
         },
         "zerolinecolor": "#E1E5ED"
        }
       }
      },
      "text/html": [
       "<div>                            <div id=\"47187b26-c786-4481-90ef-ab35c2b2b84b\" class=\"plotly-graph-div\" style=\"height:525px; width:100%;\"></div>            <script type=\"text/javascript\">                require([\"plotly\"], function(Plotly) {                    window.PLOTLYENV=window.PLOTLYENV || {};\n",
       "                    window.PLOTLYENV.BASE_URL='https://plot.ly';                                    if (document.getElementById(\"47187b26-c786-4481-90ef-ab35c2b2b84b\")) {                    Plotly.newPlot(                        \"47187b26-c786-4481-90ef-ab35c2b2b84b\",                        [{\"line\": {\"color\": \"rgba(255, 153, 51, 1.0)\", \"dash\": \"solid\", \"shape\": \"linear\", \"width\": 1.3}, \"mode\": \"lines\", \"name\": \"A\", \"text\": \"\", \"type\": \"scatter\", \"x\": [0, 1, 2, 3, 4, 5, 6, 7, 8, 9, 10, 11, 12, 13, 14, 15, 16, 17, 18, 19, 20, 21, 22, 23, 24, 25, 26, 27, 28, 29, 30, 31, 32, 33, 34, 35, 36, 37, 38, 39, 40, 41, 42, 43, 44, 45, 46, 47, 48, 49, 50, 51, 52, 53, 54, 55, 56, 57, 58, 59, 60, 61, 62, 63, 64, 65, 66, 67, 68, 69, 70, 71, 72, 73, 74, 75, 76, 77, 78, 79, 80, 81, 82, 83, 84, 85, 86, 87, 88, 89, 90, 91, 92, 93, 94, 95, 96, 97, 98, 99], \"y\": [1.066033821726836, -0.20234052225325377, -0.7202032807069448, 0.5876969285770565, 0.5894082810927319, 1.0966408592248225, 0.9342602449467096, 0.45296834381798506, 0.11377689854572721, -0.015182384924197444, -1.0023195013509085, 1.0561253511156685, -3.4069802426307905, 1.1611381772450249, -0.9786531922381543, 0.44150829410781106, 0.6550320148323283, -0.18086514362098016, -1.449574844999948, -0.17652965182450162, 1.620252667693584, 0.34754355653960467, 1.806768138822351, -0.45768771410313575, 0.5368199083416141, -1.4123877529844118, 1.5335615896164654, 0.23143665121821524, 0.8796131857211662, -1.5237599640761714, 0.7761978467117557, -0.08109345148154067, -0.413836495422542, 0.020236012487686746, -0.04477050480869064, -0.49951388000907565, -0.4806284409081598, 0.584993947243313, -0.27779430391771787, -0.15322694744405466, -0.588812261369928, 0.1438485486177861, 0.22345350285618593, 1.618844652296915, -0.05694763283213327, -1.657071732664729, -1.593089336724505, 1.6000584860302083, 1.0176911484944948, 0.8542171967685713, -0.36609839265452254, -1.0582049409198413, -0.846492613702825, 0.2507321823050788, -0.6436062165242302, 1.732747650462511, 0.30497304527003627, 0.15365002124718544, -0.3540020506432751, 1.1840653305767703, 0.7270262810067589, -0.70069897762385, 0.9810580691855825, 1.3220716359779021, 0.5625799092419832, -0.6683024207977339, 0.6257885818020589, 0.2471605057719761, -1.696173446761564, 2.1155751926898527, -1.9708059670950684, 1.0332980131889038, -1.2362625542127095, 1.219736920395166, 0.48928410461053945, -0.6609876535119567, -0.6955142021113592, -0.17152903062152622, -0.091697205713416, 2.315426686821721, -2.59702218027904, 1.178504757026743, 0.33792090009429093, -0.1225023934654358, 1.0701341251338765, -0.18119663733909702, -0.8921873197729137, -0.5337266529391964, 1.138979553626761, 0.6456178705727974, -0.23483846497245486, 0.33817744840281194, -0.5140821741093899, 0.2549530496412349, -1.5543264799586611, 1.2893130377985462, -0.10069376715778916, 0.44153810947872046, -0.3404624778743094, -0.5791620878582109]}, {\"line\": {\"color\": \"rgba(55, 128, 191, 1.0)\", \"dash\": \"solid\", \"shape\": \"linear\", \"width\": 1.3}, \"mode\": \"lines\", \"name\": \"B\", \"text\": \"\", \"type\": \"scatter\", \"x\": [0, 1, 2, 3, 4, 5, 6, 7, 8, 9, 10, 11, 12, 13, 14, 15, 16, 17, 18, 19, 20, 21, 22, 23, 24, 25, 26, 27, 28, 29, 30, 31, 32, 33, 34, 35, 36, 37, 38, 39, 40, 41, 42, 43, 44, 45, 46, 47, 48, 49, 50, 51, 52, 53, 54, 55, 56, 57, 58, 59, 60, 61, 62, 63, 64, 65, 66, 67, 68, 69, 70, 71, 72, 73, 74, 75, 76, 77, 78, 79, 80, 81, 82, 83, 84, 85, 86, 87, 88, 89, 90, 91, 92, 93, 94, 95, 96, 97, 98, 99], \"y\": [1.233266812374226, -1.7402567803505051, -1.358566143928217, -0.8367770740645993, -0.7012906671338337, 0.5214221088966884, 1.130656755623005, 0.10620727502497401, 1.1554537851920814, 1.1898942149915956, -0.4377379019747667, 0.870028656547461, 0.2943623135809353, 0.39851414446194866, 0.2601405761115901, -0.08101567419341556, 0.6331632659062719, -1.847871549101868, -0.13007017306560822, 0.6576454048691114, -0.06184842256785442, 0.6632311939067133, -0.8418445387482837, -1.2234967212365655, 1.1660837483569917, 0.5702265236941769, -0.8828295708864294, 0.08858544580338629, -0.6039464808497047, 0.27751089732015743, 0.23773467119761932, 0.9596679917078207, 0.22882892170015323, -0.6911618846720546, 1.2842639386861472, -0.9183189472271543, -2.1774765259306714, -1.4203480211686401, 0.7854717474930244, 1.8236103725384551, -0.704217245892739, -1.2342903835901602, 0.5577329754748598, -0.16423534301831957, 0.14042363793765705, -0.6416607676468893, -0.9627993871563965, -1.703311023194733, -1.1487095825677889, 1.5399614028160655, -1.1991151139196599, 0.19692413989012664, 0.9315558795977984, 0.09856066084607118, -0.10198132436510375, 0.30400937295614777, 0.05809304987267057, 0.20011656325223198, 0.6029186395754181, -0.9274408040383253, 2.0577425132832543, -1.134150319475954, -1.256673619624687, -0.9074753135094895, -0.5756203271751599, -0.9629392237994313, -0.623149564871256, 0.8276883194379768, -0.8589945199948905, 0.4677725330081428, -1.6985900658691038, -0.9867624637416783, -2.022454517111775, -0.21775079903675096, -0.007937706344356203, -1.681172747849504, 0.8809516636506162, -0.42638268350880426, 0.9721106503709406, 0.8355688756171287, -1.2754244810465318, 0.8699831007726233, -1.5563609714960738, 0.5289152199852237, 0.09644044356903302, -1.1262920622152162, -0.5987742670824937, -0.655433833253772, -0.7373569045659396, -0.6932204667046754, 1.2619370773512206, 0.8568160877701628, 2.38634890000913, -0.03440815051190474, 0.06548412771859694, 0.6333793703650737, 0.9828647473710335, -1.0273832581590594, -1.9356477936944356, 0.5618265955894801]}, {\"line\": {\"color\": \"rgba(50, 171, 96, 1.0)\", \"dash\": \"solid\", \"shape\": \"linear\", \"width\": 1.3}, \"mode\": \"lines\", \"name\": \"C\", \"text\": \"\", \"type\": \"scatter\", \"x\": [0, 1, 2, 3, 4, 5, 6, 7, 8, 9, 10, 11, 12, 13, 14, 15, 16, 17, 18, 19, 20, 21, 22, 23, 24, 25, 26, 27, 28, 29, 30, 31, 32, 33, 34, 35, 36, 37, 38, 39, 40, 41, 42, 43, 44, 45, 46, 47, 48, 49, 50, 51, 52, 53, 54, 55, 56, 57, 58, 59, 60, 61, 62, 63, 64, 65, 66, 67, 68, 69, 70, 71, 72, 73, 74, 75, 76, 77, 78, 79, 80, 81, 82, 83, 84, 85, 86, 87, 88, 89, 90, 91, 92, 93, 94, 95, 96, 97, 98, 99], \"y\": [0.5994120076476884, 0.6498616528538104, 0.3046831204025749, 1.5516488192755589, -0.42195227768795424, -0.8887110226837811, -0.1168810943603337, 0.37347700310975696, 0.69768800021002, -0.5150534240644967, -0.08104181239766277, -1.5484498712109056, -0.3128139467801025, 0.49190919665998156, -0.15400114441109639, 1.7533662363145293, 1.6008697605982305, -2.116958944478306, -1.2692861704525555, 1.282255074221262, 0.27760559913880745, 1.7667364014973577, 0.030339245499863277, -0.7478889395724653, -0.8272909699781593, 0.1986031561693901, 2.0376889364014095, -0.6804189297325682, -0.08241752933412747, -0.005426176223586138, -0.9134477347776213, -1.304377594768939, -0.6073067432226447, -0.826090262604425, -1.5585221357767416, 1.0847500678670792, 1.5604810980798483, 0.719385638718891, -0.6230810956190972, -1.0220406069915593, -1.562681254837399, -1.9975074687896952, -1.6696665504067478, -0.1555636507641116, -0.16956989893473873, -0.010618951527133423, -1.284757156915189, -0.6380766263624598, -2.694417324544465, 2.717283223327881, 0.07775128420471893, 0.6385910124673914, -1.3211514499858508, 0.4464447398870291, -0.6766976967945117, 0.5868865918783076, 1.0364127863613017, 0.09411933660845229, -0.6722138892501521, -0.07616680185008597, -1.2462853094588557, 0.9962281269898077, -1.5251730522803522, 0.02197029865557785, 0.555735627454961, -0.7361034723330865, 2.1476263562067714, 0.2315490532197758, -1.816232027158175, 1.8004811308213995, -0.3312812860490179, 0.9942165748030192, -1.7948028789610264, -1.3700635771510143, 0.07340402749818636, 1.4059088991663504, -1.187189274343056, 1.1309993283793958, 0.9538736789915857, -0.471766560474822, 1.5440727060765869, -1.3106068995407942, 0.7259993304059889, -1.3603085455241253, 1.1631713866040434, -1.7911601320563981, -0.9041090231820336, -0.2467399581906401, -0.8912418842742846, -2.2524832223534235, -0.6516359443711669, 1.3205289278553214, -0.9563588958502423, -1.6454911262776188, -0.8691633664797821, -1.778966112595113, 0.30458041772760425, -0.5805746690160797, -0.6204966782535924, 0.8183502384209421]}, {\"line\": {\"color\": \"rgba(128, 0, 128, 1.0)\", \"dash\": \"solid\", \"shape\": \"linear\", \"width\": 1.3}, \"mode\": \"lines\", \"name\": \"D\", \"text\": \"\", \"type\": \"scatter\", \"x\": [0, 1, 2, 3, 4, 5, 6, 7, 8, 9, 10, 11, 12, 13, 14, 15, 16, 17, 18, 19, 20, 21, 22, 23, 24, 25, 26, 27, 28, 29, 30, 31, 32, 33, 34, 35, 36, 37, 38, 39, 40, 41, 42, 43, 44, 45, 46, 47, 48, 49, 50, 51, 52, 53, 54, 55, 56, 57, 58, 59, 60, 61, 62, 63, 64, 65, 66, 67, 68, 69, 70, 71, 72, 73, 74, 75, 76, 77, 78, 79, 80, 81, 82, 83, 84, 85, 86, 87, 88, 89, 90, 91, 92, 93, 94, 95, 96, 97, 98, 99], \"y\": [-0.45414068899548193, -0.569503417934077, -0.3658602772802609, 1.1715399878990258, -0.286171788997619, 0.241692600929055, 0.3019874027423667, 0.37188345070492823, -0.5514778012248703, -1.2446486079715322, 0.15427184622118562, 1.2371574782615342, 0.063728479745294, -0.0723578886847311, 0.9369959094534575, 0.5604696814520157, 0.034488042427384534, -0.5624825690602822, 1.0575675379354337, -0.7673134778794491, 2.0191762847156607, -0.40445012875403574, 0.4332379524925514, -0.9629989657141601, 0.7045585891452165, -1.8919719825765557, 1.5040770285857086, -1.212042225336976, 0.46550783072473934, -1.1765271780384736, -0.9974300898255919, -0.7303791274666122, -0.8587603459659061, 0.06526791136361426, -0.16617562795343316, 0.5880514800287971, 1.114951464082975, -0.7696264015375608, -1.8233509997595088, -0.42484850366188504, 0.6285263471662252, 1.494791644797778, 1.5591100309071775, 0.9821848105755602, -0.20583301572745863, -0.11242978795024335, 1.5783462856318944, -0.39329612276873654, 0.13469732859447955, 0.3716446490272115, 2.06817738409221, -0.25652937516721386, -1.0012480359161127, -0.8308034138366769, -0.1011714282598752, 0.14231255227852044, -1.0162608270511453, -0.2905203262260313, 0.8101756746137846, -0.2915314159489297, 0.4633043789905505, -0.8664481508053743, 2.281577150096869, -0.9426579485353858, 0.39485348207220927, -0.3218590706127958, 0.01621655902970112, -1.3478917702578823, -0.24908770959303236, -0.5111422159642806, -0.22408711378641663, -0.7237979604587003, -0.4730183990197249, 1.0558066776857984, -0.22907711719980395, 0.13911336083107806, 0.6096534837428528, -1.0255651477700614, 0.8185277279794085, -0.7152312787259772, -1.1460764094578726, 0.7119503675021116, -0.7561380748773046, -0.3848216501674369, -0.8711919974788526, 0.933565206715582, 0.5512510356934629, -1.3313249196800399, 0.4068426852450932, -1.3908325960616381, 0.19602219233970367, -0.5640284781947329, -0.4790340171432119, 0.25930470608923806, -1.5231859631711948, -0.6679068073570559, -1.3212171100260335, 2.330252024285022, 1.2450329426404732, 0.32323517474758595]}],                        {\"legend\": {\"bgcolor\": \"#F5F6F9\", \"font\": {\"color\": \"#4D5663\"}}, \"paper_bgcolor\": \"#F5F6F9\", \"plot_bgcolor\": \"#F5F6F9\", \"template\": {\"data\": {\"bar\": [{\"error_x\": {\"color\": \"#2a3f5f\"}, \"error_y\": {\"color\": \"#2a3f5f\"}, \"marker\": {\"line\": {\"color\": \"#E5ECF6\", \"width\": 0.5}}, \"type\": \"bar\"}], \"barpolar\": [{\"marker\": {\"line\": {\"color\": \"#E5ECF6\", \"width\": 0.5}}, \"type\": \"barpolar\"}], \"carpet\": [{\"aaxis\": {\"endlinecolor\": \"#2a3f5f\", \"gridcolor\": \"white\", \"linecolor\": \"white\", \"minorgridcolor\": \"white\", \"startlinecolor\": \"#2a3f5f\"}, \"baxis\": {\"endlinecolor\": \"#2a3f5f\", \"gridcolor\": \"white\", \"linecolor\": \"white\", \"minorgridcolor\": \"white\", \"startlinecolor\": \"#2a3f5f\"}, \"type\": \"carpet\"}], \"choropleth\": [{\"colorbar\": {\"outlinewidth\": 0, \"ticks\": \"\"}, \"type\": \"choropleth\"}], \"contour\": [{\"colorbar\": {\"outlinewidth\": 0, \"ticks\": \"\"}, \"colorscale\": [[0.0, \"#0d0887\"], [0.1111111111111111, \"#46039f\"], [0.2222222222222222, \"#7201a8\"], [0.3333333333333333, \"#9c179e\"], [0.4444444444444444, \"#bd3786\"], [0.5555555555555556, \"#d8576b\"], [0.6666666666666666, \"#ed7953\"], [0.7777777777777778, \"#fb9f3a\"], [0.8888888888888888, \"#fdca26\"], [1.0, \"#f0f921\"]], \"type\": \"contour\"}], \"contourcarpet\": [{\"colorbar\": {\"outlinewidth\": 0, \"ticks\": \"\"}, \"type\": \"contourcarpet\"}], \"heatmap\": [{\"colorbar\": {\"outlinewidth\": 0, \"ticks\": \"\"}, \"colorscale\": [[0.0, \"#0d0887\"], [0.1111111111111111, \"#46039f\"], [0.2222222222222222, \"#7201a8\"], [0.3333333333333333, \"#9c179e\"], [0.4444444444444444, \"#bd3786\"], [0.5555555555555556, \"#d8576b\"], [0.6666666666666666, \"#ed7953\"], [0.7777777777777778, \"#fb9f3a\"], [0.8888888888888888, \"#fdca26\"], [1.0, \"#f0f921\"]], \"type\": \"heatmap\"}], \"heatmapgl\": [{\"colorbar\": {\"outlinewidth\": 0, \"ticks\": \"\"}, \"colorscale\": [[0.0, \"#0d0887\"], [0.1111111111111111, \"#46039f\"], [0.2222222222222222, \"#7201a8\"], [0.3333333333333333, \"#9c179e\"], [0.4444444444444444, \"#bd3786\"], [0.5555555555555556, \"#d8576b\"], [0.6666666666666666, \"#ed7953\"], [0.7777777777777778, \"#fb9f3a\"], [0.8888888888888888, \"#fdca26\"], [1.0, \"#f0f921\"]], \"type\": \"heatmapgl\"}], \"histogram\": [{\"marker\": {\"colorbar\": {\"outlinewidth\": 0, \"ticks\": \"\"}}, \"type\": \"histogram\"}], \"histogram2d\": [{\"colorbar\": {\"outlinewidth\": 0, \"ticks\": \"\"}, \"colorscale\": [[0.0, \"#0d0887\"], [0.1111111111111111, \"#46039f\"], [0.2222222222222222, \"#7201a8\"], [0.3333333333333333, \"#9c179e\"], [0.4444444444444444, \"#bd3786\"], [0.5555555555555556, \"#d8576b\"], [0.6666666666666666, \"#ed7953\"], [0.7777777777777778, \"#fb9f3a\"], [0.8888888888888888, \"#fdca26\"], [1.0, \"#f0f921\"]], \"type\": \"histogram2d\"}], \"histogram2dcontour\": [{\"colorbar\": {\"outlinewidth\": 0, \"ticks\": \"\"}, \"colorscale\": [[0.0, \"#0d0887\"], [0.1111111111111111, \"#46039f\"], [0.2222222222222222, \"#7201a8\"], [0.3333333333333333, \"#9c179e\"], [0.4444444444444444, \"#bd3786\"], [0.5555555555555556, \"#d8576b\"], [0.6666666666666666, \"#ed7953\"], [0.7777777777777778, \"#fb9f3a\"], [0.8888888888888888, \"#fdca26\"], [1.0, \"#f0f921\"]], \"type\": \"histogram2dcontour\"}], \"mesh3d\": [{\"colorbar\": {\"outlinewidth\": 0, \"ticks\": \"\"}, \"type\": \"mesh3d\"}], \"parcoords\": [{\"line\": {\"colorbar\": {\"outlinewidth\": 0, \"ticks\": \"\"}}, \"type\": \"parcoords\"}], \"pie\": [{\"automargin\": true, \"type\": \"pie\"}], \"scatter\": [{\"marker\": {\"colorbar\": {\"outlinewidth\": 0, \"ticks\": \"\"}}, \"type\": \"scatter\"}], \"scatter3d\": [{\"line\": {\"colorbar\": {\"outlinewidth\": 0, \"ticks\": \"\"}}, \"marker\": {\"colorbar\": {\"outlinewidth\": 0, \"ticks\": \"\"}}, \"type\": \"scatter3d\"}], \"scattercarpet\": [{\"marker\": {\"colorbar\": {\"outlinewidth\": 0, \"ticks\": \"\"}}, \"type\": \"scattercarpet\"}], \"scattergeo\": [{\"marker\": {\"colorbar\": {\"outlinewidth\": 0, \"ticks\": \"\"}}, \"type\": \"scattergeo\"}], \"scattergl\": [{\"marker\": {\"colorbar\": {\"outlinewidth\": 0, \"ticks\": \"\"}}, \"type\": \"scattergl\"}], \"scattermapbox\": [{\"marker\": {\"colorbar\": {\"outlinewidth\": 0, \"ticks\": \"\"}}, \"type\": \"scattermapbox\"}], \"scatterpolar\": [{\"marker\": {\"colorbar\": {\"outlinewidth\": 0, \"ticks\": \"\"}}, \"type\": \"scatterpolar\"}], \"scatterpolargl\": [{\"marker\": {\"colorbar\": {\"outlinewidth\": 0, \"ticks\": \"\"}}, \"type\": \"scatterpolargl\"}], \"scatterternary\": [{\"marker\": {\"colorbar\": {\"outlinewidth\": 0, \"ticks\": \"\"}}, \"type\": \"scatterternary\"}], \"surface\": [{\"colorbar\": {\"outlinewidth\": 0, \"ticks\": \"\"}, \"colorscale\": [[0.0, \"#0d0887\"], [0.1111111111111111, \"#46039f\"], [0.2222222222222222, \"#7201a8\"], [0.3333333333333333, \"#9c179e\"], [0.4444444444444444, \"#bd3786\"], [0.5555555555555556, \"#d8576b\"], [0.6666666666666666, \"#ed7953\"], [0.7777777777777778, \"#fb9f3a\"], [0.8888888888888888, \"#fdca26\"], [1.0, \"#f0f921\"]], \"type\": \"surface\"}], \"table\": [{\"cells\": {\"fill\": {\"color\": \"#EBF0F8\"}, \"line\": {\"color\": \"white\"}}, \"header\": {\"fill\": {\"color\": \"#C8D4E3\"}, \"line\": {\"color\": \"white\"}}, \"type\": \"table\"}]}, \"layout\": {\"annotationdefaults\": {\"arrowcolor\": \"#2a3f5f\", \"arrowhead\": 0, \"arrowwidth\": 1}, \"autotypenumbers\": \"strict\", \"coloraxis\": {\"colorbar\": {\"outlinewidth\": 0, \"ticks\": \"\"}}, \"colorscale\": {\"diverging\": [[0, \"#8e0152\"], [0.1, \"#c51b7d\"], [0.2, \"#de77ae\"], [0.3, \"#f1b6da\"], [0.4, \"#fde0ef\"], [0.5, \"#f7f7f7\"], [0.6, \"#e6f5d0\"], [0.7, \"#b8e186\"], [0.8, \"#7fbc41\"], [0.9, \"#4d9221\"], [1, \"#276419\"]], \"sequential\": [[0.0, \"#0d0887\"], [0.1111111111111111, \"#46039f\"], [0.2222222222222222, \"#7201a8\"], [0.3333333333333333, \"#9c179e\"], [0.4444444444444444, \"#bd3786\"], [0.5555555555555556, \"#d8576b\"], [0.6666666666666666, \"#ed7953\"], [0.7777777777777778, \"#fb9f3a\"], [0.8888888888888888, \"#fdca26\"], [1.0, \"#f0f921\"]], \"sequentialminus\": [[0.0, \"#0d0887\"], [0.1111111111111111, \"#46039f\"], [0.2222222222222222, \"#7201a8\"], [0.3333333333333333, \"#9c179e\"], [0.4444444444444444, \"#bd3786\"], [0.5555555555555556, \"#d8576b\"], [0.6666666666666666, \"#ed7953\"], [0.7777777777777778, \"#fb9f3a\"], [0.8888888888888888, \"#fdca26\"], [1.0, \"#f0f921\"]]}, \"colorway\": [\"#636efa\", \"#EF553B\", \"#00cc96\", \"#ab63fa\", \"#FFA15A\", \"#19d3f3\", \"#FF6692\", \"#B6E880\", \"#FF97FF\", \"#FECB52\"], \"font\": {\"color\": \"#2a3f5f\"}, \"geo\": {\"bgcolor\": \"white\", \"lakecolor\": \"white\", \"landcolor\": \"#E5ECF6\", \"showlakes\": true, \"showland\": true, \"subunitcolor\": \"white\"}, \"hoverlabel\": {\"align\": \"left\"}, \"hovermode\": \"closest\", \"mapbox\": {\"style\": \"light\"}, \"paper_bgcolor\": \"white\", \"plot_bgcolor\": \"#E5ECF6\", \"polar\": {\"angularaxis\": {\"gridcolor\": \"white\", \"linecolor\": \"white\", \"ticks\": \"\"}, \"bgcolor\": \"#E5ECF6\", \"radialaxis\": {\"gridcolor\": \"white\", \"linecolor\": \"white\", \"ticks\": \"\"}}, \"scene\": {\"xaxis\": {\"backgroundcolor\": \"#E5ECF6\", \"gridcolor\": \"white\", \"gridwidth\": 2, \"linecolor\": \"white\", \"showbackground\": true, \"ticks\": \"\", \"zerolinecolor\": \"white\"}, \"yaxis\": {\"backgroundcolor\": \"#E5ECF6\", \"gridcolor\": \"white\", \"gridwidth\": 2, \"linecolor\": \"white\", \"showbackground\": true, \"ticks\": \"\", \"zerolinecolor\": \"white\"}, \"zaxis\": {\"backgroundcolor\": \"#E5ECF6\", \"gridcolor\": \"white\", \"gridwidth\": 2, \"linecolor\": \"white\", \"showbackground\": true, \"ticks\": \"\", \"zerolinecolor\": \"white\"}}, \"shapedefaults\": {\"line\": {\"color\": \"#2a3f5f\"}}, \"ternary\": {\"aaxis\": {\"gridcolor\": \"white\", \"linecolor\": \"white\", \"ticks\": \"\"}, \"baxis\": {\"gridcolor\": \"white\", \"linecolor\": \"white\", \"ticks\": \"\"}, \"bgcolor\": \"#E5ECF6\", \"caxis\": {\"gridcolor\": \"white\", \"linecolor\": \"white\", \"ticks\": \"\"}}, \"title\": {\"x\": 0.05}, \"xaxis\": {\"automargin\": true, \"gridcolor\": \"white\", \"linecolor\": \"white\", \"ticks\": \"\", \"title\": {\"standoff\": 15}, \"zerolinecolor\": \"white\", \"zerolinewidth\": 2}, \"yaxis\": {\"automargin\": true, \"gridcolor\": \"white\", \"linecolor\": \"white\", \"ticks\": \"\", \"title\": {\"standoff\": 15}, \"zerolinecolor\": \"white\", \"zerolinewidth\": 2}}}, \"title\": {\"font\": {\"color\": \"#4D5663\"}}, \"xaxis\": {\"gridcolor\": \"#E1E5ED\", \"showgrid\": true, \"tickfont\": {\"color\": \"#4D5663\"}, \"title\": {\"font\": {\"color\": \"#4D5663\"}, \"text\": \"\"}, \"zerolinecolor\": \"#E1E5ED\"}, \"yaxis\": {\"gridcolor\": \"#E1E5ED\", \"showgrid\": true, \"tickfont\": {\"color\": \"#4D5663\"}, \"title\": {\"font\": {\"color\": \"#4D5663\"}, \"text\": \"\"}, \"zerolinecolor\": \"#E1E5ED\"}},                        {\"showLink\": true, \"linkText\": \"Export to plot.ly\", \"plotlyServerURL\": \"https://plot.ly\", \"responsive\": true}                    ).then(function(){\n",
       "                            \n",
       "var gd = document.getElementById('47187b26-c786-4481-90ef-ab35c2b2b84b');\n",
       "var x = new MutationObserver(function (mutations, observer) {{\n",
       "        var display = window.getComputedStyle(gd).display;\n",
       "        if (!display || display === 'none') {{\n",
       "            console.log([gd, 'removed!']);\n",
       "            Plotly.purge(gd);\n",
       "            observer.disconnect();\n",
       "        }}\n",
       "}});\n",
       "\n",
       "// Listen for the removal of the full notebook cells\n",
       "var notebookContainer = gd.closest('#notebook-container');\n",
       "if (notebookContainer) {{\n",
       "    x.observe(notebookContainer, {childList: true});\n",
       "}}\n",
       "\n",
       "// Listen for the clearing of the current output cell\n",
       "var outputEl = gd.closest('.output');\n",
       "if (outputEl) {{\n",
       "    x.observe(outputEl, {childList: true});\n",
       "}}\n",
       "\n",
       "                        })                };                });            </script>        </div>"
      ]
     },
     "metadata": {},
     "output_type": "display_data"
    }
   ],
   "source": [
    "df.iplot()"
   ]
  },
  {
   "cell_type": "markdown",
   "metadata": {},
   "source": [
    "## Using Cufflinks and iplot()\n",
    "\n",
    "* scatter\n",
    "* bar\n",
    "* box\n",
    "* spread\n",
    "* ratio\n",
    "* heatmap\n",
    "* surface\n",
    "* histogram\n",
    "* bubble"
   ]
  },
  {
   "cell_type": "markdown",
   "metadata": {},
   "source": [
    "## Scatter"
   ]
  },
  {
   "cell_type": "code",
   "execution_count": 24,
   "metadata": {
    "scrolled": true
   },
   "outputs": [
    {
     "data": {
      "application/vnd.plotly.v1+json": {
       "config": {
        "linkText": "Export to plot.ly",
        "plotlyServerURL": "https://plot.ly",
        "showLink": true
       },
       "data": [
        {
         "line": {
          "color": "rgba(255, 153, 51, 1.0)",
          "dash": "solid",
          "shape": "linear",
          "width": 1.3
         },
         "marker": {
          "size": 10,
          "symbol": "circle"
         },
         "mode": "markers",
         "name": "B",
         "text": "",
         "type": "scatter",
         "x": [
          1.066033821726836,
          -0.20234052225325377,
          -0.7202032807069448,
          0.5876969285770565,
          0.5894082810927319,
          1.0966408592248225,
          0.9342602449467096,
          0.45296834381798506,
          0.11377689854572721,
          -0.015182384924197444,
          -1.0023195013509085,
          1.0561253511156685,
          -3.4069802426307905,
          1.1611381772450249,
          -0.9786531922381543,
          0.44150829410781106,
          0.6550320148323283,
          -0.18086514362098016,
          -1.449574844999948,
          -0.17652965182450162,
          1.620252667693584,
          0.34754355653960467,
          1.806768138822351,
          -0.45768771410313575,
          0.5368199083416141,
          -1.4123877529844118,
          1.5335615896164654,
          0.23143665121821524,
          0.8796131857211662,
          -1.5237599640761714,
          0.7761978467117557,
          -0.08109345148154067,
          -0.413836495422542,
          0.020236012487686746,
          -0.04477050480869064,
          -0.49951388000907565,
          -0.4806284409081598,
          0.584993947243313,
          -0.27779430391771787,
          -0.15322694744405466,
          -0.588812261369928,
          0.1438485486177861,
          0.22345350285618593,
          1.618844652296915,
          -0.05694763283213327,
          -1.657071732664729,
          -1.593089336724505,
          1.6000584860302083,
          1.0176911484944948,
          0.8542171967685713,
          -0.36609839265452254,
          -1.0582049409198413,
          -0.846492613702825,
          0.2507321823050788,
          -0.6436062165242302,
          1.732747650462511,
          0.30497304527003627,
          0.15365002124718544,
          -0.3540020506432751,
          1.1840653305767703,
          0.7270262810067589,
          -0.70069897762385,
          0.9810580691855825,
          1.3220716359779021,
          0.5625799092419832,
          -0.6683024207977339,
          0.6257885818020589,
          0.2471605057719761,
          -1.696173446761564,
          2.1155751926898527,
          -1.9708059670950684,
          1.0332980131889038,
          -1.2362625542127095,
          1.219736920395166,
          0.48928410461053945,
          -0.6609876535119567,
          -0.6955142021113592,
          -0.17152903062152622,
          -0.091697205713416,
          2.315426686821721,
          -2.59702218027904,
          1.178504757026743,
          0.33792090009429093,
          -0.1225023934654358,
          1.0701341251338765,
          -0.18119663733909702,
          -0.8921873197729137,
          -0.5337266529391964,
          1.138979553626761,
          0.6456178705727974,
          -0.23483846497245486,
          0.33817744840281194,
          -0.5140821741093899,
          0.2549530496412349,
          -1.5543264799586611,
          1.2893130377985462,
          -0.10069376715778916,
          0.44153810947872046,
          -0.3404624778743094,
          -0.5791620878582109
         ],
         "y": [
          1.233266812374226,
          -1.7402567803505051,
          -1.358566143928217,
          -0.8367770740645993,
          -0.7012906671338337,
          0.5214221088966884,
          1.130656755623005,
          0.10620727502497401,
          1.1554537851920814,
          1.1898942149915956,
          -0.4377379019747667,
          0.870028656547461,
          0.2943623135809353,
          0.39851414446194866,
          0.2601405761115901,
          -0.08101567419341556,
          0.6331632659062719,
          -1.847871549101868,
          -0.13007017306560822,
          0.6576454048691114,
          -0.06184842256785442,
          0.6632311939067133,
          -0.8418445387482837,
          -1.2234967212365655,
          1.1660837483569917,
          0.5702265236941769,
          -0.8828295708864294,
          0.08858544580338629,
          -0.6039464808497047,
          0.27751089732015743,
          0.23773467119761932,
          0.9596679917078207,
          0.22882892170015323,
          -0.6911618846720546,
          1.2842639386861472,
          -0.9183189472271543,
          -2.1774765259306714,
          -1.4203480211686401,
          0.7854717474930244,
          1.8236103725384551,
          -0.704217245892739,
          -1.2342903835901602,
          0.5577329754748598,
          -0.16423534301831957,
          0.14042363793765705,
          -0.6416607676468893,
          -0.9627993871563965,
          -1.703311023194733,
          -1.1487095825677889,
          1.5399614028160655,
          -1.1991151139196599,
          0.19692413989012664,
          0.9315558795977984,
          0.09856066084607118,
          -0.10198132436510375,
          0.30400937295614777,
          0.05809304987267057,
          0.20011656325223198,
          0.6029186395754181,
          -0.9274408040383253,
          2.0577425132832543,
          -1.134150319475954,
          -1.256673619624687,
          -0.9074753135094895,
          -0.5756203271751599,
          -0.9629392237994313,
          -0.623149564871256,
          0.8276883194379768,
          -0.8589945199948905,
          0.4677725330081428,
          -1.6985900658691038,
          -0.9867624637416783,
          -2.022454517111775,
          -0.21775079903675096,
          -0.007937706344356203,
          -1.681172747849504,
          0.8809516636506162,
          -0.42638268350880426,
          0.9721106503709406,
          0.8355688756171287,
          -1.2754244810465318,
          0.8699831007726233,
          -1.5563609714960738,
          0.5289152199852237,
          0.09644044356903302,
          -1.1262920622152162,
          -0.5987742670824937,
          -0.655433833253772,
          -0.7373569045659396,
          -0.6932204667046754,
          1.2619370773512206,
          0.8568160877701628,
          2.38634890000913,
          -0.03440815051190474,
          0.06548412771859694,
          0.6333793703650737,
          0.9828647473710335,
          -1.0273832581590594,
          -1.9356477936944356,
          0.5618265955894801
         ]
        }
       ],
       "layout": {
        "legend": {
         "bgcolor": "#F5F6F9",
         "font": {
          "color": "#4D5663"
         }
        },
        "paper_bgcolor": "#F5F6F9",
        "plot_bgcolor": "#F5F6F9",
        "template": {
         "data": {
          "bar": [
           {
            "error_x": {
             "color": "#2a3f5f"
            },
            "error_y": {
             "color": "#2a3f5f"
            },
            "marker": {
             "line": {
              "color": "#E5ECF6",
              "width": 0.5
             }
            },
            "type": "bar"
           }
          ],
          "barpolar": [
           {
            "marker": {
             "line": {
              "color": "#E5ECF6",
              "width": 0.5
             }
            },
            "type": "barpolar"
           }
          ],
          "carpet": [
           {
            "aaxis": {
             "endlinecolor": "#2a3f5f",
             "gridcolor": "white",
             "linecolor": "white",
             "minorgridcolor": "white",
             "startlinecolor": "#2a3f5f"
            },
            "baxis": {
             "endlinecolor": "#2a3f5f",
             "gridcolor": "white",
             "linecolor": "white",
             "minorgridcolor": "white",
             "startlinecolor": "#2a3f5f"
            },
            "type": "carpet"
           }
          ],
          "choropleth": [
           {
            "colorbar": {
             "outlinewidth": 0,
             "ticks": ""
            },
            "type": "choropleth"
           }
          ],
          "contour": [
           {
            "colorbar": {
             "outlinewidth": 0,
             "ticks": ""
            },
            "colorscale": [
             [
              0,
              "#0d0887"
             ],
             [
              0.1111111111111111,
              "#46039f"
             ],
             [
              0.2222222222222222,
              "#7201a8"
             ],
             [
              0.3333333333333333,
              "#9c179e"
             ],
             [
              0.4444444444444444,
              "#bd3786"
             ],
             [
              0.5555555555555556,
              "#d8576b"
             ],
             [
              0.6666666666666666,
              "#ed7953"
             ],
             [
              0.7777777777777778,
              "#fb9f3a"
             ],
             [
              0.8888888888888888,
              "#fdca26"
             ],
             [
              1,
              "#f0f921"
             ]
            ],
            "type": "contour"
           }
          ],
          "contourcarpet": [
           {
            "colorbar": {
             "outlinewidth": 0,
             "ticks": ""
            },
            "type": "contourcarpet"
           }
          ],
          "heatmap": [
           {
            "colorbar": {
             "outlinewidth": 0,
             "ticks": ""
            },
            "colorscale": [
             [
              0,
              "#0d0887"
             ],
             [
              0.1111111111111111,
              "#46039f"
             ],
             [
              0.2222222222222222,
              "#7201a8"
             ],
             [
              0.3333333333333333,
              "#9c179e"
             ],
             [
              0.4444444444444444,
              "#bd3786"
             ],
             [
              0.5555555555555556,
              "#d8576b"
             ],
             [
              0.6666666666666666,
              "#ed7953"
             ],
             [
              0.7777777777777778,
              "#fb9f3a"
             ],
             [
              0.8888888888888888,
              "#fdca26"
             ],
             [
              1,
              "#f0f921"
             ]
            ],
            "type": "heatmap"
           }
          ],
          "heatmapgl": [
           {
            "colorbar": {
             "outlinewidth": 0,
             "ticks": ""
            },
            "colorscale": [
             [
              0,
              "#0d0887"
             ],
             [
              0.1111111111111111,
              "#46039f"
             ],
             [
              0.2222222222222222,
              "#7201a8"
             ],
             [
              0.3333333333333333,
              "#9c179e"
             ],
             [
              0.4444444444444444,
              "#bd3786"
             ],
             [
              0.5555555555555556,
              "#d8576b"
             ],
             [
              0.6666666666666666,
              "#ed7953"
             ],
             [
              0.7777777777777778,
              "#fb9f3a"
             ],
             [
              0.8888888888888888,
              "#fdca26"
             ],
             [
              1,
              "#f0f921"
             ]
            ],
            "type": "heatmapgl"
           }
          ],
          "histogram": [
           {
            "marker": {
             "colorbar": {
              "outlinewidth": 0,
              "ticks": ""
             }
            },
            "type": "histogram"
           }
          ],
          "histogram2d": [
           {
            "colorbar": {
             "outlinewidth": 0,
             "ticks": ""
            },
            "colorscale": [
             [
              0,
              "#0d0887"
             ],
             [
              0.1111111111111111,
              "#46039f"
             ],
             [
              0.2222222222222222,
              "#7201a8"
             ],
             [
              0.3333333333333333,
              "#9c179e"
             ],
             [
              0.4444444444444444,
              "#bd3786"
             ],
             [
              0.5555555555555556,
              "#d8576b"
             ],
             [
              0.6666666666666666,
              "#ed7953"
             ],
             [
              0.7777777777777778,
              "#fb9f3a"
             ],
             [
              0.8888888888888888,
              "#fdca26"
             ],
             [
              1,
              "#f0f921"
             ]
            ],
            "type": "histogram2d"
           }
          ],
          "histogram2dcontour": [
           {
            "colorbar": {
             "outlinewidth": 0,
             "ticks": ""
            },
            "colorscale": [
             [
              0,
              "#0d0887"
             ],
             [
              0.1111111111111111,
              "#46039f"
             ],
             [
              0.2222222222222222,
              "#7201a8"
             ],
             [
              0.3333333333333333,
              "#9c179e"
             ],
             [
              0.4444444444444444,
              "#bd3786"
             ],
             [
              0.5555555555555556,
              "#d8576b"
             ],
             [
              0.6666666666666666,
              "#ed7953"
             ],
             [
              0.7777777777777778,
              "#fb9f3a"
             ],
             [
              0.8888888888888888,
              "#fdca26"
             ],
             [
              1,
              "#f0f921"
             ]
            ],
            "type": "histogram2dcontour"
           }
          ],
          "mesh3d": [
           {
            "colorbar": {
             "outlinewidth": 0,
             "ticks": ""
            },
            "type": "mesh3d"
           }
          ],
          "parcoords": [
           {
            "line": {
             "colorbar": {
              "outlinewidth": 0,
              "ticks": ""
             }
            },
            "type": "parcoords"
           }
          ],
          "pie": [
           {
            "automargin": true,
            "type": "pie"
           }
          ],
          "scatter": [
           {
            "marker": {
             "colorbar": {
              "outlinewidth": 0,
              "ticks": ""
             }
            },
            "type": "scatter"
           }
          ],
          "scatter3d": [
           {
            "line": {
             "colorbar": {
              "outlinewidth": 0,
              "ticks": ""
             }
            },
            "marker": {
             "colorbar": {
              "outlinewidth": 0,
              "ticks": ""
             }
            },
            "type": "scatter3d"
           }
          ],
          "scattercarpet": [
           {
            "marker": {
             "colorbar": {
              "outlinewidth": 0,
              "ticks": ""
             }
            },
            "type": "scattercarpet"
           }
          ],
          "scattergeo": [
           {
            "marker": {
             "colorbar": {
              "outlinewidth": 0,
              "ticks": ""
             }
            },
            "type": "scattergeo"
           }
          ],
          "scattergl": [
           {
            "marker": {
             "colorbar": {
              "outlinewidth": 0,
              "ticks": ""
             }
            },
            "type": "scattergl"
           }
          ],
          "scattermapbox": [
           {
            "marker": {
             "colorbar": {
              "outlinewidth": 0,
              "ticks": ""
             }
            },
            "type": "scattermapbox"
           }
          ],
          "scatterpolar": [
           {
            "marker": {
             "colorbar": {
              "outlinewidth": 0,
              "ticks": ""
             }
            },
            "type": "scatterpolar"
           }
          ],
          "scatterpolargl": [
           {
            "marker": {
             "colorbar": {
              "outlinewidth": 0,
              "ticks": ""
             }
            },
            "type": "scatterpolargl"
           }
          ],
          "scatterternary": [
           {
            "marker": {
             "colorbar": {
              "outlinewidth": 0,
              "ticks": ""
             }
            },
            "type": "scatterternary"
           }
          ],
          "surface": [
           {
            "colorbar": {
             "outlinewidth": 0,
             "ticks": ""
            },
            "colorscale": [
             [
              0,
              "#0d0887"
             ],
             [
              0.1111111111111111,
              "#46039f"
             ],
             [
              0.2222222222222222,
              "#7201a8"
             ],
             [
              0.3333333333333333,
              "#9c179e"
             ],
             [
              0.4444444444444444,
              "#bd3786"
             ],
             [
              0.5555555555555556,
              "#d8576b"
             ],
             [
              0.6666666666666666,
              "#ed7953"
             ],
             [
              0.7777777777777778,
              "#fb9f3a"
             ],
             [
              0.8888888888888888,
              "#fdca26"
             ],
             [
              1,
              "#f0f921"
             ]
            ],
            "type": "surface"
           }
          ],
          "table": [
           {
            "cells": {
             "fill": {
              "color": "#EBF0F8"
             },
             "line": {
              "color": "white"
             }
            },
            "header": {
             "fill": {
              "color": "#C8D4E3"
             },
             "line": {
              "color": "white"
             }
            },
            "type": "table"
           }
          ]
         },
         "layout": {
          "annotationdefaults": {
           "arrowcolor": "#2a3f5f",
           "arrowhead": 0,
           "arrowwidth": 1
          },
          "autotypenumbers": "strict",
          "coloraxis": {
           "colorbar": {
            "outlinewidth": 0,
            "ticks": ""
           }
          },
          "colorscale": {
           "diverging": [
            [
             0,
             "#8e0152"
            ],
            [
             0.1,
             "#c51b7d"
            ],
            [
             0.2,
             "#de77ae"
            ],
            [
             0.3,
             "#f1b6da"
            ],
            [
             0.4,
             "#fde0ef"
            ],
            [
             0.5,
             "#f7f7f7"
            ],
            [
             0.6,
             "#e6f5d0"
            ],
            [
             0.7,
             "#b8e186"
            ],
            [
             0.8,
             "#7fbc41"
            ],
            [
             0.9,
             "#4d9221"
            ],
            [
             1,
             "#276419"
            ]
           ],
           "sequential": [
            [
             0,
             "#0d0887"
            ],
            [
             0.1111111111111111,
             "#46039f"
            ],
            [
             0.2222222222222222,
             "#7201a8"
            ],
            [
             0.3333333333333333,
             "#9c179e"
            ],
            [
             0.4444444444444444,
             "#bd3786"
            ],
            [
             0.5555555555555556,
             "#d8576b"
            ],
            [
             0.6666666666666666,
             "#ed7953"
            ],
            [
             0.7777777777777778,
             "#fb9f3a"
            ],
            [
             0.8888888888888888,
             "#fdca26"
            ],
            [
             1,
             "#f0f921"
            ]
           ],
           "sequentialminus": [
            [
             0,
             "#0d0887"
            ],
            [
             0.1111111111111111,
             "#46039f"
            ],
            [
             0.2222222222222222,
             "#7201a8"
            ],
            [
             0.3333333333333333,
             "#9c179e"
            ],
            [
             0.4444444444444444,
             "#bd3786"
            ],
            [
             0.5555555555555556,
             "#d8576b"
            ],
            [
             0.6666666666666666,
             "#ed7953"
            ],
            [
             0.7777777777777778,
             "#fb9f3a"
            ],
            [
             0.8888888888888888,
             "#fdca26"
            ],
            [
             1,
             "#f0f921"
            ]
           ]
          },
          "colorway": [
           "#636efa",
           "#EF553B",
           "#00cc96",
           "#ab63fa",
           "#FFA15A",
           "#19d3f3",
           "#FF6692",
           "#B6E880",
           "#FF97FF",
           "#FECB52"
          ],
          "font": {
           "color": "#2a3f5f"
          },
          "geo": {
           "bgcolor": "white",
           "lakecolor": "white",
           "landcolor": "#E5ECF6",
           "showlakes": true,
           "showland": true,
           "subunitcolor": "white"
          },
          "hoverlabel": {
           "align": "left"
          },
          "hovermode": "closest",
          "mapbox": {
           "style": "light"
          },
          "paper_bgcolor": "white",
          "plot_bgcolor": "#E5ECF6",
          "polar": {
           "angularaxis": {
            "gridcolor": "white",
            "linecolor": "white",
            "ticks": ""
           },
           "bgcolor": "#E5ECF6",
           "radialaxis": {
            "gridcolor": "white",
            "linecolor": "white",
            "ticks": ""
           }
          },
          "scene": {
           "xaxis": {
            "backgroundcolor": "#E5ECF6",
            "gridcolor": "white",
            "gridwidth": 2,
            "linecolor": "white",
            "showbackground": true,
            "ticks": "",
            "zerolinecolor": "white"
           },
           "yaxis": {
            "backgroundcolor": "#E5ECF6",
            "gridcolor": "white",
            "gridwidth": 2,
            "linecolor": "white",
            "showbackground": true,
            "ticks": "",
            "zerolinecolor": "white"
           },
           "zaxis": {
            "backgroundcolor": "#E5ECF6",
            "gridcolor": "white",
            "gridwidth": 2,
            "linecolor": "white",
            "showbackground": true,
            "ticks": "",
            "zerolinecolor": "white"
           }
          },
          "shapedefaults": {
           "line": {
            "color": "#2a3f5f"
           }
          },
          "ternary": {
           "aaxis": {
            "gridcolor": "white",
            "linecolor": "white",
            "ticks": ""
           },
           "baxis": {
            "gridcolor": "white",
            "linecolor": "white",
            "ticks": ""
           },
           "bgcolor": "#E5ECF6",
           "caxis": {
            "gridcolor": "white",
            "linecolor": "white",
            "ticks": ""
           }
          },
          "title": {
           "x": 0.05
          },
          "xaxis": {
           "automargin": true,
           "gridcolor": "white",
           "linecolor": "white",
           "ticks": "",
           "title": {
            "standoff": 15
           },
           "zerolinecolor": "white",
           "zerolinewidth": 2
          },
          "yaxis": {
           "automargin": true,
           "gridcolor": "white",
           "linecolor": "white",
           "ticks": "",
           "title": {
            "standoff": 15
           },
           "zerolinecolor": "white",
           "zerolinewidth": 2
          }
         }
        },
        "title": {
         "font": {
          "color": "#4D5663"
         }
        },
        "xaxis": {
         "gridcolor": "#E1E5ED",
         "showgrid": true,
         "tickfont": {
          "color": "#4D5663"
         },
         "title": {
          "font": {
           "color": "#4D5663"
          },
          "text": ""
         },
         "zerolinecolor": "#E1E5ED"
        },
        "yaxis": {
         "gridcolor": "#E1E5ED",
         "showgrid": true,
         "tickfont": {
          "color": "#4D5663"
         },
         "title": {
          "font": {
           "color": "#4D5663"
          },
          "text": ""
         },
         "zerolinecolor": "#E1E5ED"
        }
       }
      },
      "text/html": [
       "<div>                            <div id=\"1fbaba35-24ef-4563-962a-69bbb5902c50\" class=\"plotly-graph-div\" style=\"height:525px; width:100%;\"></div>            <script type=\"text/javascript\">                require([\"plotly\"], function(Plotly) {                    window.PLOTLYENV=window.PLOTLYENV || {};\n",
       "                    window.PLOTLYENV.BASE_URL='https://plot.ly';                                    if (document.getElementById(\"1fbaba35-24ef-4563-962a-69bbb5902c50\")) {                    Plotly.newPlot(                        \"1fbaba35-24ef-4563-962a-69bbb5902c50\",                        [{\"line\": {\"color\": \"rgba(255, 153, 51, 1.0)\", \"dash\": \"solid\", \"shape\": \"linear\", \"width\": 1.3}, \"marker\": {\"size\": 10, \"symbol\": \"circle\"}, \"mode\": \"markers\", \"name\": \"B\", \"text\": \"\", \"type\": \"scatter\", \"x\": [1.066033821726836, -0.20234052225325377, -0.7202032807069448, 0.5876969285770565, 0.5894082810927319, 1.0966408592248225, 0.9342602449467096, 0.45296834381798506, 0.11377689854572721, -0.015182384924197444, -1.0023195013509085, 1.0561253511156685, -3.4069802426307905, 1.1611381772450249, -0.9786531922381543, 0.44150829410781106, 0.6550320148323283, -0.18086514362098016, -1.449574844999948, -0.17652965182450162, 1.620252667693584, 0.34754355653960467, 1.806768138822351, -0.45768771410313575, 0.5368199083416141, -1.4123877529844118, 1.5335615896164654, 0.23143665121821524, 0.8796131857211662, -1.5237599640761714, 0.7761978467117557, -0.08109345148154067, -0.413836495422542, 0.020236012487686746, -0.04477050480869064, -0.49951388000907565, -0.4806284409081598, 0.584993947243313, -0.27779430391771787, -0.15322694744405466, -0.588812261369928, 0.1438485486177861, 0.22345350285618593, 1.618844652296915, -0.05694763283213327, -1.657071732664729, -1.593089336724505, 1.6000584860302083, 1.0176911484944948, 0.8542171967685713, -0.36609839265452254, -1.0582049409198413, -0.846492613702825, 0.2507321823050788, -0.6436062165242302, 1.732747650462511, 0.30497304527003627, 0.15365002124718544, -0.3540020506432751, 1.1840653305767703, 0.7270262810067589, -0.70069897762385, 0.9810580691855825, 1.3220716359779021, 0.5625799092419832, -0.6683024207977339, 0.6257885818020589, 0.2471605057719761, -1.696173446761564, 2.1155751926898527, -1.9708059670950684, 1.0332980131889038, -1.2362625542127095, 1.219736920395166, 0.48928410461053945, -0.6609876535119567, -0.6955142021113592, -0.17152903062152622, -0.091697205713416, 2.315426686821721, -2.59702218027904, 1.178504757026743, 0.33792090009429093, -0.1225023934654358, 1.0701341251338765, -0.18119663733909702, -0.8921873197729137, -0.5337266529391964, 1.138979553626761, 0.6456178705727974, -0.23483846497245486, 0.33817744840281194, -0.5140821741093899, 0.2549530496412349, -1.5543264799586611, 1.2893130377985462, -0.10069376715778916, 0.44153810947872046, -0.3404624778743094, -0.5791620878582109], \"y\": [1.233266812374226, -1.7402567803505051, -1.358566143928217, -0.8367770740645993, -0.7012906671338337, 0.5214221088966884, 1.130656755623005, 0.10620727502497401, 1.1554537851920814, 1.1898942149915956, -0.4377379019747667, 0.870028656547461, 0.2943623135809353, 0.39851414446194866, 0.2601405761115901, -0.08101567419341556, 0.6331632659062719, -1.847871549101868, -0.13007017306560822, 0.6576454048691114, -0.06184842256785442, 0.6632311939067133, -0.8418445387482837, -1.2234967212365655, 1.1660837483569917, 0.5702265236941769, -0.8828295708864294, 0.08858544580338629, -0.6039464808497047, 0.27751089732015743, 0.23773467119761932, 0.9596679917078207, 0.22882892170015323, -0.6911618846720546, 1.2842639386861472, -0.9183189472271543, -2.1774765259306714, -1.4203480211686401, 0.7854717474930244, 1.8236103725384551, -0.704217245892739, -1.2342903835901602, 0.5577329754748598, -0.16423534301831957, 0.14042363793765705, -0.6416607676468893, -0.9627993871563965, -1.703311023194733, -1.1487095825677889, 1.5399614028160655, -1.1991151139196599, 0.19692413989012664, 0.9315558795977984, 0.09856066084607118, -0.10198132436510375, 0.30400937295614777, 0.05809304987267057, 0.20011656325223198, 0.6029186395754181, -0.9274408040383253, 2.0577425132832543, -1.134150319475954, -1.256673619624687, -0.9074753135094895, -0.5756203271751599, -0.9629392237994313, -0.623149564871256, 0.8276883194379768, -0.8589945199948905, 0.4677725330081428, -1.6985900658691038, -0.9867624637416783, -2.022454517111775, -0.21775079903675096, -0.007937706344356203, -1.681172747849504, 0.8809516636506162, -0.42638268350880426, 0.9721106503709406, 0.8355688756171287, -1.2754244810465318, 0.8699831007726233, -1.5563609714960738, 0.5289152199852237, 0.09644044356903302, -1.1262920622152162, -0.5987742670824937, -0.655433833253772, -0.7373569045659396, -0.6932204667046754, 1.2619370773512206, 0.8568160877701628, 2.38634890000913, -0.03440815051190474, 0.06548412771859694, 0.6333793703650737, 0.9828647473710335, -1.0273832581590594, -1.9356477936944356, 0.5618265955894801]}],                        {\"legend\": {\"bgcolor\": \"#F5F6F9\", \"font\": {\"color\": \"#4D5663\"}}, \"paper_bgcolor\": \"#F5F6F9\", \"plot_bgcolor\": \"#F5F6F9\", \"template\": {\"data\": {\"bar\": [{\"error_x\": {\"color\": \"#2a3f5f\"}, \"error_y\": {\"color\": \"#2a3f5f\"}, \"marker\": {\"line\": {\"color\": \"#E5ECF6\", \"width\": 0.5}}, \"type\": \"bar\"}], \"barpolar\": [{\"marker\": {\"line\": {\"color\": \"#E5ECF6\", \"width\": 0.5}}, \"type\": \"barpolar\"}], \"carpet\": [{\"aaxis\": {\"endlinecolor\": \"#2a3f5f\", \"gridcolor\": \"white\", \"linecolor\": \"white\", \"minorgridcolor\": \"white\", \"startlinecolor\": \"#2a3f5f\"}, \"baxis\": {\"endlinecolor\": \"#2a3f5f\", \"gridcolor\": \"white\", \"linecolor\": \"white\", \"minorgridcolor\": \"white\", \"startlinecolor\": \"#2a3f5f\"}, \"type\": \"carpet\"}], \"choropleth\": [{\"colorbar\": {\"outlinewidth\": 0, \"ticks\": \"\"}, \"type\": \"choropleth\"}], \"contour\": [{\"colorbar\": {\"outlinewidth\": 0, \"ticks\": \"\"}, \"colorscale\": [[0.0, \"#0d0887\"], [0.1111111111111111, \"#46039f\"], [0.2222222222222222, \"#7201a8\"], [0.3333333333333333, \"#9c179e\"], [0.4444444444444444, \"#bd3786\"], [0.5555555555555556, \"#d8576b\"], [0.6666666666666666, \"#ed7953\"], [0.7777777777777778, \"#fb9f3a\"], [0.8888888888888888, \"#fdca26\"], [1.0, \"#f0f921\"]], \"type\": \"contour\"}], \"contourcarpet\": [{\"colorbar\": {\"outlinewidth\": 0, \"ticks\": \"\"}, \"type\": \"contourcarpet\"}], \"heatmap\": [{\"colorbar\": {\"outlinewidth\": 0, \"ticks\": \"\"}, \"colorscale\": [[0.0, \"#0d0887\"], [0.1111111111111111, \"#46039f\"], [0.2222222222222222, \"#7201a8\"], [0.3333333333333333, \"#9c179e\"], [0.4444444444444444, \"#bd3786\"], [0.5555555555555556, \"#d8576b\"], [0.6666666666666666, \"#ed7953\"], [0.7777777777777778, \"#fb9f3a\"], [0.8888888888888888, \"#fdca26\"], [1.0, \"#f0f921\"]], \"type\": \"heatmap\"}], \"heatmapgl\": [{\"colorbar\": {\"outlinewidth\": 0, \"ticks\": \"\"}, \"colorscale\": [[0.0, \"#0d0887\"], [0.1111111111111111, \"#46039f\"], [0.2222222222222222, \"#7201a8\"], [0.3333333333333333, \"#9c179e\"], [0.4444444444444444, \"#bd3786\"], [0.5555555555555556, \"#d8576b\"], [0.6666666666666666, \"#ed7953\"], [0.7777777777777778, \"#fb9f3a\"], [0.8888888888888888, \"#fdca26\"], [1.0, \"#f0f921\"]], \"type\": \"heatmapgl\"}], \"histogram\": [{\"marker\": {\"colorbar\": {\"outlinewidth\": 0, \"ticks\": \"\"}}, \"type\": \"histogram\"}], \"histogram2d\": [{\"colorbar\": {\"outlinewidth\": 0, \"ticks\": \"\"}, \"colorscale\": [[0.0, \"#0d0887\"], [0.1111111111111111, \"#46039f\"], [0.2222222222222222, \"#7201a8\"], [0.3333333333333333, \"#9c179e\"], [0.4444444444444444, \"#bd3786\"], [0.5555555555555556, \"#d8576b\"], [0.6666666666666666, \"#ed7953\"], [0.7777777777777778, \"#fb9f3a\"], [0.8888888888888888, \"#fdca26\"], [1.0, \"#f0f921\"]], \"type\": \"histogram2d\"}], \"histogram2dcontour\": [{\"colorbar\": {\"outlinewidth\": 0, \"ticks\": \"\"}, \"colorscale\": [[0.0, \"#0d0887\"], [0.1111111111111111, \"#46039f\"], [0.2222222222222222, \"#7201a8\"], [0.3333333333333333, \"#9c179e\"], [0.4444444444444444, \"#bd3786\"], [0.5555555555555556, \"#d8576b\"], [0.6666666666666666, \"#ed7953\"], [0.7777777777777778, \"#fb9f3a\"], [0.8888888888888888, \"#fdca26\"], [1.0, \"#f0f921\"]], \"type\": \"histogram2dcontour\"}], \"mesh3d\": [{\"colorbar\": {\"outlinewidth\": 0, \"ticks\": \"\"}, \"type\": \"mesh3d\"}], \"parcoords\": [{\"line\": {\"colorbar\": {\"outlinewidth\": 0, \"ticks\": \"\"}}, \"type\": \"parcoords\"}], \"pie\": [{\"automargin\": true, \"type\": \"pie\"}], \"scatter\": [{\"marker\": {\"colorbar\": {\"outlinewidth\": 0, \"ticks\": \"\"}}, \"type\": \"scatter\"}], \"scatter3d\": [{\"line\": {\"colorbar\": {\"outlinewidth\": 0, \"ticks\": \"\"}}, \"marker\": {\"colorbar\": {\"outlinewidth\": 0, \"ticks\": \"\"}}, \"type\": \"scatter3d\"}], \"scattercarpet\": [{\"marker\": {\"colorbar\": {\"outlinewidth\": 0, \"ticks\": \"\"}}, \"type\": \"scattercarpet\"}], \"scattergeo\": [{\"marker\": {\"colorbar\": {\"outlinewidth\": 0, \"ticks\": \"\"}}, \"type\": \"scattergeo\"}], \"scattergl\": [{\"marker\": {\"colorbar\": {\"outlinewidth\": 0, \"ticks\": \"\"}}, \"type\": \"scattergl\"}], \"scattermapbox\": [{\"marker\": {\"colorbar\": {\"outlinewidth\": 0, \"ticks\": \"\"}}, \"type\": \"scattermapbox\"}], \"scatterpolar\": [{\"marker\": {\"colorbar\": {\"outlinewidth\": 0, \"ticks\": \"\"}}, \"type\": \"scatterpolar\"}], \"scatterpolargl\": [{\"marker\": {\"colorbar\": {\"outlinewidth\": 0, \"ticks\": \"\"}}, \"type\": \"scatterpolargl\"}], \"scatterternary\": [{\"marker\": {\"colorbar\": {\"outlinewidth\": 0, \"ticks\": \"\"}}, \"type\": \"scatterternary\"}], \"surface\": [{\"colorbar\": {\"outlinewidth\": 0, \"ticks\": \"\"}, \"colorscale\": [[0.0, \"#0d0887\"], [0.1111111111111111, \"#46039f\"], [0.2222222222222222, \"#7201a8\"], [0.3333333333333333, \"#9c179e\"], [0.4444444444444444, \"#bd3786\"], [0.5555555555555556, \"#d8576b\"], [0.6666666666666666, \"#ed7953\"], [0.7777777777777778, \"#fb9f3a\"], [0.8888888888888888, \"#fdca26\"], [1.0, \"#f0f921\"]], \"type\": \"surface\"}], \"table\": [{\"cells\": {\"fill\": {\"color\": \"#EBF0F8\"}, \"line\": {\"color\": \"white\"}}, \"header\": {\"fill\": {\"color\": \"#C8D4E3\"}, \"line\": {\"color\": \"white\"}}, \"type\": \"table\"}]}, \"layout\": {\"annotationdefaults\": {\"arrowcolor\": \"#2a3f5f\", \"arrowhead\": 0, \"arrowwidth\": 1}, \"autotypenumbers\": \"strict\", \"coloraxis\": {\"colorbar\": {\"outlinewidth\": 0, \"ticks\": \"\"}}, \"colorscale\": {\"diverging\": [[0, \"#8e0152\"], [0.1, \"#c51b7d\"], [0.2, \"#de77ae\"], [0.3, \"#f1b6da\"], [0.4, \"#fde0ef\"], [0.5, \"#f7f7f7\"], [0.6, \"#e6f5d0\"], [0.7, \"#b8e186\"], [0.8, \"#7fbc41\"], [0.9, \"#4d9221\"], [1, \"#276419\"]], \"sequential\": [[0.0, \"#0d0887\"], [0.1111111111111111, \"#46039f\"], [0.2222222222222222, \"#7201a8\"], [0.3333333333333333, \"#9c179e\"], [0.4444444444444444, \"#bd3786\"], [0.5555555555555556, \"#d8576b\"], [0.6666666666666666, \"#ed7953\"], [0.7777777777777778, \"#fb9f3a\"], [0.8888888888888888, \"#fdca26\"], [1.0, \"#f0f921\"]], \"sequentialminus\": [[0.0, \"#0d0887\"], [0.1111111111111111, \"#46039f\"], [0.2222222222222222, \"#7201a8\"], [0.3333333333333333, \"#9c179e\"], [0.4444444444444444, \"#bd3786\"], [0.5555555555555556, \"#d8576b\"], [0.6666666666666666, \"#ed7953\"], [0.7777777777777778, \"#fb9f3a\"], [0.8888888888888888, \"#fdca26\"], [1.0, \"#f0f921\"]]}, \"colorway\": [\"#636efa\", \"#EF553B\", \"#00cc96\", \"#ab63fa\", \"#FFA15A\", \"#19d3f3\", \"#FF6692\", \"#B6E880\", \"#FF97FF\", \"#FECB52\"], \"font\": {\"color\": \"#2a3f5f\"}, \"geo\": {\"bgcolor\": \"white\", \"lakecolor\": \"white\", \"landcolor\": \"#E5ECF6\", \"showlakes\": true, \"showland\": true, \"subunitcolor\": \"white\"}, \"hoverlabel\": {\"align\": \"left\"}, \"hovermode\": \"closest\", \"mapbox\": {\"style\": \"light\"}, \"paper_bgcolor\": \"white\", \"plot_bgcolor\": \"#E5ECF6\", \"polar\": {\"angularaxis\": {\"gridcolor\": \"white\", \"linecolor\": \"white\", \"ticks\": \"\"}, \"bgcolor\": \"#E5ECF6\", \"radialaxis\": {\"gridcolor\": \"white\", \"linecolor\": \"white\", \"ticks\": \"\"}}, \"scene\": {\"xaxis\": {\"backgroundcolor\": \"#E5ECF6\", \"gridcolor\": \"white\", \"gridwidth\": 2, \"linecolor\": \"white\", \"showbackground\": true, \"ticks\": \"\", \"zerolinecolor\": \"white\"}, \"yaxis\": {\"backgroundcolor\": \"#E5ECF6\", \"gridcolor\": \"white\", \"gridwidth\": 2, \"linecolor\": \"white\", \"showbackground\": true, \"ticks\": \"\", \"zerolinecolor\": \"white\"}, \"zaxis\": {\"backgroundcolor\": \"#E5ECF6\", \"gridcolor\": \"white\", \"gridwidth\": 2, \"linecolor\": \"white\", \"showbackground\": true, \"ticks\": \"\", \"zerolinecolor\": \"white\"}}, \"shapedefaults\": {\"line\": {\"color\": \"#2a3f5f\"}}, \"ternary\": {\"aaxis\": {\"gridcolor\": \"white\", \"linecolor\": \"white\", \"ticks\": \"\"}, \"baxis\": {\"gridcolor\": \"white\", \"linecolor\": \"white\", \"ticks\": \"\"}, \"bgcolor\": \"#E5ECF6\", \"caxis\": {\"gridcolor\": \"white\", \"linecolor\": \"white\", \"ticks\": \"\"}}, \"title\": {\"x\": 0.05}, \"xaxis\": {\"automargin\": true, \"gridcolor\": \"white\", \"linecolor\": \"white\", \"ticks\": \"\", \"title\": {\"standoff\": 15}, \"zerolinecolor\": \"white\", \"zerolinewidth\": 2}, \"yaxis\": {\"automargin\": true, \"gridcolor\": \"white\", \"linecolor\": \"white\", \"ticks\": \"\", \"title\": {\"standoff\": 15}, \"zerolinecolor\": \"white\", \"zerolinewidth\": 2}}}, \"title\": {\"font\": {\"color\": \"#4D5663\"}}, \"xaxis\": {\"gridcolor\": \"#E1E5ED\", \"showgrid\": true, \"tickfont\": {\"color\": \"#4D5663\"}, \"title\": {\"font\": {\"color\": \"#4D5663\"}, \"text\": \"\"}, \"zerolinecolor\": \"#E1E5ED\"}, \"yaxis\": {\"gridcolor\": \"#E1E5ED\", \"showgrid\": true, \"tickfont\": {\"color\": \"#4D5663\"}, \"title\": {\"font\": {\"color\": \"#4D5663\"}, \"text\": \"\"}, \"zerolinecolor\": \"#E1E5ED\"}},                        {\"showLink\": true, \"linkText\": \"Export to plot.ly\", \"plotlyServerURL\": \"https://plot.ly\", \"responsive\": true}                    ).then(function(){\n",
       "                            \n",
       "var gd = document.getElementById('1fbaba35-24ef-4563-962a-69bbb5902c50');\n",
       "var x = new MutationObserver(function (mutations, observer) {{\n",
       "        var display = window.getComputedStyle(gd).display;\n",
       "        if (!display || display === 'none') {{\n",
       "            console.log([gd, 'removed!']);\n",
       "            Plotly.purge(gd);\n",
       "            observer.disconnect();\n",
       "        }}\n",
       "}});\n",
       "\n",
       "// Listen for the removal of the full notebook cells\n",
       "var notebookContainer = gd.closest('#notebook-container');\n",
       "if (notebookContainer) {{\n",
       "    x.observe(notebookContainer, {childList: true});\n",
       "}}\n",
       "\n",
       "// Listen for the clearing of the current output cell\n",
       "var outputEl = gd.closest('.output');\n",
       "if (outputEl) {{\n",
       "    x.observe(outputEl, {childList: true});\n",
       "}}\n",
       "\n",
       "                        })                };                });            </script>        </div>"
      ]
     },
     "metadata": {},
     "output_type": "display_data"
    }
   ],
   "source": [
    "df.iplot(kind='scatter',x='A',y='B',mode='markers',size=10)"
   ]
  },
  {
   "cell_type": "markdown",
   "metadata": {},
   "source": [
    "## Bar Plots"
   ]
  },
  {
   "cell_type": "code",
   "execution_count": 11,
   "metadata": {},
   "outputs": [
    {
     "data": {
      "application/vnd.plotly.v1+json": {
       "config": {
        "linkText": "Export to plot.ly",
        "plotlyServerURL": "https://plot.ly",
        "showLink": true
       },
       "data": [
        {
         "marker": {
          "color": "rgba(255, 153, 51, 0.6)",
          "line": {
           "color": "rgba(255, 153, 51, 1.0)",
           "width": 1
          }
         },
         "name": "Values",
         "orientation": "v",
         "text": "",
         "type": "bar",
         "x": [
          "A",
          "B",
          "C"
         ],
         "y": [
          32,
          43,
          50
         ]
        }
       ],
       "layout": {
        "legend": {
         "bgcolor": "#F5F6F9",
         "font": {
          "color": "#4D5663"
         }
        },
        "paper_bgcolor": "#F5F6F9",
        "plot_bgcolor": "#F5F6F9",
        "template": {
         "data": {
          "bar": [
           {
            "error_x": {
             "color": "#2a3f5f"
            },
            "error_y": {
             "color": "#2a3f5f"
            },
            "marker": {
             "line": {
              "color": "#E5ECF6",
              "width": 0.5
             }
            },
            "type": "bar"
           }
          ],
          "barpolar": [
           {
            "marker": {
             "line": {
              "color": "#E5ECF6",
              "width": 0.5
             }
            },
            "type": "barpolar"
           }
          ],
          "carpet": [
           {
            "aaxis": {
             "endlinecolor": "#2a3f5f",
             "gridcolor": "white",
             "linecolor": "white",
             "minorgridcolor": "white",
             "startlinecolor": "#2a3f5f"
            },
            "baxis": {
             "endlinecolor": "#2a3f5f",
             "gridcolor": "white",
             "linecolor": "white",
             "minorgridcolor": "white",
             "startlinecolor": "#2a3f5f"
            },
            "type": "carpet"
           }
          ],
          "choropleth": [
           {
            "colorbar": {
             "outlinewidth": 0,
             "ticks": ""
            },
            "type": "choropleth"
           }
          ],
          "contour": [
           {
            "colorbar": {
             "outlinewidth": 0,
             "ticks": ""
            },
            "colorscale": [
             [
              0,
              "#0d0887"
             ],
             [
              0.1111111111111111,
              "#46039f"
             ],
             [
              0.2222222222222222,
              "#7201a8"
             ],
             [
              0.3333333333333333,
              "#9c179e"
             ],
             [
              0.4444444444444444,
              "#bd3786"
             ],
             [
              0.5555555555555556,
              "#d8576b"
             ],
             [
              0.6666666666666666,
              "#ed7953"
             ],
             [
              0.7777777777777778,
              "#fb9f3a"
             ],
             [
              0.8888888888888888,
              "#fdca26"
             ],
             [
              1,
              "#f0f921"
             ]
            ],
            "type": "contour"
           }
          ],
          "contourcarpet": [
           {
            "colorbar": {
             "outlinewidth": 0,
             "ticks": ""
            },
            "type": "contourcarpet"
           }
          ],
          "heatmap": [
           {
            "colorbar": {
             "outlinewidth": 0,
             "ticks": ""
            },
            "colorscale": [
             [
              0,
              "#0d0887"
             ],
             [
              0.1111111111111111,
              "#46039f"
             ],
             [
              0.2222222222222222,
              "#7201a8"
             ],
             [
              0.3333333333333333,
              "#9c179e"
             ],
             [
              0.4444444444444444,
              "#bd3786"
             ],
             [
              0.5555555555555556,
              "#d8576b"
             ],
             [
              0.6666666666666666,
              "#ed7953"
             ],
             [
              0.7777777777777778,
              "#fb9f3a"
             ],
             [
              0.8888888888888888,
              "#fdca26"
             ],
             [
              1,
              "#f0f921"
             ]
            ],
            "type": "heatmap"
           }
          ],
          "heatmapgl": [
           {
            "colorbar": {
             "outlinewidth": 0,
             "ticks": ""
            },
            "colorscale": [
             [
              0,
              "#0d0887"
             ],
             [
              0.1111111111111111,
              "#46039f"
             ],
             [
              0.2222222222222222,
              "#7201a8"
             ],
             [
              0.3333333333333333,
              "#9c179e"
             ],
             [
              0.4444444444444444,
              "#bd3786"
             ],
             [
              0.5555555555555556,
              "#d8576b"
             ],
             [
              0.6666666666666666,
              "#ed7953"
             ],
             [
              0.7777777777777778,
              "#fb9f3a"
             ],
             [
              0.8888888888888888,
              "#fdca26"
             ],
             [
              1,
              "#f0f921"
             ]
            ],
            "type": "heatmapgl"
           }
          ],
          "histogram": [
           {
            "marker": {
             "colorbar": {
              "outlinewidth": 0,
              "ticks": ""
             }
            },
            "type": "histogram"
           }
          ],
          "histogram2d": [
           {
            "colorbar": {
             "outlinewidth": 0,
             "ticks": ""
            },
            "colorscale": [
             [
              0,
              "#0d0887"
             ],
             [
              0.1111111111111111,
              "#46039f"
             ],
             [
              0.2222222222222222,
              "#7201a8"
             ],
             [
              0.3333333333333333,
              "#9c179e"
             ],
             [
              0.4444444444444444,
              "#bd3786"
             ],
             [
              0.5555555555555556,
              "#d8576b"
             ],
             [
              0.6666666666666666,
              "#ed7953"
             ],
             [
              0.7777777777777778,
              "#fb9f3a"
             ],
             [
              0.8888888888888888,
              "#fdca26"
             ],
             [
              1,
              "#f0f921"
             ]
            ],
            "type": "histogram2d"
           }
          ],
          "histogram2dcontour": [
           {
            "colorbar": {
             "outlinewidth": 0,
             "ticks": ""
            },
            "colorscale": [
             [
              0,
              "#0d0887"
             ],
             [
              0.1111111111111111,
              "#46039f"
             ],
             [
              0.2222222222222222,
              "#7201a8"
             ],
             [
              0.3333333333333333,
              "#9c179e"
             ],
             [
              0.4444444444444444,
              "#bd3786"
             ],
             [
              0.5555555555555556,
              "#d8576b"
             ],
             [
              0.6666666666666666,
              "#ed7953"
             ],
             [
              0.7777777777777778,
              "#fb9f3a"
             ],
             [
              0.8888888888888888,
              "#fdca26"
             ],
             [
              1,
              "#f0f921"
             ]
            ],
            "type": "histogram2dcontour"
           }
          ],
          "mesh3d": [
           {
            "colorbar": {
             "outlinewidth": 0,
             "ticks": ""
            },
            "type": "mesh3d"
           }
          ],
          "parcoords": [
           {
            "line": {
             "colorbar": {
              "outlinewidth": 0,
              "ticks": ""
             }
            },
            "type": "parcoords"
           }
          ],
          "pie": [
           {
            "automargin": true,
            "type": "pie"
           }
          ],
          "scatter": [
           {
            "marker": {
             "colorbar": {
              "outlinewidth": 0,
              "ticks": ""
             }
            },
            "type": "scatter"
           }
          ],
          "scatter3d": [
           {
            "line": {
             "colorbar": {
              "outlinewidth": 0,
              "ticks": ""
             }
            },
            "marker": {
             "colorbar": {
              "outlinewidth": 0,
              "ticks": ""
             }
            },
            "type": "scatter3d"
           }
          ],
          "scattercarpet": [
           {
            "marker": {
             "colorbar": {
              "outlinewidth": 0,
              "ticks": ""
             }
            },
            "type": "scattercarpet"
           }
          ],
          "scattergeo": [
           {
            "marker": {
             "colorbar": {
              "outlinewidth": 0,
              "ticks": ""
             }
            },
            "type": "scattergeo"
           }
          ],
          "scattergl": [
           {
            "marker": {
             "colorbar": {
              "outlinewidth": 0,
              "ticks": ""
             }
            },
            "type": "scattergl"
           }
          ],
          "scattermapbox": [
           {
            "marker": {
             "colorbar": {
              "outlinewidth": 0,
              "ticks": ""
             }
            },
            "type": "scattermapbox"
           }
          ],
          "scatterpolar": [
           {
            "marker": {
             "colorbar": {
              "outlinewidth": 0,
              "ticks": ""
             }
            },
            "type": "scatterpolar"
           }
          ],
          "scatterpolargl": [
           {
            "marker": {
             "colorbar": {
              "outlinewidth": 0,
              "ticks": ""
             }
            },
            "type": "scatterpolargl"
           }
          ],
          "scatterternary": [
           {
            "marker": {
             "colorbar": {
              "outlinewidth": 0,
              "ticks": ""
             }
            },
            "type": "scatterternary"
           }
          ],
          "surface": [
           {
            "colorbar": {
             "outlinewidth": 0,
             "ticks": ""
            },
            "colorscale": [
             [
              0,
              "#0d0887"
             ],
             [
              0.1111111111111111,
              "#46039f"
             ],
             [
              0.2222222222222222,
              "#7201a8"
             ],
             [
              0.3333333333333333,
              "#9c179e"
             ],
             [
              0.4444444444444444,
              "#bd3786"
             ],
             [
              0.5555555555555556,
              "#d8576b"
             ],
             [
              0.6666666666666666,
              "#ed7953"
             ],
             [
              0.7777777777777778,
              "#fb9f3a"
             ],
             [
              0.8888888888888888,
              "#fdca26"
             ],
             [
              1,
              "#f0f921"
             ]
            ],
            "type": "surface"
           }
          ],
          "table": [
           {
            "cells": {
             "fill": {
              "color": "#EBF0F8"
             },
             "line": {
              "color": "white"
             }
            },
            "header": {
             "fill": {
              "color": "#C8D4E3"
             },
             "line": {
              "color": "white"
             }
            },
            "type": "table"
           }
          ]
         },
         "layout": {
          "annotationdefaults": {
           "arrowcolor": "#2a3f5f",
           "arrowhead": 0,
           "arrowwidth": 1
          },
          "autotypenumbers": "strict",
          "coloraxis": {
           "colorbar": {
            "outlinewidth": 0,
            "ticks": ""
           }
          },
          "colorscale": {
           "diverging": [
            [
             0,
             "#8e0152"
            ],
            [
             0.1,
             "#c51b7d"
            ],
            [
             0.2,
             "#de77ae"
            ],
            [
             0.3,
             "#f1b6da"
            ],
            [
             0.4,
             "#fde0ef"
            ],
            [
             0.5,
             "#f7f7f7"
            ],
            [
             0.6,
             "#e6f5d0"
            ],
            [
             0.7,
             "#b8e186"
            ],
            [
             0.8,
             "#7fbc41"
            ],
            [
             0.9,
             "#4d9221"
            ],
            [
             1,
             "#276419"
            ]
           ],
           "sequential": [
            [
             0,
             "#0d0887"
            ],
            [
             0.1111111111111111,
             "#46039f"
            ],
            [
             0.2222222222222222,
             "#7201a8"
            ],
            [
             0.3333333333333333,
             "#9c179e"
            ],
            [
             0.4444444444444444,
             "#bd3786"
            ],
            [
             0.5555555555555556,
             "#d8576b"
            ],
            [
             0.6666666666666666,
             "#ed7953"
            ],
            [
             0.7777777777777778,
             "#fb9f3a"
            ],
            [
             0.8888888888888888,
             "#fdca26"
            ],
            [
             1,
             "#f0f921"
            ]
           ],
           "sequentialminus": [
            [
             0,
             "#0d0887"
            ],
            [
             0.1111111111111111,
             "#46039f"
            ],
            [
             0.2222222222222222,
             "#7201a8"
            ],
            [
             0.3333333333333333,
             "#9c179e"
            ],
            [
             0.4444444444444444,
             "#bd3786"
            ],
            [
             0.5555555555555556,
             "#d8576b"
            ],
            [
             0.6666666666666666,
             "#ed7953"
            ],
            [
             0.7777777777777778,
             "#fb9f3a"
            ],
            [
             0.8888888888888888,
             "#fdca26"
            ],
            [
             1,
             "#f0f921"
            ]
           ]
          },
          "colorway": [
           "#636efa",
           "#EF553B",
           "#00cc96",
           "#ab63fa",
           "#FFA15A",
           "#19d3f3",
           "#FF6692",
           "#B6E880",
           "#FF97FF",
           "#FECB52"
          ],
          "font": {
           "color": "#2a3f5f"
          },
          "geo": {
           "bgcolor": "white",
           "lakecolor": "white",
           "landcolor": "#E5ECF6",
           "showlakes": true,
           "showland": true,
           "subunitcolor": "white"
          },
          "hoverlabel": {
           "align": "left"
          },
          "hovermode": "closest",
          "mapbox": {
           "style": "light"
          },
          "paper_bgcolor": "white",
          "plot_bgcolor": "#E5ECF6",
          "polar": {
           "angularaxis": {
            "gridcolor": "white",
            "linecolor": "white",
            "ticks": ""
           },
           "bgcolor": "#E5ECF6",
           "radialaxis": {
            "gridcolor": "white",
            "linecolor": "white",
            "ticks": ""
           }
          },
          "scene": {
           "xaxis": {
            "backgroundcolor": "#E5ECF6",
            "gridcolor": "white",
            "gridwidth": 2,
            "linecolor": "white",
            "showbackground": true,
            "ticks": "",
            "zerolinecolor": "white"
           },
           "yaxis": {
            "backgroundcolor": "#E5ECF6",
            "gridcolor": "white",
            "gridwidth": 2,
            "linecolor": "white",
            "showbackground": true,
            "ticks": "",
            "zerolinecolor": "white"
           },
           "zaxis": {
            "backgroundcolor": "#E5ECF6",
            "gridcolor": "white",
            "gridwidth": 2,
            "linecolor": "white",
            "showbackground": true,
            "ticks": "",
            "zerolinecolor": "white"
           }
          },
          "shapedefaults": {
           "line": {
            "color": "#2a3f5f"
           }
          },
          "ternary": {
           "aaxis": {
            "gridcolor": "white",
            "linecolor": "white",
            "ticks": ""
           },
           "baxis": {
            "gridcolor": "white",
            "linecolor": "white",
            "ticks": ""
           },
           "bgcolor": "#E5ECF6",
           "caxis": {
            "gridcolor": "white",
            "linecolor": "white",
            "ticks": ""
           }
          },
          "title": {
           "x": 0.05
          },
          "xaxis": {
           "automargin": true,
           "gridcolor": "white",
           "linecolor": "white",
           "ticks": "",
           "title": {
            "standoff": 15
           },
           "zerolinecolor": "white",
           "zerolinewidth": 2
          },
          "yaxis": {
           "automargin": true,
           "gridcolor": "white",
           "linecolor": "white",
           "ticks": "",
           "title": {
            "standoff": 15
           },
           "zerolinecolor": "white",
           "zerolinewidth": 2
          }
         }
        },
        "title": {
         "font": {
          "color": "#4D5663"
         }
        },
        "xaxis": {
         "gridcolor": "#E1E5ED",
         "showgrid": true,
         "tickfont": {
          "color": "#4D5663"
         },
         "title": {
          "font": {
           "color": "#4D5663"
          },
          "text": ""
         },
         "zerolinecolor": "#E1E5ED"
        },
        "yaxis": {
         "gridcolor": "#E1E5ED",
         "showgrid": true,
         "tickfont": {
          "color": "#4D5663"
         },
         "title": {
          "font": {
           "color": "#4D5663"
          },
          "text": ""
         },
         "zerolinecolor": "#E1E5ED"
        }
       }
      },
      "text/html": [
       "<div>                            <div id=\"ad4d7c3b-c2c1-4680-b835-2276ed3d2876\" class=\"plotly-graph-div\" style=\"height:525px; width:100%;\"></div>            <script type=\"text/javascript\">                require([\"plotly\"], function(Plotly) {                    window.PLOTLYENV=window.PLOTLYENV || {};\n",
       "                    window.PLOTLYENV.BASE_URL='https://plot.ly';                                    if (document.getElementById(\"ad4d7c3b-c2c1-4680-b835-2276ed3d2876\")) {                    Plotly.newPlot(                        \"ad4d7c3b-c2c1-4680-b835-2276ed3d2876\",                        [{\"marker\": {\"color\": \"rgba(255, 153, 51, 0.6)\", \"line\": {\"color\": \"rgba(255, 153, 51, 1.0)\", \"width\": 1}}, \"name\": \"Values\", \"orientation\": \"v\", \"text\": \"\", \"type\": \"bar\", \"x\": [\"A\", \"B\", \"C\"], \"y\": [32, 43, 50]}],                        {\"legend\": {\"bgcolor\": \"#F5F6F9\", \"font\": {\"color\": \"#4D5663\"}}, \"paper_bgcolor\": \"#F5F6F9\", \"plot_bgcolor\": \"#F5F6F9\", \"template\": {\"data\": {\"bar\": [{\"error_x\": {\"color\": \"#2a3f5f\"}, \"error_y\": {\"color\": \"#2a3f5f\"}, \"marker\": {\"line\": {\"color\": \"#E5ECF6\", \"width\": 0.5}}, \"type\": \"bar\"}], \"barpolar\": [{\"marker\": {\"line\": {\"color\": \"#E5ECF6\", \"width\": 0.5}}, \"type\": \"barpolar\"}], \"carpet\": [{\"aaxis\": {\"endlinecolor\": \"#2a3f5f\", \"gridcolor\": \"white\", \"linecolor\": \"white\", \"minorgridcolor\": \"white\", \"startlinecolor\": \"#2a3f5f\"}, \"baxis\": {\"endlinecolor\": \"#2a3f5f\", \"gridcolor\": \"white\", \"linecolor\": \"white\", \"minorgridcolor\": \"white\", \"startlinecolor\": \"#2a3f5f\"}, \"type\": \"carpet\"}], \"choropleth\": [{\"colorbar\": {\"outlinewidth\": 0, \"ticks\": \"\"}, \"type\": \"choropleth\"}], \"contour\": [{\"colorbar\": {\"outlinewidth\": 0, \"ticks\": \"\"}, \"colorscale\": [[0.0, \"#0d0887\"], [0.1111111111111111, \"#46039f\"], [0.2222222222222222, \"#7201a8\"], [0.3333333333333333, \"#9c179e\"], [0.4444444444444444, \"#bd3786\"], [0.5555555555555556, \"#d8576b\"], [0.6666666666666666, \"#ed7953\"], [0.7777777777777778, \"#fb9f3a\"], [0.8888888888888888, \"#fdca26\"], [1.0, \"#f0f921\"]], \"type\": \"contour\"}], \"contourcarpet\": [{\"colorbar\": {\"outlinewidth\": 0, \"ticks\": \"\"}, \"type\": \"contourcarpet\"}], \"heatmap\": [{\"colorbar\": {\"outlinewidth\": 0, \"ticks\": \"\"}, \"colorscale\": [[0.0, \"#0d0887\"], [0.1111111111111111, \"#46039f\"], [0.2222222222222222, \"#7201a8\"], [0.3333333333333333, \"#9c179e\"], [0.4444444444444444, \"#bd3786\"], [0.5555555555555556, \"#d8576b\"], [0.6666666666666666, \"#ed7953\"], [0.7777777777777778, \"#fb9f3a\"], [0.8888888888888888, \"#fdca26\"], [1.0, \"#f0f921\"]], \"type\": \"heatmap\"}], \"heatmapgl\": [{\"colorbar\": {\"outlinewidth\": 0, \"ticks\": \"\"}, \"colorscale\": [[0.0, \"#0d0887\"], [0.1111111111111111, \"#46039f\"], [0.2222222222222222, \"#7201a8\"], [0.3333333333333333, \"#9c179e\"], [0.4444444444444444, \"#bd3786\"], [0.5555555555555556, \"#d8576b\"], [0.6666666666666666, \"#ed7953\"], [0.7777777777777778, \"#fb9f3a\"], [0.8888888888888888, \"#fdca26\"], [1.0, \"#f0f921\"]], \"type\": \"heatmapgl\"}], \"histogram\": [{\"marker\": {\"colorbar\": {\"outlinewidth\": 0, \"ticks\": \"\"}}, \"type\": \"histogram\"}], \"histogram2d\": [{\"colorbar\": {\"outlinewidth\": 0, \"ticks\": \"\"}, \"colorscale\": [[0.0, \"#0d0887\"], [0.1111111111111111, \"#46039f\"], [0.2222222222222222, \"#7201a8\"], [0.3333333333333333, \"#9c179e\"], [0.4444444444444444, \"#bd3786\"], [0.5555555555555556, \"#d8576b\"], [0.6666666666666666, \"#ed7953\"], [0.7777777777777778, \"#fb9f3a\"], [0.8888888888888888, \"#fdca26\"], [1.0, \"#f0f921\"]], \"type\": \"histogram2d\"}], \"histogram2dcontour\": [{\"colorbar\": {\"outlinewidth\": 0, \"ticks\": \"\"}, \"colorscale\": [[0.0, \"#0d0887\"], [0.1111111111111111, \"#46039f\"], [0.2222222222222222, \"#7201a8\"], [0.3333333333333333, \"#9c179e\"], [0.4444444444444444, \"#bd3786\"], [0.5555555555555556, \"#d8576b\"], [0.6666666666666666, \"#ed7953\"], [0.7777777777777778, \"#fb9f3a\"], [0.8888888888888888, \"#fdca26\"], [1.0, \"#f0f921\"]], \"type\": \"histogram2dcontour\"}], \"mesh3d\": [{\"colorbar\": {\"outlinewidth\": 0, \"ticks\": \"\"}, \"type\": \"mesh3d\"}], \"parcoords\": [{\"line\": {\"colorbar\": {\"outlinewidth\": 0, \"ticks\": \"\"}}, \"type\": \"parcoords\"}], \"pie\": [{\"automargin\": true, \"type\": \"pie\"}], \"scatter\": [{\"marker\": {\"colorbar\": {\"outlinewidth\": 0, \"ticks\": \"\"}}, \"type\": \"scatter\"}], \"scatter3d\": [{\"line\": {\"colorbar\": {\"outlinewidth\": 0, \"ticks\": \"\"}}, \"marker\": {\"colorbar\": {\"outlinewidth\": 0, \"ticks\": \"\"}}, \"type\": \"scatter3d\"}], \"scattercarpet\": [{\"marker\": {\"colorbar\": {\"outlinewidth\": 0, \"ticks\": \"\"}}, \"type\": \"scattercarpet\"}], \"scattergeo\": [{\"marker\": {\"colorbar\": {\"outlinewidth\": 0, \"ticks\": \"\"}}, \"type\": \"scattergeo\"}], \"scattergl\": [{\"marker\": {\"colorbar\": {\"outlinewidth\": 0, \"ticks\": \"\"}}, \"type\": \"scattergl\"}], \"scattermapbox\": [{\"marker\": {\"colorbar\": {\"outlinewidth\": 0, \"ticks\": \"\"}}, \"type\": \"scattermapbox\"}], \"scatterpolar\": [{\"marker\": {\"colorbar\": {\"outlinewidth\": 0, \"ticks\": \"\"}}, \"type\": \"scatterpolar\"}], \"scatterpolargl\": [{\"marker\": {\"colorbar\": {\"outlinewidth\": 0, \"ticks\": \"\"}}, \"type\": \"scatterpolargl\"}], \"scatterternary\": [{\"marker\": {\"colorbar\": {\"outlinewidth\": 0, \"ticks\": \"\"}}, \"type\": \"scatterternary\"}], \"surface\": [{\"colorbar\": {\"outlinewidth\": 0, \"ticks\": \"\"}, \"colorscale\": [[0.0, \"#0d0887\"], [0.1111111111111111, \"#46039f\"], [0.2222222222222222, \"#7201a8\"], [0.3333333333333333, \"#9c179e\"], [0.4444444444444444, \"#bd3786\"], [0.5555555555555556, \"#d8576b\"], [0.6666666666666666, \"#ed7953\"], [0.7777777777777778, \"#fb9f3a\"], [0.8888888888888888, \"#fdca26\"], [1.0, \"#f0f921\"]], \"type\": \"surface\"}], \"table\": [{\"cells\": {\"fill\": {\"color\": \"#EBF0F8\"}, \"line\": {\"color\": \"white\"}}, \"header\": {\"fill\": {\"color\": \"#C8D4E3\"}, \"line\": {\"color\": \"white\"}}, \"type\": \"table\"}]}, \"layout\": {\"annotationdefaults\": {\"arrowcolor\": \"#2a3f5f\", \"arrowhead\": 0, \"arrowwidth\": 1}, \"autotypenumbers\": \"strict\", \"coloraxis\": {\"colorbar\": {\"outlinewidth\": 0, \"ticks\": \"\"}}, \"colorscale\": {\"diverging\": [[0, \"#8e0152\"], [0.1, \"#c51b7d\"], [0.2, \"#de77ae\"], [0.3, \"#f1b6da\"], [0.4, \"#fde0ef\"], [0.5, \"#f7f7f7\"], [0.6, \"#e6f5d0\"], [0.7, \"#b8e186\"], [0.8, \"#7fbc41\"], [0.9, \"#4d9221\"], [1, \"#276419\"]], \"sequential\": [[0.0, \"#0d0887\"], [0.1111111111111111, \"#46039f\"], [0.2222222222222222, \"#7201a8\"], [0.3333333333333333, \"#9c179e\"], [0.4444444444444444, \"#bd3786\"], [0.5555555555555556, \"#d8576b\"], [0.6666666666666666, \"#ed7953\"], [0.7777777777777778, \"#fb9f3a\"], [0.8888888888888888, \"#fdca26\"], [1.0, \"#f0f921\"]], \"sequentialminus\": [[0.0, \"#0d0887\"], [0.1111111111111111, \"#46039f\"], [0.2222222222222222, \"#7201a8\"], [0.3333333333333333, \"#9c179e\"], [0.4444444444444444, \"#bd3786\"], [0.5555555555555556, \"#d8576b\"], [0.6666666666666666, \"#ed7953\"], [0.7777777777777778, \"#fb9f3a\"], [0.8888888888888888, \"#fdca26\"], [1.0, \"#f0f921\"]]}, \"colorway\": [\"#636efa\", \"#EF553B\", \"#00cc96\", \"#ab63fa\", \"#FFA15A\", \"#19d3f3\", \"#FF6692\", \"#B6E880\", \"#FF97FF\", \"#FECB52\"], \"font\": {\"color\": \"#2a3f5f\"}, \"geo\": {\"bgcolor\": \"white\", \"lakecolor\": \"white\", \"landcolor\": \"#E5ECF6\", \"showlakes\": true, \"showland\": true, \"subunitcolor\": \"white\"}, \"hoverlabel\": {\"align\": \"left\"}, \"hovermode\": \"closest\", \"mapbox\": {\"style\": \"light\"}, \"paper_bgcolor\": \"white\", \"plot_bgcolor\": \"#E5ECF6\", \"polar\": {\"angularaxis\": {\"gridcolor\": \"white\", \"linecolor\": \"white\", \"ticks\": \"\"}, \"bgcolor\": \"#E5ECF6\", \"radialaxis\": {\"gridcolor\": \"white\", \"linecolor\": \"white\", \"ticks\": \"\"}}, \"scene\": {\"xaxis\": {\"backgroundcolor\": \"#E5ECF6\", \"gridcolor\": \"white\", \"gridwidth\": 2, \"linecolor\": \"white\", \"showbackground\": true, \"ticks\": \"\", \"zerolinecolor\": \"white\"}, \"yaxis\": {\"backgroundcolor\": \"#E5ECF6\", \"gridcolor\": \"white\", \"gridwidth\": 2, \"linecolor\": \"white\", \"showbackground\": true, \"ticks\": \"\", \"zerolinecolor\": \"white\"}, \"zaxis\": {\"backgroundcolor\": \"#E5ECF6\", \"gridcolor\": \"white\", \"gridwidth\": 2, \"linecolor\": \"white\", \"showbackground\": true, \"ticks\": \"\", \"zerolinecolor\": \"white\"}}, \"shapedefaults\": {\"line\": {\"color\": \"#2a3f5f\"}}, \"ternary\": {\"aaxis\": {\"gridcolor\": \"white\", \"linecolor\": \"white\", \"ticks\": \"\"}, \"baxis\": {\"gridcolor\": \"white\", \"linecolor\": \"white\", \"ticks\": \"\"}, \"bgcolor\": \"#E5ECF6\", \"caxis\": {\"gridcolor\": \"white\", \"linecolor\": \"white\", \"ticks\": \"\"}}, \"title\": {\"x\": 0.05}, \"xaxis\": {\"automargin\": true, \"gridcolor\": \"white\", \"linecolor\": \"white\", \"ticks\": \"\", \"title\": {\"standoff\": 15}, \"zerolinecolor\": \"white\", \"zerolinewidth\": 2}, \"yaxis\": {\"automargin\": true, \"gridcolor\": \"white\", \"linecolor\": \"white\", \"ticks\": \"\", \"title\": {\"standoff\": 15}, \"zerolinecolor\": \"white\", \"zerolinewidth\": 2}}}, \"title\": {\"font\": {\"color\": \"#4D5663\"}}, \"xaxis\": {\"gridcolor\": \"#E1E5ED\", \"showgrid\": true, \"tickfont\": {\"color\": \"#4D5663\"}, \"title\": {\"font\": {\"color\": \"#4D5663\"}, \"text\": \"\"}, \"zerolinecolor\": \"#E1E5ED\"}, \"yaxis\": {\"gridcolor\": \"#E1E5ED\", \"showgrid\": true, \"tickfont\": {\"color\": \"#4D5663\"}, \"title\": {\"font\": {\"color\": \"#4D5663\"}, \"text\": \"\"}, \"zerolinecolor\": \"#E1E5ED\"}},                        {\"showLink\": true, \"linkText\": \"Export to plot.ly\", \"plotlyServerURL\": \"https://plot.ly\", \"responsive\": true}                    ).then(function(){\n",
       "                            \n",
       "var gd = document.getElementById('ad4d7c3b-c2c1-4680-b835-2276ed3d2876');\n",
       "var x = new MutationObserver(function (mutations, observer) {{\n",
       "        var display = window.getComputedStyle(gd).display;\n",
       "        if (!display || display === 'none') {{\n",
       "            console.log([gd, 'removed!']);\n",
       "            Plotly.purge(gd);\n",
       "            observer.disconnect();\n",
       "        }}\n",
       "}});\n",
       "\n",
       "// Listen for the removal of the full notebook cells\n",
       "var notebookContainer = gd.closest('#notebook-container');\n",
       "if (notebookContainer) {{\n",
       "    x.observe(notebookContainer, {childList: true});\n",
       "}}\n",
       "\n",
       "// Listen for the clearing of the current output cell\n",
       "var outputEl = gd.closest('.output');\n",
       "if (outputEl) {{\n",
       "    x.observe(outputEl, {childList: true});\n",
       "}}\n",
       "\n",
       "                        })                };                });            </script>        </div>"
      ]
     },
     "metadata": {},
     "output_type": "display_data"
    }
   ],
   "source": [
    "df2.iplot(kind='bar',x='Category',y='Values')"
   ]
  },
  {
   "cell_type": "code",
   "execution_count": 12,
   "metadata": {},
   "outputs": [
    {
     "data": {
      "application/vnd.plotly.v1+json": {
       "config": {
        "linkText": "Export to plot.ly",
        "plotlyServerURL": "https://plot.ly",
        "showLink": true
       },
       "data": [
        {
         "marker": {
          "color": "rgba(255, 153, 51, 0.6)",
          "line": {
           "color": "rgba(255, 153, 51, 1.0)",
           "width": 1
          }
         },
         "name": "None",
         "orientation": "v",
         "text": "",
         "type": "bar",
         "x": [
          "A",
          "B",
          "C",
          "D"
         ],
         "y": [
          100,
          100,
          100,
          100
         ]
        }
       ],
       "layout": {
        "legend": {
         "bgcolor": "#F5F6F9",
         "font": {
          "color": "#4D5663"
         }
        },
        "paper_bgcolor": "#F5F6F9",
        "plot_bgcolor": "#F5F6F9",
        "template": {
         "data": {
          "bar": [
           {
            "error_x": {
             "color": "#2a3f5f"
            },
            "error_y": {
             "color": "#2a3f5f"
            },
            "marker": {
             "line": {
              "color": "#E5ECF6",
              "width": 0.5
             }
            },
            "type": "bar"
           }
          ],
          "barpolar": [
           {
            "marker": {
             "line": {
              "color": "#E5ECF6",
              "width": 0.5
             }
            },
            "type": "barpolar"
           }
          ],
          "carpet": [
           {
            "aaxis": {
             "endlinecolor": "#2a3f5f",
             "gridcolor": "white",
             "linecolor": "white",
             "minorgridcolor": "white",
             "startlinecolor": "#2a3f5f"
            },
            "baxis": {
             "endlinecolor": "#2a3f5f",
             "gridcolor": "white",
             "linecolor": "white",
             "minorgridcolor": "white",
             "startlinecolor": "#2a3f5f"
            },
            "type": "carpet"
           }
          ],
          "choropleth": [
           {
            "colorbar": {
             "outlinewidth": 0,
             "ticks": ""
            },
            "type": "choropleth"
           }
          ],
          "contour": [
           {
            "colorbar": {
             "outlinewidth": 0,
             "ticks": ""
            },
            "colorscale": [
             [
              0,
              "#0d0887"
             ],
             [
              0.1111111111111111,
              "#46039f"
             ],
             [
              0.2222222222222222,
              "#7201a8"
             ],
             [
              0.3333333333333333,
              "#9c179e"
             ],
             [
              0.4444444444444444,
              "#bd3786"
             ],
             [
              0.5555555555555556,
              "#d8576b"
             ],
             [
              0.6666666666666666,
              "#ed7953"
             ],
             [
              0.7777777777777778,
              "#fb9f3a"
             ],
             [
              0.8888888888888888,
              "#fdca26"
             ],
             [
              1,
              "#f0f921"
             ]
            ],
            "type": "contour"
           }
          ],
          "contourcarpet": [
           {
            "colorbar": {
             "outlinewidth": 0,
             "ticks": ""
            },
            "type": "contourcarpet"
           }
          ],
          "heatmap": [
           {
            "colorbar": {
             "outlinewidth": 0,
             "ticks": ""
            },
            "colorscale": [
             [
              0,
              "#0d0887"
             ],
             [
              0.1111111111111111,
              "#46039f"
             ],
             [
              0.2222222222222222,
              "#7201a8"
             ],
             [
              0.3333333333333333,
              "#9c179e"
             ],
             [
              0.4444444444444444,
              "#bd3786"
             ],
             [
              0.5555555555555556,
              "#d8576b"
             ],
             [
              0.6666666666666666,
              "#ed7953"
             ],
             [
              0.7777777777777778,
              "#fb9f3a"
             ],
             [
              0.8888888888888888,
              "#fdca26"
             ],
             [
              1,
              "#f0f921"
             ]
            ],
            "type": "heatmap"
           }
          ],
          "heatmapgl": [
           {
            "colorbar": {
             "outlinewidth": 0,
             "ticks": ""
            },
            "colorscale": [
             [
              0,
              "#0d0887"
             ],
             [
              0.1111111111111111,
              "#46039f"
             ],
             [
              0.2222222222222222,
              "#7201a8"
             ],
             [
              0.3333333333333333,
              "#9c179e"
             ],
             [
              0.4444444444444444,
              "#bd3786"
             ],
             [
              0.5555555555555556,
              "#d8576b"
             ],
             [
              0.6666666666666666,
              "#ed7953"
             ],
             [
              0.7777777777777778,
              "#fb9f3a"
             ],
             [
              0.8888888888888888,
              "#fdca26"
             ],
             [
              1,
              "#f0f921"
             ]
            ],
            "type": "heatmapgl"
           }
          ],
          "histogram": [
           {
            "marker": {
             "colorbar": {
              "outlinewidth": 0,
              "ticks": ""
             }
            },
            "type": "histogram"
           }
          ],
          "histogram2d": [
           {
            "colorbar": {
             "outlinewidth": 0,
             "ticks": ""
            },
            "colorscale": [
             [
              0,
              "#0d0887"
             ],
             [
              0.1111111111111111,
              "#46039f"
             ],
             [
              0.2222222222222222,
              "#7201a8"
             ],
             [
              0.3333333333333333,
              "#9c179e"
             ],
             [
              0.4444444444444444,
              "#bd3786"
             ],
             [
              0.5555555555555556,
              "#d8576b"
             ],
             [
              0.6666666666666666,
              "#ed7953"
             ],
             [
              0.7777777777777778,
              "#fb9f3a"
             ],
             [
              0.8888888888888888,
              "#fdca26"
             ],
             [
              1,
              "#f0f921"
             ]
            ],
            "type": "histogram2d"
           }
          ],
          "histogram2dcontour": [
           {
            "colorbar": {
             "outlinewidth": 0,
             "ticks": ""
            },
            "colorscale": [
             [
              0,
              "#0d0887"
             ],
             [
              0.1111111111111111,
              "#46039f"
             ],
             [
              0.2222222222222222,
              "#7201a8"
             ],
             [
              0.3333333333333333,
              "#9c179e"
             ],
             [
              0.4444444444444444,
              "#bd3786"
             ],
             [
              0.5555555555555556,
              "#d8576b"
             ],
             [
              0.6666666666666666,
              "#ed7953"
             ],
             [
              0.7777777777777778,
              "#fb9f3a"
             ],
             [
              0.8888888888888888,
              "#fdca26"
             ],
             [
              1,
              "#f0f921"
             ]
            ],
            "type": "histogram2dcontour"
           }
          ],
          "mesh3d": [
           {
            "colorbar": {
             "outlinewidth": 0,
             "ticks": ""
            },
            "type": "mesh3d"
           }
          ],
          "parcoords": [
           {
            "line": {
             "colorbar": {
              "outlinewidth": 0,
              "ticks": ""
             }
            },
            "type": "parcoords"
           }
          ],
          "pie": [
           {
            "automargin": true,
            "type": "pie"
           }
          ],
          "scatter": [
           {
            "marker": {
             "colorbar": {
              "outlinewidth": 0,
              "ticks": ""
             }
            },
            "type": "scatter"
           }
          ],
          "scatter3d": [
           {
            "line": {
             "colorbar": {
              "outlinewidth": 0,
              "ticks": ""
             }
            },
            "marker": {
             "colorbar": {
              "outlinewidth": 0,
              "ticks": ""
             }
            },
            "type": "scatter3d"
           }
          ],
          "scattercarpet": [
           {
            "marker": {
             "colorbar": {
              "outlinewidth": 0,
              "ticks": ""
             }
            },
            "type": "scattercarpet"
           }
          ],
          "scattergeo": [
           {
            "marker": {
             "colorbar": {
              "outlinewidth": 0,
              "ticks": ""
             }
            },
            "type": "scattergeo"
           }
          ],
          "scattergl": [
           {
            "marker": {
             "colorbar": {
              "outlinewidth": 0,
              "ticks": ""
             }
            },
            "type": "scattergl"
           }
          ],
          "scattermapbox": [
           {
            "marker": {
             "colorbar": {
              "outlinewidth": 0,
              "ticks": ""
             }
            },
            "type": "scattermapbox"
           }
          ],
          "scatterpolar": [
           {
            "marker": {
             "colorbar": {
              "outlinewidth": 0,
              "ticks": ""
             }
            },
            "type": "scatterpolar"
           }
          ],
          "scatterpolargl": [
           {
            "marker": {
             "colorbar": {
              "outlinewidth": 0,
              "ticks": ""
             }
            },
            "type": "scatterpolargl"
           }
          ],
          "scatterternary": [
           {
            "marker": {
             "colorbar": {
              "outlinewidth": 0,
              "ticks": ""
             }
            },
            "type": "scatterternary"
           }
          ],
          "surface": [
           {
            "colorbar": {
             "outlinewidth": 0,
             "ticks": ""
            },
            "colorscale": [
             [
              0,
              "#0d0887"
             ],
             [
              0.1111111111111111,
              "#46039f"
             ],
             [
              0.2222222222222222,
              "#7201a8"
             ],
             [
              0.3333333333333333,
              "#9c179e"
             ],
             [
              0.4444444444444444,
              "#bd3786"
             ],
             [
              0.5555555555555556,
              "#d8576b"
             ],
             [
              0.6666666666666666,
              "#ed7953"
             ],
             [
              0.7777777777777778,
              "#fb9f3a"
             ],
             [
              0.8888888888888888,
              "#fdca26"
             ],
             [
              1,
              "#f0f921"
             ]
            ],
            "type": "surface"
           }
          ],
          "table": [
           {
            "cells": {
             "fill": {
              "color": "#EBF0F8"
             },
             "line": {
              "color": "white"
             }
            },
            "header": {
             "fill": {
              "color": "#C8D4E3"
             },
             "line": {
              "color": "white"
             }
            },
            "type": "table"
           }
          ]
         },
         "layout": {
          "annotationdefaults": {
           "arrowcolor": "#2a3f5f",
           "arrowhead": 0,
           "arrowwidth": 1
          },
          "autotypenumbers": "strict",
          "coloraxis": {
           "colorbar": {
            "outlinewidth": 0,
            "ticks": ""
           }
          },
          "colorscale": {
           "diverging": [
            [
             0,
             "#8e0152"
            ],
            [
             0.1,
             "#c51b7d"
            ],
            [
             0.2,
             "#de77ae"
            ],
            [
             0.3,
             "#f1b6da"
            ],
            [
             0.4,
             "#fde0ef"
            ],
            [
             0.5,
             "#f7f7f7"
            ],
            [
             0.6,
             "#e6f5d0"
            ],
            [
             0.7,
             "#b8e186"
            ],
            [
             0.8,
             "#7fbc41"
            ],
            [
             0.9,
             "#4d9221"
            ],
            [
             1,
             "#276419"
            ]
           ],
           "sequential": [
            [
             0,
             "#0d0887"
            ],
            [
             0.1111111111111111,
             "#46039f"
            ],
            [
             0.2222222222222222,
             "#7201a8"
            ],
            [
             0.3333333333333333,
             "#9c179e"
            ],
            [
             0.4444444444444444,
             "#bd3786"
            ],
            [
             0.5555555555555556,
             "#d8576b"
            ],
            [
             0.6666666666666666,
             "#ed7953"
            ],
            [
             0.7777777777777778,
             "#fb9f3a"
            ],
            [
             0.8888888888888888,
             "#fdca26"
            ],
            [
             1,
             "#f0f921"
            ]
           ],
           "sequentialminus": [
            [
             0,
             "#0d0887"
            ],
            [
             0.1111111111111111,
             "#46039f"
            ],
            [
             0.2222222222222222,
             "#7201a8"
            ],
            [
             0.3333333333333333,
             "#9c179e"
            ],
            [
             0.4444444444444444,
             "#bd3786"
            ],
            [
             0.5555555555555556,
             "#d8576b"
            ],
            [
             0.6666666666666666,
             "#ed7953"
            ],
            [
             0.7777777777777778,
             "#fb9f3a"
            ],
            [
             0.8888888888888888,
             "#fdca26"
            ],
            [
             1,
             "#f0f921"
            ]
           ]
          },
          "colorway": [
           "#636efa",
           "#EF553B",
           "#00cc96",
           "#ab63fa",
           "#FFA15A",
           "#19d3f3",
           "#FF6692",
           "#B6E880",
           "#FF97FF",
           "#FECB52"
          ],
          "font": {
           "color": "#2a3f5f"
          },
          "geo": {
           "bgcolor": "white",
           "lakecolor": "white",
           "landcolor": "#E5ECF6",
           "showlakes": true,
           "showland": true,
           "subunitcolor": "white"
          },
          "hoverlabel": {
           "align": "left"
          },
          "hovermode": "closest",
          "mapbox": {
           "style": "light"
          },
          "paper_bgcolor": "white",
          "plot_bgcolor": "#E5ECF6",
          "polar": {
           "angularaxis": {
            "gridcolor": "white",
            "linecolor": "white",
            "ticks": ""
           },
           "bgcolor": "#E5ECF6",
           "radialaxis": {
            "gridcolor": "white",
            "linecolor": "white",
            "ticks": ""
           }
          },
          "scene": {
           "xaxis": {
            "backgroundcolor": "#E5ECF6",
            "gridcolor": "white",
            "gridwidth": 2,
            "linecolor": "white",
            "showbackground": true,
            "ticks": "",
            "zerolinecolor": "white"
           },
           "yaxis": {
            "backgroundcolor": "#E5ECF6",
            "gridcolor": "white",
            "gridwidth": 2,
            "linecolor": "white",
            "showbackground": true,
            "ticks": "",
            "zerolinecolor": "white"
           },
           "zaxis": {
            "backgroundcolor": "#E5ECF6",
            "gridcolor": "white",
            "gridwidth": 2,
            "linecolor": "white",
            "showbackground": true,
            "ticks": "",
            "zerolinecolor": "white"
           }
          },
          "shapedefaults": {
           "line": {
            "color": "#2a3f5f"
           }
          },
          "ternary": {
           "aaxis": {
            "gridcolor": "white",
            "linecolor": "white",
            "ticks": ""
           },
           "baxis": {
            "gridcolor": "white",
            "linecolor": "white",
            "ticks": ""
           },
           "bgcolor": "#E5ECF6",
           "caxis": {
            "gridcolor": "white",
            "linecolor": "white",
            "ticks": ""
           }
          },
          "title": {
           "x": 0.05
          },
          "xaxis": {
           "automargin": true,
           "gridcolor": "white",
           "linecolor": "white",
           "ticks": "",
           "title": {
            "standoff": 15
           },
           "zerolinecolor": "white",
           "zerolinewidth": 2
          },
          "yaxis": {
           "automargin": true,
           "gridcolor": "white",
           "linecolor": "white",
           "ticks": "",
           "title": {
            "standoff": 15
           },
           "zerolinecolor": "white",
           "zerolinewidth": 2
          }
         }
        },
        "title": {
         "font": {
          "color": "#4D5663"
         }
        },
        "xaxis": {
         "gridcolor": "#E1E5ED",
         "showgrid": true,
         "tickfont": {
          "color": "#4D5663"
         },
         "title": {
          "font": {
           "color": "#4D5663"
          },
          "text": ""
         },
         "zerolinecolor": "#E1E5ED"
        },
        "yaxis": {
         "gridcolor": "#E1E5ED",
         "showgrid": true,
         "tickfont": {
          "color": "#4D5663"
         },
         "title": {
          "font": {
           "color": "#4D5663"
          },
          "text": ""
         },
         "zerolinecolor": "#E1E5ED"
        }
       }
      },
      "text/html": [
       "<div>                            <div id=\"72a94b46-29ef-41d1-bbea-d7ad116fc938\" class=\"plotly-graph-div\" style=\"height:525px; width:100%;\"></div>            <script type=\"text/javascript\">                require([\"plotly\"], function(Plotly) {                    window.PLOTLYENV=window.PLOTLYENV || {};\n",
       "                    window.PLOTLYENV.BASE_URL='https://plot.ly';                                    if (document.getElementById(\"72a94b46-29ef-41d1-bbea-d7ad116fc938\")) {                    Plotly.newPlot(                        \"72a94b46-29ef-41d1-bbea-d7ad116fc938\",                        [{\"marker\": {\"color\": \"rgba(255, 153, 51, 0.6)\", \"line\": {\"color\": \"rgba(255, 153, 51, 1.0)\", \"width\": 1}}, \"name\": \"None\", \"orientation\": \"v\", \"text\": \"\", \"type\": \"bar\", \"x\": [\"A\", \"B\", \"C\", \"D\"], \"y\": [100, 100, 100, 100]}],                        {\"legend\": {\"bgcolor\": \"#F5F6F9\", \"font\": {\"color\": \"#4D5663\"}}, \"paper_bgcolor\": \"#F5F6F9\", \"plot_bgcolor\": \"#F5F6F9\", \"template\": {\"data\": {\"bar\": [{\"error_x\": {\"color\": \"#2a3f5f\"}, \"error_y\": {\"color\": \"#2a3f5f\"}, \"marker\": {\"line\": {\"color\": \"#E5ECF6\", \"width\": 0.5}}, \"type\": \"bar\"}], \"barpolar\": [{\"marker\": {\"line\": {\"color\": \"#E5ECF6\", \"width\": 0.5}}, \"type\": \"barpolar\"}], \"carpet\": [{\"aaxis\": {\"endlinecolor\": \"#2a3f5f\", \"gridcolor\": \"white\", \"linecolor\": \"white\", \"minorgridcolor\": \"white\", \"startlinecolor\": \"#2a3f5f\"}, \"baxis\": {\"endlinecolor\": \"#2a3f5f\", \"gridcolor\": \"white\", \"linecolor\": \"white\", \"minorgridcolor\": \"white\", \"startlinecolor\": \"#2a3f5f\"}, \"type\": \"carpet\"}], \"choropleth\": [{\"colorbar\": {\"outlinewidth\": 0, \"ticks\": \"\"}, \"type\": \"choropleth\"}], \"contour\": [{\"colorbar\": {\"outlinewidth\": 0, \"ticks\": \"\"}, \"colorscale\": [[0.0, \"#0d0887\"], [0.1111111111111111, \"#46039f\"], [0.2222222222222222, \"#7201a8\"], [0.3333333333333333, \"#9c179e\"], [0.4444444444444444, \"#bd3786\"], [0.5555555555555556, \"#d8576b\"], [0.6666666666666666, \"#ed7953\"], [0.7777777777777778, \"#fb9f3a\"], [0.8888888888888888, \"#fdca26\"], [1.0, \"#f0f921\"]], \"type\": \"contour\"}], \"contourcarpet\": [{\"colorbar\": {\"outlinewidth\": 0, \"ticks\": \"\"}, \"type\": \"contourcarpet\"}], \"heatmap\": [{\"colorbar\": {\"outlinewidth\": 0, \"ticks\": \"\"}, \"colorscale\": [[0.0, \"#0d0887\"], [0.1111111111111111, \"#46039f\"], [0.2222222222222222, \"#7201a8\"], [0.3333333333333333, \"#9c179e\"], [0.4444444444444444, \"#bd3786\"], [0.5555555555555556, \"#d8576b\"], [0.6666666666666666, \"#ed7953\"], [0.7777777777777778, \"#fb9f3a\"], [0.8888888888888888, \"#fdca26\"], [1.0, \"#f0f921\"]], \"type\": \"heatmap\"}], \"heatmapgl\": [{\"colorbar\": {\"outlinewidth\": 0, \"ticks\": \"\"}, \"colorscale\": [[0.0, \"#0d0887\"], [0.1111111111111111, \"#46039f\"], [0.2222222222222222, \"#7201a8\"], [0.3333333333333333, \"#9c179e\"], [0.4444444444444444, \"#bd3786\"], [0.5555555555555556, \"#d8576b\"], [0.6666666666666666, \"#ed7953\"], [0.7777777777777778, \"#fb9f3a\"], [0.8888888888888888, \"#fdca26\"], [1.0, \"#f0f921\"]], \"type\": \"heatmapgl\"}], \"histogram\": [{\"marker\": {\"colorbar\": {\"outlinewidth\": 0, \"ticks\": \"\"}}, \"type\": \"histogram\"}], \"histogram2d\": [{\"colorbar\": {\"outlinewidth\": 0, \"ticks\": \"\"}, \"colorscale\": [[0.0, \"#0d0887\"], [0.1111111111111111, \"#46039f\"], [0.2222222222222222, \"#7201a8\"], [0.3333333333333333, \"#9c179e\"], [0.4444444444444444, \"#bd3786\"], [0.5555555555555556, \"#d8576b\"], [0.6666666666666666, \"#ed7953\"], [0.7777777777777778, \"#fb9f3a\"], [0.8888888888888888, \"#fdca26\"], [1.0, \"#f0f921\"]], \"type\": \"histogram2d\"}], \"histogram2dcontour\": [{\"colorbar\": {\"outlinewidth\": 0, \"ticks\": \"\"}, \"colorscale\": [[0.0, \"#0d0887\"], [0.1111111111111111, \"#46039f\"], [0.2222222222222222, \"#7201a8\"], [0.3333333333333333, \"#9c179e\"], [0.4444444444444444, \"#bd3786\"], [0.5555555555555556, \"#d8576b\"], [0.6666666666666666, \"#ed7953\"], [0.7777777777777778, \"#fb9f3a\"], [0.8888888888888888, \"#fdca26\"], [1.0, \"#f0f921\"]], \"type\": \"histogram2dcontour\"}], \"mesh3d\": [{\"colorbar\": {\"outlinewidth\": 0, \"ticks\": \"\"}, \"type\": \"mesh3d\"}], \"parcoords\": [{\"line\": {\"colorbar\": {\"outlinewidth\": 0, \"ticks\": \"\"}}, \"type\": \"parcoords\"}], \"pie\": [{\"automargin\": true, \"type\": \"pie\"}], \"scatter\": [{\"marker\": {\"colorbar\": {\"outlinewidth\": 0, \"ticks\": \"\"}}, \"type\": \"scatter\"}], \"scatter3d\": [{\"line\": {\"colorbar\": {\"outlinewidth\": 0, \"ticks\": \"\"}}, \"marker\": {\"colorbar\": {\"outlinewidth\": 0, \"ticks\": \"\"}}, \"type\": \"scatter3d\"}], \"scattercarpet\": [{\"marker\": {\"colorbar\": {\"outlinewidth\": 0, \"ticks\": \"\"}}, \"type\": \"scattercarpet\"}], \"scattergeo\": [{\"marker\": {\"colorbar\": {\"outlinewidth\": 0, \"ticks\": \"\"}}, \"type\": \"scattergeo\"}], \"scattergl\": [{\"marker\": {\"colorbar\": {\"outlinewidth\": 0, \"ticks\": \"\"}}, \"type\": \"scattergl\"}], \"scattermapbox\": [{\"marker\": {\"colorbar\": {\"outlinewidth\": 0, \"ticks\": \"\"}}, \"type\": \"scattermapbox\"}], \"scatterpolar\": [{\"marker\": {\"colorbar\": {\"outlinewidth\": 0, \"ticks\": \"\"}}, \"type\": \"scatterpolar\"}], \"scatterpolargl\": [{\"marker\": {\"colorbar\": {\"outlinewidth\": 0, \"ticks\": \"\"}}, \"type\": \"scatterpolargl\"}], \"scatterternary\": [{\"marker\": {\"colorbar\": {\"outlinewidth\": 0, \"ticks\": \"\"}}, \"type\": \"scatterternary\"}], \"surface\": [{\"colorbar\": {\"outlinewidth\": 0, \"ticks\": \"\"}, \"colorscale\": [[0.0, \"#0d0887\"], [0.1111111111111111, \"#46039f\"], [0.2222222222222222, \"#7201a8\"], [0.3333333333333333, \"#9c179e\"], [0.4444444444444444, \"#bd3786\"], [0.5555555555555556, \"#d8576b\"], [0.6666666666666666, \"#ed7953\"], [0.7777777777777778, \"#fb9f3a\"], [0.8888888888888888, \"#fdca26\"], [1.0, \"#f0f921\"]], \"type\": \"surface\"}], \"table\": [{\"cells\": {\"fill\": {\"color\": \"#EBF0F8\"}, \"line\": {\"color\": \"white\"}}, \"header\": {\"fill\": {\"color\": \"#C8D4E3\"}, \"line\": {\"color\": \"white\"}}, \"type\": \"table\"}]}, \"layout\": {\"annotationdefaults\": {\"arrowcolor\": \"#2a3f5f\", \"arrowhead\": 0, \"arrowwidth\": 1}, \"autotypenumbers\": \"strict\", \"coloraxis\": {\"colorbar\": {\"outlinewidth\": 0, \"ticks\": \"\"}}, \"colorscale\": {\"diverging\": [[0, \"#8e0152\"], [0.1, \"#c51b7d\"], [0.2, \"#de77ae\"], [0.3, \"#f1b6da\"], [0.4, \"#fde0ef\"], [0.5, \"#f7f7f7\"], [0.6, \"#e6f5d0\"], [0.7, \"#b8e186\"], [0.8, \"#7fbc41\"], [0.9, \"#4d9221\"], [1, \"#276419\"]], \"sequential\": [[0.0, \"#0d0887\"], [0.1111111111111111, \"#46039f\"], [0.2222222222222222, \"#7201a8\"], [0.3333333333333333, \"#9c179e\"], [0.4444444444444444, \"#bd3786\"], [0.5555555555555556, \"#d8576b\"], [0.6666666666666666, \"#ed7953\"], [0.7777777777777778, \"#fb9f3a\"], [0.8888888888888888, \"#fdca26\"], [1.0, \"#f0f921\"]], \"sequentialminus\": [[0.0, \"#0d0887\"], [0.1111111111111111, \"#46039f\"], [0.2222222222222222, \"#7201a8\"], [0.3333333333333333, \"#9c179e\"], [0.4444444444444444, \"#bd3786\"], [0.5555555555555556, \"#d8576b\"], [0.6666666666666666, \"#ed7953\"], [0.7777777777777778, \"#fb9f3a\"], [0.8888888888888888, \"#fdca26\"], [1.0, \"#f0f921\"]]}, \"colorway\": [\"#636efa\", \"#EF553B\", \"#00cc96\", \"#ab63fa\", \"#FFA15A\", \"#19d3f3\", \"#FF6692\", \"#B6E880\", \"#FF97FF\", \"#FECB52\"], \"font\": {\"color\": \"#2a3f5f\"}, \"geo\": {\"bgcolor\": \"white\", \"lakecolor\": \"white\", \"landcolor\": \"#E5ECF6\", \"showlakes\": true, \"showland\": true, \"subunitcolor\": \"white\"}, \"hoverlabel\": {\"align\": \"left\"}, \"hovermode\": \"closest\", \"mapbox\": {\"style\": \"light\"}, \"paper_bgcolor\": \"white\", \"plot_bgcolor\": \"#E5ECF6\", \"polar\": {\"angularaxis\": {\"gridcolor\": \"white\", \"linecolor\": \"white\", \"ticks\": \"\"}, \"bgcolor\": \"#E5ECF6\", \"radialaxis\": {\"gridcolor\": \"white\", \"linecolor\": \"white\", \"ticks\": \"\"}}, \"scene\": {\"xaxis\": {\"backgroundcolor\": \"#E5ECF6\", \"gridcolor\": \"white\", \"gridwidth\": 2, \"linecolor\": \"white\", \"showbackground\": true, \"ticks\": \"\", \"zerolinecolor\": \"white\"}, \"yaxis\": {\"backgroundcolor\": \"#E5ECF6\", \"gridcolor\": \"white\", \"gridwidth\": 2, \"linecolor\": \"white\", \"showbackground\": true, \"ticks\": \"\", \"zerolinecolor\": \"white\"}, \"zaxis\": {\"backgroundcolor\": \"#E5ECF6\", \"gridcolor\": \"white\", \"gridwidth\": 2, \"linecolor\": \"white\", \"showbackground\": true, \"ticks\": \"\", \"zerolinecolor\": \"white\"}}, \"shapedefaults\": {\"line\": {\"color\": \"#2a3f5f\"}}, \"ternary\": {\"aaxis\": {\"gridcolor\": \"white\", \"linecolor\": \"white\", \"ticks\": \"\"}, \"baxis\": {\"gridcolor\": \"white\", \"linecolor\": \"white\", \"ticks\": \"\"}, \"bgcolor\": \"#E5ECF6\", \"caxis\": {\"gridcolor\": \"white\", \"linecolor\": \"white\", \"ticks\": \"\"}}, \"title\": {\"x\": 0.05}, \"xaxis\": {\"automargin\": true, \"gridcolor\": \"white\", \"linecolor\": \"white\", \"ticks\": \"\", \"title\": {\"standoff\": 15}, \"zerolinecolor\": \"white\", \"zerolinewidth\": 2}, \"yaxis\": {\"automargin\": true, \"gridcolor\": \"white\", \"linecolor\": \"white\", \"ticks\": \"\", \"title\": {\"standoff\": 15}, \"zerolinecolor\": \"white\", \"zerolinewidth\": 2}}}, \"title\": {\"font\": {\"color\": \"#4D5663\"}}, \"xaxis\": {\"gridcolor\": \"#E1E5ED\", \"showgrid\": true, \"tickfont\": {\"color\": \"#4D5663\"}, \"title\": {\"font\": {\"color\": \"#4D5663\"}, \"text\": \"\"}, \"zerolinecolor\": \"#E1E5ED\"}, \"yaxis\": {\"gridcolor\": \"#E1E5ED\", \"showgrid\": true, \"tickfont\": {\"color\": \"#4D5663\"}, \"title\": {\"font\": {\"color\": \"#4D5663\"}, \"text\": \"\"}, \"zerolinecolor\": \"#E1E5ED\"}},                        {\"showLink\": true, \"linkText\": \"Export to plot.ly\", \"plotlyServerURL\": \"https://plot.ly\", \"responsive\": true}                    ).then(function(){\n",
       "                            \n",
       "var gd = document.getElementById('72a94b46-29ef-41d1-bbea-d7ad116fc938');\n",
       "var x = new MutationObserver(function (mutations, observer) {{\n",
       "        var display = window.getComputedStyle(gd).display;\n",
       "        if (!display || display === 'none') {{\n",
       "            console.log([gd, 'removed!']);\n",
       "            Plotly.purge(gd);\n",
       "            observer.disconnect();\n",
       "        }}\n",
       "}});\n",
       "\n",
       "// Listen for the removal of the full notebook cells\n",
       "var notebookContainer = gd.closest('#notebook-container');\n",
       "if (notebookContainer) {{\n",
       "    x.observe(notebookContainer, {childList: true});\n",
       "}}\n",
       "\n",
       "// Listen for the clearing of the current output cell\n",
       "var outputEl = gd.closest('.output');\n",
       "if (outputEl) {{\n",
       "    x.observe(outputEl, {childList: true});\n",
       "}}\n",
       "\n",
       "                        })                };                });            </script>        </div>"
      ]
     },
     "metadata": {},
     "output_type": "display_data"
    }
   ],
   "source": [
    "df.count().iplot(kind='bar')"
   ]
  },
  {
   "cell_type": "markdown",
   "metadata": {},
   "source": [
    "## Boxplots"
   ]
  },
  {
   "cell_type": "code",
   "execution_count": 25,
   "metadata": {},
   "outputs": [
    {
     "data": {
      "application/vnd.plotly.v1+json": {
       "config": {
        "linkText": "Export to plot.ly",
        "plotlyServerURL": "https://plot.ly",
        "showLink": true
       },
       "data": [
        {
         "boxpoints": false,
         "line": {
          "width": 1.3
         },
         "marker": {
          "color": "rgba(255, 153, 51, 1.0)"
         },
         "name": "A",
         "orientation": "v",
         "type": "box",
         "y": [
          1.066033821726836,
          -0.20234052225325377,
          -0.7202032807069448,
          0.5876969285770565,
          0.5894082810927319,
          1.0966408592248225,
          0.9342602449467096,
          0.45296834381798506,
          0.11377689854572721,
          -0.015182384924197444,
          -1.0023195013509085,
          1.0561253511156685,
          -3.4069802426307905,
          1.1611381772450249,
          -0.9786531922381543,
          0.44150829410781106,
          0.6550320148323283,
          -0.18086514362098016,
          -1.449574844999948,
          -0.17652965182450162,
          1.620252667693584,
          0.34754355653960467,
          1.806768138822351,
          -0.45768771410313575,
          0.5368199083416141,
          -1.4123877529844118,
          1.5335615896164654,
          0.23143665121821524,
          0.8796131857211662,
          -1.5237599640761714,
          0.7761978467117557,
          -0.08109345148154067,
          -0.413836495422542,
          0.020236012487686746,
          -0.04477050480869064,
          -0.49951388000907565,
          -0.4806284409081598,
          0.584993947243313,
          -0.27779430391771787,
          -0.15322694744405466,
          -0.588812261369928,
          0.1438485486177861,
          0.22345350285618593,
          1.618844652296915,
          -0.05694763283213327,
          -1.657071732664729,
          -1.593089336724505,
          1.6000584860302083,
          1.0176911484944948,
          0.8542171967685713,
          -0.36609839265452254,
          -1.0582049409198413,
          -0.846492613702825,
          0.2507321823050788,
          -0.6436062165242302,
          1.732747650462511,
          0.30497304527003627,
          0.15365002124718544,
          -0.3540020506432751,
          1.1840653305767703,
          0.7270262810067589,
          -0.70069897762385,
          0.9810580691855825,
          1.3220716359779021,
          0.5625799092419832,
          -0.6683024207977339,
          0.6257885818020589,
          0.2471605057719761,
          -1.696173446761564,
          2.1155751926898527,
          -1.9708059670950684,
          1.0332980131889038,
          -1.2362625542127095,
          1.219736920395166,
          0.48928410461053945,
          -0.6609876535119567,
          -0.6955142021113592,
          -0.17152903062152622,
          -0.091697205713416,
          2.315426686821721,
          -2.59702218027904,
          1.178504757026743,
          0.33792090009429093,
          -0.1225023934654358,
          1.0701341251338765,
          -0.18119663733909702,
          -0.8921873197729137,
          -0.5337266529391964,
          1.138979553626761,
          0.6456178705727974,
          -0.23483846497245486,
          0.33817744840281194,
          -0.5140821741093899,
          0.2549530496412349,
          -1.5543264799586611,
          1.2893130377985462,
          -0.10069376715778916,
          0.44153810947872046,
          -0.3404624778743094,
          -0.5791620878582109
         ]
        },
        {
         "boxpoints": false,
         "line": {
          "width": 1.3
         },
         "marker": {
          "color": "rgba(55, 128, 191, 1.0)"
         },
         "name": "B",
         "orientation": "v",
         "type": "box",
         "y": [
          1.233266812374226,
          -1.7402567803505051,
          -1.358566143928217,
          -0.8367770740645993,
          -0.7012906671338337,
          0.5214221088966884,
          1.130656755623005,
          0.10620727502497401,
          1.1554537851920814,
          1.1898942149915956,
          -0.4377379019747667,
          0.870028656547461,
          0.2943623135809353,
          0.39851414446194866,
          0.2601405761115901,
          -0.08101567419341556,
          0.6331632659062719,
          -1.847871549101868,
          -0.13007017306560822,
          0.6576454048691114,
          -0.06184842256785442,
          0.6632311939067133,
          -0.8418445387482837,
          -1.2234967212365655,
          1.1660837483569917,
          0.5702265236941769,
          -0.8828295708864294,
          0.08858544580338629,
          -0.6039464808497047,
          0.27751089732015743,
          0.23773467119761932,
          0.9596679917078207,
          0.22882892170015323,
          -0.6911618846720546,
          1.2842639386861472,
          -0.9183189472271543,
          -2.1774765259306714,
          -1.4203480211686401,
          0.7854717474930244,
          1.8236103725384551,
          -0.704217245892739,
          -1.2342903835901602,
          0.5577329754748598,
          -0.16423534301831957,
          0.14042363793765705,
          -0.6416607676468893,
          -0.9627993871563965,
          -1.703311023194733,
          -1.1487095825677889,
          1.5399614028160655,
          -1.1991151139196599,
          0.19692413989012664,
          0.9315558795977984,
          0.09856066084607118,
          -0.10198132436510375,
          0.30400937295614777,
          0.05809304987267057,
          0.20011656325223198,
          0.6029186395754181,
          -0.9274408040383253,
          2.0577425132832543,
          -1.134150319475954,
          -1.256673619624687,
          -0.9074753135094895,
          -0.5756203271751599,
          -0.9629392237994313,
          -0.623149564871256,
          0.8276883194379768,
          -0.8589945199948905,
          0.4677725330081428,
          -1.6985900658691038,
          -0.9867624637416783,
          -2.022454517111775,
          -0.21775079903675096,
          -0.007937706344356203,
          -1.681172747849504,
          0.8809516636506162,
          -0.42638268350880426,
          0.9721106503709406,
          0.8355688756171287,
          -1.2754244810465318,
          0.8699831007726233,
          -1.5563609714960738,
          0.5289152199852237,
          0.09644044356903302,
          -1.1262920622152162,
          -0.5987742670824937,
          -0.655433833253772,
          -0.7373569045659396,
          -0.6932204667046754,
          1.2619370773512206,
          0.8568160877701628,
          2.38634890000913,
          -0.03440815051190474,
          0.06548412771859694,
          0.6333793703650737,
          0.9828647473710335,
          -1.0273832581590594,
          -1.9356477936944356,
          0.5618265955894801
         ]
        },
        {
         "boxpoints": false,
         "line": {
          "width": 1.3
         },
         "marker": {
          "color": "rgba(50, 171, 96, 1.0)"
         },
         "name": "C",
         "orientation": "v",
         "type": "box",
         "y": [
          0.5994120076476884,
          0.6498616528538104,
          0.3046831204025749,
          1.5516488192755589,
          -0.42195227768795424,
          -0.8887110226837811,
          -0.1168810943603337,
          0.37347700310975696,
          0.69768800021002,
          -0.5150534240644967,
          -0.08104181239766277,
          -1.5484498712109056,
          -0.3128139467801025,
          0.49190919665998156,
          -0.15400114441109639,
          1.7533662363145293,
          1.6008697605982305,
          -2.116958944478306,
          -1.2692861704525555,
          1.282255074221262,
          0.27760559913880745,
          1.7667364014973577,
          0.030339245499863277,
          -0.7478889395724653,
          -0.8272909699781593,
          0.1986031561693901,
          2.0376889364014095,
          -0.6804189297325682,
          -0.08241752933412747,
          -0.005426176223586138,
          -0.9134477347776213,
          -1.304377594768939,
          -0.6073067432226447,
          -0.826090262604425,
          -1.5585221357767416,
          1.0847500678670792,
          1.5604810980798483,
          0.719385638718891,
          -0.6230810956190972,
          -1.0220406069915593,
          -1.562681254837399,
          -1.9975074687896952,
          -1.6696665504067478,
          -0.1555636507641116,
          -0.16956989893473873,
          -0.010618951527133423,
          -1.284757156915189,
          -0.6380766263624598,
          -2.694417324544465,
          2.717283223327881,
          0.07775128420471893,
          0.6385910124673914,
          -1.3211514499858508,
          0.4464447398870291,
          -0.6766976967945117,
          0.5868865918783076,
          1.0364127863613017,
          0.09411933660845229,
          -0.6722138892501521,
          -0.07616680185008597,
          -1.2462853094588557,
          0.9962281269898077,
          -1.5251730522803522,
          0.02197029865557785,
          0.555735627454961,
          -0.7361034723330865,
          2.1476263562067714,
          0.2315490532197758,
          -1.816232027158175,
          1.8004811308213995,
          -0.3312812860490179,
          0.9942165748030192,
          -1.7948028789610264,
          -1.3700635771510143,
          0.07340402749818636,
          1.4059088991663504,
          -1.187189274343056,
          1.1309993283793958,
          0.9538736789915857,
          -0.471766560474822,
          1.5440727060765869,
          -1.3106068995407942,
          0.7259993304059889,
          -1.3603085455241253,
          1.1631713866040434,
          -1.7911601320563981,
          -0.9041090231820336,
          -0.2467399581906401,
          -0.8912418842742846,
          -2.2524832223534235,
          -0.6516359443711669,
          1.3205289278553214,
          -0.9563588958502423,
          -1.6454911262776188,
          -0.8691633664797821,
          -1.778966112595113,
          0.30458041772760425,
          -0.5805746690160797,
          -0.6204966782535924,
          0.8183502384209421
         ]
        },
        {
         "boxpoints": false,
         "line": {
          "width": 1.3
         },
         "marker": {
          "color": "rgba(128, 0, 128, 1.0)"
         },
         "name": "D",
         "orientation": "v",
         "type": "box",
         "y": [
          -0.45414068899548193,
          -0.569503417934077,
          -0.3658602772802609,
          1.1715399878990258,
          -0.286171788997619,
          0.241692600929055,
          0.3019874027423667,
          0.37188345070492823,
          -0.5514778012248703,
          -1.2446486079715322,
          0.15427184622118562,
          1.2371574782615342,
          0.063728479745294,
          -0.0723578886847311,
          0.9369959094534575,
          0.5604696814520157,
          0.034488042427384534,
          -0.5624825690602822,
          1.0575675379354337,
          -0.7673134778794491,
          2.0191762847156607,
          -0.40445012875403574,
          0.4332379524925514,
          -0.9629989657141601,
          0.7045585891452165,
          -1.8919719825765557,
          1.5040770285857086,
          -1.212042225336976,
          0.46550783072473934,
          -1.1765271780384736,
          -0.9974300898255919,
          -0.7303791274666122,
          -0.8587603459659061,
          0.06526791136361426,
          -0.16617562795343316,
          0.5880514800287971,
          1.114951464082975,
          -0.7696264015375608,
          -1.8233509997595088,
          -0.42484850366188504,
          0.6285263471662252,
          1.494791644797778,
          1.5591100309071775,
          0.9821848105755602,
          -0.20583301572745863,
          -0.11242978795024335,
          1.5783462856318944,
          -0.39329612276873654,
          0.13469732859447955,
          0.3716446490272115,
          2.06817738409221,
          -0.25652937516721386,
          -1.0012480359161127,
          -0.8308034138366769,
          -0.1011714282598752,
          0.14231255227852044,
          -1.0162608270511453,
          -0.2905203262260313,
          0.8101756746137846,
          -0.2915314159489297,
          0.4633043789905505,
          -0.8664481508053743,
          2.281577150096869,
          -0.9426579485353858,
          0.39485348207220927,
          -0.3218590706127958,
          0.01621655902970112,
          -1.3478917702578823,
          -0.24908770959303236,
          -0.5111422159642806,
          -0.22408711378641663,
          -0.7237979604587003,
          -0.4730183990197249,
          1.0558066776857984,
          -0.22907711719980395,
          0.13911336083107806,
          0.6096534837428528,
          -1.0255651477700614,
          0.8185277279794085,
          -0.7152312787259772,
          -1.1460764094578726,
          0.7119503675021116,
          -0.7561380748773046,
          -0.3848216501674369,
          -0.8711919974788526,
          0.933565206715582,
          0.5512510356934629,
          -1.3313249196800399,
          0.4068426852450932,
          -1.3908325960616381,
          0.19602219233970367,
          -0.5640284781947329,
          -0.4790340171432119,
          0.25930470608923806,
          -1.5231859631711948,
          -0.6679068073570559,
          -1.3212171100260335,
          2.330252024285022,
          1.2450329426404732,
          0.32323517474758595
         ]
        }
       ],
       "layout": {
        "legend": {
         "bgcolor": "#F5F6F9",
         "font": {
          "color": "#4D5663"
         }
        },
        "paper_bgcolor": "#F5F6F9",
        "plot_bgcolor": "#F5F6F9",
        "template": {
         "data": {
          "bar": [
           {
            "error_x": {
             "color": "#2a3f5f"
            },
            "error_y": {
             "color": "#2a3f5f"
            },
            "marker": {
             "line": {
              "color": "#E5ECF6",
              "width": 0.5
             }
            },
            "type": "bar"
           }
          ],
          "barpolar": [
           {
            "marker": {
             "line": {
              "color": "#E5ECF6",
              "width": 0.5
             }
            },
            "type": "barpolar"
           }
          ],
          "carpet": [
           {
            "aaxis": {
             "endlinecolor": "#2a3f5f",
             "gridcolor": "white",
             "linecolor": "white",
             "minorgridcolor": "white",
             "startlinecolor": "#2a3f5f"
            },
            "baxis": {
             "endlinecolor": "#2a3f5f",
             "gridcolor": "white",
             "linecolor": "white",
             "minorgridcolor": "white",
             "startlinecolor": "#2a3f5f"
            },
            "type": "carpet"
           }
          ],
          "choropleth": [
           {
            "colorbar": {
             "outlinewidth": 0,
             "ticks": ""
            },
            "type": "choropleth"
           }
          ],
          "contour": [
           {
            "colorbar": {
             "outlinewidth": 0,
             "ticks": ""
            },
            "colorscale": [
             [
              0,
              "#0d0887"
             ],
             [
              0.1111111111111111,
              "#46039f"
             ],
             [
              0.2222222222222222,
              "#7201a8"
             ],
             [
              0.3333333333333333,
              "#9c179e"
             ],
             [
              0.4444444444444444,
              "#bd3786"
             ],
             [
              0.5555555555555556,
              "#d8576b"
             ],
             [
              0.6666666666666666,
              "#ed7953"
             ],
             [
              0.7777777777777778,
              "#fb9f3a"
             ],
             [
              0.8888888888888888,
              "#fdca26"
             ],
             [
              1,
              "#f0f921"
             ]
            ],
            "type": "contour"
           }
          ],
          "contourcarpet": [
           {
            "colorbar": {
             "outlinewidth": 0,
             "ticks": ""
            },
            "type": "contourcarpet"
           }
          ],
          "heatmap": [
           {
            "colorbar": {
             "outlinewidth": 0,
             "ticks": ""
            },
            "colorscale": [
             [
              0,
              "#0d0887"
             ],
             [
              0.1111111111111111,
              "#46039f"
             ],
             [
              0.2222222222222222,
              "#7201a8"
             ],
             [
              0.3333333333333333,
              "#9c179e"
             ],
             [
              0.4444444444444444,
              "#bd3786"
             ],
             [
              0.5555555555555556,
              "#d8576b"
             ],
             [
              0.6666666666666666,
              "#ed7953"
             ],
             [
              0.7777777777777778,
              "#fb9f3a"
             ],
             [
              0.8888888888888888,
              "#fdca26"
             ],
             [
              1,
              "#f0f921"
             ]
            ],
            "type": "heatmap"
           }
          ],
          "heatmapgl": [
           {
            "colorbar": {
             "outlinewidth": 0,
             "ticks": ""
            },
            "colorscale": [
             [
              0,
              "#0d0887"
             ],
             [
              0.1111111111111111,
              "#46039f"
             ],
             [
              0.2222222222222222,
              "#7201a8"
             ],
             [
              0.3333333333333333,
              "#9c179e"
             ],
             [
              0.4444444444444444,
              "#bd3786"
             ],
             [
              0.5555555555555556,
              "#d8576b"
             ],
             [
              0.6666666666666666,
              "#ed7953"
             ],
             [
              0.7777777777777778,
              "#fb9f3a"
             ],
             [
              0.8888888888888888,
              "#fdca26"
             ],
             [
              1,
              "#f0f921"
             ]
            ],
            "type": "heatmapgl"
           }
          ],
          "histogram": [
           {
            "marker": {
             "colorbar": {
              "outlinewidth": 0,
              "ticks": ""
             }
            },
            "type": "histogram"
           }
          ],
          "histogram2d": [
           {
            "colorbar": {
             "outlinewidth": 0,
             "ticks": ""
            },
            "colorscale": [
             [
              0,
              "#0d0887"
             ],
             [
              0.1111111111111111,
              "#46039f"
             ],
             [
              0.2222222222222222,
              "#7201a8"
             ],
             [
              0.3333333333333333,
              "#9c179e"
             ],
             [
              0.4444444444444444,
              "#bd3786"
             ],
             [
              0.5555555555555556,
              "#d8576b"
             ],
             [
              0.6666666666666666,
              "#ed7953"
             ],
             [
              0.7777777777777778,
              "#fb9f3a"
             ],
             [
              0.8888888888888888,
              "#fdca26"
             ],
             [
              1,
              "#f0f921"
             ]
            ],
            "type": "histogram2d"
           }
          ],
          "histogram2dcontour": [
           {
            "colorbar": {
             "outlinewidth": 0,
             "ticks": ""
            },
            "colorscale": [
             [
              0,
              "#0d0887"
             ],
             [
              0.1111111111111111,
              "#46039f"
             ],
             [
              0.2222222222222222,
              "#7201a8"
             ],
             [
              0.3333333333333333,
              "#9c179e"
             ],
             [
              0.4444444444444444,
              "#bd3786"
             ],
             [
              0.5555555555555556,
              "#d8576b"
             ],
             [
              0.6666666666666666,
              "#ed7953"
             ],
             [
              0.7777777777777778,
              "#fb9f3a"
             ],
             [
              0.8888888888888888,
              "#fdca26"
             ],
             [
              1,
              "#f0f921"
             ]
            ],
            "type": "histogram2dcontour"
           }
          ],
          "mesh3d": [
           {
            "colorbar": {
             "outlinewidth": 0,
             "ticks": ""
            },
            "type": "mesh3d"
           }
          ],
          "parcoords": [
           {
            "line": {
             "colorbar": {
              "outlinewidth": 0,
              "ticks": ""
             }
            },
            "type": "parcoords"
           }
          ],
          "pie": [
           {
            "automargin": true,
            "type": "pie"
           }
          ],
          "scatter": [
           {
            "marker": {
             "colorbar": {
              "outlinewidth": 0,
              "ticks": ""
             }
            },
            "type": "scatter"
           }
          ],
          "scatter3d": [
           {
            "line": {
             "colorbar": {
              "outlinewidth": 0,
              "ticks": ""
             }
            },
            "marker": {
             "colorbar": {
              "outlinewidth": 0,
              "ticks": ""
             }
            },
            "type": "scatter3d"
           }
          ],
          "scattercarpet": [
           {
            "marker": {
             "colorbar": {
              "outlinewidth": 0,
              "ticks": ""
             }
            },
            "type": "scattercarpet"
           }
          ],
          "scattergeo": [
           {
            "marker": {
             "colorbar": {
              "outlinewidth": 0,
              "ticks": ""
             }
            },
            "type": "scattergeo"
           }
          ],
          "scattergl": [
           {
            "marker": {
             "colorbar": {
              "outlinewidth": 0,
              "ticks": ""
             }
            },
            "type": "scattergl"
           }
          ],
          "scattermapbox": [
           {
            "marker": {
             "colorbar": {
              "outlinewidth": 0,
              "ticks": ""
             }
            },
            "type": "scattermapbox"
           }
          ],
          "scatterpolar": [
           {
            "marker": {
             "colorbar": {
              "outlinewidth": 0,
              "ticks": ""
             }
            },
            "type": "scatterpolar"
           }
          ],
          "scatterpolargl": [
           {
            "marker": {
             "colorbar": {
              "outlinewidth": 0,
              "ticks": ""
             }
            },
            "type": "scatterpolargl"
           }
          ],
          "scatterternary": [
           {
            "marker": {
             "colorbar": {
              "outlinewidth": 0,
              "ticks": ""
             }
            },
            "type": "scatterternary"
           }
          ],
          "surface": [
           {
            "colorbar": {
             "outlinewidth": 0,
             "ticks": ""
            },
            "colorscale": [
             [
              0,
              "#0d0887"
             ],
             [
              0.1111111111111111,
              "#46039f"
             ],
             [
              0.2222222222222222,
              "#7201a8"
             ],
             [
              0.3333333333333333,
              "#9c179e"
             ],
             [
              0.4444444444444444,
              "#bd3786"
             ],
             [
              0.5555555555555556,
              "#d8576b"
             ],
             [
              0.6666666666666666,
              "#ed7953"
             ],
             [
              0.7777777777777778,
              "#fb9f3a"
             ],
             [
              0.8888888888888888,
              "#fdca26"
             ],
             [
              1,
              "#f0f921"
             ]
            ],
            "type": "surface"
           }
          ],
          "table": [
           {
            "cells": {
             "fill": {
              "color": "#EBF0F8"
             },
             "line": {
              "color": "white"
             }
            },
            "header": {
             "fill": {
              "color": "#C8D4E3"
             },
             "line": {
              "color": "white"
             }
            },
            "type": "table"
           }
          ]
         },
         "layout": {
          "annotationdefaults": {
           "arrowcolor": "#2a3f5f",
           "arrowhead": 0,
           "arrowwidth": 1
          },
          "autotypenumbers": "strict",
          "coloraxis": {
           "colorbar": {
            "outlinewidth": 0,
            "ticks": ""
           }
          },
          "colorscale": {
           "diverging": [
            [
             0,
             "#8e0152"
            ],
            [
             0.1,
             "#c51b7d"
            ],
            [
             0.2,
             "#de77ae"
            ],
            [
             0.3,
             "#f1b6da"
            ],
            [
             0.4,
             "#fde0ef"
            ],
            [
             0.5,
             "#f7f7f7"
            ],
            [
             0.6,
             "#e6f5d0"
            ],
            [
             0.7,
             "#b8e186"
            ],
            [
             0.8,
             "#7fbc41"
            ],
            [
             0.9,
             "#4d9221"
            ],
            [
             1,
             "#276419"
            ]
           ],
           "sequential": [
            [
             0,
             "#0d0887"
            ],
            [
             0.1111111111111111,
             "#46039f"
            ],
            [
             0.2222222222222222,
             "#7201a8"
            ],
            [
             0.3333333333333333,
             "#9c179e"
            ],
            [
             0.4444444444444444,
             "#bd3786"
            ],
            [
             0.5555555555555556,
             "#d8576b"
            ],
            [
             0.6666666666666666,
             "#ed7953"
            ],
            [
             0.7777777777777778,
             "#fb9f3a"
            ],
            [
             0.8888888888888888,
             "#fdca26"
            ],
            [
             1,
             "#f0f921"
            ]
           ],
           "sequentialminus": [
            [
             0,
             "#0d0887"
            ],
            [
             0.1111111111111111,
             "#46039f"
            ],
            [
             0.2222222222222222,
             "#7201a8"
            ],
            [
             0.3333333333333333,
             "#9c179e"
            ],
            [
             0.4444444444444444,
             "#bd3786"
            ],
            [
             0.5555555555555556,
             "#d8576b"
            ],
            [
             0.6666666666666666,
             "#ed7953"
            ],
            [
             0.7777777777777778,
             "#fb9f3a"
            ],
            [
             0.8888888888888888,
             "#fdca26"
            ],
            [
             1,
             "#f0f921"
            ]
           ]
          },
          "colorway": [
           "#636efa",
           "#EF553B",
           "#00cc96",
           "#ab63fa",
           "#FFA15A",
           "#19d3f3",
           "#FF6692",
           "#B6E880",
           "#FF97FF",
           "#FECB52"
          ],
          "font": {
           "color": "#2a3f5f"
          },
          "geo": {
           "bgcolor": "white",
           "lakecolor": "white",
           "landcolor": "#E5ECF6",
           "showlakes": true,
           "showland": true,
           "subunitcolor": "white"
          },
          "hoverlabel": {
           "align": "left"
          },
          "hovermode": "closest",
          "mapbox": {
           "style": "light"
          },
          "paper_bgcolor": "white",
          "plot_bgcolor": "#E5ECF6",
          "polar": {
           "angularaxis": {
            "gridcolor": "white",
            "linecolor": "white",
            "ticks": ""
           },
           "bgcolor": "#E5ECF6",
           "radialaxis": {
            "gridcolor": "white",
            "linecolor": "white",
            "ticks": ""
           }
          },
          "scene": {
           "xaxis": {
            "backgroundcolor": "#E5ECF6",
            "gridcolor": "white",
            "gridwidth": 2,
            "linecolor": "white",
            "showbackground": true,
            "ticks": "",
            "zerolinecolor": "white"
           },
           "yaxis": {
            "backgroundcolor": "#E5ECF6",
            "gridcolor": "white",
            "gridwidth": 2,
            "linecolor": "white",
            "showbackground": true,
            "ticks": "",
            "zerolinecolor": "white"
           },
           "zaxis": {
            "backgroundcolor": "#E5ECF6",
            "gridcolor": "white",
            "gridwidth": 2,
            "linecolor": "white",
            "showbackground": true,
            "ticks": "",
            "zerolinecolor": "white"
           }
          },
          "shapedefaults": {
           "line": {
            "color": "#2a3f5f"
           }
          },
          "ternary": {
           "aaxis": {
            "gridcolor": "white",
            "linecolor": "white",
            "ticks": ""
           },
           "baxis": {
            "gridcolor": "white",
            "linecolor": "white",
            "ticks": ""
           },
           "bgcolor": "#E5ECF6",
           "caxis": {
            "gridcolor": "white",
            "linecolor": "white",
            "ticks": ""
           }
          },
          "title": {
           "x": 0.05
          },
          "xaxis": {
           "automargin": true,
           "gridcolor": "white",
           "linecolor": "white",
           "ticks": "",
           "title": {
            "standoff": 15
           },
           "zerolinecolor": "white",
           "zerolinewidth": 2
          },
          "yaxis": {
           "automargin": true,
           "gridcolor": "white",
           "linecolor": "white",
           "ticks": "",
           "title": {
            "standoff": 15
           },
           "zerolinecolor": "white",
           "zerolinewidth": 2
          }
         }
        },
        "title": {
         "font": {
          "color": "#4D5663"
         }
        },
        "xaxis": {
         "gridcolor": "#E1E5ED",
         "showgrid": true,
         "tickfont": {
          "color": "#4D5663"
         },
         "title": {
          "font": {
           "color": "#4D5663"
          },
          "text": ""
         },
         "zerolinecolor": "#E1E5ED"
        },
        "yaxis": {
         "gridcolor": "#E1E5ED",
         "showgrid": true,
         "tickfont": {
          "color": "#4D5663"
         },
         "title": {
          "font": {
           "color": "#4D5663"
          },
          "text": ""
         },
         "zerolinecolor": "#E1E5ED"
        }
       }
      },
      "text/html": [
       "<div>                            <div id=\"f12a16d7-4d43-4270-88de-9aadd7605daa\" class=\"plotly-graph-div\" style=\"height:525px; width:100%;\"></div>            <script type=\"text/javascript\">                require([\"plotly\"], function(Plotly) {                    window.PLOTLYENV=window.PLOTLYENV || {};\n",
       "                    window.PLOTLYENV.BASE_URL='https://plot.ly';                                    if (document.getElementById(\"f12a16d7-4d43-4270-88de-9aadd7605daa\")) {                    Plotly.newPlot(                        \"f12a16d7-4d43-4270-88de-9aadd7605daa\",                        [{\"boxpoints\": false, \"line\": {\"width\": 1.3}, \"marker\": {\"color\": \"rgba(255, 153, 51, 1.0)\"}, \"name\": \"A\", \"orientation\": \"v\", \"type\": \"box\", \"y\": [1.066033821726836, -0.20234052225325377, -0.7202032807069448, 0.5876969285770565, 0.5894082810927319, 1.0966408592248225, 0.9342602449467096, 0.45296834381798506, 0.11377689854572721, -0.015182384924197444, -1.0023195013509085, 1.0561253511156685, -3.4069802426307905, 1.1611381772450249, -0.9786531922381543, 0.44150829410781106, 0.6550320148323283, -0.18086514362098016, -1.449574844999948, -0.17652965182450162, 1.620252667693584, 0.34754355653960467, 1.806768138822351, -0.45768771410313575, 0.5368199083416141, -1.4123877529844118, 1.5335615896164654, 0.23143665121821524, 0.8796131857211662, -1.5237599640761714, 0.7761978467117557, -0.08109345148154067, -0.413836495422542, 0.020236012487686746, -0.04477050480869064, -0.49951388000907565, -0.4806284409081598, 0.584993947243313, -0.27779430391771787, -0.15322694744405466, -0.588812261369928, 0.1438485486177861, 0.22345350285618593, 1.618844652296915, -0.05694763283213327, -1.657071732664729, -1.593089336724505, 1.6000584860302083, 1.0176911484944948, 0.8542171967685713, -0.36609839265452254, -1.0582049409198413, -0.846492613702825, 0.2507321823050788, -0.6436062165242302, 1.732747650462511, 0.30497304527003627, 0.15365002124718544, -0.3540020506432751, 1.1840653305767703, 0.7270262810067589, -0.70069897762385, 0.9810580691855825, 1.3220716359779021, 0.5625799092419832, -0.6683024207977339, 0.6257885818020589, 0.2471605057719761, -1.696173446761564, 2.1155751926898527, -1.9708059670950684, 1.0332980131889038, -1.2362625542127095, 1.219736920395166, 0.48928410461053945, -0.6609876535119567, -0.6955142021113592, -0.17152903062152622, -0.091697205713416, 2.315426686821721, -2.59702218027904, 1.178504757026743, 0.33792090009429093, -0.1225023934654358, 1.0701341251338765, -0.18119663733909702, -0.8921873197729137, -0.5337266529391964, 1.138979553626761, 0.6456178705727974, -0.23483846497245486, 0.33817744840281194, -0.5140821741093899, 0.2549530496412349, -1.5543264799586611, 1.2893130377985462, -0.10069376715778916, 0.44153810947872046, -0.3404624778743094, -0.5791620878582109]}, {\"boxpoints\": false, \"line\": {\"width\": 1.3}, \"marker\": {\"color\": \"rgba(55, 128, 191, 1.0)\"}, \"name\": \"B\", \"orientation\": \"v\", \"type\": \"box\", \"y\": [1.233266812374226, -1.7402567803505051, -1.358566143928217, -0.8367770740645993, -0.7012906671338337, 0.5214221088966884, 1.130656755623005, 0.10620727502497401, 1.1554537851920814, 1.1898942149915956, -0.4377379019747667, 0.870028656547461, 0.2943623135809353, 0.39851414446194866, 0.2601405761115901, -0.08101567419341556, 0.6331632659062719, -1.847871549101868, -0.13007017306560822, 0.6576454048691114, -0.06184842256785442, 0.6632311939067133, -0.8418445387482837, -1.2234967212365655, 1.1660837483569917, 0.5702265236941769, -0.8828295708864294, 0.08858544580338629, -0.6039464808497047, 0.27751089732015743, 0.23773467119761932, 0.9596679917078207, 0.22882892170015323, -0.6911618846720546, 1.2842639386861472, -0.9183189472271543, -2.1774765259306714, -1.4203480211686401, 0.7854717474930244, 1.8236103725384551, -0.704217245892739, -1.2342903835901602, 0.5577329754748598, -0.16423534301831957, 0.14042363793765705, -0.6416607676468893, -0.9627993871563965, -1.703311023194733, -1.1487095825677889, 1.5399614028160655, -1.1991151139196599, 0.19692413989012664, 0.9315558795977984, 0.09856066084607118, -0.10198132436510375, 0.30400937295614777, 0.05809304987267057, 0.20011656325223198, 0.6029186395754181, -0.9274408040383253, 2.0577425132832543, -1.134150319475954, -1.256673619624687, -0.9074753135094895, -0.5756203271751599, -0.9629392237994313, -0.623149564871256, 0.8276883194379768, -0.8589945199948905, 0.4677725330081428, -1.6985900658691038, -0.9867624637416783, -2.022454517111775, -0.21775079903675096, -0.007937706344356203, -1.681172747849504, 0.8809516636506162, -0.42638268350880426, 0.9721106503709406, 0.8355688756171287, -1.2754244810465318, 0.8699831007726233, -1.5563609714960738, 0.5289152199852237, 0.09644044356903302, -1.1262920622152162, -0.5987742670824937, -0.655433833253772, -0.7373569045659396, -0.6932204667046754, 1.2619370773512206, 0.8568160877701628, 2.38634890000913, -0.03440815051190474, 0.06548412771859694, 0.6333793703650737, 0.9828647473710335, -1.0273832581590594, -1.9356477936944356, 0.5618265955894801]}, {\"boxpoints\": false, \"line\": {\"width\": 1.3}, \"marker\": {\"color\": \"rgba(50, 171, 96, 1.0)\"}, \"name\": \"C\", \"orientation\": \"v\", \"type\": \"box\", \"y\": [0.5994120076476884, 0.6498616528538104, 0.3046831204025749, 1.5516488192755589, -0.42195227768795424, -0.8887110226837811, -0.1168810943603337, 0.37347700310975696, 0.69768800021002, -0.5150534240644967, -0.08104181239766277, -1.5484498712109056, -0.3128139467801025, 0.49190919665998156, -0.15400114441109639, 1.7533662363145293, 1.6008697605982305, -2.116958944478306, -1.2692861704525555, 1.282255074221262, 0.27760559913880745, 1.7667364014973577, 0.030339245499863277, -0.7478889395724653, -0.8272909699781593, 0.1986031561693901, 2.0376889364014095, -0.6804189297325682, -0.08241752933412747, -0.005426176223586138, -0.9134477347776213, -1.304377594768939, -0.6073067432226447, -0.826090262604425, -1.5585221357767416, 1.0847500678670792, 1.5604810980798483, 0.719385638718891, -0.6230810956190972, -1.0220406069915593, -1.562681254837399, -1.9975074687896952, -1.6696665504067478, -0.1555636507641116, -0.16956989893473873, -0.010618951527133423, -1.284757156915189, -0.6380766263624598, -2.694417324544465, 2.717283223327881, 0.07775128420471893, 0.6385910124673914, -1.3211514499858508, 0.4464447398870291, -0.6766976967945117, 0.5868865918783076, 1.0364127863613017, 0.09411933660845229, -0.6722138892501521, -0.07616680185008597, -1.2462853094588557, 0.9962281269898077, -1.5251730522803522, 0.02197029865557785, 0.555735627454961, -0.7361034723330865, 2.1476263562067714, 0.2315490532197758, -1.816232027158175, 1.8004811308213995, -0.3312812860490179, 0.9942165748030192, -1.7948028789610264, -1.3700635771510143, 0.07340402749818636, 1.4059088991663504, -1.187189274343056, 1.1309993283793958, 0.9538736789915857, -0.471766560474822, 1.5440727060765869, -1.3106068995407942, 0.7259993304059889, -1.3603085455241253, 1.1631713866040434, -1.7911601320563981, -0.9041090231820336, -0.2467399581906401, -0.8912418842742846, -2.2524832223534235, -0.6516359443711669, 1.3205289278553214, -0.9563588958502423, -1.6454911262776188, -0.8691633664797821, -1.778966112595113, 0.30458041772760425, -0.5805746690160797, -0.6204966782535924, 0.8183502384209421]}, {\"boxpoints\": false, \"line\": {\"width\": 1.3}, \"marker\": {\"color\": \"rgba(128, 0, 128, 1.0)\"}, \"name\": \"D\", \"orientation\": \"v\", \"type\": \"box\", \"y\": [-0.45414068899548193, -0.569503417934077, -0.3658602772802609, 1.1715399878990258, -0.286171788997619, 0.241692600929055, 0.3019874027423667, 0.37188345070492823, -0.5514778012248703, -1.2446486079715322, 0.15427184622118562, 1.2371574782615342, 0.063728479745294, -0.0723578886847311, 0.9369959094534575, 0.5604696814520157, 0.034488042427384534, -0.5624825690602822, 1.0575675379354337, -0.7673134778794491, 2.0191762847156607, -0.40445012875403574, 0.4332379524925514, -0.9629989657141601, 0.7045585891452165, -1.8919719825765557, 1.5040770285857086, -1.212042225336976, 0.46550783072473934, -1.1765271780384736, -0.9974300898255919, -0.7303791274666122, -0.8587603459659061, 0.06526791136361426, -0.16617562795343316, 0.5880514800287971, 1.114951464082975, -0.7696264015375608, -1.8233509997595088, -0.42484850366188504, 0.6285263471662252, 1.494791644797778, 1.5591100309071775, 0.9821848105755602, -0.20583301572745863, -0.11242978795024335, 1.5783462856318944, -0.39329612276873654, 0.13469732859447955, 0.3716446490272115, 2.06817738409221, -0.25652937516721386, -1.0012480359161127, -0.8308034138366769, -0.1011714282598752, 0.14231255227852044, -1.0162608270511453, -0.2905203262260313, 0.8101756746137846, -0.2915314159489297, 0.4633043789905505, -0.8664481508053743, 2.281577150096869, -0.9426579485353858, 0.39485348207220927, -0.3218590706127958, 0.01621655902970112, -1.3478917702578823, -0.24908770959303236, -0.5111422159642806, -0.22408711378641663, -0.7237979604587003, -0.4730183990197249, 1.0558066776857984, -0.22907711719980395, 0.13911336083107806, 0.6096534837428528, -1.0255651477700614, 0.8185277279794085, -0.7152312787259772, -1.1460764094578726, 0.7119503675021116, -0.7561380748773046, -0.3848216501674369, -0.8711919974788526, 0.933565206715582, 0.5512510356934629, -1.3313249196800399, 0.4068426852450932, -1.3908325960616381, 0.19602219233970367, -0.5640284781947329, -0.4790340171432119, 0.25930470608923806, -1.5231859631711948, -0.6679068073570559, -1.3212171100260335, 2.330252024285022, 1.2450329426404732, 0.32323517474758595]}],                        {\"legend\": {\"bgcolor\": \"#F5F6F9\", \"font\": {\"color\": \"#4D5663\"}}, \"paper_bgcolor\": \"#F5F6F9\", \"plot_bgcolor\": \"#F5F6F9\", \"template\": {\"data\": {\"bar\": [{\"error_x\": {\"color\": \"#2a3f5f\"}, \"error_y\": {\"color\": \"#2a3f5f\"}, \"marker\": {\"line\": {\"color\": \"#E5ECF6\", \"width\": 0.5}}, \"type\": \"bar\"}], \"barpolar\": [{\"marker\": {\"line\": {\"color\": \"#E5ECF6\", \"width\": 0.5}}, \"type\": \"barpolar\"}], \"carpet\": [{\"aaxis\": {\"endlinecolor\": \"#2a3f5f\", \"gridcolor\": \"white\", \"linecolor\": \"white\", \"minorgridcolor\": \"white\", \"startlinecolor\": \"#2a3f5f\"}, \"baxis\": {\"endlinecolor\": \"#2a3f5f\", \"gridcolor\": \"white\", \"linecolor\": \"white\", \"minorgridcolor\": \"white\", \"startlinecolor\": \"#2a3f5f\"}, \"type\": \"carpet\"}], \"choropleth\": [{\"colorbar\": {\"outlinewidth\": 0, \"ticks\": \"\"}, \"type\": \"choropleth\"}], \"contour\": [{\"colorbar\": {\"outlinewidth\": 0, \"ticks\": \"\"}, \"colorscale\": [[0.0, \"#0d0887\"], [0.1111111111111111, \"#46039f\"], [0.2222222222222222, \"#7201a8\"], [0.3333333333333333, \"#9c179e\"], [0.4444444444444444, \"#bd3786\"], [0.5555555555555556, \"#d8576b\"], [0.6666666666666666, \"#ed7953\"], [0.7777777777777778, \"#fb9f3a\"], [0.8888888888888888, \"#fdca26\"], [1.0, \"#f0f921\"]], \"type\": \"contour\"}], \"contourcarpet\": [{\"colorbar\": {\"outlinewidth\": 0, \"ticks\": \"\"}, \"type\": \"contourcarpet\"}], \"heatmap\": [{\"colorbar\": {\"outlinewidth\": 0, \"ticks\": \"\"}, \"colorscale\": [[0.0, \"#0d0887\"], [0.1111111111111111, \"#46039f\"], [0.2222222222222222, \"#7201a8\"], [0.3333333333333333, \"#9c179e\"], [0.4444444444444444, \"#bd3786\"], [0.5555555555555556, \"#d8576b\"], [0.6666666666666666, \"#ed7953\"], [0.7777777777777778, \"#fb9f3a\"], [0.8888888888888888, \"#fdca26\"], [1.0, \"#f0f921\"]], \"type\": \"heatmap\"}], \"heatmapgl\": [{\"colorbar\": {\"outlinewidth\": 0, \"ticks\": \"\"}, \"colorscale\": [[0.0, \"#0d0887\"], [0.1111111111111111, \"#46039f\"], [0.2222222222222222, \"#7201a8\"], [0.3333333333333333, \"#9c179e\"], [0.4444444444444444, \"#bd3786\"], [0.5555555555555556, \"#d8576b\"], [0.6666666666666666, \"#ed7953\"], [0.7777777777777778, \"#fb9f3a\"], [0.8888888888888888, \"#fdca26\"], [1.0, \"#f0f921\"]], \"type\": \"heatmapgl\"}], \"histogram\": [{\"marker\": {\"colorbar\": {\"outlinewidth\": 0, \"ticks\": \"\"}}, \"type\": \"histogram\"}], \"histogram2d\": [{\"colorbar\": {\"outlinewidth\": 0, \"ticks\": \"\"}, \"colorscale\": [[0.0, \"#0d0887\"], [0.1111111111111111, \"#46039f\"], [0.2222222222222222, \"#7201a8\"], [0.3333333333333333, \"#9c179e\"], [0.4444444444444444, \"#bd3786\"], [0.5555555555555556, \"#d8576b\"], [0.6666666666666666, \"#ed7953\"], [0.7777777777777778, \"#fb9f3a\"], [0.8888888888888888, \"#fdca26\"], [1.0, \"#f0f921\"]], \"type\": \"histogram2d\"}], \"histogram2dcontour\": [{\"colorbar\": {\"outlinewidth\": 0, \"ticks\": \"\"}, \"colorscale\": [[0.0, \"#0d0887\"], [0.1111111111111111, \"#46039f\"], [0.2222222222222222, \"#7201a8\"], [0.3333333333333333, \"#9c179e\"], [0.4444444444444444, \"#bd3786\"], [0.5555555555555556, \"#d8576b\"], [0.6666666666666666, \"#ed7953\"], [0.7777777777777778, \"#fb9f3a\"], [0.8888888888888888, \"#fdca26\"], [1.0, \"#f0f921\"]], \"type\": \"histogram2dcontour\"}], \"mesh3d\": [{\"colorbar\": {\"outlinewidth\": 0, \"ticks\": \"\"}, \"type\": \"mesh3d\"}], \"parcoords\": [{\"line\": {\"colorbar\": {\"outlinewidth\": 0, \"ticks\": \"\"}}, \"type\": \"parcoords\"}], \"pie\": [{\"automargin\": true, \"type\": \"pie\"}], \"scatter\": [{\"marker\": {\"colorbar\": {\"outlinewidth\": 0, \"ticks\": \"\"}}, \"type\": \"scatter\"}], \"scatter3d\": [{\"line\": {\"colorbar\": {\"outlinewidth\": 0, \"ticks\": \"\"}}, \"marker\": {\"colorbar\": {\"outlinewidth\": 0, \"ticks\": \"\"}}, \"type\": \"scatter3d\"}], \"scattercarpet\": [{\"marker\": {\"colorbar\": {\"outlinewidth\": 0, \"ticks\": \"\"}}, \"type\": \"scattercarpet\"}], \"scattergeo\": [{\"marker\": {\"colorbar\": {\"outlinewidth\": 0, \"ticks\": \"\"}}, \"type\": \"scattergeo\"}], \"scattergl\": [{\"marker\": {\"colorbar\": {\"outlinewidth\": 0, \"ticks\": \"\"}}, \"type\": \"scattergl\"}], \"scattermapbox\": [{\"marker\": {\"colorbar\": {\"outlinewidth\": 0, \"ticks\": \"\"}}, \"type\": \"scattermapbox\"}], \"scatterpolar\": [{\"marker\": {\"colorbar\": {\"outlinewidth\": 0, \"ticks\": \"\"}}, \"type\": \"scatterpolar\"}], \"scatterpolargl\": [{\"marker\": {\"colorbar\": {\"outlinewidth\": 0, \"ticks\": \"\"}}, \"type\": \"scatterpolargl\"}], \"scatterternary\": [{\"marker\": {\"colorbar\": {\"outlinewidth\": 0, \"ticks\": \"\"}}, \"type\": \"scatterternary\"}], \"surface\": [{\"colorbar\": {\"outlinewidth\": 0, \"ticks\": \"\"}, \"colorscale\": [[0.0, \"#0d0887\"], [0.1111111111111111, \"#46039f\"], [0.2222222222222222, \"#7201a8\"], [0.3333333333333333, \"#9c179e\"], [0.4444444444444444, \"#bd3786\"], [0.5555555555555556, \"#d8576b\"], [0.6666666666666666, \"#ed7953\"], [0.7777777777777778, \"#fb9f3a\"], [0.8888888888888888, \"#fdca26\"], [1.0, \"#f0f921\"]], \"type\": \"surface\"}], \"table\": [{\"cells\": {\"fill\": {\"color\": \"#EBF0F8\"}, \"line\": {\"color\": \"white\"}}, \"header\": {\"fill\": {\"color\": \"#C8D4E3\"}, \"line\": {\"color\": \"white\"}}, \"type\": \"table\"}]}, \"layout\": {\"annotationdefaults\": {\"arrowcolor\": \"#2a3f5f\", \"arrowhead\": 0, \"arrowwidth\": 1}, \"autotypenumbers\": \"strict\", \"coloraxis\": {\"colorbar\": {\"outlinewidth\": 0, \"ticks\": \"\"}}, \"colorscale\": {\"diverging\": [[0, \"#8e0152\"], [0.1, \"#c51b7d\"], [0.2, \"#de77ae\"], [0.3, \"#f1b6da\"], [0.4, \"#fde0ef\"], [0.5, \"#f7f7f7\"], [0.6, \"#e6f5d0\"], [0.7, \"#b8e186\"], [0.8, \"#7fbc41\"], [0.9, \"#4d9221\"], [1, \"#276419\"]], \"sequential\": [[0.0, \"#0d0887\"], [0.1111111111111111, \"#46039f\"], [0.2222222222222222, \"#7201a8\"], [0.3333333333333333, \"#9c179e\"], [0.4444444444444444, \"#bd3786\"], [0.5555555555555556, \"#d8576b\"], [0.6666666666666666, \"#ed7953\"], [0.7777777777777778, \"#fb9f3a\"], [0.8888888888888888, \"#fdca26\"], [1.0, \"#f0f921\"]], \"sequentialminus\": [[0.0, \"#0d0887\"], [0.1111111111111111, \"#46039f\"], [0.2222222222222222, \"#7201a8\"], [0.3333333333333333, \"#9c179e\"], [0.4444444444444444, \"#bd3786\"], [0.5555555555555556, \"#d8576b\"], [0.6666666666666666, \"#ed7953\"], [0.7777777777777778, \"#fb9f3a\"], [0.8888888888888888, \"#fdca26\"], [1.0, \"#f0f921\"]]}, \"colorway\": [\"#636efa\", \"#EF553B\", \"#00cc96\", \"#ab63fa\", \"#FFA15A\", \"#19d3f3\", \"#FF6692\", \"#B6E880\", \"#FF97FF\", \"#FECB52\"], \"font\": {\"color\": \"#2a3f5f\"}, \"geo\": {\"bgcolor\": \"white\", \"lakecolor\": \"white\", \"landcolor\": \"#E5ECF6\", \"showlakes\": true, \"showland\": true, \"subunitcolor\": \"white\"}, \"hoverlabel\": {\"align\": \"left\"}, \"hovermode\": \"closest\", \"mapbox\": {\"style\": \"light\"}, \"paper_bgcolor\": \"white\", \"plot_bgcolor\": \"#E5ECF6\", \"polar\": {\"angularaxis\": {\"gridcolor\": \"white\", \"linecolor\": \"white\", \"ticks\": \"\"}, \"bgcolor\": \"#E5ECF6\", \"radialaxis\": {\"gridcolor\": \"white\", \"linecolor\": \"white\", \"ticks\": \"\"}}, \"scene\": {\"xaxis\": {\"backgroundcolor\": \"#E5ECF6\", \"gridcolor\": \"white\", \"gridwidth\": 2, \"linecolor\": \"white\", \"showbackground\": true, \"ticks\": \"\", \"zerolinecolor\": \"white\"}, \"yaxis\": {\"backgroundcolor\": \"#E5ECF6\", \"gridcolor\": \"white\", \"gridwidth\": 2, \"linecolor\": \"white\", \"showbackground\": true, \"ticks\": \"\", \"zerolinecolor\": \"white\"}, \"zaxis\": {\"backgroundcolor\": \"#E5ECF6\", \"gridcolor\": \"white\", \"gridwidth\": 2, \"linecolor\": \"white\", \"showbackground\": true, \"ticks\": \"\", \"zerolinecolor\": \"white\"}}, \"shapedefaults\": {\"line\": {\"color\": \"#2a3f5f\"}}, \"ternary\": {\"aaxis\": {\"gridcolor\": \"white\", \"linecolor\": \"white\", \"ticks\": \"\"}, \"baxis\": {\"gridcolor\": \"white\", \"linecolor\": \"white\", \"ticks\": \"\"}, \"bgcolor\": \"#E5ECF6\", \"caxis\": {\"gridcolor\": \"white\", \"linecolor\": \"white\", \"ticks\": \"\"}}, \"title\": {\"x\": 0.05}, \"xaxis\": {\"automargin\": true, \"gridcolor\": \"white\", \"linecolor\": \"white\", \"ticks\": \"\", \"title\": {\"standoff\": 15}, \"zerolinecolor\": \"white\", \"zerolinewidth\": 2}, \"yaxis\": {\"automargin\": true, \"gridcolor\": \"white\", \"linecolor\": \"white\", \"ticks\": \"\", \"title\": {\"standoff\": 15}, \"zerolinecolor\": \"white\", \"zerolinewidth\": 2}}}, \"title\": {\"font\": {\"color\": \"#4D5663\"}}, \"xaxis\": {\"gridcolor\": \"#E1E5ED\", \"showgrid\": true, \"tickfont\": {\"color\": \"#4D5663\"}, \"title\": {\"font\": {\"color\": \"#4D5663\"}, \"text\": \"\"}, \"zerolinecolor\": \"#E1E5ED\"}, \"yaxis\": {\"gridcolor\": \"#E1E5ED\", \"showgrid\": true, \"tickfont\": {\"color\": \"#4D5663\"}, \"title\": {\"font\": {\"color\": \"#4D5663\"}, \"text\": \"\"}, \"zerolinecolor\": \"#E1E5ED\"}},                        {\"showLink\": true, \"linkText\": \"Export to plot.ly\", \"plotlyServerURL\": \"https://plot.ly\", \"responsive\": true}                    ).then(function(){\n",
       "                            \n",
       "var gd = document.getElementById('f12a16d7-4d43-4270-88de-9aadd7605daa');\n",
       "var x = new MutationObserver(function (mutations, observer) {{\n",
       "        var display = window.getComputedStyle(gd).display;\n",
       "        if (!display || display === 'none') {{\n",
       "            console.log([gd, 'removed!']);\n",
       "            Plotly.purge(gd);\n",
       "            observer.disconnect();\n",
       "        }}\n",
       "}});\n",
       "\n",
       "// Listen for the removal of the full notebook cells\n",
       "var notebookContainer = gd.closest('#notebook-container');\n",
       "if (notebookContainer) {{\n",
       "    x.observe(notebookContainer, {childList: true});\n",
       "}}\n",
       "\n",
       "// Listen for the clearing of the current output cell\n",
       "var outputEl = gd.closest('.output');\n",
       "if (outputEl) {{\n",
       "    x.observe(outputEl, {childList: true});\n",
       "}}\n",
       "\n",
       "                        })                };                });            </script>        </div>"
      ]
     },
     "metadata": {},
     "output_type": "display_data"
    }
   ],
   "source": [
    "df.iplot(kind='box')"
   ]
  },
  {
   "cell_type": "markdown",
   "metadata": {},
   "source": [
    "## 3d Surface"
   ]
  },
  {
   "cell_type": "code",
   "execution_count": 34,
   "metadata": {},
   "outputs": [
    {
     "data": {
      "text/html": [
       "<div>\n",
       "<style scoped>\n",
       "    .dataframe tbody tr th:only-of-type {\n",
       "        vertical-align: middle;\n",
       "    }\n",
       "\n",
       "    .dataframe tbody tr th {\n",
       "        vertical-align: top;\n",
       "    }\n",
       "\n",
       "    .dataframe thead th {\n",
       "        text-align: right;\n",
       "    }\n",
       "</style>\n",
       "<table border=\"1\" class=\"dataframe\">\n",
       "  <thead>\n",
       "    <tr style=\"text-align: right;\">\n",
       "      <th></th>\n",
       "      <th>x</th>\n",
       "      <th>y</th>\n",
       "      <th>z</th>\n",
       "    </tr>\n",
       "  </thead>\n",
       "  <tbody>\n",
       "    <tr>\n",
       "      <th>0</th>\n",
       "      <td>1</td>\n",
       "      <td>10</td>\n",
       "      <td>5</td>\n",
       "    </tr>\n",
       "    <tr>\n",
       "      <th>1</th>\n",
       "      <td>2</td>\n",
       "      <td>2</td>\n",
       "      <td>4</td>\n",
       "    </tr>\n",
       "    <tr>\n",
       "      <th>2</th>\n",
       "      <td>3</td>\n",
       "      <td>30</td>\n",
       "      <td>3</td>\n",
       "    </tr>\n",
       "    <tr>\n",
       "      <th>3</th>\n",
       "      <td>4</td>\n",
       "      <td>20</td>\n",
       "      <td>2</td>\n",
       "    </tr>\n",
       "    <tr>\n",
       "      <th>4</th>\n",
       "      <td>5</td>\n",
       "      <td>10</td>\n",
       "      <td>1</td>\n",
       "    </tr>\n",
       "  </tbody>\n",
       "</table>\n",
       "</div>"
      ],
      "text/plain": [
       "   x   y  z\n",
       "0  1  10  5\n",
       "1  2   2  4\n",
       "2  3  30  3\n",
       "3  4  20  2\n",
       "4  5  10  1"
      ]
     },
     "execution_count": 34,
     "metadata": {},
     "output_type": "execute_result"
    }
   ],
   "source": [
    "df3 = pd.DataFrame({'x':[1,2,3,4,5],'y':[10,2,30,20,10],'z':[5,4,3,2,1]})\n",
    "df3"
   ]
  },
  {
   "cell_type": "code",
   "execution_count": 35,
   "metadata": {},
   "outputs": [
    {
     "data": {
      "application/vnd.plotly.v1+json": {
       "config": {
        "linkText": "Export to plot.ly",
        "plotlyServerURL": "https://plot.ly",
        "showLink": true
       },
       "data": [
        {
         "colorscale": [
          [
           0,
           "rgb(165,0,38)"
          ],
          [
           0.1,
           "rgb(215,48,39)"
          ],
          [
           0.2,
           "rgb(244,109,67)"
          ],
          [
           0.3,
           "rgb(253,174,97)"
          ],
          [
           0.4,
           "rgb(254,224,144)"
          ],
          [
           0.5,
           "rgb(255,255,191)"
          ],
          [
           0.6,
           "rgb(224,243,248)"
          ],
          [
           0.7,
           "rgb(171,217,233)"
          ],
          [
           0.8,
           "rgb(116,173,209)"
          ],
          [
           0.9,
           "rgb(69,117,180)"
          ],
          [
           1,
           "rgb(49,54,149)"
          ]
         ],
         "type": "surface",
         "x": [
          0,
          1,
          2,
          3,
          4
         ],
         "y": [
          "x",
          "y",
          "z"
         ],
         "z": [
          [
           1,
           2,
           3,
           4,
           5
          ],
          [
           10,
           2,
           30,
           20,
           10
          ],
          [
           5,
           4,
           3,
           2,
           1
          ]
         ]
        }
       ],
       "layout": {
        "legend": {
         "bgcolor": "#F5F6F9",
         "font": {
          "color": "#4D5663"
         }
        },
        "paper_bgcolor": "#F5F6F9",
        "plot_bgcolor": "#F5F6F9",
        "template": {
         "data": {
          "bar": [
           {
            "error_x": {
             "color": "#2a3f5f"
            },
            "error_y": {
             "color": "#2a3f5f"
            },
            "marker": {
             "line": {
              "color": "#E5ECF6",
              "width": 0.5
             }
            },
            "type": "bar"
           }
          ],
          "barpolar": [
           {
            "marker": {
             "line": {
              "color": "#E5ECF6",
              "width": 0.5
             }
            },
            "type": "barpolar"
           }
          ],
          "carpet": [
           {
            "aaxis": {
             "endlinecolor": "#2a3f5f",
             "gridcolor": "white",
             "linecolor": "white",
             "minorgridcolor": "white",
             "startlinecolor": "#2a3f5f"
            },
            "baxis": {
             "endlinecolor": "#2a3f5f",
             "gridcolor": "white",
             "linecolor": "white",
             "minorgridcolor": "white",
             "startlinecolor": "#2a3f5f"
            },
            "type": "carpet"
           }
          ],
          "choropleth": [
           {
            "colorbar": {
             "outlinewidth": 0,
             "ticks": ""
            },
            "type": "choropleth"
           }
          ],
          "contour": [
           {
            "colorbar": {
             "outlinewidth": 0,
             "ticks": ""
            },
            "colorscale": [
             [
              0,
              "#0d0887"
             ],
             [
              0.1111111111111111,
              "#46039f"
             ],
             [
              0.2222222222222222,
              "#7201a8"
             ],
             [
              0.3333333333333333,
              "#9c179e"
             ],
             [
              0.4444444444444444,
              "#bd3786"
             ],
             [
              0.5555555555555556,
              "#d8576b"
             ],
             [
              0.6666666666666666,
              "#ed7953"
             ],
             [
              0.7777777777777778,
              "#fb9f3a"
             ],
             [
              0.8888888888888888,
              "#fdca26"
             ],
             [
              1,
              "#f0f921"
             ]
            ],
            "type": "contour"
           }
          ],
          "contourcarpet": [
           {
            "colorbar": {
             "outlinewidth": 0,
             "ticks": ""
            },
            "type": "contourcarpet"
           }
          ],
          "heatmap": [
           {
            "colorbar": {
             "outlinewidth": 0,
             "ticks": ""
            },
            "colorscale": [
             [
              0,
              "#0d0887"
             ],
             [
              0.1111111111111111,
              "#46039f"
             ],
             [
              0.2222222222222222,
              "#7201a8"
             ],
             [
              0.3333333333333333,
              "#9c179e"
             ],
             [
              0.4444444444444444,
              "#bd3786"
             ],
             [
              0.5555555555555556,
              "#d8576b"
             ],
             [
              0.6666666666666666,
              "#ed7953"
             ],
             [
              0.7777777777777778,
              "#fb9f3a"
             ],
             [
              0.8888888888888888,
              "#fdca26"
             ],
             [
              1,
              "#f0f921"
             ]
            ],
            "type": "heatmap"
           }
          ],
          "heatmapgl": [
           {
            "colorbar": {
             "outlinewidth": 0,
             "ticks": ""
            },
            "colorscale": [
             [
              0,
              "#0d0887"
             ],
             [
              0.1111111111111111,
              "#46039f"
             ],
             [
              0.2222222222222222,
              "#7201a8"
             ],
             [
              0.3333333333333333,
              "#9c179e"
             ],
             [
              0.4444444444444444,
              "#bd3786"
             ],
             [
              0.5555555555555556,
              "#d8576b"
             ],
             [
              0.6666666666666666,
              "#ed7953"
             ],
             [
              0.7777777777777778,
              "#fb9f3a"
             ],
             [
              0.8888888888888888,
              "#fdca26"
             ],
             [
              1,
              "#f0f921"
             ]
            ],
            "type": "heatmapgl"
           }
          ],
          "histogram": [
           {
            "marker": {
             "colorbar": {
              "outlinewidth": 0,
              "ticks": ""
             }
            },
            "type": "histogram"
           }
          ],
          "histogram2d": [
           {
            "colorbar": {
             "outlinewidth": 0,
             "ticks": ""
            },
            "colorscale": [
             [
              0,
              "#0d0887"
             ],
             [
              0.1111111111111111,
              "#46039f"
             ],
             [
              0.2222222222222222,
              "#7201a8"
             ],
             [
              0.3333333333333333,
              "#9c179e"
             ],
             [
              0.4444444444444444,
              "#bd3786"
             ],
             [
              0.5555555555555556,
              "#d8576b"
             ],
             [
              0.6666666666666666,
              "#ed7953"
             ],
             [
              0.7777777777777778,
              "#fb9f3a"
             ],
             [
              0.8888888888888888,
              "#fdca26"
             ],
             [
              1,
              "#f0f921"
             ]
            ],
            "type": "histogram2d"
           }
          ],
          "histogram2dcontour": [
           {
            "colorbar": {
             "outlinewidth": 0,
             "ticks": ""
            },
            "colorscale": [
             [
              0,
              "#0d0887"
             ],
             [
              0.1111111111111111,
              "#46039f"
             ],
             [
              0.2222222222222222,
              "#7201a8"
             ],
             [
              0.3333333333333333,
              "#9c179e"
             ],
             [
              0.4444444444444444,
              "#bd3786"
             ],
             [
              0.5555555555555556,
              "#d8576b"
             ],
             [
              0.6666666666666666,
              "#ed7953"
             ],
             [
              0.7777777777777778,
              "#fb9f3a"
             ],
             [
              0.8888888888888888,
              "#fdca26"
             ],
             [
              1,
              "#f0f921"
             ]
            ],
            "type": "histogram2dcontour"
           }
          ],
          "mesh3d": [
           {
            "colorbar": {
             "outlinewidth": 0,
             "ticks": ""
            },
            "type": "mesh3d"
           }
          ],
          "parcoords": [
           {
            "line": {
             "colorbar": {
              "outlinewidth": 0,
              "ticks": ""
             }
            },
            "type": "parcoords"
           }
          ],
          "pie": [
           {
            "automargin": true,
            "type": "pie"
           }
          ],
          "scatter": [
           {
            "marker": {
             "colorbar": {
              "outlinewidth": 0,
              "ticks": ""
             }
            },
            "type": "scatter"
           }
          ],
          "scatter3d": [
           {
            "line": {
             "colorbar": {
              "outlinewidth": 0,
              "ticks": ""
             }
            },
            "marker": {
             "colorbar": {
              "outlinewidth": 0,
              "ticks": ""
             }
            },
            "type": "scatter3d"
           }
          ],
          "scattercarpet": [
           {
            "marker": {
             "colorbar": {
              "outlinewidth": 0,
              "ticks": ""
             }
            },
            "type": "scattercarpet"
           }
          ],
          "scattergeo": [
           {
            "marker": {
             "colorbar": {
              "outlinewidth": 0,
              "ticks": ""
             }
            },
            "type": "scattergeo"
           }
          ],
          "scattergl": [
           {
            "marker": {
             "colorbar": {
              "outlinewidth": 0,
              "ticks": ""
             }
            },
            "type": "scattergl"
           }
          ],
          "scattermapbox": [
           {
            "marker": {
             "colorbar": {
              "outlinewidth": 0,
              "ticks": ""
             }
            },
            "type": "scattermapbox"
           }
          ],
          "scatterpolar": [
           {
            "marker": {
             "colorbar": {
              "outlinewidth": 0,
              "ticks": ""
             }
            },
            "type": "scatterpolar"
           }
          ],
          "scatterpolargl": [
           {
            "marker": {
             "colorbar": {
              "outlinewidth": 0,
              "ticks": ""
             }
            },
            "type": "scatterpolargl"
           }
          ],
          "scatterternary": [
           {
            "marker": {
             "colorbar": {
              "outlinewidth": 0,
              "ticks": ""
             }
            },
            "type": "scatterternary"
           }
          ],
          "surface": [
           {
            "colorbar": {
             "outlinewidth": 0,
             "ticks": ""
            },
            "colorscale": [
             [
              0,
              "#0d0887"
             ],
             [
              0.1111111111111111,
              "#46039f"
             ],
             [
              0.2222222222222222,
              "#7201a8"
             ],
             [
              0.3333333333333333,
              "#9c179e"
             ],
             [
              0.4444444444444444,
              "#bd3786"
             ],
             [
              0.5555555555555556,
              "#d8576b"
             ],
             [
              0.6666666666666666,
              "#ed7953"
             ],
             [
              0.7777777777777778,
              "#fb9f3a"
             ],
             [
              0.8888888888888888,
              "#fdca26"
             ],
             [
              1,
              "#f0f921"
             ]
            ],
            "type": "surface"
           }
          ],
          "table": [
           {
            "cells": {
             "fill": {
              "color": "#EBF0F8"
             },
             "line": {
              "color": "white"
             }
            },
            "header": {
             "fill": {
              "color": "#C8D4E3"
             },
             "line": {
              "color": "white"
             }
            },
            "type": "table"
           }
          ]
         },
         "layout": {
          "annotationdefaults": {
           "arrowcolor": "#2a3f5f",
           "arrowhead": 0,
           "arrowwidth": 1
          },
          "autotypenumbers": "strict",
          "coloraxis": {
           "colorbar": {
            "outlinewidth": 0,
            "ticks": ""
           }
          },
          "colorscale": {
           "diverging": [
            [
             0,
             "#8e0152"
            ],
            [
             0.1,
             "#c51b7d"
            ],
            [
             0.2,
             "#de77ae"
            ],
            [
             0.3,
             "#f1b6da"
            ],
            [
             0.4,
             "#fde0ef"
            ],
            [
             0.5,
             "#f7f7f7"
            ],
            [
             0.6,
             "#e6f5d0"
            ],
            [
             0.7,
             "#b8e186"
            ],
            [
             0.8,
             "#7fbc41"
            ],
            [
             0.9,
             "#4d9221"
            ],
            [
             1,
             "#276419"
            ]
           ],
           "sequential": [
            [
             0,
             "#0d0887"
            ],
            [
             0.1111111111111111,
             "#46039f"
            ],
            [
             0.2222222222222222,
             "#7201a8"
            ],
            [
             0.3333333333333333,
             "#9c179e"
            ],
            [
             0.4444444444444444,
             "#bd3786"
            ],
            [
             0.5555555555555556,
             "#d8576b"
            ],
            [
             0.6666666666666666,
             "#ed7953"
            ],
            [
             0.7777777777777778,
             "#fb9f3a"
            ],
            [
             0.8888888888888888,
             "#fdca26"
            ],
            [
             1,
             "#f0f921"
            ]
           ],
           "sequentialminus": [
            [
             0,
             "#0d0887"
            ],
            [
             0.1111111111111111,
             "#46039f"
            ],
            [
             0.2222222222222222,
             "#7201a8"
            ],
            [
             0.3333333333333333,
             "#9c179e"
            ],
            [
             0.4444444444444444,
             "#bd3786"
            ],
            [
             0.5555555555555556,
             "#d8576b"
            ],
            [
             0.6666666666666666,
             "#ed7953"
            ],
            [
             0.7777777777777778,
             "#fb9f3a"
            ],
            [
             0.8888888888888888,
             "#fdca26"
            ],
            [
             1,
             "#f0f921"
            ]
           ]
          },
          "colorway": [
           "#636efa",
           "#EF553B",
           "#00cc96",
           "#ab63fa",
           "#FFA15A",
           "#19d3f3",
           "#FF6692",
           "#B6E880",
           "#FF97FF",
           "#FECB52"
          ],
          "font": {
           "color": "#2a3f5f"
          },
          "geo": {
           "bgcolor": "white",
           "lakecolor": "white",
           "landcolor": "#E5ECF6",
           "showlakes": true,
           "showland": true,
           "subunitcolor": "white"
          },
          "hoverlabel": {
           "align": "left"
          },
          "hovermode": "closest",
          "mapbox": {
           "style": "light"
          },
          "paper_bgcolor": "white",
          "plot_bgcolor": "#E5ECF6",
          "polar": {
           "angularaxis": {
            "gridcolor": "white",
            "linecolor": "white",
            "ticks": ""
           },
           "bgcolor": "#E5ECF6",
           "radialaxis": {
            "gridcolor": "white",
            "linecolor": "white",
            "ticks": ""
           }
          },
          "scene": {
           "xaxis": {
            "backgroundcolor": "#E5ECF6",
            "gridcolor": "white",
            "gridwidth": 2,
            "linecolor": "white",
            "showbackground": true,
            "ticks": "",
            "zerolinecolor": "white"
           },
           "yaxis": {
            "backgroundcolor": "#E5ECF6",
            "gridcolor": "white",
            "gridwidth": 2,
            "linecolor": "white",
            "showbackground": true,
            "ticks": "",
            "zerolinecolor": "white"
           },
           "zaxis": {
            "backgroundcolor": "#E5ECF6",
            "gridcolor": "white",
            "gridwidth": 2,
            "linecolor": "white",
            "showbackground": true,
            "ticks": "",
            "zerolinecolor": "white"
           }
          },
          "shapedefaults": {
           "line": {
            "color": "#2a3f5f"
           }
          },
          "ternary": {
           "aaxis": {
            "gridcolor": "white",
            "linecolor": "white",
            "ticks": ""
           },
           "baxis": {
            "gridcolor": "white",
            "linecolor": "white",
            "ticks": ""
           },
           "bgcolor": "#E5ECF6",
           "caxis": {
            "gridcolor": "white",
            "linecolor": "white",
            "ticks": ""
           }
          },
          "title": {
           "x": 0.05
          },
          "xaxis": {
           "automargin": true,
           "gridcolor": "white",
           "linecolor": "white",
           "ticks": "",
           "title": {
            "standoff": 15
           },
           "zerolinecolor": "white",
           "zerolinewidth": 2
          },
          "yaxis": {
           "automargin": true,
           "gridcolor": "white",
           "linecolor": "white",
           "ticks": "",
           "title": {
            "standoff": 15
           },
           "zerolinecolor": "white",
           "zerolinewidth": 2
          }
         }
        },
        "title": {
         "font": {
          "color": "#4D5663"
         }
        },
        "xaxis": {
         "gridcolor": "#E1E5ED",
         "showgrid": true,
         "tickfont": {
          "color": "#4D5663"
         },
         "title": {
          "font": {
           "color": "#4D5663"
          },
          "text": ""
         },
         "zerolinecolor": "#E1E5ED"
        },
        "yaxis": {
         "gridcolor": "#E1E5ED",
         "showgrid": true,
         "tickfont": {
          "color": "#4D5663"
         },
         "title": {
          "font": {
           "color": "#4D5663"
          },
          "text": ""
         },
         "zerolinecolor": "#E1E5ED"
        }
       }
      },
      "text/html": [
       "<div>                            <div id=\"a3173515-6751-4689-adbd-0be52cbfef08\" class=\"plotly-graph-div\" style=\"height:525px; width:100%;\"></div>            <script type=\"text/javascript\">                require([\"plotly\"], function(Plotly) {                    window.PLOTLYENV=window.PLOTLYENV || {};\n",
       "                    window.PLOTLYENV.BASE_URL='https://plot.ly';                                    if (document.getElementById(\"a3173515-6751-4689-adbd-0be52cbfef08\")) {                    Plotly.newPlot(                        \"a3173515-6751-4689-adbd-0be52cbfef08\",                        [{\"colorscale\": [[0.0, \"rgb(165,0,38)\"], [0.1, \"rgb(215,48,39)\"], [0.2, \"rgb(244,109,67)\"], [0.3, \"rgb(253,174,97)\"], [0.4, \"rgb(254,224,144)\"], [0.5, \"rgb(255,255,191)\"], [0.6, \"rgb(224,243,248)\"], [0.7, \"rgb(171,217,233)\"], [0.8, \"rgb(116,173,209)\"], [0.9, \"rgb(69,117,180)\"], [1.0, \"rgb(49,54,149)\"]], \"type\": \"surface\", \"x\": [0, 1, 2, 3, 4], \"y\": [\"x\", \"y\", \"z\"], \"z\": [[1, 2, 3, 4, 5], [10, 2, 30, 20, 10], [5, 4, 3, 2, 1]]}],                        {\"legend\": {\"bgcolor\": \"#F5F6F9\", \"font\": {\"color\": \"#4D5663\"}}, \"paper_bgcolor\": \"#F5F6F9\", \"plot_bgcolor\": \"#F5F6F9\", \"template\": {\"data\": {\"bar\": [{\"error_x\": {\"color\": \"#2a3f5f\"}, \"error_y\": {\"color\": \"#2a3f5f\"}, \"marker\": {\"line\": {\"color\": \"#E5ECF6\", \"width\": 0.5}}, \"type\": \"bar\"}], \"barpolar\": [{\"marker\": {\"line\": {\"color\": \"#E5ECF6\", \"width\": 0.5}}, \"type\": \"barpolar\"}], \"carpet\": [{\"aaxis\": {\"endlinecolor\": \"#2a3f5f\", \"gridcolor\": \"white\", \"linecolor\": \"white\", \"minorgridcolor\": \"white\", \"startlinecolor\": \"#2a3f5f\"}, \"baxis\": {\"endlinecolor\": \"#2a3f5f\", \"gridcolor\": \"white\", \"linecolor\": \"white\", \"minorgridcolor\": \"white\", \"startlinecolor\": \"#2a3f5f\"}, \"type\": \"carpet\"}], \"choropleth\": [{\"colorbar\": {\"outlinewidth\": 0, \"ticks\": \"\"}, \"type\": \"choropleth\"}], \"contour\": [{\"colorbar\": {\"outlinewidth\": 0, \"ticks\": \"\"}, \"colorscale\": [[0.0, \"#0d0887\"], [0.1111111111111111, \"#46039f\"], [0.2222222222222222, \"#7201a8\"], [0.3333333333333333, \"#9c179e\"], [0.4444444444444444, \"#bd3786\"], [0.5555555555555556, \"#d8576b\"], [0.6666666666666666, \"#ed7953\"], [0.7777777777777778, \"#fb9f3a\"], [0.8888888888888888, \"#fdca26\"], [1.0, \"#f0f921\"]], \"type\": \"contour\"}], \"contourcarpet\": [{\"colorbar\": {\"outlinewidth\": 0, \"ticks\": \"\"}, \"type\": \"contourcarpet\"}], \"heatmap\": [{\"colorbar\": {\"outlinewidth\": 0, \"ticks\": \"\"}, \"colorscale\": [[0.0, \"#0d0887\"], [0.1111111111111111, \"#46039f\"], [0.2222222222222222, \"#7201a8\"], [0.3333333333333333, \"#9c179e\"], [0.4444444444444444, \"#bd3786\"], [0.5555555555555556, \"#d8576b\"], [0.6666666666666666, \"#ed7953\"], [0.7777777777777778, \"#fb9f3a\"], [0.8888888888888888, \"#fdca26\"], [1.0, \"#f0f921\"]], \"type\": \"heatmap\"}], \"heatmapgl\": [{\"colorbar\": {\"outlinewidth\": 0, \"ticks\": \"\"}, \"colorscale\": [[0.0, \"#0d0887\"], [0.1111111111111111, \"#46039f\"], [0.2222222222222222, \"#7201a8\"], [0.3333333333333333, \"#9c179e\"], [0.4444444444444444, \"#bd3786\"], [0.5555555555555556, \"#d8576b\"], [0.6666666666666666, \"#ed7953\"], [0.7777777777777778, \"#fb9f3a\"], [0.8888888888888888, \"#fdca26\"], [1.0, \"#f0f921\"]], \"type\": \"heatmapgl\"}], \"histogram\": [{\"marker\": {\"colorbar\": {\"outlinewidth\": 0, \"ticks\": \"\"}}, \"type\": \"histogram\"}], \"histogram2d\": [{\"colorbar\": {\"outlinewidth\": 0, \"ticks\": \"\"}, \"colorscale\": [[0.0, \"#0d0887\"], [0.1111111111111111, \"#46039f\"], [0.2222222222222222, \"#7201a8\"], [0.3333333333333333, \"#9c179e\"], [0.4444444444444444, \"#bd3786\"], [0.5555555555555556, \"#d8576b\"], [0.6666666666666666, \"#ed7953\"], [0.7777777777777778, \"#fb9f3a\"], [0.8888888888888888, \"#fdca26\"], [1.0, \"#f0f921\"]], \"type\": \"histogram2d\"}], \"histogram2dcontour\": [{\"colorbar\": {\"outlinewidth\": 0, \"ticks\": \"\"}, \"colorscale\": [[0.0, \"#0d0887\"], [0.1111111111111111, \"#46039f\"], [0.2222222222222222, \"#7201a8\"], [0.3333333333333333, \"#9c179e\"], [0.4444444444444444, \"#bd3786\"], [0.5555555555555556, \"#d8576b\"], [0.6666666666666666, \"#ed7953\"], [0.7777777777777778, \"#fb9f3a\"], [0.8888888888888888, \"#fdca26\"], [1.0, \"#f0f921\"]], \"type\": \"histogram2dcontour\"}], \"mesh3d\": [{\"colorbar\": {\"outlinewidth\": 0, \"ticks\": \"\"}, \"type\": \"mesh3d\"}], \"parcoords\": [{\"line\": {\"colorbar\": {\"outlinewidth\": 0, \"ticks\": \"\"}}, \"type\": \"parcoords\"}], \"pie\": [{\"automargin\": true, \"type\": \"pie\"}], \"scatter\": [{\"marker\": {\"colorbar\": {\"outlinewidth\": 0, \"ticks\": \"\"}}, \"type\": \"scatter\"}], \"scatter3d\": [{\"line\": {\"colorbar\": {\"outlinewidth\": 0, \"ticks\": \"\"}}, \"marker\": {\"colorbar\": {\"outlinewidth\": 0, \"ticks\": \"\"}}, \"type\": \"scatter3d\"}], \"scattercarpet\": [{\"marker\": {\"colorbar\": {\"outlinewidth\": 0, \"ticks\": \"\"}}, \"type\": \"scattercarpet\"}], \"scattergeo\": [{\"marker\": {\"colorbar\": {\"outlinewidth\": 0, \"ticks\": \"\"}}, \"type\": \"scattergeo\"}], \"scattergl\": [{\"marker\": {\"colorbar\": {\"outlinewidth\": 0, \"ticks\": \"\"}}, \"type\": \"scattergl\"}], \"scattermapbox\": [{\"marker\": {\"colorbar\": {\"outlinewidth\": 0, \"ticks\": \"\"}}, \"type\": \"scattermapbox\"}], \"scatterpolar\": [{\"marker\": {\"colorbar\": {\"outlinewidth\": 0, \"ticks\": \"\"}}, \"type\": \"scatterpolar\"}], \"scatterpolargl\": [{\"marker\": {\"colorbar\": {\"outlinewidth\": 0, \"ticks\": \"\"}}, \"type\": \"scatterpolargl\"}], \"scatterternary\": [{\"marker\": {\"colorbar\": {\"outlinewidth\": 0, \"ticks\": \"\"}}, \"type\": \"scatterternary\"}], \"surface\": [{\"colorbar\": {\"outlinewidth\": 0, \"ticks\": \"\"}, \"colorscale\": [[0.0, \"#0d0887\"], [0.1111111111111111, \"#46039f\"], [0.2222222222222222, \"#7201a8\"], [0.3333333333333333, \"#9c179e\"], [0.4444444444444444, \"#bd3786\"], [0.5555555555555556, \"#d8576b\"], [0.6666666666666666, \"#ed7953\"], [0.7777777777777778, \"#fb9f3a\"], [0.8888888888888888, \"#fdca26\"], [1.0, \"#f0f921\"]], \"type\": \"surface\"}], \"table\": [{\"cells\": {\"fill\": {\"color\": \"#EBF0F8\"}, \"line\": {\"color\": \"white\"}}, \"header\": {\"fill\": {\"color\": \"#C8D4E3\"}, \"line\": {\"color\": \"white\"}}, \"type\": \"table\"}]}, \"layout\": {\"annotationdefaults\": {\"arrowcolor\": \"#2a3f5f\", \"arrowhead\": 0, \"arrowwidth\": 1}, \"autotypenumbers\": \"strict\", \"coloraxis\": {\"colorbar\": {\"outlinewidth\": 0, \"ticks\": \"\"}}, \"colorscale\": {\"diverging\": [[0, \"#8e0152\"], [0.1, \"#c51b7d\"], [0.2, \"#de77ae\"], [0.3, \"#f1b6da\"], [0.4, \"#fde0ef\"], [0.5, \"#f7f7f7\"], [0.6, \"#e6f5d0\"], [0.7, \"#b8e186\"], [0.8, \"#7fbc41\"], [0.9, \"#4d9221\"], [1, \"#276419\"]], \"sequential\": [[0.0, \"#0d0887\"], [0.1111111111111111, \"#46039f\"], [0.2222222222222222, \"#7201a8\"], [0.3333333333333333, \"#9c179e\"], [0.4444444444444444, \"#bd3786\"], [0.5555555555555556, \"#d8576b\"], [0.6666666666666666, \"#ed7953\"], [0.7777777777777778, \"#fb9f3a\"], [0.8888888888888888, \"#fdca26\"], [1.0, \"#f0f921\"]], \"sequentialminus\": [[0.0, \"#0d0887\"], [0.1111111111111111, \"#46039f\"], [0.2222222222222222, \"#7201a8\"], [0.3333333333333333, \"#9c179e\"], [0.4444444444444444, \"#bd3786\"], [0.5555555555555556, \"#d8576b\"], [0.6666666666666666, \"#ed7953\"], [0.7777777777777778, \"#fb9f3a\"], [0.8888888888888888, \"#fdca26\"], [1.0, \"#f0f921\"]]}, \"colorway\": [\"#636efa\", \"#EF553B\", \"#00cc96\", \"#ab63fa\", \"#FFA15A\", \"#19d3f3\", \"#FF6692\", \"#B6E880\", \"#FF97FF\", \"#FECB52\"], \"font\": {\"color\": \"#2a3f5f\"}, \"geo\": {\"bgcolor\": \"white\", \"lakecolor\": \"white\", \"landcolor\": \"#E5ECF6\", \"showlakes\": true, \"showland\": true, \"subunitcolor\": \"white\"}, \"hoverlabel\": {\"align\": \"left\"}, \"hovermode\": \"closest\", \"mapbox\": {\"style\": \"light\"}, \"paper_bgcolor\": \"white\", \"plot_bgcolor\": \"#E5ECF6\", \"polar\": {\"angularaxis\": {\"gridcolor\": \"white\", \"linecolor\": \"white\", \"ticks\": \"\"}, \"bgcolor\": \"#E5ECF6\", \"radialaxis\": {\"gridcolor\": \"white\", \"linecolor\": \"white\", \"ticks\": \"\"}}, \"scene\": {\"xaxis\": {\"backgroundcolor\": \"#E5ECF6\", \"gridcolor\": \"white\", \"gridwidth\": 2, \"linecolor\": \"white\", \"showbackground\": true, \"ticks\": \"\", \"zerolinecolor\": \"white\"}, \"yaxis\": {\"backgroundcolor\": \"#E5ECF6\", \"gridcolor\": \"white\", \"gridwidth\": 2, \"linecolor\": \"white\", \"showbackground\": true, \"ticks\": \"\", \"zerolinecolor\": \"white\"}, \"zaxis\": {\"backgroundcolor\": \"#E5ECF6\", \"gridcolor\": \"white\", \"gridwidth\": 2, \"linecolor\": \"white\", \"showbackground\": true, \"ticks\": \"\", \"zerolinecolor\": \"white\"}}, \"shapedefaults\": {\"line\": {\"color\": \"#2a3f5f\"}}, \"ternary\": {\"aaxis\": {\"gridcolor\": \"white\", \"linecolor\": \"white\", \"ticks\": \"\"}, \"baxis\": {\"gridcolor\": \"white\", \"linecolor\": \"white\", \"ticks\": \"\"}, \"bgcolor\": \"#E5ECF6\", \"caxis\": {\"gridcolor\": \"white\", \"linecolor\": \"white\", \"ticks\": \"\"}}, \"title\": {\"x\": 0.05}, \"xaxis\": {\"automargin\": true, \"gridcolor\": \"white\", \"linecolor\": \"white\", \"ticks\": \"\", \"title\": {\"standoff\": 15}, \"zerolinecolor\": \"white\", \"zerolinewidth\": 2}, \"yaxis\": {\"automargin\": true, \"gridcolor\": \"white\", \"linecolor\": \"white\", \"ticks\": \"\", \"title\": {\"standoff\": 15}, \"zerolinecolor\": \"white\", \"zerolinewidth\": 2}}}, \"title\": {\"font\": {\"color\": \"#4D5663\"}}, \"xaxis\": {\"gridcolor\": \"#E1E5ED\", \"showgrid\": true, \"tickfont\": {\"color\": \"#4D5663\"}, \"title\": {\"font\": {\"color\": \"#4D5663\"}, \"text\": \"\"}, \"zerolinecolor\": \"#E1E5ED\"}, \"yaxis\": {\"gridcolor\": \"#E1E5ED\", \"showgrid\": true, \"tickfont\": {\"color\": \"#4D5663\"}, \"title\": {\"font\": {\"color\": \"#4D5663\"}, \"text\": \"\"}, \"zerolinecolor\": \"#E1E5ED\"}},                        {\"showLink\": true, \"linkText\": \"Export to plot.ly\", \"plotlyServerURL\": \"https://plot.ly\", \"responsive\": true}                    ).then(function(){\n",
       "                            \n",
       "var gd = document.getElementById('a3173515-6751-4689-adbd-0be52cbfef08');\n",
       "var x = new MutationObserver(function (mutations, observer) {{\n",
       "        var display = window.getComputedStyle(gd).display;\n",
       "        if (!display || display === 'none') {{\n",
       "            console.log([gd, 'removed!']);\n",
       "            Plotly.purge(gd);\n",
       "            observer.disconnect();\n",
       "        }}\n",
       "}});\n",
       "\n",
       "// Listen for the removal of the full notebook cells\n",
       "var notebookContainer = gd.closest('#notebook-container');\n",
       "if (notebookContainer) {{\n",
       "    x.observe(notebookContainer, {childList: true});\n",
       "}}\n",
       "\n",
       "// Listen for the clearing of the current output cell\n",
       "var outputEl = gd.closest('.output');\n",
       "if (outputEl) {{\n",
       "    x.observe(outputEl, {childList: true});\n",
       "}}\n",
       "\n",
       "                        })                };                });            </script>        </div>"
      ]
     },
     "metadata": {},
     "output_type": "display_data"
    }
   ],
   "source": [
    "df3.iplot(kind='surface',colorscale='rdylbu')"
   ]
  },
  {
   "cell_type": "markdown",
   "metadata": {},
   "source": [
    "## Spread"
   ]
  },
  {
   "cell_type": "code",
   "execution_count": 36,
   "metadata": {},
   "outputs": [
    {
     "name": "stderr",
     "output_type": "stream",
     "text": [
      "A:\\Anacond\\lib\\site-packages\\cufflinks\\plotlytools.py:849: FutureWarning:\n",
      "\n",
      "The pandas.np module is deprecated and will be removed from pandas in a future version. Import numpy directly instead\n",
      "\n",
      "A:\\Anacond\\lib\\site-packages\\cufflinks\\plotlytools.py:850: FutureWarning:\n",
      "\n",
      "The pandas.np module is deprecated and will be removed from pandas in a future version. Import numpy directly instead\n",
      "\n"
     ]
    },
    {
     "data": {
      "application/vnd.plotly.v1+json": {
       "config": {
        "linkText": "Export to plot.ly",
        "plotlyServerURL": "https://plot.ly",
        "showLink": true
       },
       "data": [
        {
         "line": {
          "color": "rgba(255, 153, 51, 1.0)",
          "dash": "solid",
          "shape": "linear",
          "width": 1.3
         },
         "mode": "lines",
         "name": "A",
         "text": "",
         "type": "scatter",
         "x": [
          0,
          1,
          2,
          3,
          4,
          5,
          6,
          7,
          8,
          9,
          10,
          11,
          12,
          13,
          14,
          15,
          16,
          17,
          18,
          19,
          20,
          21,
          22,
          23,
          24,
          25,
          26,
          27,
          28,
          29,
          30,
          31,
          32,
          33,
          34,
          35,
          36,
          37,
          38,
          39,
          40,
          41,
          42,
          43,
          44,
          45,
          46,
          47,
          48,
          49,
          50,
          51,
          52,
          53,
          54,
          55,
          56,
          57,
          58,
          59,
          60,
          61,
          62,
          63,
          64,
          65,
          66,
          67,
          68,
          69,
          70,
          71,
          72,
          73,
          74,
          75,
          76,
          77,
          78,
          79,
          80,
          81,
          82,
          83,
          84,
          85,
          86,
          87,
          88,
          89,
          90,
          91,
          92,
          93,
          94,
          95,
          96,
          97,
          98,
          99
         ],
         "y": [
          1.066033821726836,
          -0.20234052225325377,
          -0.7202032807069448,
          0.5876969285770565,
          0.5894082810927319,
          1.0966408592248225,
          0.9342602449467096,
          0.45296834381798506,
          0.11377689854572721,
          -0.015182384924197444,
          -1.0023195013509085,
          1.0561253511156685,
          -3.4069802426307905,
          1.1611381772450249,
          -0.9786531922381543,
          0.44150829410781106,
          0.6550320148323283,
          -0.18086514362098016,
          -1.449574844999948,
          -0.17652965182450162,
          1.620252667693584,
          0.34754355653960467,
          1.806768138822351,
          -0.45768771410313575,
          0.5368199083416141,
          -1.4123877529844118,
          1.5335615896164654,
          0.23143665121821524,
          0.8796131857211662,
          -1.5237599640761714,
          0.7761978467117557,
          -0.08109345148154067,
          -0.413836495422542,
          0.020236012487686746,
          -0.04477050480869064,
          -0.49951388000907565,
          -0.4806284409081598,
          0.584993947243313,
          -0.27779430391771787,
          -0.15322694744405466,
          -0.588812261369928,
          0.1438485486177861,
          0.22345350285618593,
          1.618844652296915,
          -0.05694763283213327,
          -1.657071732664729,
          -1.593089336724505,
          1.6000584860302083,
          1.0176911484944948,
          0.8542171967685713,
          -0.36609839265452254,
          -1.0582049409198413,
          -0.846492613702825,
          0.2507321823050788,
          -0.6436062165242302,
          1.732747650462511,
          0.30497304527003627,
          0.15365002124718544,
          -0.3540020506432751,
          1.1840653305767703,
          0.7270262810067589,
          -0.70069897762385,
          0.9810580691855825,
          1.3220716359779021,
          0.5625799092419832,
          -0.6683024207977339,
          0.6257885818020589,
          0.2471605057719761,
          -1.696173446761564,
          2.1155751926898527,
          -1.9708059670950684,
          1.0332980131889038,
          -1.2362625542127095,
          1.219736920395166,
          0.48928410461053945,
          -0.6609876535119567,
          -0.6955142021113592,
          -0.17152903062152622,
          -0.091697205713416,
          2.315426686821721,
          -2.59702218027904,
          1.178504757026743,
          0.33792090009429093,
          -0.1225023934654358,
          1.0701341251338765,
          -0.18119663733909702,
          -0.8921873197729137,
          -0.5337266529391964,
          1.138979553626761,
          0.6456178705727974,
          -0.23483846497245486,
          0.33817744840281194,
          -0.5140821741093899,
          0.2549530496412349,
          -1.5543264799586611,
          1.2893130377985462,
          -0.10069376715778916,
          0.44153810947872046,
          -0.3404624778743094,
          -0.5791620878582109
         ]
        },
        {
         "line": {
          "color": "rgba(55, 128, 191, 1.0)",
          "dash": "solid",
          "shape": "linear",
          "width": 1.3
         },
         "mode": "lines",
         "name": "B",
         "text": "",
         "type": "scatter",
         "x": [
          0,
          1,
          2,
          3,
          4,
          5,
          6,
          7,
          8,
          9,
          10,
          11,
          12,
          13,
          14,
          15,
          16,
          17,
          18,
          19,
          20,
          21,
          22,
          23,
          24,
          25,
          26,
          27,
          28,
          29,
          30,
          31,
          32,
          33,
          34,
          35,
          36,
          37,
          38,
          39,
          40,
          41,
          42,
          43,
          44,
          45,
          46,
          47,
          48,
          49,
          50,
          51,
          52,
          53,
          54,
          55,
          56,
          57,
          58,
          59,
          60,
          61,
          62,
          63,
          64,
          65,
          66,
          67,
          68,
          69,
          70,
          71,
          72,
          73,
          74,
          75,
          76,
          77,
          78,
          79,
          80,
          81,
          82,
          83,
          84,
          85,
          86,
          87,
          88,
          89,
          90,
          91,
          92,
          93,
          94,
          95,
          96,
          97,
          98,
          99
         ],
         "y": [
          1.233266812374226,
          -1.7402567803505051,
          -1.358566143928217,
          -0.8367770740645993,
          -0.7012906671338337,
          0.5214221088966884,
          1.130656755623005,
          0.10620727502497401,
          1.1554537851920814,
          1.1898942149915956,
          -0.4377379019747667,
          0.870028656547461,
          0.2943623135809353,
          0.39851414446194866,
          0.2601405761115901,
          -0.08101567419341556,
          0.6331632659062719,
          -1.847871549101868,
          -0.13007017306560822,
          0.6576454048691114,
          -0.06184842256785442,
          0.6632311939067133,
          -0.8418445387482837,
          -1.2234967212365655,
          1.1660837483569917,
          0.5702265236941769,
          -0.8828295708864294,
          0.08858544580338629,
          -0.6039464808497047,
          0.27751089732015743,
          0.23773467119761932,
          0.9596679917078207,
          0.22882892170015323,
          -0.6911618846720546,
          1.2842639386861472,
          -0.9183189472271543,
          -2.1774765259306714,
          -1.4203480211686401,
          0.7854717474930244,
          1.8236103725384551,
          -0.704217245892739,
          -1.2342903835901602,
          0.5577329754748598,
          -0.16423534301831957,
          0.14042363793765705,
          -0.6416607676468893,
          -0.9627993871563965,
          -1.703311023194733,
          -1.1487095825677889,
          1.5399614028160655,
          -1.1991151139196599,
          0.19692413989012664,
          0.9315558795977984,
          0.09856066084607118,
          -0.10198132436510375,
          0.30400937295614777,
          0.05809304987267057,
          0.20011656325223198,
          0.6029186395754181,
          -0.9274408040383253,
          2.0577425132832543,
          -1.134150319475954,
          -1.256673619624687,
          -0.9074753135094895,
          -0.5756203271751599,
          -0.9629392237994313,
          -0.623149564871256,
          0.8276883194379768,
          -0.8589945199948905,
          0.4677725330081428,
          -1.6985900658691038,
          -0.9867624637416783,
          -2.022454517111775,
          -0.21775079903675096,
          -0.007937706344356203,
          -1.681172747849504,
          0.8809516636506162,
          -0.42638268350880426,
          0.9721106503709406,
          0.8355688756171287,
          -1.2754244810465318,
          0.8699831007726233,
          -1.5563609714960738,
          0.5289152199852237,
          0.09644044356903302,
          -1.1262920622152162,
          -0.5987742670824937,
          -0.655433833253772,
          -0.7373569045659396,
          -0.6932204667046754,
          1.2619370773512206,
          0.8568160877701628,
          2.38634890000913,
          -0.03440815051190474,
          0.06548412771859694,
          0.6333793703650737,
          0.9828647473710335,
          -1.0273832581590594,
          -1.9356477936944356,
          0.5618265955894801
         ]
        },
        {
         "connectgaps": false,
         "fill": "tozeroy",
         "line": {
          "color": "green",
          "dash": "solid",
          "shape": "linear",
          "width": 0.5
         },
         "mode": "lines",
         "name": "Spread",
         "showlegend": false,
         "type": "scatter",
         "x": [
          0,
          1,
          2,
          3,
          4,
          5,
          6,
          7,
          8,
          9,
          10,
          11,
          12,
          13,
          14,
          15,
          16,
          17,
          18,
          19,
          20,
          21,
          22,
          23,
          24,
          25,
          26,
          27,
          28,
          29,
          30,
          31,
          32,
          33,
          34,
          35,
          36,
          37,
          38,
          39,
          40,
          41,
          42,
          43,
          44,
          45,
          46,
          47,
          48,
          49,
          50,
          51,
          52,
          53,
          54,
          55,
          56,
          57,
          58,
          59,
          60,
          61,
          62,
          63,
          64,
          65,
          66,
          67,
          68,
          69,
          70,
          71,
          72,
          73,
          74,
          75,
          76,
          77,
          78,
          79,
          80,
          81,
          82,
          83,
          84,
          85,
          86,
          87,
          88,
          89,
          90,
          91,
          92,
          93,
          94,
          95,
          96,
          97,
          98,
          99
         ],
         "xaxis": "x2",
         "y": [
          "",
          1.5379162580972514,
          0.6383628632212722,
          1.4244740026416558,
          1.2906989482265656,
          0.5752187503281341,
          "",
          0.34676106879301105,
          "",
          "",
          "",
          0.18609669456820754,
          "",
          0.7626240327830762,
          "",
          0.5225239683012266,
          0.02186874892605639,
          1.6670064054808877,
          "",
          "",
          1.6821010902614384,
          "",
          2.6486126775706347,
          0.7658090071334298,
          "",
          "",
          2.416391160502895,
          0.14285120541482896,
          1.483559666570871,
          "",
          0.5384631755141365,
          "",
          "",
          0.7113978971597413,
          "",
          0.4188050672180787,
          1.6968480850225116,
          2.005341968411953,
          "",
          "",
          0.115404984522811,
          1.3781389322079463,
          "",
          1.7830799953152348,
          "",
          "",
          "",
          3.3033695092249413,
          2.166400731062284,
          "",
          0.8330167212651374,
          "",
          "",
          0.15217152145900764,
          "",
          1.4287382775063633,
          0.24687999539736571,
          "",
          "",
          2.1115061346150954,
          "",
          0.4334513418521039,
          2.2377316888102694,
          2.229546949487392,
          1.138200236417143,
          0.29463680300169737,
          1.2489381466733147,
          "",
          "",
          1.64780265968171,
          "",
          2.020060476930582,
          0.7861919628990655,
          1.4374877194319169,
          0.49722181095489565,
          1.0201850943375472,
          "",
          0.254853652887278,
          "",
          1.4798578112045921,
          "",
          0.30852165625411976,
          1.8942818715903647,
          "",
          0.9736936815648435,
          0.9450954248761192,
          "",
          0.12170718031457561,
          1.8763364581927007,
          1.3388383372774728,
          "",
          "",
          "",
          0.2893612001531396,
          "",
          0.6559336674334725,
          "",
          1.46892136763778,
          1.5951853158201263,
          ""
         ],
         "yaxis": "y2"
        },
        {
         "connectgaps": false,
         "fill": "tozeroy",
         "line": {
          "color": "red",
          "dash": "solid",
          "shape": "linear",
          "width": 0.5
         },
         "mode": "lines",
         "name": "Spread",
         "showlegend": false,
         "type": "scatter",
         "x": [
          0,
          1,
          2,
          3,
          4,
          5,
          6,
          7,
          8,
          9,
          10,
          11,
          12,
          13,
          14,
          15,
          16,
          17,
          18,
          19,
          20,
          21,
          22,
          23,
          24,
          25,
          26,
          27,
          28,
          29,
          30,
          31,
          32,
          33,
          34,
          35,
          36,
          37,
          38,
          39,
          40,
          41,
          42,
          43,
          44,
          45,
          46,
          47,
          48,
          49,
          50,
          51,
          52,
          53,
          54,
          55,
          56,
          57,
          58,
          59,
          60,
          61,
          62,
          63,
          64,
          65,
          66,
          67,
          68,
          69,
          70,
          71,
          72,
          73,
          74,
          75,
          76,
          77,
          78,
          79,
          80,
          81,
          82,
          83,
          84,
          85,
          86,
          87,
          88,
          89,
          90,
          91,
          92,
          93,
          94,
          95,
          96,
          97,
          98,
          99
         ],
         "xaxis": "x2",
         "y": [
          -0.16723299064739017,
          "",
          "",
          "",
          "",
          "",
          -0.19639651067629538,
          "",
          -1.0416768866463542,
          -1.205076599915793,
          -0.5645815993761418,
          "",
          -3.701342556211726,
          "",
          -1.2387937683497443,
          "",
          "",
          "",
          -1.3195046719343397,
          -0.834175056693613,
          "",
          -0.3156876373671086,
          "",
          "",
          -0.6292638400153776,
          -1.9826142766785888,
          "",
          "",
          "",
          -1.8012708613963289,
          "",
          -1.0407614431893613,
          -0.6426654171226952,
          "",
          -1.3290344434948378,
          "",
          "",
          "",
          -1.0632660514107424,
          -1.9768373199825098,
          "",
          "",
          -0.33427947261867386,
          "",
          -0.19737127076979033,
          -1.0154109650178398,
          -0.6302899495681085,
          "",
          "",
          -0.6857442060474942,
          "",
          -1.255129080809968,
          -1.7780484933006235,
          "",
          -0.5416248921591265,
          "",
          "",
          -0.046466542005046546,
          -0.9569206902186933,
          "",
          -1.3307162322764954,
          "",
          "",
          "",
          "",
          "",
          "",
          -0.5805278136660007,
          -0.8371789267666734,
          "",
          -0.2722159012259646,
          "",
          "",
          "",
          "",
          "",
          -1.5764658657619752,
          "",
          -1.0638078560843565,
          "",
          -1.3215976992325082,
          "",
          "",
          -0.6514176134506595,
          "",
          "",
          -0.29341305269041995,
          "",
          "",
          "",
          -1.4967755423236755,
          -0.5186386393673509,
          -2.9004310741185195,
          "",
          -1.619810607677258,
          "",
          -1.0835585145288227,
          "",
          "",
          -1.140988683447691
         ],
         "yaxis": "y2"
        }
       ],
       "layout": {
        "hovermode": "x",
        "legend": {
         "bgcolor": "#F5F6F9",
         "font": {
          "color": "#4D5663"
         }
        },
        "paper_bgcolor": "#F5F6F9",
        "plot_bgcolor": "#F5F6F9",
        "template": {
         "data": {
          "bar": [
           {
            "error_x": {
             "color": "#2a3f5f"
            },
            "error_y": {
             "color": "#2a3f5f"
            },
            "marker": {
             "line": {
              "color": "#E5ECF6",
              "width": 0.5
             }
            },
            "type": "bar"
           }
          ],
          "barpolar": [
           {
            "marker": {
             "line": {
              "color": "#E5ECF6",
              "width": 0.5
             }
            },
            "type": "barpolar"
           }
          ],
          "carpet": [
           {
            "aaxis": {
             "endlinecolor": "#2a3f5f",
             "gridcolor": "white",
             "linecolor": "white",
             "minorgridcolor": "white",
             "startlinecolor": "#2a3f5f"
            },
            "baxis": {
             "endlinecolor": "#2a3f5f",
             "gridcolor": "white",
             "linecolor": "white",
             "minorgridcolor": "white",
             "startlinecolor": "#2a3f5f"
            },
            "type": "carpet"
           }
          ],
          "choropleth": [
           {
            "colorbar": {
             "outlinewidth": 0,
             "ticks": ""
            },
            "type": "choropleth"
           }
          ],
          "contour": [
           {
            "colorbar": {
             "outlinewidth": 0,
             "ticks": ""
            },
            "colorscale": [
             [
              0,
              "#0d0887"
             ],
             [
              0.1111111111111111,
              "#46039f"
             ],
             [
              0.2222222222222222,
              "#7201a8"
             ],
             [
              0.3333333333333333,
              "#9c179e"
             ],
             [
              0.4444444444444444,
              "#bd3786"
             ],
             [
              0.5555555555555556,
              "#d8576b"
             ],
             [
              0.6666666666666666,
              "#ed7953"
             ],
             [
              0.7777777777777778,
              "#fb9f3a"
             ],
             [
              0.8888888888888888,
              "#fdca26"
             ],
             [
              1,
              "#f0f921"
             ]
            ],
            "type": "contour"
           }
          ],
          "contourcarpet": [
           {
            "colorbar": {
             "outlinewidth": 0,
             "ticks": ""
            },
            "type": "contourcarpet"
           }
          ],
          "heatmap": [
           {
            "colorbar": {
             "outlinewidth": 0,
             "ticks": ""
            },
            "colorscale": [
             [
              0,
              "#0d0887"
             ],
             [
              0.1111111111111111,
              "#46039f"
             ],
             [
              0.2222222222222222,
              "#7201a8"
             ],
             [
              0.3333333333333333,
              "#9c179e"
             ],
             [
              0.4444444444444444,
              "#bd3786"
             ],
             [
              0.5555555555555556,
              "#d8576b"
             ],
             [
              0.6666666666666666,
              "#ed7953"
             ],
             [
              0.7777777777777778,
              "#fb9f3a"
             ],
             [
              0.8888888888888888,
              "#fdca26"
             ],
             [
              1,
              "#f0f921"
             ]
            ],
            "type": "heatmap"
           }
          ],
          "heatmapgl": [
           {
            "colorbar": {
             "outlinewidth": 0,
             "ticks": ""
            },
            "colorscale": [
             [
              0,
              "#0d0887"
             ],
             [
              0.1111111111111111,
              "#46039f"
             ],
             [
              0.2222222222222222,
              "#7201a8"
             ],
             [
              0.3333333333333333,
              "#9c179e"
             ],
             [
              0.4444444444444444,
              "#bd3786"
             ],
             [
              0.5555555555555556,
              "#d8576b"
             ],
             [
              0.6666666666666666,
              "#ed7953"
             ],
             [
              0.7777777777777778,
              "#fb9f3a"
             ],
             [
              0.8888888888888888,
              "#fdca26"
             ],
             [
              1,
              "#f0f921"
             ]
            ],
            "type": "heatmapgl"
           }
          ],
          "histogram": [
           {
            "marker": {
             "colorbar": {
              "outlinewidth": 0,
              "ticks": ""
             }
            },
            "type": "histogram"
           }
          ],
          "histogram2d": [
           {
            "colorbar": {
             "outlinewidth": 0,
             "ticks": ""
            },
            "colorscale": [
             [
              0,
              "#0d0887"
             ],
             [
              0.1111111111111111,
              "#46039f"
             ],
             [
              0.2222222222222222,
              "#7201a8"
             ],
             [
              0.3333333333333333,
              "#9c179e"
             ],
             [
              0.4444444444444444,
              "#bd3786"
             ],
             [
              0.5555555555555556,
              "#d8576b"
             ],
             [
              0.6666666666666666,
              "#ed7953"
             ],
             [
              0.7777777777777778,
              "#fb9f3a"
             ],
             [
              0.8888888888888888,
              "#fdca26"
             ],
             [
              1,
              "#f0f921"
             ]
            ],
            "type": "histogram2d"
           }
          ],
          "histogram2dcontour": [
           {
            "colorbar": {
             "outlinewidth": 0,
             "ticks": ""
            },
            "colorscale": [
             [
              0,
              "#0d0887"
             ],
             [
              0.1111111111111111,
              "#46039f"
             ],
             [
              0.2222222222222222,
              "#7201a8"
             ],
             [
              0.3333333333333333,
              "#9c179e"
             ],
             [
              0.4444444444444444,
              "#bd3786"
             ],
             [
              0.5555555555555556,
              "#d8576b"
             ],
             [
              0.6666666666666666,
              "#ed7953"
             ],
             [
              0.7777777777777778,
              "#fb9f3a"
             ],
             [
              0.8888888888888888,
              "#fdca26"
             ],
             [
              1,
              "#f0f921"
             ]
            ],
            "type": "histogram2dcontour"
           }
          ],
          "mesh3d": [
           {
            "colorbar": {
             "outlinewidth": 0,
             "ticks": ""
            },
            "type": "mesh3d"
           }
          ],
          "parcoords": [
           {
            "line": {
             "colorbar": {
              "outlinewidth": 0,
              "ticks": ""
             }
            },
            "type": "parcoords"
           }
          ],
          "pie": [
           {
            "automargin": true,
            "type": "pie"
           }
          ],
          "scatter": [
           {
            "marker": {
             "colorbar": {
              "outlinewidth": 0,
              "ticks": ""
             }
            },
            "type": "scatter"
           }
          ],
          "scatter3d": [
           {
            "line": {
             "colorbar": {
              "outlinewidth": 0,
              "ticks": ""
             }
            },
            "marker": {
             "colorbar": {
              "outlinewidth": 0,
              "ticks": ""
             }
            },
            "type": "scatter3d"
           }
          ],
          "scattercarpet": [
           {
            "marker": {
             "colorbar": {
              "outlinewidth": 0,
              "ticks": ""
             }
            },
            "type": "scattercarpet"
           }
          ],
          "scattergeo": [
           {
            "marker": {
             "colorbar": {
              "outlinewidth": 0,
              "ticks": ""
             }
            },
            "type": "scattergeo"
           }
          ],
          "scattergl": [
           {
            "marker": {
             "colorbar": {
              "outlinewidth": 0,
              "ticks": ""
             }
            },
            "type": "scattergl"
           }
          ],
          "scattermapbox": [
           {
            "marker": {
             "colorbar": {
              "outlinewidth": 0,
              "ticks": ""
             }
            },
            "type": "scattermapbox"
           }
          ],
          "scatterpolar": [
           {
            "marker": {
             "colorbar": {
              "outlinewidth": 0,
              "ticks": ""
             }
            },
            "type": "scatterpolar"
           }
          ],
          "scatterpolargl": [
           {
            "marker": {
             "colorbar": {
              "outlinewidth": 0,
              "ticks": ""
             }
            },
            "type": "scatterpolargl"
           }
          ],
          "scatterternary": [
           {
            "marker": {
             "colorbar": {
              "outlinewidth": 0,
              "ticks": ""
             }
            },
            "type": "scatterternary"
           }
          ],
          "surface": [
           {
            "colorbar": {
             "outlinewidth": 0,
             "ticks": ""
            },
            "colorscale": [
             [
              0,
              "#0d0887"
             ],
             [
              0.1111111111111111,
              "#46039f"
             ],
             [
              0.2222222222222222,
              "#7201a8"
             ],
             [
              0.3333333333333333,
              "#9c179e"
             ],
             [
              0.4444444444444444,
              "#bd3786"
             ],
             [
              0.5555555555555556,
              "#d8576b"
             ],
             [
              0.6666666666666666,
              "#ed7953"
             ],
             [
              0.7777777777777778,
              "#fb9f3a"
             ],
             [
              0.8888888888888888,
              "#fdca26"
             ],
             [
              1,
              "#f0f921"
             ]
            ],
            "type": "surface"
           }
          ],
          "table": [
           {
            "cells": {
             "fill": {
              "color": "#EBF0F8"
             },
             "line": {
              "color": "white"
             }
            },
            "header": {
             "fill": {
              "color": "#C8D4E3"
             },
             "line": {
              "color": "white"
             }
            },
            "type": "table"
           }
          ]
         },
         "layout": {
          "annotationdefaults": {
           "arrowcolor": "#2a3f5f",
           "arrowhead": 0,
           "arrowwidth": 1
          },
          "autotypenumbers": "strict",
          "coloraxis": {
           "colorbar": {
            "outlinewidth": 0,
            "ticks": ""
           }
          },
          "colorscale": {
           "diverging": [
            [
             0,
             "#8e0152"
            ],
            [
             0.1,
             "#c51b7d"
            ],
            [
             0.2,
             "#de77ae"
            ],
            [
             0.3,
             "#f1b6da"
            ],
            [
             0.4,
             "#fde0ef"
            ],
            [
             0.5,
             "#f7f7f7"
            ],
            [
             0.6,
             "#e6f5d0"
            ],
            [
             0.7,
             "#b8e186"
            ],
            [
             0.8,
             "#7fbc41"
            ],
            [
             0.9,
             "#4d9221"
            ],
            [
             1,
             "#276419"
            ]
           ],
           "sequential": [
            [
             0,
             "#0d0887"
            ],
            [
             0.1111111111111111,
             "#46039f"
            ],
            [
             0.2222222222222222,
             "#7201a8"
            ],
            [
             0.3333333333333333,
             "#9c179e"
            ],
            [
             0.4444444444444444,
             "#bd3786"
            ],
            [
             0.5555555555555556,
             "#d8576b"
            ],
            [
             0.6666666666666666,
             "#ed7953"
            ],
            [
             0.7777777777777778,
             "#fb9f3a"
            ],
            [
             0.8888888888888888,
             "#fdca26"
            ],
            [
             1,
             "#f0f921"
            ]
           ],
           "sequentialminus": [
            [
             0,
             "#0d0887"
            ],
            [
             0.1111111111111111,
             "#46039f"
            ],
            [
             0.2222222222222222,
             "#7201a8"
            ],
            [
             0.3333333333333333,
             "#9c179e"
            ],
            [
             0.4444444444444444,
             "#bd3786"
            ],
            [
             0.5555555555555556,
             "#d8576b"
            ],
            [
             0.6666666666666666,
             "#ed7953"
            ],
            [
             0.7777777777777778,
             "#fb9f3a"
            ],
            [
             0.8888888888888888,
             "#fdca26"
            ],
            [
             1,
             "#f0f921"
            ]
           ]
          },
          "colorway": [
           "#636efa",
           "#EF553B",
           "#00cc96",
           "#ab63fa",
           "#FFA15A",
           "#19d3f3",
           "#FF6692",
           "#B6E880",
           "#FF97FF",
           "#FECB52"
          ],
          "font": {
           "color": "#2a3f5f"
          },
          "geo": {
           "bgcolor": "white",
           "lakecolor": "white",
           "landcolor": "#E5ECF6",
           "showlakes": true,
           "showland": true,
           "subunitcolor": "white"
          },
          "hoverlabel": {
           "align": "left"
          },
          "hovermode": "closest",
          "mapbox": {
           "style": "light"
          },
          "paper_bgcolor": "white",
          "plot_bgcolor": "#E5ECF6",
          "polar": {
           "angularaxis": {
            "gridcolor": "white",
            "linecolor": "white",
            "ticks": ""
           },
           "bgcolor": "#E5ECF6",
           "radialaxis": {
            "gridcolor": "white",
            "linecolor": "white",
            "ticks": ""
           }
          },
          "scene": {
           "xaxis": {
            "backgroundcolor": "#E5ECF6",
            "gridcolor": "white",
            "gridwidth": 2,
            "linecolor": "white",
            "showbackground": true,
            "ticks": "",
            "zerolinecolor": "white"
           },
           "yaxis": {
            "backgroundcolor": "#E5ECF6",
            "gridcolor": "white",
            "gridwidth": 2,
            "linecolor": "white",
            "showbackground": true,
            "ticks": "",
            "zerolinecolor": "white"
           },
           "zaxis": {
            "backgroundcolor": "#E5ECF6",
            "gridcolor": "white",
            "gridwidth": 2,
            "linecolor": "white",
            "showbackground": true,
            "ticks": "",
            "zerolinecolor": "white"
           }
          },
          "shapedefaults": {
           "line": {
            "color": "#2a3f5f"
           }
          },
          "ternary": {
           "aaxis": {
            "gridcolor": "white",
            "linecolor": "white",
            "ticks": ""
           },
           "baxis": {
            "gridcolor": "white",
            "linecolor": "white",
            "ticks": ""
           },
           "bgcolor": "#E5ECF6",
           "caxis": {
            "gridcolor": "white",
            "linecolor": "white",
            "ticks": ""
           }
          },
          "title": {
           "x": 0.05
          },
          "xaxis": {
           "automargin": true,
           "gridcolor": "white",
           "linecolor": "white",
           "ticks": "",
           "title": {
            "standoff": 15
           },
           "zerolinecolor": "white",
           "zerolinewidth": 2
          },
          "yaxis": {
           "automargin": true,
           "gridcolor": "white",
           "linecolor": "white",
           "ticks": "",
           "title": {
            "standoff": 15
           },
           "zerolinecolor": "white",
           "zerolinewidth": 2
          }
         }
        },
        "title": {
         "font": {
          "color": "#4D5663"
         }
        },
        "xaxis": {
         "gridcolor": "#E1E5ED",
         "showgrid": true,
         "tickfont": {
          "color": "#4D5663"
         },
         "title": {
          "font": {
           "color": "#4D5663"
          },
          "text": ""
         },
         "zerolinecolor": "#E1E5ED"
        },
        "xaxis2": {
         "anchor": "y2",
         "gridcolor": "#E1E5ED",
         "showgrid": true,
         "showticklabels": false,
         "tickfont": {
          "color": "#4D5663"
         },
         "title": {
          "font": {
           "color": "#4D5663"
          },
          "text": ""
         },
         "zerolinecolor": "#E1E5ED"
        },
        "yaxis": {
         "domain": [
          0.3,
          1
         ],
         "gridcolor": "#E1E5ED",
         "showgrid": true,
         "tickfont": {
          "color": "#4D5663"
         },
         "title": {
          "font": {
           "color": "#4D5663"
          },
          "text": ""
         },
         "zerolinecolor": "#E1E5ED"
        },
        "yaxis2": {
         "domain": [
          0,
          0.25
         ],
         "gridcolor": "#E1E5ED",
         "showgrid": true,
         "tickfont": {
          "color": "#4D5663"
         },
         "title": {
          "font": {
           "color": "#4D5663"
          },
          "text": "Spread"
         },
         "zerolinecolor": "#E1E5ED"
        }
       }
      },
      "text/html": [
       "<div>                            <div id=\"712b92a8-acd3-4e67-994c-9e8b75f15ddb\" class=\"plotly-graph-div\" style=\"height:525px; width:100%;\"></div>            <script type=\"text/javascript\">                require([\"plotly\"], function(Plotly) {                    window.PLOTLYENV=window.PLOTLYENV || {};\n",
       "                    window.PLOTLYENV.BASE_URL='https://plot.ly';                                    if (document.getElementById(\"712b92a8-acd3-4e67-994c-9e8b75f15ddb\")) {                    Plotly.newPlot(                        \"712b92a8-acd3-4e67-994c-9e8b75f15ddb\",                        [{\"line\": {\"color\": \"rgba(255, 153, 51, 1.0)\", \"dash\": \"solid\", \"shape\": \"linear\", \"width\": 1.3}, \"mode\": \"lines\", \"name\": \"A\", \"text\": \"\", \"type\": \"scatter\", \"x\": [0, 1, 2, 3, 4, 5, 6, 7, 8, 9, 10, 11, 12, 13, 14, 15, 16, 17, 18, 19, 20, 21, 22, 23, 24, 25, 26, 27, 28, 29, 30, 31, 32, 33, 34, 35, 36, 37, 38, 39, 40, 41, 42, 43, 44, 45, 46, 47, 48, 49, 50, 51, 52, 53, 54, 55, 56, 57, 58, 59, 60, 61, 62, 63, 64, 65, 66, 67, 68, 69, 70, 71, 72, 73, 74, 75, 76, 77, 78, 79, 80, 81, 82, 83, 84, 85, 86, 87, 88, 89, 90, 91, 92, 93, 94, 95, 96, 97, 98, 99], \"y\": [1.066033821726836, -0.20234052225325377, -0.7202032807069448, 0.5876969285770565, 0.5894082810927319, 1.0966408592248225, 0.9342602449467096, 0.45296834381798506, 0.11377689854572721, -0.015182384924197444, -1.0023195013509085, 1.0561253511156685, -3.4069802426307905, 1.1611381772450249, -0.9786531922381543, 0.44150829410781106, 0.6550320148323283, -0.18086514362098016, -1.449574844999948, -0.17652965182450162, 1.620252667693584, 0.34754355653960467, 1.806768138822351, -0.45768771410313575, 0.5368199083416141, -1.4123877529844118, 1.5335615896164654, 0.23143665121821524, 0.8796131857211662, -1.5237599640761714, 0.7761978467117557, -0.08109345148154067, -0.413836495422542, 0.020236012487686746, -0.04477050480869064, -0.49951388000907565, -0.4806284409081598, 0.584993947243313, -0.27779430391771787, -0.15322694744405466, -0.588812261369928, 0.1438485486177861, 0.22345350285618593, 1.618844652296915, -0.05694763283213327, -1.657071732664729, -1.593089336724505, 1.6000584860302083, 1.0176911484944948, 0.8542171967685713, -0.36609839265452254, -1.0582049409198413, -0.846492613702825, 0.2507321823050788, -0.6436062165242302, 1.732747650462511, 0.30497304527003627, 0.15365002124718544, -0.3540020506432751, 1.1840653305767703, 0.7270262810067589, -0.70069897762385, 0.9810580691855825, 1.3220716359779021, 0.5625799092419832, -0.6683024207977339, 0.6257885818020589, 0.2471605057719761, -1.696173446761564, 2.1155751926898527, -1.9708059670950684, 1.0332980131889038, -1.2362625542127095, 1.219736920395166, 0.48928410461053945, -0.6609876535119567, -0.6955142021113592, -0.17152903062152622, -0.091697205713416, 2.315426686821721, -2.59702218027904, 1.178504757026743, 0.33792090009429093, -0.1225023934654358, 1.0701341251338765, -0.18119663733909702, -0.8921873197729137, -0.5337266529391964, 1.138979553626761, 0.6456178705727974, -0.23483846497245486, 0.33817744840281194, -0.5140821741093899, 0.2549530496412349, -1.5543264799586611, 1.2893130377985462, -0.10069376715778916, 0.44153810947872046, -0.3404624778743094, -0.5791620878582109]}, {\"line\": {\"color\": \"rgba(55, 128, 191, 1.0)\", \"dash\": \"solid\", \"shape\": \"linear\", \"width\": 1.3}, \"mode\": \"lines\", \"name\": \"B\", \"text\": \"\", \"type\": \"scatter\", \"x\": [0, 1, 2, 3, 4, 5, 6, 7, 8, 9, 10, 11, 12, 13, 14, 15, 16, 17, 18, 19, 20, 21, 22, 23, 24, 25, 26, 27, 28, 29, 30, 31, 32, 33, 34, 35, 36, 37, 38, 39, 40, 41, 42, 43, 44, 45, 46, 47, 48, 49, 50, 51, 52, 53, 54, 55, 56, 57, 58, 59, 60, 61, 62, 63, 64, 65, 66, 67, 68, 69, 70, 71, 72, 73, 74, 75, 76, 77, 78, 79, 80, 81, 82, 83, 84, 85, 86, 87, 88, 89, 90, 91, 92, 93, 94, 95, 96, 97, 98, 99], \"y\": [1.233266812374226, -1.7402567803505051, -1.358566143928217, -0.8367770740645993, -0.7012906671338337, 0.5214221088966884, 1.130656755623005, 0.10620727502497401, 1.1554537851920814, 1.1898942149915956, -0.4377379019747667, 0.870028656547461, 0.2943623135809353, 0.39851414446194866, 0.2601405761115901, -0.08101567419341556, 0.6331632659062719, -1.847871549101868, -0.13007017306560822, 0.6576454048691114, -0.06184842256785442, 0.6632311939067133, -0.8418445387482837, -1.2234967212365655, 1.1660837483569917, 0.5702265236941769, -0.8828295708864294, 0.08858544580338629, -0.6039464808497047, 0.27751089732015743, 0.23773467119761932, 0.9596679917078207, 0.22882892170015323, -0.6911618846720546, 1.2842639386861472, -0.9183189472271543, -2.1774765259306714, -1.4203480211686401, 0.7854717474930244, 1.8236103725384551, -0.704217245892739, -1.2342903835901602, 0.5577329754748598, -0.16423534301831957, 0.14042363793765705, -0.6416607676468893, -0.9627993871563965, -1.703311023194733, -1.1487095825677889, 1.5399614028160655, -1.1991151139196599, 0.19692413989012664, 0.9315558795977984, 0.09856066084607118, -0.10198132436510375, 0.30400937295614777, 0.05809304987267057, 0.20011656325223198, 0.6029186395754181, -0.9274408040383253, 2.0577425132832543, -1.134150319475954, -1.256673619624687, -0.9074753135094895, -0.5756203271751599, -0.9629392237994313, -0.623149564871256, 0.8276883194379768, -0.8589945199948905, 0.4677725330081428, -1.6985900658691038, -0.9867624637416783, -2.022454517111775, -0.21775079903675096, -0.007937706344356203, -1.681172747849504, 0.8809516636506162, -0.42638268350880426, 0.9721106503709406, 0.8355688756171287, -1.2754244810465318, 0.8699831007726233, -1.5563609714960738, 0.5289152199852237, 0.09644044356903302, -1.1262920622152162, -0.5987742670824937, -0.655433833253772, -0.7373569045659396, -0.6932204667046754, 1.2619370773512206, 0.8568160877701628, 2.38634890000913, -0.03440815051190474, 0.06548412771859694, 0.6333793703650737, 0.9828647473710335, -1.0273832581590594, -1.9356477936944356, 0.5618265955894801]}, {\"connectgaps\": false, \"fill\": \"tozeroy\", \"line\": {\"color\": \"green\", \"dash\": \"solid\", \"shape\": \"linear\", \"width\": 0.5}, \"mode\": \"lines\", \"name\": \"Spread\", \"showlegend\": false, \"type\": \"scatter\", \"x\": [0, 1, 2, 3, 4, 5, 6, 7, 8, 9, 10, 11, 12, 13, 14, 15, 16, 17, 18, 19, 20, 21, 22, 23, 24, 25, 26, 27, 28, 29, 30, 31, 32, 33, 34, 35, 36, 37, 38, 39, 40, 41, 42, 43, 44, 45, 46, 47, 48, 49, 50, 51, 52, 53, 54, 55, 56, 57, 58, 59, 60, 61, 62, 63, 64, 65, 66, 67, 68, 69, 70, 71, 72, 73, 74, 75, 76, 77, 78, 79, 80, 81, 82, 83, 84, 85, 86, 87, 88, 89, 90, 91, 92, 93, 94, 95, 96, 97, 98, 99], \"xaxis\": \"x2\", \"y\": [\"\", 1.5379162580972514, 0.6383628632212722, 1.4244740026416558, 1.2906989482265656, 0.5752187503281341, \"\", 0.34676106879301105, \"\", \"\", \"\", 0.18609669456820754, \"\", 0.7626240327830762, \"\", 0.5225239683012266, 0.02186874892605639, 1.6670064054808877, \"\", \"\", 1.6821010902614384, \"\", 2.6486126775706347, 0.7658090071334298, \"\", \"\", 2.416391160502895, 0.14285120541482896, 1.483559666570871, \"\", 0.5384631755141365, \"\", \"\", 0.7113978971597413, \"\", 0.4188050672180787, 1.6968480850225116, 2.005341968411953, \"\", \"\", 0.115404984522811, 1.3781389322079463, \"\", 1.7830799953152348, \"\", \"\", \"\", 3.3033695092249413, 2.166400731062284, \"\", 0.8330167212651374, \"\", \"\", 0.15217152145900764, \"\", 1.4287382775063633, 0.24687999539736571, \"\", \"\", 2.1115061346150954, \"\", 0.4334513418521039, 2.2377316888102694, 2.229546949487392, 1.138200236417143, 0.29463680300169737, 1.2489381466733147, \"\", \"\", 1.64780265968171, \"\", 2.020060476930582, 0.7861919628990655, 1.4374877194319169, 0.49722181095489565, 1.0201850943375472, \"\", 0.254853652887278, \"\", 1.4798578112045921, \"\", 0.30852165625411976, 1.8942818715903647, \"\", 0.9736936815648435, 0.9450954248761192, \"\", 0.12170718031457561, 1.8763364581927007, 1.3388383372774728, \"\", \"\", \"\", 0.2893612001531396, \"\", 0.6559336674334725, \"\", 1.46892136763778, 1.5951853158201263, \"\"], \"yaxis\": \"y2\"}, {\"connectgaps\": false, \"fill\": \"tozeroy\", \"line\": {\"color\": \"red\", \"dash\": \"solid\", \"shape\": \"linear\", \"width\": 0.5}, \"mode\": \"lines\", \"name\": \"Spread\", \"showlegend\": false, \"type\": \"scatter\", \"x\": [0, 1, 2, 3, 4, 5, 6, 7, 8, 9, 10, 11, 12, 13, 14, 15, 16, 17, 18, 19, 20, 21, 22, 23, 24, 25, 26, 27, 28, 29, 30, 31, 32, 33, 34, 35, 36, 37, 38, 39, 40, 41, 42, 43, 44, 45, 46, 47, 48, 49, 50, 51, 52, 53, 54, 55, 56, 57, 58, 59, 60, 61, 62, 63, 64, 65, 66, 67, 68, 69, 70, 71, 72, 73, 74, 75, 76, 77, 78, 79, 80, 81, 82, 83, 84, 85, 86, 87, 88, 89, 90, 91, 92, 93, 94, 95, 96, 97, 98, 99], \"xaxis\": \"x2\", \"y\": [-0.16723299064739017, \"\", \"\", \"\", \"\", \"\", -0.19639651067629538, \"\", -1.0416768866463542, -1.205076599915793, -0.5645815993761418, \"\", -3.701342556211726, \"\", -1.2387937683497443, \"\", \"\", \"\", -1.3195046719343397, -0.834175056693613, \"\", -0.3156876373671086, \"\", \"\", -0.6292638400153776, -1.9826142766785888, \"\", \"\", \"\", -1.8012708613963289, \"\", -1.0407614431893613, -0.6426654171226952, \"\", -1.3290344434948378, \"\", \"\", \"\", -1.0632660514107424, -1.9768373199825098, \"\", \"\", -0.33427947261867386, \"\", -0.19737127076979033, -1.0154109650178398, -0.6302899495681085, \"\", \"\", -0.6857442060474942, \"\", -1.255129080809968, -1.7780484933006235, \"\", -0.5416248921591265, \"\", \"\", -0.046466542005046546, -0.9569206902186933, \"\", -1.3307162322764954, \"\", \"\", \"\", \"\", \"\", \"\", -0.5805278136660007, -0.8371789267666734, \"\", -0.2722159012259646, \"\", \"\", \"\", \"\", \"\", -1.5764658657619752, \"\", -1.0638078560843565, \"\", -1.3215976992325082, \"\", \"\", -0.6514176134506595, \"\", \"\", -0.29341305269041995, \"\", \"\", \"\", -1.4967755423236755, -0.5186386393673509, -2.9004310741185195, \"\", -1.619810607677258, \"\", -1.0835585145288227, \"\", \"\", -1.140988683447691], \"yaxis\": \"y2\"}],                        {\"hovermode\": \"x\", \"legend\": {\"bgcolor\": \"#F5F6F9\", \"font\": {\"color\": \"#4D5663\"}}, \"paper_bgcolor\": \"#F5F6F9\", \"plot_bgcolor\": \"#F5F6F9\", \"template\": {\"data\": {\"bar\": [{\"error_x\": {\"color\": \"#2a3f5f\"}, \"error_y\": {\"color\": \"#2a3f5f\"}, \"marker\": {\"line\": {\"color\": \"#E5ECF6\", \"width\": 0.5}}, \"type\": \"bar\"}], \"barpolar\": [{\"marker\": {\"line\": {\"color\": \"#E5ECF6\", \"width\": 0.5}}, \"type\": \"barpolar\"}], \"carpet\": [{\"aaxis\": {\"endlinecolor\": \"#2a3f5f\", \"gridcolor\": \"white\", \"linecolor\": \"white\", \"minorgridcolor\": \"white\", \"startlinecolor\": \"#2a3f5f\"}, \"baxis\": {\"endlinecolor\": \"#2a3f5f\", \"gridcolor\": \"white\", \"linecolor\": \"white\", \"minorgridcolor\": \"white\", \"startlinecolor\": \"#2a3f5f\"}, \"type\": \"carpet\"}], \"choropleth\": [{\"colorbar\": {\"outlinewidth\": 0, \"ticks\": \"\"}, \"type\": \"choropleth\"}], \"contour\": [{\"colorbar\": {\"outlinewidth\": 0, \"ticks\": \"\"}, \"colorscale\": [[0.0, \"#0d0887\"], [0.1111111111111111, \"#46039f\"], [0.2222222222222222, \"#7201a8\"], [0.3333333333333333, \"#9c179e\"], [0.4444444444444444, \"#bd3786\"], [0.5555555555555556, \"#d8576b\"], [0.6666666666666666, \"#ed7953\"], [0.7777777777777778, \"#fb9f3a\"], [0.8888888888888888, \"#fdca26\"], [1.0, \"#f0f921\"]], \"type\": \"contour\"}], \"contourcarpet\": [{\"colorbar\": {\"outlinewidth\": 0, \"ticks\": \"\"}, \"type\": \"contourcarpet\"}], \"heatmap\": [{\"colorbar\": {\"outlinewidth\": 0, \"ticks\": \"\"}, \"colorscale\": [[0.0, \"#0d0887\"], [0.1111111111111111, \"#46039f\"], [0.2222222222222222, \"#7201a8\"], [0.3333333333333333, \"#9c179e\"], [0.4444444444444444, \"#bd3786\"], [0.5555555555555556, \"#d8576b\"], [0.6666666666666666, \"#ed7953\"], [0.7777777777777778, \"#fb9f3a\"], [0.8888888888888888, \"#fdca26\"], [1.0, \"#f0f921\"]], \"type\": \"heatmap\"}], \"heatmapgl\": [{\"colorbar\": {\"outlinewidth\": 0, \"ticks\": \"\"}, \"colorscale\": [[0.0, \"#0d0887\"], [0.1111111111111111, \"#46039f\"], [0.2222222222222222, \"#7201a8\"], [0.3333333333333333, \"#9c179e\"], [0.4444444444444444, \"#bd3786\"], [0.5555555555555556, \"#d8576b\"], [0.6666666666666666, \"#ed7953\"], [0.7777777777777778, \"#fb9f3a\"], [0.8888888888888888, \"#fdca26\"], [1.0, \"#f0f921\"]], \"type\": \"heatmapgl\"}], \"histogram\": [{\"marker\": {\"colorbar\": {\"outlinewidth\": 0, \"ticks\": \"\"}}, \"type\": \"histogram\"}], \"histogram2d\": [{\"colorbar\": {\"outlinewidth\": 0, \"ticks\": \"\"}, \"colorscale\": [[0.0, \"#0d0887\"], [0.1111111111111111, \"#46039f\"], [0.2222222222222222, \"#7201a8\"], [0.3333333333333333, \"#9c179e\"], [0.4444444444444444, \"#bd3786\"], [0.5555555555555556, \"#d8576b\"], [0.6666666666666666, \"#ed7953\"], [0.7777777777777778, \"#fb9f3a\"], [0.8888888888888888, \"#fdca26\"], [1.0, \"#f0f921\"]], \"type\": \"histogram2d\"}], \"histogram2dcontour\": [{\"colorbar\": {\"outlinewidth\": 0, \"ticks\": \"\"}, \"colorscale\": [[0.0, \"#0d0887\"], [0.1111111111111111, \"#46039f\"], [0.2222222222222222, \"#7201a8\"], [0.3333333333333333, \"#9c179e\"], [0.4444444444444444, \"#bd3786\"], [0.5555555555555556, \"#d8576b\"], [0.6666666666666666, \"#ed7953\"], [0.7777777777777778, \"#fb9f3a\"], [0.8888888888888888, \"#fdca26\"], [1.0, \"#f0f921\"]], \"type\": \"histogram2dcontour\"}], \"mesh3d\": [{\"colorbar\": {\"outlinewidth\": 0, \"ticks\": \"\"}, \"type\": \"mesh3d\"}], \"parcoords\": [{\"line\": {\"colorbar\": {\"outlinewidth\": 0, \"ticks\": \"\"}}, \"type\": \"parcoords\"}], \"pie\": [{\"automargin\": true, \"type\": \"pie\"}], \"scatter\": [{\"marker\": {\"colorbar\": {\"outlinewidth\": 0, \"ticks\": \"\"}}, \"type\": \"scatter\"}], \"scatter3d\": [{\"line\": {\"colorbar\": {\"outlinewidth\": 0, \"ticks\": \"\"}}, \"marker\": {\"colorbar\": {\"outlinewidth\": 0, \"ticks\": \"\"}}, \"type\": \"scatter3d\"}], \"scattercarpet\": [{\"marker\": {\"colorbar\": {\"outlinewidth\": 0, \"ticks\": \"\"}}, \"type\": \"scattercarpet\"}], \"scattergeo\": [{\"marker\": {\"colorbar\": {\"outlinewidth\": 0, \"ticks\": \"\"}}, \"type\": \"scattergeo\"}], \"scattergl\": [{\"marker\": {\"colorbar\": {\"outlinewidth\": 0, \"ticks\": \"\"}}, \"type\": \"scattergl\"}], \"scattermapbox\": [{\"marker\": {\"colorbar\": {\"outlinewidth\": 0, \"ticks\": \"\"}}, \"type\": \"scattermapbox\"}], \"scatterpolar\": [{\"marker\": {\"colorbar\": {\"outlinewidth\": 0, \"ticks\": \"\"}}, \"type\": \"scatterpolar\"}], \"scatterpolargl\": [{\"marker\": {\"colorbar\": {\"outlinewidth\": 0, \"ticks\": \"\"}}, \"type\": \"scatterpolargl\"}], \"scatterternary\": [{\"marker\": {\"colorbar\": {\"outlinewidth\": 0, \"ticks\": \"\"}}, \"type\": \"scatterternary\"}], \"surface\": [{\"colorbar\": {\"outlinewidth\": 0, \"ticks\": \"\"}, \"colorscale\": [[0.0, \"#0d0887\"], [0.1111111111111111, \"#46039f\"], [0.2222222222222222, \"#7201a8\"], [0.3333333333333333, \"#9c179e\"], [0.4444444444444444, \"#bd3786\"], [0.5555555555555556, \"#d8576b\"], [0.6666666666666666, \"#ed7953\"], [0.7777777777777778, \"#fb9f3a\"], [0.8888888888888888, \"#fdca26\"], [1.0, \"#f0f921\"]], \"type\": \"surface\"}], \"table\": [{\"cells\": {\"fill\": {\"color\": \"#EBF0F8\"}, \"line\": {\"color\": \"white\"}}, \"header\": {\"fill\": {\"color\": \"#C8D4E3\"}, \"line\": {\"color\": \"white\"}}, \"type\": \"table\"}]}, \"layout\": {\"annotationdefaults\": {\"arrowcolor\": \"#2a3f5f\", \"arrowhead\": 0, \"arrowwidth\": 1}, \"autotypenumbers\": \"strict\", \"coloraxis\": {\"colorbar\": {\"outlinewidth\": 0, \"ticks\": \"\"}}, \"colorscale\": {\"diverging\": [[0, \"#8e0152\"], [0.1, \"#c51b7d\"], [0.2, \"#de77ae\"], [0.3, \"#f1b6da\"], [0.4, \"#fde0ef\"], [0.5, \"#f7f7f7\"], [0.6, \"#e6f5d0\"], [0.7, \"#b8e186\"], [0.8, \"#7fbc41\"], [0.9, \"#4d9221\"], [1, \"#276419\"]], \"sequential\": [[0.0, \"#0d0887\"], [0.1111111111111111, \"#46039f\"], [0.2222222222222222, \"#7201a8\"], [0.3333333333333333, \"#9c179e\"], [0.4444444444444444, \"#bd3786\"], [0.5555555555555556, \"#d8576b\"], [0.6666666666666666, \"#ed7953\"], [0.7777777777777778, \"#fb9f3a\"], [0.8888888888888888, \"#fdca26\"], [1.0, \"#f0f921\"]], \"sequentialminus\": [[0.0, \"#0d0887\"], [0.1111111111111111, \"#46039f\"], [0.2222222222222222, \"#7201a8\"], [0.3333333333333333, \"#9c179e\"], [0.4444444444444444, \"#bd3786\"], [0.5555555555555556, \"#d8576b\"], [0.6666666666666666, \"#ed7953\"], [0.7777777777777778, \"#fb9f3a\"], [0.8888888888888888, \"#fdca26\"], [1.0, \"#f0f921\"]]}, \"colorway\": [\"#636efa\", \"#EF553B\", \"#00cc96\", \"#ab63fa\", \"#FFA15A\", \"#19d3f3\", \"#FF6692\", \"#B6E880\", \"#FF97FF\", \"#FECB52\"], \"font\": {\"color\": \"#2a3f5f\"}, \"geo\": {\"bgcolor\": \"white\", \"lakecolor\": \"white\", \"landcolor\": \"#E5ECF6\", \"showlakes\": true, \"showland\": true, \"subunitcolor\": \"white\"}, \"hoverlabel\": {\"align\": \"left\"}, \"hovermode\": \"closest\", \"mapbox\": {\"style\": \"light\"}, \"paper_bgcolor\": \"white\", \"plot_bgcolor\": \"#E5ECF6\", \"polar\": {\"angularaxis\": {\"gridcolor\": \"white\", \"linecolor\": \"white\", \"ticks\": \"\"}, \"bgcolor\": \"#E5ECF6\", \"radialaxis\": {\"gridcolor\": \"white\", \"linecolor\": \"white\", \"ticks\": \"\"}}, \"scene\": {\"xaxis\": {\"backgroundcolor\": \"#E5ECF6\", \"gridcolor\": \"white\", \"gridwidth\": 2, \"linecolor\": \"white\", \"showbackground\": true, \"ticks\": \"\", \"zerolinecolor\": \"white\"}, \"yaxis\": {\"backgroundcolor\": \"#E5ECF6\", \"gridcolor\": \"white\", \"gridwidth\": 2, \"linecolor\": \"white\", \"showbackground\": true, \"ticks\": \"\", \"zerolinecolor\": \"white\"}, \"zaxis\": {\"backgroundcolor\": \"#E5ECF6\", \"gridcolor\": \"white\", \"gridwidth\": 2, \"linecolor\": \"white\", \"showbackground\": true, \"ticks\": \"\", \"zerolinecolor\": \"white\"}}, \"shapedefaults\": {\"line\": {\"color\": \"#2a3f5f\"}}, \"ternary\": {\"aaxis\": {\"gridcolor\": \"white\", \"linecolor\": \"white\", \"ticks\": \"\"}, \"baxis\": {\"gridcolor\": \"white\", \"linecolor\": \"white\", \"ticks\": \"\"}, \"bgcolor\": \"#E5ECF6\", \"caxis\": {\"gridcolor\": \"white\", \"linecolor\": \"white\", \"ticks\": \"\"}}, \"title\": {\"x\": 0.05}, \"xaxis\": {\"automargin\": true, \"gridcolor\": \"white\", \"linecolor\": \"white\", \"ticks\": \"\", \"title\": {\"standoff\": 15}, \"zerolinecolor\": \"white\", \"zerolinewidth\": 2}, \"yaxis\": {\"automargin\": true, \"gridcolor\": \"white\", \"linecolor\": \"white\", \"ticks\": \"\", \"title\": {\"standoff\": 15}, \"zerolinecolor\": \"white\", \"zerolinewidth\": 2}}}, \"title\": {\"font\": {\"color\": \"#4D5663\"}}, \"xaxis\": {\"gridcolor\": \"#E1E5ED\", \"showgrid\": true, \"tickfont\": {\"color\": \"#4D5663\"}, \"title\": {\"font\": {\"color\": \"#4D5663\"}, \"text\": \"\"}, \"zerolinecolor\": \"#E1E5ED\"}, \"xaxis2\": {\"anchor\": \"y2\", \"gridcolor\": \"#E1E5ED\", \"showgrid\": true, \"showticklabels\": false, \"tickfont\": {\"color\": \"#4D5663\"}, \"title\": {\"font\": {\"color\": \"#4D5663\"}, \"text\": \"\"}, \"zerolinecolor\": \"#E1E5ED\"}, \"yaxis\": {\"domain\": [0.3, 1], \"gridcolor\": \"#E1E5ED\", \"showgrid\": true, \"tickfont\": {\"color\": \"#4D5663\"}, \"title\": {\"font\": {\"color\": \"#4D5663\"}, \"text\": \"\"}, \"zerolinecolor\": \"#E1E5ED\"}, \"yaxis2\": {\"domain\": [0, 0.25], \"gridcolor\": \"#E1E5ED\", \"showgrid\": true, \"tickfont\": {\"color\": \"#4D5663\"}, \"title\": {\"font\": {\"color\": \"#4D5663\"}, \"text\": \"Spread\"}, \"zerolinecolor\": \"#E1E5ED\"}},                        {\"showLink\": true, \"linkText\": \"Export to plot.ly\", \"plotlyServerURL\": \"https://plot.ly\", \"responsive\": true}                    ).then(function(){\n",
       "                            \n",
       "var gd = document.getElementById('712b92a8-acd3-4e67-994c-9e8b75f15ddb');\n",
       "var x = new MutationObserver(function (mutations, observer) {{\n",
       "        var display = window.getComputedStyle(gd).display;\n",
       "        if (!display || display === 'none') {{\n",
       "            console.log([gd, 'removed!']);\n",
       "            Plotly.purge(gd);\n",
       "            observer.disconnect();\n",
       "        }}\n",
       "}});\n",
       "\n",
       "// Listen for the removal of the full notebook cells\n",
       "var notebookContainer = gd.closest('#notebook-container');\n",
       "if (notebookContainer) {{\n",
       "    x.observe(notebookContainer, {childList: true});\n",
       "}}\n",
       "\n",
       "// Listen for the clearing of the current output cell\n",
       "var outputEl = gd.closest('.output');\n",
       "if (outputEl) {{\n",
       "    x.observe(outputEl, {childList: true});\n",
       "}}\n",
       "\n",
       "                        })                };                });            </script>        </div>"
      ]
     },
     "metadata": {},
     "output_type": "display_data"
    }
   ],
   "source": [
    "df[['A','B']].iplot(kind='spread')"
   ]
  },
  {
   "cell_type": "markdown",
   "metadata": {},
   "source": [
    "## histogram"
   ]
  },
  {
   "cell_type": "code",
   "execution_count": 16,
   "metadata": {},
   "outputs": [
    {
     "data": {
      "application/vnd.plotly.v1+json": {
       "config": {
        "linkText": "Export to plot.ly",
        "plotlyServerURL": "https://plot.ly",
        "showLink": true
       },
       "data": [
        {
         "histfunc": "count",
         "histnorm": "",
         "marker": {
          "color": "rgba(255, 153, 51, 1.0)",
          "line": {
           "color": "#4D5663",
           "width": 1.3
          }
         },
         "name": "A",
         "nbinsx": 25,
         "opacity": 0.8,
         "orientation": "v",
         "type": "histogram",
         "x": [
          -1.1327043841981699,
          0.43957848880133177,
          1.2915937209904265,
          -0.062483491122553636,
          -0.33030927847358615,
          -0.2534474880004595,
          -0.2944241123130243,
          1.5571960481692488,
          0.6371386751068504,
          1.3768911706132103,
          -0.3111060058480483,
          0.44001685729780704,
          -1.4536275467577977,
          -1.6415748499370881,
          0.8726454311647474,
          0.948365003585562,
          -0.42647265263416617,
          -0.929921357458483,
          0.054292957326093585,
          0.017311020327317662,
          -1.5775954742239748,
          -0.31197459072302897,
          0.17374730429197757,
          -1.0417282984941945,
          -0.6280579320106916,
          -1.1132217004307798,
          -1.2361264792311064,
          -0.08786660273665906,
          1.0579986356232067,
          1.0760107706598756,
          -0.23131709679940984,
          -1.3607889094569379,
          1.3693192944478547,
          0.4302812353538046,
          0.12254684981983366,
          1.1274643722935607,
          0.18320422398547292,
          0.30394428324033396,
          -0.6294843259909126,
          -0.4823586953926577,
          -0.7180018874614976,
          -1.0560574742310123,
          -1.3085350821883401,
          -0.5814075572348782,
          -0.16184044883768145,
          -1.5721324300161514,
          0.6950065710683002,
          -0.8314692641278058,
          -0.12355865229498265,
          -0.8329353995904607,
          0.17274297111644685,
          1.2443883422087991,
          0.9702273312635,
          0.30752907318544453,
          0.061608252054063374,
          -0.17333362701213742,
          -0.27282472623696086,
          0.8606730370573321,
          -0.8747093448472467,
          0.17042438544837848,
          -0.29221679794432104,
          1.7156012441377246,
          -1.4258483478797175,
          0.30797346436635253,
          0.2539845798111618,
          -0.24376782227695817,
          -0.06566607781142401,
          -0.3573574364488877,
          0.8950415597885233,
          0.599948696764544,
          1.9671354385302708,
          0.4635816065027918,
          -1.7576051479490429,
          -0.47463512313190587,
          0.6279840259871928,
          2.337365144079594,
          -0.30212451393262035,
          0.5324425304553116,
          -2.277238747080297,
          0.7441042927887853,
          0.45514531157539384,
          -2.3927510413580046,
          1.8952133023412787,
          0.9295907286676737,
          2.3536974688897296,
          -0.07835629742378766,
          -1.4529263558977208,
          -0.470744116641777,
          -0.9297063600714525,
          -0.5232787570826094,
          1.1585138937308408,
          0.598242881542253,
          0.1466116115414334,
          -1.0310511547083212,
          0.38700678632271857,
          -0.9584346155844385,
          0.46289732465719235,
          3.0497684309977395,
          0.6308845938611453,
          -1.4611363927415932
         ]
        }
       ],
       "layout": {
        "barmode": "overlay",
        "legend": {
         "bgcolor": "#F5F6F9",
         "font": {
          "color": "#4D5663"
         }
        },
        "paper_bgcolor": "#F5F6F9",
        "plot_bgcolor": "#F5F6F9",
        "template": {
         "data": {
          "bar": [
           {
            "error_x": {
             "color": "#2a3f5f"
            },
            "error_y": {
             "color": "#2a3f5f"
            },
            "marker": {
             "line": {
              "color": "#E5ECF6",
              "width": 0.5
             }
            },
            "type": "bar"
           }
          ],
          "barpolar": [
           {
            "marker": {
             "line": {
              "color": "#E5ECF6",
              "width": 0.5
             }
            },
            "type": "barpolar"
           }
          ],
          "carpet": [
           {
            "aaxis": {
             "endlinecolor": "#2a3f5f",
             "gridcolor": "white",
             "linecolor": "white",
             "minorgridcolor": "white",
             "startlinecolor": "#2a3f5f"
            },
            "baxis": {
             "endlinecolor": "#2a3f5f",
             "gridcolor": "white",
             "linecolor": "white",
             "minorgridcolor": "white",
             "startlinecolor": "#2a3f5f"
            },
            "type": "carpet"
           }
          ],
          "choropleth": [
           {
            "colorbar": {
             "outlinewidth": 0,
             "ticks": ""
            },
            "type": "choropleth"
           }
          ],
          "contour": [
           {
            "colorbar": {
             "outlinewidth": 0,
             "ticks": ""
            },
            "colorscale": [
             [
              0,
              "#0d0887"
             ],
             [
              0.1111111111111111,
              "#46039f"
             ],
             [
              0.2222222222222222,
              "#7201a8"
             ],
             [
              0.3333333333333333,
              "#9c179e"
             ],
             [
              0.4444444444444444,
              "#bd3786"
             ],
             [
              0.5555555555555556,
              "#d8576b"
             ],
             [
              0.6666666666666666,
              "#ed7953"
             ],
             [
              0.7777777777777778,
              "#fb9f3a"
             ],
             [
              0.8888888888888888,
              "#fdca26"
             ],
             [
              1,
              "#f0f921"
             ]
            ],
            "type": "contour"
           }
          ],
          "contourcarpet": [
           {
            "colorbar": {
             "outlinewidth": 0,
             "ticks": ""
            },
            "type": "contourcarpet"
           }
          ],
          "heatmap": [
           {
            "colorbar": {
             "outlinewidth": 0,
             "ticks": ""
            },
            "colorscale": [
             [
              0,
              "#0d0887"
             ],
             [
              0.1111111111111111,
              "#46039f"
             ],
             [
              0.2222222222222222,
              "#7201a8"
             ],
             [
              0.3333333333333333,
              "#9c179e"
             ],
             [
              0.4444444444444444,
              "#bd3786"
             ],
             [
              0.5555555555555556,
              "#d8576b"
             ],
             [
              0.6666666666666666,
              "#ed7953"
             ],
             [
              0.7777777777777778,
              "#fb9f3a"
             ],
             [
              0.8888888888888888,
              "#fdca26"
             ],
             [
              1,
              "#f0f921"
             ]
            ],
            "type": "heatmap"
           }
          ],
          "heatmapgl": [
           {
            "colorbar": {
             "outlinewidth": 0,
             "ticks": ""
            },
            "colorscale": [
             [
              0,
              "#0d0887"
             ],
             [
              0.1111111111111111,
              "#46039f"
             ],
             [
              0.2222222222222222,
              "#7201a8"
             ],
             [
              0.3333333333333333,
              "#9c179e"
             ],
             [
              0.4444444444444444,
              "#bd3786"
             ],
             [
              0.5555555555555556,
              "#d8576b"
             ],
             [
              0.6666666666666666,
              "#ed7953"
             ],
             [
              0.7777777777777778,
              "#fb9f3a"
             ],
             [
              0.8888888888888888,
              "#fdca26"
             ],
             [
              1,
              "#f0f921"
             ]
            ],
            "type": "heatmapgl"
           }
          ],
          "histogram": [
           {
            "marker": {
             "colorbar": {
              "outlinewidth": 0,
              "ticks": ""
             }
            },
            "type": "histogram"
           }
          ],
          "histogram2d": [
           {
            "colorbar": {
             "outlinewidth": 0,
             "ticks": ""
            },
            "colorscale": [
             [
              0,
              "#0d0887"
             ],
             [
              0.1111111111111111,
              "#46039f"
             ],
             [
              0.2222222222222222,
              "#7201a8"
             ],
             [
              0.3333333333333333,
              "#9c179e"
             ],
             [
              0.4444444444444444,
              "#bd3786"
             ],
             [
              0.5555555555555556,
              "#d8576b"
             ],
             [
              0.6666666666666666,
              "#ed7953"
             ],
             [
              0.7777777777777778,
              "#fb9f3a"
             ],
             [
              0.8888888888888888,
              "#fdca26"
             ],
             [
              1,
              "#f0f921"
             ]
            ],
            "type": "histogram2d"
           }
          ],
          "histogram2dcontour": [
           {
            "colorbar": {
             "outlinewidth": 0,
             "ticks": ""
            },
            "colorscale": [
             [
              0,
              "#0d0887"
             ],
             [
              0.1111111111111111,
              "#46039f"
             ],
             [
              0.2222222222222222,
              "#7201a8"
             ],
             [
              0.3333333333333333,
              "#9c179e"
             ],
             [
              0.4444444444444444,
              "#bd3786"
             ],
             [
              0.5555555555555556,
              "#d8576b"
             ],
             [
              0.6666666666666666,
              "#ed7953"
             ],
             [
              0.7777777777777778,
              "#fb9f3a"
             ],
             [
              0.8888888888888888,
              "#fdca26"
             ],
             [
              1,
              "#f0f921"
             ]
            ],
            "type": "histogram2dcontour"
           }
          ],
          "mesh3d": [
           {
            "colorbar": {
             "outlinewidth": 0,
             "ticks": ""
            },
            "type": "mesh3d"
           }
          ],
          "parcoords": [
           {
            "line": {
             "colorbar": {
              "outlinewidth": 0,
              "ticks": ""
             }
            },
            "type": "parcoords"
           }
          ],
          "pie": [
           {
            "automargin": true,
            "type": "pie"
           }
          ],
          "scatter": [
           {
            "marker": {
             "colorbar": {
              "outlinewidth": 0,
              "ticks": ""
             }
            },
            "type": "scatter"
           }
          ],
          "scatter3d": [
           {
            "line": {
             "colorbar": {
              "outlinewidth": 0,
              "ticks": ""
             }
            },
            "marker": {
             "colorbar": {
              "outlinewidth": 0,
              "ticks": ""
             }
            },
            "type": "scatter3d"
           }
          ],
          "scattercarpet": [
           {
            "marker": {
             "colorbar": {
              "outlinewidth": 0,
              "ticks": ""
             }
            },
            "type": "scattercarpet"
           }
          ],
          "scattergeo": [
           {
            "marker": {
             "colorbar": {
              "outlinewidth": 0,
              "ticks": ""
             }
            },
            "type": "scattergeo"
           }
          ],
          "scattergl": [
           {
            "marker": {
             "colorbar": {
              "outlinewidth": 0,
              "ticks": ""
             }
            },
            "type": "scattergl"
           }
          ],
          "scattermapbox": [
           {
            "marker": {
             "colorbar": {
              "outlinewidth": 0,
              "ticks": ""
             }
            },
            "type": "scattermapbox"
           }
          ],
          "scatterpolar": [
           {
            "marker": {
             "colorbar": {
              "outlinewidth": 0,
              "ticks": ""
             }
            },
            "type": "scatterpolar"
           }
          ],
          "scatterpolargl": [
           {
            "marker": {
             "colorbar": {
              "outlinewidth": 0,
              "ticks": ""
             }
            },
            "type": "scatterpolargl"
           }
          ],
          "scatterternary": [
           {
            "marker": {
             "colorbar": {
              "outlinewidth": 0,
              "ticks": ""
             }
            },
            "type": "scatterternary"
           }
          ],
          "surface": [
           {
            "colorbar": {
             "outlinewidth": 0,
             "ticks": ""
            },
            "colorscale": [
             [
              0,
              "#0d0887"
             ],
             [
              0.1111111111111111,
              "#46039f"
             ],
             [
              0.2222222222222222,
              "#7201a8"
             ],
             [
              0.3333333333333333,
              "#9c179e"
             ],
             [
              0.4444444444444444,
              "#bd3786"
             ],
             [
              0.5555555555555556,
              "#d8576b"
             ],
             [
              0.6666666666666666,
              "#ed7953"
             ],
             [
              0.7777777777777778,
              "#fb9f3a"
             ],
             [
              0.8888888888888888,
              "#fdca26"
             ],
             [
              1,
              "#f0f921"
             ]
            ],
            "type": "surface"
           }
          ],
          "table": [
           {
            "cells": {
             "fill": {
              "color": "#EBF0F8"
             },
             "line": {
              "color": "white"
             }
            },
            "header": {
             "fill": {
              "color": "#C8D4E3"
             },
             "line": {
              "color": "white"
             }
            },
            "type": "table"
           }
          ]
         },
         "layout": {
          "annotationdefaults": {
           "arrowcolor": "#2a3f5f",
           "arrowhead": 0,
           "arrowwidth": 1
          },
          "autotypenumbers": "strict",
          "coloraxis": {
           "colorbar": {
            "outlinewidth": 0,
            "ticks": ""
           }
          },
          "colorscale": {
           "diverging": [
            [
             0,
             "#8e0152"
            ],
            [
             0.1,
             "#c51b7d"
            ],
            [
             0.2,
             "#de77ae"
            ],
            [
             0.3,
             "#f1b6da"
            ],
            [
             0.4,
             "#fde0ef"
            ],
            [
             0.5,
             "#f7f7f7"
            ],
            [
             0.6,
             "#e6f5d0"
            ],
            [
             0.7,
             "#b8e186"
            ],
            [
             0.8,
             "#7fbc41"
            ],
            [
             0.9,
             "#4d9221"
            ],
            [
             1,
             "#276419"
            ]
           ],
           "sequential": [
            [
             0,
             "#0d0887"
            ],
            [
             0.1111111111111111,
             "#46039f"
            ],
            [
             0.2222222222222222,
             "#7201a8"
            ],
            [
             0.3333333333333333,
             "#9c179e"
            ],
            [
             0.4444444444444444,
             "#bd3786"
            ],
            [
             0.5555555555555556,
             "#d8576b"
            ],
            [
             0.6666666666666666,
             "#ed7953"
            ],
            [
             0.7777777777777778,
             "#fb9f3a"
            ],
            [
             0.8888888888888888,
             "#fdca26"
            ],
            [
             1,
             "#f0f921"
            ]
           ],
           "sequentialminus": [
            [
             0,
             "#0d0887"
            ],
            [
             0.1111111111111111,
             "#46039f"
            ],
            [
             0.2222222222222222,
             "#7201a8"
            ],
            [
             0.3333333333333333,
             "#9c179e"
            ],
            [
             0.4444444444444444,
             "#bd3786"
            ],
            [
             0.5555555555555556,
             "#d8576b"
            ],
            [
             0.6666666666666666,
             "#ed7953"
            ],
            [
             0.7777777777777778,
             "#fb9f3a"
            ],
            [
             0.8888888888888888,
             "#fdca26"
            ],
            [
             1,
             "#f0f921"
            ]
           ]
          },
          "colorway": [
           "#636efa",
           "#EF553B",
           "#00cc96",
           "#ab63fa",
           "#FFA15A",
           "#19d3f3",
           "#FF6692",
           "#B6E880",
           "#FF97FF",
           "#FECB52"
          ],
          "font": {
           "color": "#2a3f5f"
          },
          "geo": {
           "bgcolor": "white",
           "lakecolor": "white",
           "landcolor": "#E5ECF6",
           "showlakes": true,
           "showland": true,
           "subunitcolor": "white"
          },
          "hoverlabel": {
           "align": "left"
          },
          "hovermode": "closest",
          "mapbox": {
           "style": "light"
          },
          "paper_bgcolor": "white",
          "plot_bgcolor": "#E5ECF6",
          "polar": {
           "angularaxis": {
            "gridcolor": "white",
            "linecolor": "white",
            "ticks": ""
           },
           "bgcolor": "#E5ECF6",
           "radialaxis": {
            "gridcolor": "white",
            "linecolor": "white",
            "ticks": ""
           }
          },
          "scene": {
           "xaxis": {
            "backgroundcolor": "#E5ECF6",
            "gridcolor": "white",
            "gridwidth": 2,
            "linecolor": "white",
            "showbackground": true,
            "ticks": "",
            "zerolinecolor": "white"
           },
           "yaxis": {
            "backgroundcolor": "#E5ECF6",
            "gridcolor": "white",
            "gridwidth": 2,
            "linecolor": "white",
            "showbackground": true,
            "ticks": "",
            "zerolinecolor": "white"
           },
           "zaxis": {
            "backgroundcolor": "#E5ECF6",
            "gridcolor": "white",
            "gridwidth": 2,
            "linecolor": "white",
            "showbackground": true,
            "ticks": "",
            "zerolinecolor": "white"
           }
          },
          "shapedefaults": {
           "line": {
            "color": "#2a3f5f"
           }
          },
          "ternary": {
           "aaxis": {
            "gridcolor": "white",
            "linecolor": "white",
            "ticks": ""
           },
           "baxis": {
            "gridcolor": "white",
            "linecolor": "white",
            "ticks": ""
           },
           "bgcolor": "#E5ECF6",
           "caxis": {
            "gridcolor": "white",
            "linecolor": "white",
            "ticks": ""
           }
          },
          "title": {
           "x": 0.05
          },
          "xaxis": {
           "automargin": true,
           "gridcolor": "white",
           "linecolor": "white",
           "ticks": "",
           "title": {
            "standoff": 15
           },
           "zerolinecolor": "white",
           "zerolinewidth": 2
          },
          "yaxis": {
           "automargin": true,
           "gridcolor": "white",
           "linecolor": "white",
           "ticks": "",
           "title": {
            "standoff": 15
           },
           "zerolinecolor": "white",
           "zerolinewidth": 2
          }
         }
        },
        "title": {
         "font": {
          "color": "#4D5663"
         }
        },
        "xaxis": {
         "gridcolor": "#E1E5ED",
         "showgrid": true,
         "tickfont": {
          "color": "#4D5663"
         },
         "title": {
          "font": {
           "color": "#4D5663"
          },
          "text": ""
         },
         "zerolinecolor": "#E1E5ED"
        },
        "yaxis": {
         "gridcolor": "#E1E5ED",
         "showgrid": true,
         "tickfont": {
          "color": "#4D5663"
         },
         "title": {
          "font": {
           "color": "#4D5663"
          },
          "text": ""
         },
         "zerolinecolor": "#E1E5ED"
        }
       }
      },
      "text/html": [
       "<div>                            <div id=\"e23d27ae-02ab-4992-90e5-078e55a0f5cd\" class=\"plotly-graph-div\" style=\"height:525px; width:100%;\"></div>            <script type=\"text/javascript\">                require([\"plotly\"], function(Plotly) {                    window.PLOTLYENV=window.PLOTLYENV || {};\n",
       "                    window.PLOTLYENV.BASE_URL='https://plot.ly';                                    if (document.getElementById(\"e23d27ae-02ab-4992-90e5-078e55a0f5cd\")) {                    Plotly.newPlot(                        \"e23d27ae-02ab-4992-90e5-078e55a0f5cd\",                        [{\"histfunc\": \"count\", \"histnorm\": \"\", \"marker\": {\"color\": \"rgba(255, 153, 51, 1.0)\", \"line\": {\"color\": \"#4D5663\", \"width\": 1.3}}, \"name\": \"A\", \"nbinsx\": 25, \"opacity\": 0.8, \"orientation\": \"v\", \"type\": \"histogram\", \"x\": [-1.1327043841981699, 0.43957848880133177, 1.2915937209904265, -0.062483491122553636, -0.33030927847358615, -0.2534474880004595, -0.2944241123130243, 1.5571960481692488, 0.6371386751068504, 1.3768911706132103, -0.3111060058480483, 0.44001685729780704, -1.4536275467577977, -1.6415748499370881, 0.8726454311647474, 0.948365003585562, -0.42647265263416617, -0.929921357458483, 0.054292957326093585, 0.017311020327317662, -1.5775954742239748, -0.31197459072302897, 0.17374730429197757, -1.0417282984941945, -0.6280579320106916, -1.1132217004307798, -1.2361264792311064, -0.08786660273665906, 1.0579986356232067, 1.0760107706598756, -0.23131709679940984, -1.3607889094569379, 1.3693192944478547, 0.4302812353538046, 0.12254684981983366, 1.1274643722935607, 0.18320422398547292, 0.30394428324033396, -0.6294843259909126, -0.4823586953926577, -0.7180018874614976, -1.0560574742310123, -1.3085350821883401, -0.5814075572348782, -0.16184044883768145, -1.5721324300161514, 0.6950065710683002, -0.8314692641278058, -0.12355865229498265, -0.8329353995904607, 0.17274297111644685, 1.2443883422087991, 0.9702273312635, 0.30752907318544453, 0.061608252054063374, -0.17333362701213742, -0.27282472623696086, 0.8606730370573321, -0.8747093448472467, 0.17042438544837848, -0.29221679794432104, 1.7156012441377246, -1.4258483478797175, 0.30797346436635253, 0.2539845798111618, -0.24376782227695817, -0.06566607781142401, -0.3573574364488877, 0.8950415597885233, 0.599948696764544, 1.9671354385302708, 0.4635816065027918, -1.7576051479490429, -0.47463512313190587, 0.6279840259871928, 2.337365144079594, -0.30212451393262035, 0.5324425304553116, -2.277238747080297, 0.7441042927887853, 0.45514531157539384, -2.3927510413580046, 1.8952133023412787, 0.9295907286676737, 2.3536974688897296, -0.07835629742378766, -1.4529263558977208, -0.470744116641777, -0.9297063600714525, -0.5232787570826094, 1.1585138937308408, 0.598242881542253, 0.1466116115414334, -1.0310511547083212, 0.38700678632271857, -0.9584346155844385, 0.46289732465719235, 3.0497684309977395, 0.6308845938611453, -1.4611363927415932]}],                        {\"barmode\": \"overlay\", \"legend\": {\"bgcolor\": \"#F5F6F9\", \"font\": {\"color\": \"#4D5663\"}}, \"paper_bgcolor\": \"#F5F6F9\", \"plot_bgcolor\": \"#F5F6F9\", \"template\": {\"data\": {\"bar\": [{\"error_x\": {\"color\": \"#2a3f5f\"}, \"error_y\": {\"color\": \"#2a3f5f\"}, \"marker\": {\"line\": {\"color\": \"#E5ECF6\", \"width\": 0.5}}, \"type\": \"bar\"}], \"barpolar\": [{\"marker\": {\"line\": {\"color\": \"#E5ECF6\", \"width\": 0.5}}, \"type\": \"barpolar\"}], \"carpet\": [{\"aaxis\": {\"endlinecolor\": \"#2a3f5f\", \"gridcolor\": \"white\", \"linecolor\": \"white\", \"minorgridcolor\": \"white\", \"startlinecolor\": \"#2a3f5f\"}, \"baxis\": {\"endlinecolor\": \"#2a3f5f\", \"gridcolor\": \"white\", \"linecolor\": \"white\", \"minorgridcolor\": \"white\", \"startlinecolor\": \"#2a3f5f\"}, \"type\": \"carpet\"}], \"choropleth\": [{\"colorbar\": {\"outlinewidth\": 0, \"ticks\": \"\"}, \"type\": \"choropleth\"}], \"contour\": [{\"colorbar\": {\"outlinewidth\": 0, \"ticks\": \"\"}, \"colorscale\": [[0.0, \"#0d0887\"], [0.1111111111111111, \"#46039f\"], [0.2222222222222222, \"#7201a8\"], [0.3333333333333333, \"#9c179e\"], [0.4444444444444444, \"#bd3786\"], [0.5555555555555556, \"#d8576b\"], [0.6666666666666666, \"#ed7953\"], [0.7777777777777778, \"#fb9f3a\"], [0.8888888888888888, \"#fdca26\"], [1.0, \"#f0f921\"]], \"type\": \"contour\"}], \"contourcarpet\": [{\"colorbar\": {\"outlinewidth\": 0, \"ticks\": \"\"}, \"type\": \"contourcarpet\"}], \"heatmap\": [{\"colorbar\": {\"outlinewidth\": 0, \"ticks\": \"\"}, \"colorscale\": [[0.0, \"#0d0887\"], [0.1111111111111111, \"#46039f\"], [0.2222222222222222, \"#7201a8\"], [0.3333333333333333, \"#9c179e\"], [0.4444444444444444, \"#bd3786\"], [0.5555555555555556, \"#d8576b\"], [0.6666666666666666, \"#ed7953\"], [0.7777777777777778, \"#fb9f3a\"], [0.8888888888888888, \"#fdca26\"], [1.0, \"#f0f921\"]], \"type\": \"heatmap\"}], \"heatmapgl\": [{\"colorbar\": {\"outlinewidth\": 0, \"ticks\": \"\"}, \"colorscale\": [[0.0, \"#0d0887\"], [0.1111111111111111, \"#46039f\"], [0.2222222222222222, \"#7201a8\"], [0.3333333333333333, \"#9c179e\"], [0.4444444444444444, \"#bd3786\"], [0.5555555555555556, \"#d8576b\"], [0.6666666666666666, \"#ed7953\"], [0.7777777777777778, \"#fb9f3a\"], [0.8888888888888888, \"#fdca26\"], [1.0, \"#f0f921\"]], \"type\": \"heatmapgl\"}], \"histogram\": [{\"marker\": {\"colorbar\": {\"outlinewidth\": 0, \"ticks\": \"\"}}, \"type\": \"histogram\"}], \"histogram2d\": [{\"colorbar\": {\"outlinewidth\": 0, \"ticks\": \"\"}, \"colorscale\": [[0.0, \"#0d0887\"], [0.1111111111111111, \"#46039f\"], [0.2222222222222222, \"#7201a8\"], [0.3333333333333333, \"#9c179e\"], [0.4444444444444444, \"#bd3786\"], [0.5555555555555556, \"#d8576b\"], [0.6666666666666666, \"#ed7953\"], [0.7777777777777778, \"#fb9f3a\"], [0.8888888888888888, \"#fdca26\"], [1.0, \"#f0f921\"]], \"type\": \"histogram2d\"}], \"histogram2dcontour\": [{\"colorbar\": {\"outlinewidth\": 0, \"ticks\": \"\"}, \"colorscale\": [[0.0, \"#0d0887\"], [0.1111111111111111, \"#46039f\"], [0.2222222222222222, \"#7201a8\"], [0.3333333333333333, \"#9c179e\"], [0.4444444444444444, \"#bd3786\"], [0.5555555555555556, \"#d8576b\"], [0.6666666666666666, \"#ed7953\"], [0.7777777777777778, \"#fb9f3a\"], [0.8888888888888888, \"#fdca26\"], [1.0, \"#f0f921\"]], \"type\": \"histogram2dcontour\"}], \"mesh3d\": [{\"colorbar\": {\"outlinewidth\": 0, \"ticks\": \"\"}, \"type\": \"mesh3d\"}], \"parcoords\": [{\"line\": {\"colorbar\": {\"outlinewidth\": 0, \"ticks\": \"\"}}, \"type\": \"parcoords\"}], \"pie\": [{\"automargin\": true, \"type\": \"pie\"}], \"scatter\": [{\"marker\": {\"colorbar\": {\"outlinewidth\": 0, \"ticks\": \"\"}}, \"type\": \"scatter\"}], \"scatter3d\": [{\"line\": {\"colorbar\": {\"outlinewidth\": 0, \"ticks\": \"\"}}, \"marker\": {\"colorbar\": {\"outlinewidth\": 0, \"ticks\": \"\"}}, \"type\": \"scatter3d\"}], \"scattercarpet\": [{\"marker\": {\"colorbar\": {\"outlinewidth\": 0, \"ticks\": \"\"}}, \"type\": \"scattercarpet\"}], \"scattergeo\": [{\"marker\": {\"colorbar\": {\"outlinewidth\": 0, \"ticks\": \"\"}}, \"type\": \"scattergeo\"}], \"scattergl\": [{\"marker\": {\"colorbar\": {\"outlinewidth\": 0, \"ticks\": \"\"}}, \"type\": \"scattergl\"}], \"scattermapbox\": [{\"marker\": {\"colorbar\": {\"outlinewidth\": 0, \"ticks\": \"\"}}, \"type\": \"scattermapbox\"}], \"scatterpolar\": [{\"marker\": {\"colorbar\": {\"outlinewidth\": 0, \"ticks\": \"\"}}, \"type\": \"scatterpolar\"}], \"scatterpolargl\": [{\"marker\": {\"colorbar\": {\"outlinewidth\": 0, \"ticks\": \"\"}}, \"type\": \"scatterpolargl\"}], \"scatterternary\": [{\"marker\": {\"colorbar\": {\"outlinewidth\": 0, \"ticks\": \"\"}}, \"type\": \"scatterternary\"}], \"surface\": [{\"colorbar\": {\"outlinewidth\": 0, \"ticks\": \"\"}, \"colorscale\": [[0.0, \"#0d0887\"], [0.1111111111111111, \"#46039f\"], [0.2222222222222222, \"#7201a8\"], [0.3333333333333333, \"#9c179e\"], [0.4444444444444444, \"#bd3786\"], [0.5555555555555556, \"#d8576b\"], [0.6666666666666666, \"#ed7953\"], [0.7777777777777778, \"#fb9f3a\"], [0.8888888888888888, \"#fdca26\"], [1.0, \"#f0f921\"]], \"type\": \"surface\"}], \"table\": [{\"cells\": {\"fill\": {\"color\": \"#EBF0F8\"}, \"line\": {\"color\": \"white\"}}, \"header\": {\"fill\": {\"color\": \"#C8D4E3\"}, \"line\": {\"color\": \"white\"}}, \"type\": \"table\"}]}, \"layout\": {\"annotationdefaults\": {\"arrowcolor\": \"#2a3f5f\", \"arrowhead\": 0, \"arrowwidth\": 1}, \"autotypenumbers\": \"strict\", \"coloraxis\": {\"colorbar\": {\"outlinewidth\": 0, \"ticks\": \"\"}}, \"colorscale\": {\"diverging\": [[0, \"#8e0152\"], [0.1, \"#c51b7d\"], [0.2, \"#de77ae\"], [0.3, \"#f1b6da\"], [0.4, \"#fde0ef\"], [0.5, \"#f7f7f7\"], [0.6, \"#e6f5d0\"], [0.7, \"#b8e186\"], [0.8, \"#7fbc41\"], [0.9, \"#4d9221\"], [1, \"#276419\"]], \"sequential\": [[0.0, \"#0d0887\"], [0.1111111111111111, \"#46039f\"], [0.2222222222222222, \"#7201a8\"], [0.3333333333333333, \"#9c179e\"], [0.4444444444444444, \"#bd3786\"], [0.5555555555555556, \"#d8576b\"], [0.6666666666666666, \"#ed7953\"], [0.7777777777777778, \"#fb9f3a\"], [0.8888888888888888, \"#fdca26\"], [1.0, \"#f0f921\"]], \"sequentialminus\": [[0.0, \"#0d0887\"], [0.1111111111111111, \"#46039f\"], [0.2222222222222222, \"#7201a8\"], [0.3333333333333333, \"#9c179e\"], [0.4444444444444444, \"#bd3786\"], [0.5555555555555556, \"#d8576b\"], [0.6666666666666666, \"#ed7953\"], [0.7777777777777778, \"#fb9f3a\"], [0.8888888888888888, \"#fdca26\"], [1.0, \"#f0f921\"]]}, \"colorway\": [\"#636efa\", \"#EF553B\", \"#00cc96\", \"#ab63fa\", \"#FFA15A\", \"#19d3f3\", \"#FF6692\", \"#B6E880\", \"#FF97FF\", \"#FECB52\"], \"font\": {\"color\": \"#2a3f5f\"}, \"geo\": {\"bgcolor\": \"white\", \"lakecolor\": \"white\", \"landcolor\": \"#E5ECF6\", \"showlakes\": true, \"showland\": true, \"subunitcolor\": \"white\"}, \"hoverlabel\": {\"align\": \"left\"}, \"hovermode\": \"closest\", \"mapbox\": {\"style\": \"light\"}, \"paper_bgcolor\": \"white\", \"plot_bgcolor\": \"#E5ECF6\", \"polar\": {\"angularaxis\": {\"gridcolor\": \"white\", \"linecolor\": \"white\", \"ticks\": \"\"}, \"bgcolor\": \"#E5ECF6\", \"radialaxis\": {\"gridcolor\": \"white\", \"linecolor\": \"white\", \"ticks\": \"\"}}, \"scene\": {\"xaxis\": {\"backgroundcolor\": \"#E5ECF6\", \"gridcolor\": \"white\", \"gridwidth\": 2, \"linecolor\": \"white\", \"showbackground\": true, \"ticks\": \"\", \"zerolinecolor\": \"white\"}, \"yaxis\": {\"backgroundcolor\": \"#E5ECF6\", \"gridcolor\": \"white\", \"gridwidth\": 2, \"linecolor\": \"white\", \"showbackground\": true, \"ticks\": \"\", \"zerolinecolor\": \"white\"}, \"zaxis\": {\"backgroundcolor\": \"#E5ECF6\", \"gridcolor\": \"white\", \"gridwidth\": 2, \"linecolor\": \"white\", \"showbackground\": true, \"ticks\": \"\", \"zerolinecolor\": \"white\"}}, \"shapedefaults\": {\"line\": {\"color\": \"#2a3f5f\"}}, \"ternary\": {\"aaxis\": {\"gridcolor\": \"white\", \"linecolor\": \"white\", \"ticks\": \"\"}, \"baxis\": {\"gridcolor\": \"white\", \"linecolor\": \"white\", \"ticks\": \"\"}, \"bgcolor\": \"#E5ECF6\", \"caxis\": {\"gridcolor\": \"white\", \"linecolor\": \"white\", \"ticks\": \"\"}}, \"title\": {\"x\": 0.05}, \"xaxis\": {\"automargin\": true, \"gridcolor\": \"white\", \"linecolor\": \"white\", \"ticks\": \"\", \"title\": {\"standoff\": 15}, \"zerolinecolor\": \"white\", \"zerolinewidth\": 2}, \"yaxis\": {\"automargin\": true, \"gridcolor\": \"white\", \"linecolor\": \"white\", \"ticks\": \"\", \"title\": {\"standoff\": 15}, \"zerolinecolor\": \"white\", \"zerolinewidth\": 2}}}, \"title\": {\"font\": {\"color\": \"#4D5663\"}}, \"xaxis\": {\"gridcolor\": \"#E1E5ED\", \"showgrid\": true, \"tickfont\": {\"color\": \"#4D5663\"}, \"title\": {\"font\": {\"color\": \"#4D5663\"}, \"text\": \"\"}, \"zerolinecolor\": \"#E1E5ED\"}, \"yaxis\": {\"gridcolor\": \"#E1E5ED\", \"showgrid\": true, \"tickfont\": {\"color\": \"#4D5663\"}, \"title\": {\"font\": {\"color\": \"#4D5663\"}, \"text\": \"\"}, \"zerolinecolor\": \"#E1E5ED\"}},                        {\"showLink\": true, \"linkText\": \"Export to plot.ly\", \"plotlyServerURL\": \"https://plot.ly\", \"responsive\": true}                    ).then(function(){\n",
       "                            \n",
       "var gd = document.getElementById('e23d27ae-02ab-4992-90e5-078e55a0f5cd');\n",
       "var x = new MutationObserver(function (mutations, observer) {{\n",
       "        var display = window.getComputedStyle(gd).display;\n",
       "        if (!display || display === 'none') {{\n",
       "            console.log([gd, 'removed!']);\n",
       "            Plotly.purge(gd);\n",
       "            observer.disconnect();\n",
       "        }}\n",
       "}});\n",
       "\n",
       "// Listen for the removal of the full notebook cells\n",
       "var notebookContainer = gd.closest('#notebook-container');\n",
       "if (notebookContainer) {{\n",
       "    x.observe(notebookContainer, {childList: true});\n",
       "}}\n",
       "\n",
       "// Listen for the clearing of the current output cell\n",
       "var outputEl = gd.closest('.output');\n",
       "if (outputEl) {{\n",
       "    x.observe(outputEl, {childList: true});\n",
       "}}\n",
       "\n",
       "                        })                };                });            </script>        </div>"
      ]
     },
     "metadata": {},
     "output_type": "display_data"
    }
   ],
   "source": [
    "df['A'].iplot(kind='hist',bins=25)"
   ]
  },
  {
   "cell_type": "code",
   "execution_count": 43,
   "metadata": {},
   "outputs": [
    {
     "data": {
      "text/html": [
       "<div>\n",
       "<style scoped>\n",
       "    .dataframe tbody tr th:only-of-type {\n",
       "        vertical-align: middle;\n",
       "    }\n",
       "\n",
       "    .dataframe tbody tr th {\n",
       "        vertical-align: top;\n",
       "    }\n",
       "\n",
       "    .dataframe thead th {\n",
       "        text-align: right;\n",
       "    }\n",
       "</style>\n",
       "<table border=\"1\" class=\"dataframe\">\n",
       "  <thead>\n",
       "    <tr style=\"text-align: right;\">\n",
       "      <th></th>\n",
       "      <th>A</th>\n",
       "      <th>B</th>\n",
       "      <th>C</th>\n",
       "      <th>D</th>\n",
       "    </tr>\n",
       "  </thead>\n",
       "  <tbody>\n",
       "    <tr>\n",
       "      <th>0</th>\n",
       "      <td>-0.544472</td>\n",
       "      <td>-0.420930</td>\n",
       "      <td>-0.135848</td>\n",
       "      <td>0.315900</td>\n",
       "    </tr>\n",
       "    <tr>\n",
       "      <th>1</th>\n",
       "      <td>0.359887</td>\n",
       "      <td>-0.596676</td>\n",
       "      <td>-1.098849</td>\n",
       "      <td>-0.411849</td>\n",
       "    </tr>\n",
       "    <tr>\n",
       "      <th>2</th>\n",
       "      <td>1.114751</td>\n",
       "      <td>-0.316440</td>\n",
       "      <td>-1.502068</td>\n",
       "      <td>0.161569</td>\n",
       "    </tr>\n",
       "    <tr>\n",
       "      <th>3</th>\n",
       "      <td>1.484546</td>\n",
       "      <td>-0.257834</td>\n",
       "      <td>-0.443864</td>\n",
       "      <td>-0.848910</td>\n",
       "    </tr>\n",
       "    <tr>\n",
       "      <th>4</th>\n",
       "      <td>0.872000</td>\n",
       "      <td>-0.157503</td>\n",
       "      <td>0.147410</td>\n",
       "      <td>0.617574</td>\n",
       "    </tr>\n",
       "    <tr>\n",
       "      <th>...</th>\n",
       "      <td>...</td>\n",
       "      <td>...</td>\n",
       "      <td>...</td>\n",
       "      <td>...</td>\n",
       "    </tr>\n",
       "    <tr>\n",
       "      <th>95</th>\n",
       "      <td>0.324719</td>\n",
       "      <td>0.582233</td>\n",
       "      <td>1.104840</td>\n",
       "      <td>-0.269783</td>\n",
       "    </tr>\n",
       "    <tr>\n",
       "      <th>96</th>\n",
       "      <td>-0.312643</td>\n",
       "      <td>0.055511</td>\n",
       "      <td>-2.745522</td>\n",
       "      <td>0.242794</td>\n",
       "    </tr>\n",
       "    <tr>\n",
       "      <th>97</th>\n",
       "      <td>-0.998208</td>\n",
       "      <td>0.665072</td>\n",
       "      <td>0.958360</td>\n",
       "      <td>0.973345</td>\n",
       "    </tr>\n",
       "    <tr>\n",
       "      <th>98</th>\n",
       "      <td>-0.085897</td>\n",
       "      <td>1.444534</td>\n",
       "      <td>0.718542</td>\n",
       "      <td>0.600644</td>\n",
       "    </tr>\n",
       "    <tr>\n",
       "      <th>99</th>\n",
       "      <td>1.502461</td>\n",
       "      <td>0.099998</td>\n",
       "      <td>0.121607</td>\n",
       "      <td>-1.610198</td>\n",
       "    </tr>\n",
       "  </tbody>\n",
       "</table>\n",
       "<p>100 rows × 4 columns</p>\n",
       "</div>"
      ],
      "text/plain": [
       "           A         B         C         D\n",
       "0  -0.544472 -0.420930 -0.135848  0.315900\n",
       "1   0.359887 -0.596676 -1.098849 -0.411849\n",
       "2   1.114751 -0.316440 -1.502068  0.161569\n",
       "3   1.484546 -0.257834 -0.443864 -0.848910\n",
       "4   0.872000 -0.157503  0.147410  0.617574\n",
       "..       ...       ...       ...       ...\n",
       "95  0.324719  0.582233  1.104840 -0.269783\n",
       "96 -0.312643  0.055511 -2.745522  0.242794\n",
       "97 -0.998208  0.665072  0.958360  0.973345\n",
       "98 -0.085897  1.444534  0.718542  0.600644\n",
       "99  1.502461  0.099998  0.121607 -1.610198\n",
       "\n",
       "[100 rows x 4 columns]"
      ]
     },
     "execution_count": 43,
     "metadata": {},
     "output_type": "execute_result"
    }
   ],
   "source": [
    "df"
   ]
  },
  {
   "cell_type": "code",
   "execution_count": 38,
   "metadata": {},
   "outputs": [
    {
     "data": {
      "application/vnd.plotly.v1+json": {
       "config": {
        "linkText": "Export to plot.ly",
        "plotlyServerURL": "https://plot.ly",
        "showLink": true
       },
       "data": [
        {
         "marker": {
          "color": [
           "rgb(255, 153, 51)",
           "rgb(55, 128, 191)",
           "rgb(50, 171, 96)",
           "rgb(128, 0, 128)",
           "rgb(219, 64, 82)",
           "rgb(0, 128, 128)",
           "rgb(255, 255, 51)",
           "rgb(128, 128, 0)",
           "rgb(251, 128, 114)",
           "rgb(128, 177, 211)"
          ],
          "line": {
           "width": 1.3
          },
          "size": [
           72,
           73,
           67,
           90,
           53,
           45,
           59,
           68,
           74,
           52,
           60,
           33,
           56,
           70,
           58,
           94,
           91,
           22,
           38,
           85,
           66,
           94,
           62,
           47,
           46,
           65,
           99,
           49,
           60,
           61,
           44,
           37,
           50,
           46,
           32,
           81,
           90,
           75,
           50,
           42,
           32,
           24,
           30,
           58,
           58,
           61,
           38,
           49,
           12,
           112,
           63,
           73,
           37,
           70,
           49,
           72,
           80,
           63,
           49,
           60,
           38,
           80,
           33,
           62,
           72,
           48,
           101,
           66,
           28,
           95,
           55,
           80,
           28,
           36,
           63,
           87,
           39,
           82,
           79,
           53,
           90,
           37,
           75,
           36,
           83,
           28,
           45,
           57,
           45,
           20,
           49,
           86,
           44,
           31,
           45,
           28,
           67,
           51,
           50,
           76
          ],
          "symbol": "circle"
         },
         "mode": "markers",
         "text": "",
         "type": "scatter",
         "x": [
          1.066033821726836,
          -0.20234052225325377,
          -0.7202032807069448,
          0.5876969285770565,
          0.5894082810927319,
          1.0966408592248225,
          0.9342602449467096,
          0.45296834381798506,
          0.11377689854572721,
          -0.015182384924197444,
          -1.0023195013509085,
          1.0561253511156685,
          -3.4069802426307905,
          1.1611381772450249,
          -0.9786531922381543,
          0.44150829410781106,
          0.6550320148323283,
          -0.18086514362098016,
          -1.449574844999948,
          -0.17652965182450162,
          1.620252667693584,
          0.34754355653960467,
          1.806768138822351,
          -0.45768771410313575,
          0.5368199083416141,
          -1.4123877529844118,
          1.5335615896164654,
          0.23143665121821524,
          0.8796131857211662,
          -1.5237599640761714,
          0.7761978467117557,
          -0.08109345148154067,
          -0.413836495422542,
          0.020236012487686746,
          -0.04477050480869064,
          -0.49951388000907565,
          -0.4806284409081598,
          0.584993947243313,
          -0.27779430391771787,
          -0.15322694744405466,
          -0.588812261369928,
          0.1438485486177861,
          0.22345350285618593,
          1.618844652296915,
          -0.05694763283213327,
          -1.657071732664729,
          -1.593089336724505,
          1.6000584860302083,
          1.0176911484944948,
          0.8542171967685713,
          -0.36609839265452254,
          -1.0582049409198413,
          -0.846492613702825,
          0.2507321823050788,
          -0.6436062165242302,
          1.732747650462511,
          0.30497304527003627,
          0.15365002124718544,
          -0.3540020506432751,
          1.1840653305767703,
          0.7270262810067589,
          -0.70069897762385,
          0.9810580691855825,
          1.3220716359779021,
          0.5625799092419832,
          -0.6683024207977339,
          0.6257885818020589,
          0.2471605057719761,
          -1.696173446761564,
          2.1155751926898527,
          -1.9708059670950684,
          1.0332980131889038,
          -1.2362625542127095,
          1.219736920395166,
          0.48928410461053945,
          -0.6609876535119567,
          -0.6955142021113592,
          -0.17152903062152622,
          -0.091697205713416,
          2.315426686821721,
          -2.59702218027904,
          1.178504757026743,
          0.33792090009429093,
          -0.1225023934654358,
          1.0701341251338765,
          -0.18119663733909702,
          -0.8921873197729137,
          -0.5337266529391964,
          1.138979553626761,
          0.6456178705727974,
          -0.23483846497245486,
          0.33817744840281194,
          -0.5140821741093899,
          0.2549530496412349,
          -1.5543264799586611,
          1.2893130377985462,
          -0.10069376715778916,
          0.44153810947872046,
          -0.3404624778743094,
          -0.5791620878582109
         ],
         "y": [
          1.233266812374226,
          -1.7402567803505051,
          -1.358566143928217,
          -0.8367770740645993,
          -0.7012906671338337,
          0.5214221088966884,
          1.130656755623005,
          0.10620727502497401,
          1.1554537851920814,
          1.1898942149915956,
          -0.4377379019747667,
          0.870028656547461,
          0.2943623135809353,
          0.39851414446194866,
          0.2601405761115901,
          -0.08101567419341556,
          0.6331632659062719,
          -1.847871549101868,
          -0.13007017306560822,
          0.6576454048691114,
          -0.06184842256785442,
          0.6632311939067133,
          -0.8418445387482837,
          -1.2234967212365655,
          1.1660837483569917,
          0.5702265236941769,
          -0.8828295708864294,
          0.08858544580338629,
          -0.6039464808497047,
          0.27751089732015743,
          0.23773467119761932,
          0.9596679917078207,
          0.22882892170015323,
          -0.6911618846720546,
          1.2842639386861472,
          -0.9183189472271543,
          -2.1774765259306714,
          -1.4203480211686401,
          0.7854717474930244,
          1.8236103725384551,
          -0.704217245892739,
          -1.2342903835901602,
          0.5577329754748598,
          -0.16423534301831957,
          0.14042363793765705,
          -0.6416607676468893,
          -0.9627993871563965,
          -1.703311023194733,
          -1.1487095825677889,
          1.5399614028160655,
          -1.1991151139196599,
          0.19692413989012664,
          0.9315558795977984,
          0.09856066084607118,
          -0.10198132436510375,
          0.30400937295614777,
          0.05809304987267057,
          0.20011656325223198,
          0.6029186395754181,
          -0.9274408040383253,
          2.0577425132832543,
          -1.134150319475954,
          -1.256673619624687,
          -0.9074753135094895,
          -0.5756203271751599,
          -0.9629392237994313,
          -0.623149564871256,
          0.8276883194379768,
          -0.8589945199948905,
          0.4677725330081428,
          -1.6985900658691038,
          -0.9867624637416783,
          -2.022454517111775,
          -0.21775079903675096,
          -0.007937706344356203,
          -1.681172747849504,
          0.8809516636506162,
          -0.42638268350880426,
          0.9721106503709406,
          0.8355688756171287,
          -1.2754244810465318,
          0.8699831007726233,
          -1.5563609714960738,
          0.5289152199852237,
          0.09644044356903302,
          -1.1262920622152162,
          -0.5987742670824937,
          -0.655433833253772,
          -0.7373569045659396,
          -0.6932204667046754,
          1.2619370773512206,
          0.8568160877701628,
          2.38634890000913,
          -0.03440815051190474,
          0.06548412771859694,
          0.6333793703650737,
          0.9828647473710335,
          -1.0273832581590594,
          -1.9356477936944356,
          0.5618265955894801
         ]
        }
       ],
       "layout": {
        "legend": {
         "bgcolor": "#F5F6F9",
         "font": {
          "color": "#4D5663"
         }
        },
        "paper_bgcolor": "#F5F6F9",
        "plot_bgcolor": "#F5F6F9",
        "template": {
         "data": {
          "bar": [
           {
            "error_x": {
             "color": "#2a3f5f"
            },
            "error_y": {
             "color": "#2a3f5f"
            },
            "marker": {
             "line": {
              "color": "#E5ECF6",
              "width": 0.5
             }
            },
            "type": "bar"
           }
          ],
          "barpolar": [
           {
            "marker": {
             "line": {
              "color": "#E5ECF6",
              "width": 0.5
             }
            },
            "type": "barpolar"
           }
          ],
          "carpet": [
           {
            "aaxis": {
             "endlinecolor": "#2a3f5f",
             "gridcolor": "white",
             "linecolor": "white",
             "minorgridcolor": "white",
             "startlinecolor": "#2a3f5f"
            },
            "baxis": {
             "endlinecolor": "#2a3f5f",
             "gridcolor": "white",
             "linecolor": "white",
             "minorgridcolor": "white",
             "startlinecolor": "#2a3f5f"
            },
            "type": "carpet"
           }
          ],
          "choropleth": [
           {
            "colorbar": {
             "outlinewidth": 0,
             "ticks": ""
            },
            "type": "choropleth"
           }
          ],
          "contour": [
           {
            "colorbar": {
             "outlinewidth": 0,
             "ticks": ""
            },
            "colorscale": [
             [
              0,
              "#0d0887"
             ],
             [
              0.1111111111111111,
              "#46039f"
             ],
             [
              0.2222222222222222,
              "#7201a8"
             ],
             [
              0.3333333333333333,
              "#9c179e"
             ],
             [
              0.4444444444444444,
              "#bd3786"
             ],
             [
              0.5555555555555556,
              "#d8576b"
             ],
             [
              0.6666666666666666,
              "#ed7953"
             ],
             [
              0.7777777777777778,
              "#fb9f3a"
             ],
             [
              0.8888888888888888,
              "#fdca26"
             ],
             [
              1,
              "#f0f921"
             ]
            ],
            "type": "contour"
           }
          ],
          "contourcarpet": [
           {
            "colorbar": {
             "outlinewidth": 0,
             "ticks": ""
            },
            "type": "contourcarpet"
           }
          ],
          "heatmap": [
           {
            "colorbar": {
             "outlinewidth": 0,
             "ticks": ""
            },
            "colorscale": [
             [
              0,
              "#0d0887"
             ],
             [
              0.1111111111111111,
              "#46039f"
             ],
             [
              0.2222222222222222,
              "#7201a8"
             ],
             [
              0.3333333333333333,
              "#9c179e"
             ],
             [
              0.4444444444444444,
              "#bd3786"
             ],
             [
              0.5555555555555556,
              "#d8576b"
             ],
             [
              0.6666666666666666,
              "#ed7953"
             ],
             [
              0.7777777777777778,
              "#fb9f3a"
             ],
             [
              0.8888888888888888,
              "#fdca26"
             ],
             [
              1,
              "#f0f921"
             ]
            ],
            "type": "heatmap"
           }
          ],
          "heatmapgl": [
           {
            "colorbar": {
             "outlinewidth": 0,
             "ticks": ""
            },
            "colorscale": [
             [
              0,
              "#0d0887"
             ],
             [
              0.1111111111111111,
              "#46039f"
             ],
             [
              0.2222222222222222,
              "#7201a8"
             ],
             [
              0.3333333333333333,
              "#9c179e"
             ],
             [
              0.4444444444444444,
              "#bd3786"
             ],
             [
              0.5555555555555556,
              "#d8576b"
             ],
             [
              0.6666666666666666,
              "#ed7953"
             ],
             [
              0.7777777777777778,
              "#fb9f3a"
             ],
             [
              0.8888888888888888,
              "#fdca26"
             ],
             [
              1,
              "#f0f921"
             ]
            ],
            "type": "heatmapgl"
           }
          ],
          "histogram": [
           {
            "marker": {
             "colorbar": {
              "outlinewidth": 0,
              "ticks": ""
             }
            },
            "type": "histogram"
           }
          ],
          "histogram2d": [
           {
            "colorbar": {
             "outlinewidth": 0,
             "ticks": ""
            },
            "colorscale": [
             [
              0,
              "#0d0887"
             ],
             [
              0.1111111111111111,
              "#46039f"
             ],
             [
              0.2222222222222222,
              "#7201a8"
             ],
             [
              0.3333333333333333,
              "#9c179e"
             ],
             [
              0.4444444444444444,
              "#bd3786"
             ],
             [
              0.5555555555555556,
              "#d8576b"
             ],
             [
              0.6666666666666666,
              "#ed7953"
             ],
             [
              0.7777777777777778,
              "#fb9f3a"
             ],
             [
              0.8888888888888888,
              "#fdca26"
             ],
             [
              1,
              "#f0f921"
             ]
            ],
            "type": "histogram2d"
           }
          ],
          "histogram2dcontour": [
           {
            "colorbar": {
             "outlinewidth": 0,
             "ticks": ""
            },
            "colorscale": [
             [
              0,
              "#0d0887"
             ],
             [
              0.1111111111111111,
              "#46039f"
             ],
             [
              0.2222222222222222,
              "#7201a8"
             ],
             [
              0.3333333333333333,
              "#9c179e"
             ],
             [
              0.4444444444444444,
              "#bd3786"
             ],
             [
              0.5555555555555556,
              "#d8576b"
             ],
             [
              0.6666666666666666,
              "#ed7953"
             ],
             [
              0.7777777777777778,
              "#fb9f3a"
             ],
             [
              0.8888888888888888,
              "#fdca26"
             ],
             [
              1,
              "#f0f921"
             ]
            ],
            "type": "histogram2dcontour"
           }
          ],
          "mesh3d": [
           {
            "colorbar": {
             "outlinewidth": 0,
             "ticks": ""
            },
            "type": "mesh3d"
           }
          ],
          "parcoords": [
           {
            "line": {
             "colorbar": {
              "outlinewidth": 0,
              "ticks": ""
             }
            },
            "type": "parcoords"
           }
          ],
          "pie": [
           {
            "automargin": true,
            "type": "pie"
           }
          ],
          "scatter": [
           {
            "marker": {
             "colorbar": {
              "outlinewidth": 0,
              "ticks": ""
             }
            },
            "type": "scatter"
           }
          ],
          "scatter3d": [
           {
            "line": {
             "colorbar": {
              "outlinewidth": 0,
              "ticks": ""
             }
            },
            "marker": {
             "colorbar": {
              "outlinewidth": 0,
              "ticks": ""
             }
            },
            "type": "scatter3d"
           }
          ],
          "scattercarpet": [
           {
            "marker": {
             "colorbar": {
              "outlinewidth": 0,
              "ticks": ""
             }
            },
            "type": "scattercarpet"
           }
          ],
          "scattergeo": [
           {
            "marker": {
             "colorbar": {
              "outlinewidth": 0,
              "ticks": ""
             }
            },
            "type": "scattergeo"
           }
          ],
          "scattergl": [
           {
            "marker": {
             "colorbar": {
              "outlinewidth": 0,
              "ticks": ""
             }
            },
            "type": "scattergl"
           }
          ],
          "scattermapbox": [
           {
            "marker": {
             "colorbar": {
              "outlinewidth": 0,
              "ticks": ""
             }
            },
            "type": "scattermapbox"
           }
          ],
          "scatterpolar": [
           {
            "marker": {
             "colorbar": {
              "outlinewidth": 0,
              "ticks": ""
             }
            },
            "type": "scatterpolar"
           }
          ],
          "scatterpolargl": [
           {
            "marker": {
             "colorbar": {
              "outlinewidth": 0,
              "ticks": ""
             }
            },
            "type": "scatterpolargl"
           }
          ],
          "scatterternary": [
           {
            "marker": {
             "colorbar": {
              "outlinewidth": 0,
              "ticks": ""
             }
            },
            "type": "scatterternary"
           }
          ],
          "surface": [
           {
            "colorbar": {
             "outlinewidth": 0,
             "ticks": ""
            },
            "colorscale": [
             [
              0,
              "#0d0887"
             ],
             [
              0.1111111111111111,
              "#46039f"
             ],
             [
              0.2222222222222222,
              "#7201a8"
             ],
             [
              0.3333333333333333,
              "#9c179e"
             ],
             [
              0.4444444444444444,
              "#bd3786"
             ],
             [
              0.5555555555555556,
              "#d8576b"
             ],
             [
              0.6666666666666666,
              "#ed7953"
             ],
             [
              0.7777777777777778,
              "#fb9f3a"
             ],
             [
              0.8888888888888888,
              "#fdca26"
             ],
             [
              1,
              "#f0f921"
             ]
            ],
            "type": "surface"
           }
          ],
          "table": [
           {
            "cells": {
             "fill": {
              "color": "#EBF0F8"
             },
             "line": {
              "color": "white"
             }
            },
            "header": {
             "fill": {
              "color": "#C8D4E3"
             },
             "line": {
              "color": "white"
             }
            },
            "type": "table"
           }
          ]
         },
         "layout": {
          "annotationdefaults": {
           "arrowcolor": "#2a3f5f",
           "arrowhead": 0,
           "arrowwidth": 1
          },
          "autotypenumbers": "strict",
          "coloraxis": {
           "colorbar": {
            "outlinewidth": 0,
            "ticks": ""
           }
          },
          "colorscale": {
           "diverging": [
            [
             0,
             "#8e0152"
            ],
            [
             0.1,
             "#c51b7d"
            ],
            [
             0.2,
             "#de77ae"
            ],
            [
             0.3,
             "#f1b6da"
            ],
            [
             0.4,
             "#fde0ef"
            ],
            [
             0.5,
             "#f7f7f7"
            ],
            [
             0.6,
             "#e6f5d0"
            ],
            [
             0.7,
             "#b8e186"
            ],
            [
             0.8,
             "#7fbc41"
            ],
            [
             0.9,
             "#4d9221"
            ],
            [
             1,
             "#276419"
            ]
           ],
           "sequential": [
            [
             0,
             "#0d0887"
            ],
            [
             0.1111111111111111,
             "#46039f"
            ],
            [
             0.2222222222222222,
             "#7201a8"
            ],
            [
             0.3333333333333333,
             "#9c179e"
            ],
            [
             0.4444444444444444,
             "#bd3786"
            ],
            [
             0.5555555555555556,
             "#d8576b"
            ],
            [
             0.6666666666666666,
             "#ed7953"
            ],
            [
             0.7777777777777778,
             "#fb9f3a"
            ],
            [
             0.8888888888888888,
             "#fdca26"
            ],
            [
             1,
             "#f0f921"
            ]
           ],
           "sequentialminus": [
            [
             0,
             "#0d0887"
            ],
            [
             0.1111111111111111,
             "#46039f"
            ],
            [
             0.2222222222222222,
             "#7201a8"
            ],
            [
             0.3333333333333333,
             "#9c179e"
            ],
            [
             0.4444444444444444,
             "#bd3786"
            ],
            [
             0.5555555555555556,
             "#d8576b"
            ],
            [
             0.6666666666666666,
             "#ed7953"
            ],
            [
             0.7777777777777778,
             "#fb9f3a"
            ],
            [
             0.8888888888888888,
             "#fdca26"
            ],
            [
             1,
             "#f0f921"
            ]
           ]
          },
          "colorway": [
           "#636efa",
           "#EF553B",
           "#00cc96",
           "#ab63fa",
           "#FFA15A",
           "#19d3f3",
           "#FF6692",
           "#B6E880",
           "#FF97FF",
           "#FECB52"
          ],
          "font": {
           "color": "#2a3f5f"
          },
          "geo": {
           "bgcolor": "white",
           "lakecolor": "white",
           "landcolor": "#E5ECF6",
           "showlakes": true,
           "showland": true,
           "subunitcolor": "white"
          },
          "hoverlabel": {
           "align": "left"
          },
          "hovermode": "closest",
          "mapbox": {
           "style": "light"
          },
          "paper_bgcolor": "white",
          "plot_bgcolor": "#E5ECF6",
          "polar": {
           "angularaxis": {
            "gridcolor": "white",
            "linecolor": "white",
            "ticks": ""
           },
           "bgcolor": "#E5ECF6",
           "radialaxis": {
            "gridcolor": "white",
            "linecolor": "white",
            "ticks": ""
           }
          },
          "scene": {
           "xaxis": {
            "backgroundcolor": "#E5ECF6",
            "gridcolor": "white",
            "gridwidth": 2,
            "linecolor": "white",
            "showbackground": true,
            "ticks": "",
            "zerolinecolor": "white"
           },
           "yaxis": {
            "backgroundcolor": "#E5ECF6",
            "gridcolor": "white",
            "gridwidth": 2,
            "linecolor": "white",
            "showbackground": true,
            "ticks": "",
            "zerolinecolor": "white"
           },
           "zaxis": {
            "backgroundcolor": "#E5ECF6",
            "gridcolor": "white",
            "gridwidth": 2,
            "linecolor": "white",
            "showbackground": true,
            "ticks": "",
            "zerolinecolor": "white"
           }
          },
          "shapedefaults": {
           "line": {
            "color": "#2a3f5f"
           }
          },
          "ternary": {
           "aaxis": {
            "gridcolor": "white",
            "linecolor": "white",
            "ticks": ""
           },
           "baxis": {
            "gridcolor": "white",
            "linecolor": "white",
            "ticks": ""
           },
           "bgcolor": "#E5ECF6",
           "caxis": {
            "gridcolor": "white",
            "linecolor": "white",
            "ticks": ""
           }
          },
          "title": {
           "x": 0.05
          },
          "xaxis": {
           "automargin": true,
           "gridcolor": "white",
           "linecolor": "white",
           "ticks": "",
           "title": {
            "standoff": 15
           },
           "zerolinecolor": "white",
           "zerolinewidth": 2
          },
          "yaxis": {
           "automargin": true,
           "gridcolor": "white",
           "linecolor": "white",
           "ticks": "",
           "title": {
            "standoff": 15
           },
           "zerolinecolor": "white",
           "zerolinewidth": 2
          }
         }
        },
        "title": {
         "font": {
          "color": "#4D5663"
         }
        },
        "xaxis": {
         "gridcolor": "#E1E5ED",
         "showgrid": true,
         "tickfont": {
          "color": "#4D5663"
         },
         "title": {
          "font": {
           "color": "#4D5663"
          },
          "text": ""
         },
         "zerolinecolor": "#E1E5ED"
        },
        "yaxis": {
         "gridcolor": "#E1E5ED",
         "showgrid": true,
         "tickfont": {
          "color": "#4D5663"
         },
         "title": {
          "font": {
           "color": "#4D5663"
          },
          "text": ""
         },
         "zerolinecolor": "#E1E5ED"
        }
       }
      },
      "text/html": [
       "<div>                            <div id=\"8084e1a7-8ef2-490c-a655-2358e41fe39a\" class=\"plotly-graph-div\" style=\"height:525px; width:100%;\"></div>            <script type=\"text/javascript\">                require([\"plotly\"], function(Plotly) {                    window.PLOTLYENV=window.PLOTLYENV || {};\n",
       "                    window.PLOTLYENV.BASE_URL='https://plot.ly';                                    if (document.getElementById(\"8084e1a7-8ef2-490c-a655-2358e41fe39a\")) {                    Plotly.newPlot(                        \"8084e1a7-8ef2-490c-a655-2358e41fe39a\",                        [{\"marker\": {\"color\": [\"rgb(255, 153, 51)\", \"rgb(55, 128, 191)\", \"rgb(50, 171, 96)\", \"rgb(128, 0, 128)\", \"rgb(219, 64, 82)\", \"rgb(0, 128, 128)\", \"rgb(255, 255, 51)\", \"rgb(128, 128, 0)\", \"rgb(251, 128, 114)\", \"rgb(128, 177, 211)\"], \"line\": {\"width\": 1.3}, \"size\": [72, 73, 67, 90, 53, 45, 59, 68, 74, 52, 60, 33, 56, 70, 58, 94, 91, 22, 38, 85, 66, 94, 62, 47, 46, 65, 99, 49, 60, 61, 44, 37, 50, 46, 32, 81, 90, 75, 50, 42, 32, 24, 30, 58, 58, 61, 38, 49, 12, 112, 63, 73, 37, 70, 49, 72, 80, 63, 49, 60, 38, 80, 33, 62, 72, 48, 101, 66, 28, 95, 55, 80, 28, 36, 63, 87, 39, 82, 79, 53, 90, 37, 75, 36, 83, 28, 45, 57, 45, 20, 49, 86, 44, 31, 45, 28, 67, 51, 50, 76], \"symbol\": \"circle\"}, \"mode\": \"markers\", \"text\": \"\", \"type\": \"scatter\", \"x\": [1.066033821726836, -0.20234052225325377, -0.7202032807069448, 0.5876969285770565, 0.5894082810927319, 1.0966408592248225, 0.9342602449467096, 0.45296834381798506, 0.11377689854572721, -0.015182384924197444, -1.0023195013509085, 1.0561253511156685, -3.4069802426307905, 1.1611381772450249, -0.9786531922381543, 0.44150829410781106, 0.6550320148323283, -0.18086514362098016, -1.449574844999948, -0.17652965182450162, 1.620252667693584, 0.34754355653960467, 1.806768138822351, -0.45768771410313575, 0.5368199083416141, -1.4123877529844118, 1.5335615896164654, 0.23143665121821524, 0.8796131857211662, -1.5237599640761714, 0.7761978467117557, -0.08109345148154067, -0.413836495422542, 0.020236012487686746, -0.04477050480869064, -0.49951388000907565, -0.4806284409081598, 0.584993947243313, -0.27779430391771787, -0.15322694744405466, -0.588812261369928, 0.1438485486177861, 0.22345350285618593, 1.618844652296915, -0.05694763283213327, -1.657071732664729, -1.593089336724505, 1.6000584860302083, 1.0176911484944948, 0.8542171967685713, -0.36609839265452254, -1.0582049409198413, -0.846492613702825, 0.2507321823050788, -0.6436062165242302, 1.732747650462511, 0.30497304527003627, 0.15365002124718544, -0.3540020506432751, 1.1840653305767703, 0.7270262810067589, -0.70069897762385, 0.9810580691855825, 1.3220716359779021, 0.5625799092419832, -0.6683024207977339, 0.6257885818020589, 0.2471605057719761, -1.696173446761564, 2.1155751926898527, -1.9708059670950684, 1.0332980131889038, -1.2362625542127095, 1.219736920395166, 0.48928410461053945, -0.6609876535119567, -0.6955142021113592, -0.17152903062152622, -0.091697205713416, 2.315426686821721, -2.59702218027904, 1.178504757026743, 0.33792090009429093, -0.1225023934654358, 1.0701341251338765, -0.18119663733909702, -0.8921873197729137, -0.5337266529391964, 1.138979553626761, 0.6456178705727974, -0.23483846497245486, 0.33817744840281194, -0.5140821741093899, 0.2549530496412349, -1.5543264799586611, 1.2893130377985462, -0.10069376715778916, 0.44153810947872046, -0.3404624778743094, -0.5791620878582109], \"y\": [1.233266812374226, -1.7402567803505051, -1.358566143928217, -0.8367770740645993, -0.7012906671338337, 0.5214221088966884, 1.130656755623005, 0.10620727502497401, 1.1554537851920814, 1.1898942149915956, -0.4377379019747667, 0.870028656547461, 0.2943623135809353, 0.39851414446194866, 0.2601405761115901, -0.08101567419341556, 0.6331632659062719, -1.847871549101868, -0.13007017306560822, 0.6576454048691114, -0.06184842256785442, 0.6632311939067133, -0.8418445387482837, -1.2234967212365655, 1.1660837483569917, 0.5702265236941769, -0.8828295708864294, 0.08858544580338629, -0.6039464808497047, 0.27751089732015743, 0.23773467119761932, 0.9596679917078207, 0.22882892170015323, -0.6911618846720546, 1.2842639386861472, -0.9183189472271543, -2.1774765259306714, -1.4203480211686401, 0.7854717474930244, 1.8236103725384551, -0.704217245892739, -1.2342903835901602, 0.5577329754748598, -0.16423534301831957, 0.14042363793765705, -0.6416607676468893, -0.9627993871563965, -1.703311023194733, -1.1487095825677889, 1.5399614028160655, -1.1991151139196599, 0.19692413989012664, 0.9315558795977984, 0.09856066084607118, -0.10198132436510375, 0.30400937295614777, 0.05809304987267057, 0.20011656325223198, 0.6029186395754181, -0.9274408040383253, 2.0577425132832543, -1.134150319475954, -1.256673619624687, -0.9074753135094895, -0.5756203271751599, -0.9629392237994313, -0.623149564871256, 0.8276883194379768, -0.8589945199948905, 0.4677725330081428, -1.6985900658691038, -0.9867624637416783, -2.022454517111775, -0.21775079903675096, -0.007937706344356203, -1.681172747849504, 0.8809516636506162, -0.42638268350880426, 0.9721106503709406, 0.8355688756171287, -1.2754244810465318, 0.8699831007726233, -1.5563609714960738, 0.5289152199852237, 0.09644044356903302, -1.1262920622152162, -0.5987742670824937, -0.655433833253772, -0.7373569045659396, -0.6932204667046754, 1.2619370773512206, 0.8568160877701628, 2.38634890000913, -0.03440815051190474, 0.06548412771859694, 0.6333793703650737, 0.9828647473710335, -1.0273832581590594, -1.9356477936944356, 0.5618265955894801]}],                        {\"legend\": {\"bgcolor\": \"#F5F6F9\", \"font\": {\"color\": \"#4D5663\"}}, \"paper_bgcolor\": \"#F5F6F9\", \"plot_bgcolor\": \"#F5F6F9\", \"template\": {\"data\": {\"bar\": [{\"error_x\": {\"color\": \"#2a3f5f\"}, \"error_y\": {\"color\": \"#2a3f5f\"}, \"marker\": {\"line\": {\"color\": \"#E5ECF6\", \"width\": 0.5}}, \"type\": \"bar\"}], \"barpolar\": [{\"marker\": {\"line\": {\"color\": \"#E5ECF6\", \"width\": 0.5}}, \"type\": \"barpolar\"}], \"carpet\": [{\"aaxis\": {\"endlinecolor\": \"#2a3f5f\", \"gridcolor\": \"white\", \"linecolor\": \"white\", \"minorgridcolor\": \"white\", \"startlinecolor\": \"#2a3f5f\"}, \"baxis\": {\"endlinecolor\": \"#2a3f5f\", \"gridcolor\": \"white\", \"linecolor\": \"white\", \"minorgridcolor\": \"white\", \"startlinecolor\": \"#2a3f5f\"}, \"type\": \"carpet\"}], \"choropleth\": [{\"colorbar\": {\"outlinewidth\": 0, \"ticks\": \"\"}, \"type\": \"choropleth\"}], \"contour\": [{\"colorbar\": {\"outlinewidth\": 0, \"ticks\": \"\"}, \"colorscale\": [[0.0, \"#0d0887\"], [0.1111111111111111, \"#46039f\"], [0.2222222222222222, \"#7201a8\"], [0.3333333333333333, \"#9c179e\"], [0.4444444444444444, \"#bd3786\"], [0.5555555555555556, \"#d8576b\"], [0.6666666666666666, \"#ed7953\"], [0.7777777777777778, \"#fb9f3a\"], [0.8888888888888888, \"#fdca26\"], [1.0, \"#f0f921\"]], \"type\": \"contour\"}], \"contourcarpet\": [{\"colorbar\": {\"outlinewidth\": 0, \"ticks\": \"\"}, \"type\": \"contourcarpet\"}], \"heatmap\": [{\"colorbar\": {\"outlinewidth\": 0, \"ticks\": \"\"}, \"colorscale\": [[0.0, \"#0d0887\"], [0.1111111111111111, \"#46039f\"], [0.2222222222222222, \"#7201a8\"], [0.3333333333333333, \"#9c179e\"], [0.4444444444444444, \"#bd3786\"], [0.5555555555555556, \"#d8576b\"], [0.6666666666666666, \"#ed7953\"], [0.7777777777777778, \"#fb9f3a\"], [0.8888888888888888, \"#fdca26\"], [1.0, \"#f0f921\"]], \"type\": \"heatmap\"}], \"heatmapgl\": [{\"colorbar\": {\"outlinewidth\": 0, \"ticks\": \"\"}, \"colorscale\": [[0.0, \"#0d0887\"], [0.1111111111111111, \"#46039f\"], [0.2222222222222222, \"#7201a8\"], [0.3333333333333333, \"#9c179e\"], [0.4444444444444444, \"#bd3786\"], [0.5555555555555556, \"#d8576b\"], [0.6666666666666666, \"#ed7953\"], [0.7777777777777778, \"#fb9f3a\"], [0.8888888888888888, \"#fdca26\"], [1.0, \"#f0f921\"]], \"type\": \"heatmapgl\"}], \"histogram\": [{\"marker\": {\"colorbar\": {\"outlinewidth\": 0, \"ticks\": \"\"}}, \"type\": \"histogram\"}], \"histogram2d\": [{\"colorbar\": {\"outlinewidth\": 0, \"ticks\": \"\"}, \"colorscale\": [[0.0, \"#0d0887\"], [0.1111111111111111, \"#46039f\"], [0.2222222222222222, \"#7201a8\"], [0.3333333333333333, \"#9c179e\"], [0.4444444444444444, \"#bd3786\"], [0.5555555555555556, \"#d8576b\"], [0.6666666666666666, \"#ed7953\"], [0.7777777777777778, \"#fb9f3a\"], [0.8888888888888888, \"#fdca26\"], [1.0, \"#f0f921\"]], \"type\": \"histogram2d\"}], \"histogram2dcontour\": [{\"colorbar\": {\"outlinewidth\": 0, \"ticks\": \"\"}, \"colorscale\": [[0.0, \"#0d0887\"], [0.1111111111111111, \"#46039f\"], [0.2222222222222222, \"#7201a8\"], [0.3333333333333333, \"#9c179e\"], [0.4444444444444444, \"#bd3786\"], [0.5555555555555556, \"#d8576b\"], [0.6666666666666666, \"#ed7953\"], [0.7777777777777778, \"#fb9f3a\"], [0.8888888888888888, \"#fdca26\"], [1.0, \"#f0f921\"]], \"type\": \"histogram2dcontour\"}], \"mesh3d\": [{\"colorbar\": {\"outlinewidth\": 0, \"ticks\": \"\"}, \"type\": \"mesh3d\"}], \"parcoords\": [{\"line\": {\"colorbar\": {\"outlinewidth\": 0, \"ticks\": \"\"}}, \"type\": \"parcoords\"}], \"pie\": [{\"automargin\": true, \"type\": \"pie\"}], \"scatter\": [{\"marker\": {\"colorbar\": {\"outlinewidth\": 0, \"ticks\": \"\"}}, \"type\": \"scatter\"}], \"scatter3d\": [{\"line\": {\"colorbar\": {\"outlinewidth\": 0, \"ticks\": \"\"}}, \"marker\": {\"colorbar\": {\"outlinewidth\": 0, \"ticks\": \"\"}}, \"type\": \"scatter3d\"}], \"scattercarpet\": [{\"marker\": {\"colorbar\": {\"outlinewidth\": 0, \"ticks\": \"\"}}, \"type\": \"scattercarpet\"}], \"scattergeo\": [{\"marker\": {\"colorbar\": {\"outlinewidth\": 0, \"ticks\": \"\"}}, \"type\": \"scattergeo\"}], \"scattergl\": [{\"marker\": {\"colorbar\": {\"outlinewidth\": 0, \"ticks\": \"\"}}, \"type\": \"scattergl\"}], \"scattermapbox\": [{\"marker\": {\"colorbar\": {\"outlinewidth\": 0, \"ticks\": \"\"}}, \"type\": \"scattermapbox\"}], \"scatterpolar\": [{\"marker\": {\"colorbar\": {\"outlinewidth\": 0, \"ticks\": \"\"}}, \"type\": \"scatterpolar\"}], \"scatterpolargl\": [{\"marker\": {\"colorbar\": {\"outlinewidth\": 0, \"ticks\": \"\"}}, \"type\": \"scatterpolargl\"}], \"scatterternary\": [{\"marker\": {\"colorbar\": {\"outlinewidth\": 0, \"ticks\": \"\"}}, \"type\": \"scatterternary\"}], \"surface\": [{\"colorbar\": {\"outlinewidth\": 0, \"ticks\": \"\"}, \"colorscale\": [[0.0, \"#0d0887\"], [0.1111111111111111, \"#46039f\"], [0.2222222222222222, \"#7201a8\"], [0.3333333333333333, \"#9c179e\"], [0.4444444444444444, \"#bd3786\"], [0.5555555555555556, \"#d8576b\"], [0.6666666666666666, \"#ed7953\"], [0.7777777777777778, \"#fb9f3a\"], [0.8888888888888888, \"#fdca26\"], [1.0, \"#f0f921\"]], \"type\": \"surface\"}], \"table\": [{\"cells\": {\"fill\": {\"color\": \"#EBF0F8\"}, \"line\": {\"color\": \"white\"}}, \"header\": {\"fill\": {\"color\": \"#C8D4E3\"}, \"line\": {\"color\": \"white\"}}, \"type\": \"table\"}]}, \"layout\": {\"annotationdefaults\": {\"arrowcolor\": \"#2a3f5f\", \"arrowhead\": 0, \"arrowwidth\": 1}, \"autotypenumbers\": \"strict\", \"coloraxis\": {\"colorbar\": {\"outlinewidth\": 0, \"ticks\": \"\"}}, \"colorscale\": {\"diverging\": [[0, \"#8e0152\"], [0.1, \"#c51b7d\"], [0.2, \"#de77ae\"], [0.3, \"#f1b6da\"], [0.4, \"#fde0ef\"], [0.5, \"#f7f7f7\"], [0.6, \"#e6f5d0\"], [0.7, \"#b8e186\"], [0.8, \"#7fbc41\"], [0.9, \"#4d9221\"], [1, \"#276419\"]], \"sequential\": [[0.0, \"#0d0887\"], [0.1111111111111111, \"#46039f\"], [0.2222222222222222, \"#7201a8\"], [0.3333333333333333, \"#9c179e\"], [0.4444444444444444, \"#bd3786\"], [0.5555555555555556, \"#d8576b\"], [0.6666666666666666, \"#ed7953\"], [0.7777777777777778, \"#fb9f3a\"], [0.8888888888888888, \"#fdca26\"], [1.0, \"#f0f921\"]], \"sequentialminus\": [[0.0, \"#0d0887\"], [0.1111111111111111, \"#46039f\"], [0.2222222222222222, \"#7201a8\"], [0.3333333333333333, \"#9c179e\"], [0.4444444444444444, \"#bd3786\"], [0.5555555555555556, \"#d8576b\"], [0.6666666666666666, \"#ed7953\"], [0.7777777777777778, \"#fb9f3a\"], [0.8888888888888888, \"#fdca26\"], [1.0, \"#f0f921\"]]}, \"colorway\": [\"#636efa\", \"#EF553B\", \"#00cc96\", \"#ab63fa\", \"#FFA15A\", \"#19d3f3\", \"#FF6692\", \"#B6E880\", \"#FF97FF\", \"#FECB52\"], \"font\": {\"color\": \"#2a3f5f\"}, \"geo\": {\"bgcolor\": \"white\", \"lakecolor\": \"white\", \"landcolor\": \"#E5ECF6\", \"showlakes\": true, \"showland\": true, \"subunitcolor\": \"white\"}, \"hoverlabel\": {\"align\": \"left\"}, \"hovermode\": \"closest\", \"mapbox\": {\"style\": \"light\"}, \"paper_bgcolor\": \"white\", \"plot_bgcolor\": \"#E5ECF6\", \"polar\": {\"angularaxis\": {\"gridcolor\": \"white\", \"linecolor\": \"white\", \"ticks\": \"\"}, \"bgcolor\": \"#E5ECF6\", \"radialaxis\": {\"gridcolor\": \"white\", \"linecolor\": \"white\", \"ticks\": \"\"}}, \"scene\": {\"xaxis\": {\"backgroundcolor\": \"#E5ECF6\", \"gridcolor\": \"white\", \"gridwidth\": 2, \"linecolor\": \"white\", \"showbackground\": true, \"ticks\": \"\", \"zerolinecolor\": \"white\"}, \"yaxis\": {\"backgroundcolor\": \"#E5ECF6\", \"gridcolor\": \"white\", \"gridwidth\": 2, \"linecolor\": \"white\", \"showbackground\": true, \"ticks\": \"\", \"zerolinecolor\": \"white\"}, \"zaxis\": {\"backgroundcolor\": \"#E5ECF6\", \"gridcolor\": \"white\", \"gridwidth\": 2, \"linecolor\": \"white\", \"showbackground\": true, \"ticks\": \"\", \"zerolinecolor\": \"white\"}}, \"shapedefaults\": {\"line\": {\"color\": \"#2a3f5f\"}}, \"ternary\": {\"aaxis\": {\"gridcolor\": \"white\", \"linecolor\": \"white\", \"ticks\": \"\"}, \"baxis\": {\"gridcolor\": \"white\", \"linecolor\": \"white\", \"ticks\": \"\"}, \"bgcolor\": \"#E5ECF6\", \"caxis\": {\"gridcolor\": \"white\", \"linecolor\": \"white\", \"ticks\": \"\"}}, \"title\": {\"x\": 0.05}, \"xaxis\": {\"automargin\": true, \"gridcolor\": \"white\", \"linecolor\": \"white\", \"ticks\": \"\", \"title\": {\"standoff\": 15}, \"zerolinecolor\": \"white\", \"zerolinewidth\": 2}, \"yaxis\": {\"automargin\": true, \"gridcolor\": \"white\", \"linecolor\": \"white\", \"ticks\": \"\", \"title\": {\"standoff\": 15}, \"zerolinecolor\": \"white\", \"zerolinewidth\": 2}}}, \"title\": {\"font\": {\"color\": \"#4D5663\"}}, \"xaxis\": {\"gridcolor\": \"#E1E5ED\", \"showgrid\": true, \"tickfont\": {\"color\": \"#4D5663\"}, \"title\": {\"font\": {\"color\": \"#4D5663\"}, \"text\": \"\"}, \"zerolinecolor\": \"#E1E5ED\"}, \"yaxis\": {\"gridcolor\": \"#E1E5ED\", \"showgrid\": true, \"tickfont\": {\"color\": \"#4D5663\"}, \"title\": {\"font\": {\"color\": \"#4D5663\"}, \"text\": \"\"}, \"zerolinecolor\": \"#E1E5ED\"}},                        {\"showLink\": true, \"linkText\": \"Export to plot.ly\", \"plotlyServerURL\": \"https://plot.ly\", \"responsive\": true}                    ).then(function(){\n",
       "                            \n",
       "var gd = document.getElementById('8084e1a7-8ef2-490c-a655-2358e41fe39a');\n",
       "var x = new MutationObserver(function (mutations, observer) {{\n",
       "        var display = window.getComputedStyle(gd).display;\n",
       "        if (!display || display === 'none') {{\n",
       "            console.log([gd, 'removed!']);\n",
       "            Plotly.purge(gd);\n",
       "            observer.disconnect();\n",
       "        }}\n",
       "}});\n",
       "\n",
       "// Listen for the removal of the full notebook cells\n",
       "var notebookContainer = gd.closest('#notebook-container');\n",
       "if (notebookContainer) {{\n",
       "    x.observe(notebookContainer, {childList: true});\n",
       "}}\n",
       "\n",
       "// Listen for the clearing of the current output cell\n",
       "var outputEl = gd.closest('.output');\n",
       "if (outputEl) {{\n",
       "    x.observe(outputEl, {childList: true});\n",
       "}}\n",
       "\n",
       "                        })                };                });            </script>        </div>"
      ]
     },
     "metadata": {},
     "output_type": "display_data"
    }
   ],
   "source": [
    "df.iplot(kind='bubble',x='A',y='B',size='C')"
   ]
  },
  {
   "cell_type": "markdown",
   "metadata": {},
   "source": [
    "## scatter_matrix()\n",
    "\n",
    "Similar to sns.pairplot()"
   ]
  },
  {
   "cell_type": "code",
   "execution_count": 18,
   "metadata": {},
   "outputs": [
    {
     "data": {
      "application/vnd.plotly.v1+json": {
       "config": {
        "linkText": "Export to plot.ly",
        "plotlyServerURL": "https://plot.ly",
        "showLink": true
       },
       "data": [
        {
         "histfunc": "count",
         "histnorm": "",
         "marker": {
          "color": "rgba(255, 153, 51, 1.0)",
          "line": {
           "color": "#4D5663",
           "width": 1.3
          }
         },
         "name": "A",
         "nbinsx": 10,
         "opacity": 0.8,
         "orientation": "v",
         "type": "histogram",
         "x": [
          -1.1327043841981699,
          0.43957848880133177,
          1.2915937209904265,
          -0.062483491122553636,
          -0.33030927847358615,
          -0.2534474880004595,
          -0.2944241123130243,
          1.5571960481692488,
          0.6371386751068504,
          1.3768911706132103,
          -0.3111060058480483,
          0.44001685729780704,
          -1.4536275467577977,
          -1.6415748499370881,
          0.8726454311647474,
          0.948365003585562,
          -0.42647265263416617,
          -0.929921357458483,
          0.054292957326093585,
          0.017311020327317662,
          -1.5775954742239748,
          -0.31197459072302897,
          0.17374730429197757,
          -1.0417282984941945,
          -0.6280579320106916,
          -1.1132217004307798,
          -1.2361264792311064,
          -0.08786660273665906,
          1.0579986356232067,
          1.0760107706598756,
          -0.23131709679940984,
          -1.3607889094569379,
          1.3693192944478547,
          0.4302812353538046,
          0.12254684981983366,
          1.1274643722935607,
          0.18320422398547292,
          0.30394428324033396,
          -0.6294843259909126,
          -0.4823586953926577,
          -0.7180018874614976,
          -1.0560574742310123,
          -1.3085350821883401,
          -0.5814075572348782,
          -0.16184044883768145,
          -1.5721324300161514,
          0.6950065710683002,
          -0.8314692641278058,
          -0.12355865229498265,
          -0.8329353995904607,
          0.17274297111644685,
          1.2443883422087991,
          0.9702273312635,
          0.30752907318544453,
          0.061608252054063374,
          -0.17333362701213742,
          -0.27282472623696086,
          0.8606730370573321,
          -0.8747093448472467,
          0.17042438544837848,
          -0.29221679794432104,
          1.7156012441377246,
          -1.4258483478797175,
          0.30797346436635253,
          0.2539845798111618,
          -0.24376782227695817,
          -0.06566607781142401,
          -0.3573574364488877,
          0.8950415597885233,
          0.599948696764544,
          1.9671354385302708,
          0.4635816065027918,
          -1.7576051479490429,
          -0.47463512313190587,
          0.6279840259871928,
          2.337365144079594,
          -0.30212451393262035,
          0.5324425304553116,
          -2.277238747080297,
          0.7441042927887853,
          0.45514531157539384,
          -2.3927510413580046,
          1.8952133023412787,
          0.9295907286676737,
          2.3536974688897296,
          -0.07835629742378766,
          -1.4529263558977208,
          -0.470744116641777,
          -0.9297063600714525,
          -0.5232787570826094,
          1.1585138937308408,
          0.598242881542253,
          0.1466116115414334,
          -1.0310511547083212,
          0.38700678632271857,
          -0.9584346155844385,
          0.46289732465719235,
          3.0497684309977395,
          0.6308845938611453,
          -1.4611363927415932
         ],
         "xaxis": "x",
         "yaxis": "y"
        },
        {
         "line": {
          "color": "rgba(128, 128, 128, 1.0)",
          "dash": "solid",
          "shape": "linear",
          "width": 1.3
         },
         "marker": {
          "size": 2,
          "symbol": "circle"
         },
         "mode": "markers",
         "name": "A",
         "text": "",
         "type": "scatter",
         "x": [
          0.665870159846067,
          -0.14322607048636532,
          0.5318270388110853,
          -0.6349234266796756,
          -0.4003475532487801,
          -0.5648983511179678,
          -0.7868393349779677,
          -0.6977220811260706,
          -0.08410301006555644,
          -1.0875280178558606,
          -0.5813926009753025,
          2.0588212711119307,
          -0.29362776595135764,
          -1.0843270366508906,
          -1.1876750858089375,
          -0.8481012043049085,
          0.15115715164747018,
          0.986639206646197,
          0.6402679098611134,
          0.18569066860703448,
          0.17087934983854336,
          -0.9611474334822284,
          -0.26471419660693096,
          1.3791691335019767,
          0.35181547138612795,
          -1.614213824314603,
          -1.299624277229161,
          0.23004522824337525,
          1.6144219444173153,
          0.7919221560977986,
          0.2872860203211714,
          -0.5149219514402005,
          0.2975366731248288,
          -1.008429973075412,
          0.5485802844833003,
          1.5947496255817897,
          0.7066061632436781,
          -0.3837385185155636,
          0.9588566124987895,
          -0.9038242341284818,
          0.19864496231610398,
          0.8399281489736665,
          0.8755052791264989,
          -2.2848796379452807,
          -0.20460032519565421,
          1.1201605960496122,
          0.42101963431300726,
          -0.7835440011445806,
          2.032566975890477,
          -2.0758540626813393,
          -0.6711835421104947,
          1.466861985095549,
          0.6192939192575811,
          0.41885332743147474,
          -0.140269495838045,
          -0.07160648641668739,
          0.8750017053597382,
          -1.1442755166946703,
          0.3540075381504812,
          0.22908929279481738,
          0.7616887868101634,
          0.8477474043328368,
          -0.9042239194228446,
          -0.023855384432606208,
          -0.6751103840032416,
          0.2052442964890146,
          -0.3251011638220956,
          0.39013623321288604,
          -1.0296381246978157,
          -0.4546981272029886,
          1.5560621922946916,
          -0.4554359860667604,
          -0.8307087366697378,
          -0.19347791554707675,
          1.0515865454701203,
          1.731965959242706,
          1.4031900858127881,
          -0.8303645821590848,
          1.256240361048191,
          1.4459290132286562,
          0.3275422203143726,
          1.0142235608790378,
          -1.310549925967843,
          -0.6726162465356665,
          1.5502226863152053,
          1.6654382664402356,
          -1.4278663850474882,
          -0.148037772856079,
          0.04258018210714182,
          0.4690647010904504,
          -0.376808202236462,
          1.4729082242912048,
          -1.2435688512973602,
          -1.4291702134049045,
          1.6788176270289137,
          2.457059270314667,
          -0.21964616796569672,
          -0.8747718755043745,
          -1.149008068776763,
          -0.6204953223835069
         ],
         "xaxis": "x2",
         "y": [
          -1.1327043841981699,
          0.43957848880133177,
          1.2915937209904265,
          -0.062483491122553636,
          -0.33030927847358615,
          -0.2534474880004595,
          -0.2944241123130243,
          1.5571960481692488,
          0.6371386751068504,
          1.3768911706132103,
          -0.3111060058480483,
          0.44001685729780704,
          -1.4536275467577977,
          -1.6415748499370881,
          0.8726454311647474,
          0.948365003585562,
          -0.42647265263416617,
          -0.929921357458483,
          0.054292957326093585,
          0.017311020327317662,
          -1.5775954742239748,
          -0.31197459072302897,
          0.17374730429197757,
          -1.0417282984941945,
          -0.6280579320106916,
          -1.1132217004307798,
          -1.2361264792311064,
          -0.08786660273665906,
          1.0579986356232067,
          1.0760107706598756,
          -0.23131709679940984,
          -1.3607889094569379,
          1.3693192944478547,
          0.4302812353538046,
          0.12254684981983366,
          1.1274643722935607,
          0.18320422398547292,
          0.30394428324033396,
          -0.6294843259909126,
          -0.4823586953926577,
          -0.7180018874614976,
          -1.0560574742310123,
          -1.3085350821883401,
          -0.5814075572348782,
          -0.16184044883768145,
          -1.5721324300161514,
          0.6950065710683002,
          -0.8314692641278058,
          -0.12355865229498265,
          -0.8329353995904607,
          0.17274297111644685,
          1.2443883422087991,
          0.9702273312635,
          0.30752907318544453,
          0.061608252054063374,
          -0.17333362701213742,
          -0.27282472623696086,
          0.8606730370573321,
          -0.8747093448472467,
          0.17042438544837848,
          -0.29221679794432104,
          1.7156012441377246,
          -1.4258483478797175,
          0.30797346436635253,
          0.2539845798111618,
          -0.24376782227695817,
          -0.06566607781142401,
          -0.3573574364488877,
          0.8950415597885233,
          0.599948696764544,
          1.9671354385302708,
          0.4635816065027918,
          -1.7576051479490429,
          -0.47463512313190587,
          0.6279840259871928,
          2.337365144079594,
          -0.30212451393262035,
          0.5324425304553116,
          -2.277238747080297,
          0.7441042927887853,
          0.45514531157539384,
          -2.3927510413580046,
          1.8952133023412787,
          0.9295907286676737,
          2.3536974688897296,
          -0.07835629742378766,
          -1.4529263558977208,
          -0.470744116641777,
          -0.9297063600714525,
          -0.5232787570826094,
          1.1585138937308408,
          0.598242881542253,
          0.1466116115414334,
          -1.0310511547083212,
          0.38700678632271857,
          -0.9584346155844385,
          0.46289732465719235,
          3.0497684309977395,
          0.6308845938611453,
          -1.4611363927415932
         ],
         "yaxis": "y2"
        },
        {
         "line": {
          "color": "rgba(128, 128, 128, 1.0)",
          "dash": "solid",
          "shape": "linear",
          "width": 1.3
         },
         "marker": {
          "size": 2,
          "symbol": "circle"
         },
         "mode": "markers",
         "name": "A",
         "text": "",
         "type": "scatter",
         "x": [
          -0.11645279052094908,
          0.4393779609408233,
          0.6063046691984406,
          0.5047887138664606,
          -0.7372395073019394,
          -0.29932624994445084,
          -1.1307407122344446,
          -0.6436125721844698,
          -0.856329877440604,
          0.4332931849795575,
          -1.8329129235255013,
          0.100111067257256,
          0.3000657389621631,
          1.5879783688248816,
          -0.3599104859954278,
          -0.7906378998344055,
          -1.257504606293411,
          1.685825304447206,
          0.9371792834014308,
          -0.10589666566123403,
          1.0134311445053685,
          0.1368319379636196,
          -1.7647251313589065,
          0.683101984420053,
          0.72563965087473,
          0.23277616930636896,
          -0.4978725557654149,
          -0.3346479500270642,
          1.2509392121105265,
          0.05580075425742243,
          0.982496119310506,
          0.050133712744056314,
          -0.0036888623704976644,
          -1.7197393243013206,
          1.3404440765223675,
          0.11115872450960106,
          0.25529858453109816,
          -2.235696719358137,
          0.24354183223249412,
          0.855585555947541,
          -1.5199347723104777,
          0.9448867355378978,
          -0.8736669314088429,
          0.29914480180680775,
          -0.40935143794640605,
          0.9131919034653941,
          -0.29624885806132945,
          -0.44208934293992785,
          2.3333246167579382,
          -0.03579950282208326,
          0.387660626360157,
          1.628332133003226,
          -1.8836353518007312,
          0.32046336645543944,
          0.6935661975653568,
          -0.5563822278155446,
          0.4699155331692268,
          -0.15064486271484978,
          -0.042174703806003924,
          1.4196476652505239,
          2.2805502889992426,
          1.0246270131862365,
          -1.2870217432166955,
          -0.0030200811525446696,
          1.128420913987406,
          -0.5850404255256592,
          -0.37154945661918515,
          -0.6660861526137942,
          1.0616149434443025,
          0.864987851982718,
          -0.5973024227401297,
          -0.8776741161571848,
          0.6104388766966453,
          -0.9636485728105035,
          -0.6825770633411525,
          0.11553865201534792,
          0.12517000639252623,
          2.249873312502279,
          -1.498983260934329,
          -0.41117655753396803,
          1.160174244977359,
          -0.6904371357984395,
          0.8865971952724208,
          0.02755824250738164,
          0.44537658566349947,
          -1.3360760763576893,
          0.2661491335768126,
          1.4501604152017185,
          0.4499609195014744,
          -0.2919890507880548,
          -0.4824392756168685,
          -1.2014226979848543,
          -2.2151321821310384,
          0.25453623455366897,
          -0.23587600341657405,
          -1.0459253648906333,
          -0.675197069499754,
          -0.2106098846092165,
          -0.5476859628743922,
          0.38923816162895675
         ],
         "xaxis": "x3",
         "y": [
          -1.1327043841981699,
          0.43957848880133177,
          1.2915937209904265,
          -0.062483491122553636,
          -0.33030927847358615,
          -0.2534474880004595,
          -0.2944241123130243,
          1.5571960481692488,
          0.6371386751068504,
          1.3768911706132103,
          -0.3111060058480483,
          0.44001685729780704,
          -1.4536275467577977,
          -1.6415748499370881,
          0.8726454311647474,
          0.948365003585562,
          -0.42647265263416617,
          -0.929921357458483,
          0.054292957326093585,
          0.017311020327317662,
          -1.5775954742239748,
          -0.31197459072302897,
          0.17374730429197757,
          -1.0417282984941945,
          -0.6280579320106916,
          -1.1132217004307798,
          -1.2361264792311064,
          -0.08786660273665906,
          1.0579986356232067,
          1.0760107706598756,
          -0.23131709679940984,
          -1.3607889094569379,
          1.3693192944478547,
          0.4302812353538046,
          0.12254684981983366,
          1.1274643722935607,
          0.18320422398547292,
          0.30394428324033396,
          -0.6294843259909126,
          -0.4823586953926577,
          -0.7180018874614976,
          -1.0560574742310123,
          -1.3085350821883401,
          -0.5814075572348782,
          -0.16184044883768145,
          -1.5721324300161514,
          0.6950065710683002,
          -0.8314692641278058,
          -0.12355865229498265,
          -0.8329353995904607,
          0.17274297111644685,
          1.2443883422087991,
          0.9702273312635,
          0.30752907318544453,
          0.061608252054063374,
          -0.17333362701213742,
          -0.27282472623696086,
          0.8606730370573321,
          -0.8747093448472467,
          0.17042438544837848,
          -0.29221679794432104,
          1.7156012441377246,
          -1.4258483478797175,
          0.30797346436635253,
          0.2539845798111618,
          -0.24376782227695817,
          -0.06566607781142401,
          -0.3573574364488877,
          0.8950415597885233,
          0.599948696764544,
          1.9671354385302708,
          0.4635816065027918,
          -1.7576051479490429,
          -0.47463512313190587,
          0.6279840259871928,
          2.337365144079594,
          -0.30212451393262035,
          0.5324425304553116,
          -2.277238747080297,
          0.7441042927887853,
          0.45514531157539384,
          -2.3927510413580046,
          1.8952133023412787,
          0.9295907286676737,
          2.3536974688897296,
          -0.07835629742378766,
          -1.4529263558977208,
          -0.470744116641777,
          -0.9297063600714525,
          -0.5232787570826094,
          1.1585138937308408,
          0.598242881542253,
          0.1466116115414334,
          -1.0310511547083212,
          0.38700678632271857,
          -0.9584346155844385,
          0.46289732465719235,
          3.0497684309977395,
          0.6308845938611453,
          -1.4611363927415932
         ],
         "yaxis": "y3"
        },
        {
         "line": {
          "color": "rgba(128, 128, 128, 1.0)",
          "dash": "solid",
          "shape": "linear",
          "width": 1.3
         },
         "marker": {
          "size": 2,
          "symbol": "circle"
         },
         "mode": "markers",
         "name": "A",
         "text": "",
         "type": "scatter",
         "x": [
          -0.5292059535844459,
          1.1064690406617308,
          0.6091854329853036,
          -2.5487489986905794,
          -0.10048358299927301,
          0.7889482561007966,
          0.2182333436305011,
          1.0803617517799833,
          0.15299196550369815,
          -1.557140895984589,
          1.0196638208896873,
          1.0262208620258977,
          0.4387054948203236,
          1.0159014940334878,
          0.4331660965478158,
          1.2835679910923108,
          1.3143615432980493,
          -0.14558412329424825,
          -0.11672342002021162,
          -0.6902438254153812,
          -0.6629440904855465,
          -1.7548174409297443,
          -0.8331569874842295,
          0.8856096488005416,
          -0.8360053707534328,
          -0.7386445398584954,
          -0.7747387940605143,
          -2.081870462287336,
          0.12498410671845074,
          0.15897009069473816,
          -1.3279117437074002,
          0.3788730487439563,
          0.1399045402023327,
          1.6512237263924514,
          1.8802882828164964,
          -1.3590980561139525,
          -1.0080151597497842,
          1.890401862264807,
          -1.4641844544383824,
          1.3022572639918328,
          -0.9168937911655377,
          0.6282793283153333,
          0.5696499848868187,
          -0.3650051021648316,
          -0.4689264710561992,
          -2.6923960767238775,
          -0.22626909338040505,
          0.6432574059183647,
          -0.5606153856204515,
          -0.4020547261677119,
          0.15399561586188468,
          -0.12279867801600693,
          -1.4328727750050765,
          -0.21348161109013392,
          -0.8968016194032269,
          -0.6028522662352118,
          0.669148636800434,
          0.5418102266506077,
          -0.28152225467927555,
          -0.41572872914430614,
          1.0253748944337442,
          -0.5948337923408132,
          -0.7883797068659848,
          -0.5154180730546724,
          -0.899356179400538,
          -0.8967263461183929,
          -2.1072065260024107,
          -0.6108332675060558,
          -0.08743087907455412,
          0.5496639244852441,
          -1.149197611956018,
          -0.06307928518652887,
          0.3128278711957126,
          -0.5437045125881234,
          -0.710993924980026,
          -0.42000882672170453,
          0.6434568654828349,
          -0.5997340089377815,
          0.4030663906846691,
          0.9858919004129562,
          1.0389105924626678,
          -0.84556996765739,
          -0.8486981949624501,
          0.3098960882585664,
          -1.1871647324625332,
          -0.07300973002730142,
          -0.26990744499832925,
          0.3959572617199409,
          -2.1097110449270424,
          -0.019609163838898234,
          0.265154898293513,
          0.7640834295508394,
          0.3781628530682208,
          0.5483399655704287,
          -1.9222072570533257,
          -0.16083411698348218,
          -0.3943933024081147,
          -0.1272060226379822,
          -0.17163116768481487,
          0.4063707246658362
         ],
         "xaxis": "x4",
         "y": [
          -1.1327043841981699,
          0.43957848880133177,
          1.2915937209904265,
          -0.062483491122553636,
          -0.33030927847358615,
          -0.2534474880004595,
          -0.2944241123130243,
          1.5571960481692488,
          0.6371386751068504,
          1.3768911706132103,
          -0.3111060058480483,
          0.44001685729780704,
          -1.4536275467577977,
          -1.6415748499370881,
          0.8726454311647474,
          0.948365003585562,
          -0.42647265263416617,
          -0.929921357458483,
          0.054292957326093585,
          0.017311020327317662,
          -1.5775954742239748,
          -0.31197459072302897,
          0.17374730429197757,
          -1.0417282984941945,
          -0.6280579320106916,
          -1.1132217004307798,
          -1.2361264792311064,
          -0.08786660273665906,
          1.0579986356232067,
          1.0760107706598756,
          -0.23131709679940984,
          -1.3607889094569379,
          1.3693192944478547,
          0.4302812353538046,
          0.12254684981983366,
          1.1274643722935607,
          0.18320422398547292,
          0.30394428324033396,
          -0.6294843259909126,
          -0.4823586953926577,
          -0.7180018874614976,
          -1.0560574742310123,
          -1.3085350821883401,
          -0.5814075572348782,
          -0.16184044883768145,
          -1.5721324300161514,
          0.6950065710683002,
          -0.8314692641278058,
          -0.12355865229498265,
          -0.8329353995904607,
          0.17274297111644685,
          1.2443883422087991,
          0.9702273312635,
          0.30752907318544453,
          0.061608252054063374,
          -0.17333362701213742,
          -0.27282472623696086,
          0.8606730370573321,
          -0.8747093448472467,
          0.17042438544837848,
          -0.29221679794432104,
          1.7156012441377246,
          -1.4258483478797175,
          0.30797346436635253,
          0.2539845798111618,
          -0.24376782227695817,
          -0.06566607781142401,
          -0.3573574364488877,
          0.8950415597885233,
          0.599948696764544,
          1.9671354385302708,
          0.4635816065027918,
          -1.7576051479490429,
          -0.47463512313190587,
          0.6279840259871928,
          2.337365144079594,
          -0.30212451393262035,
          0.5324425304553116,
          -2.277238747080297,
          0.7441042927887853,
          0.45514531157539384,
          -2.3927510413580046,
          1.8952133023412787,
          0.9295907286676737,
          2.3536974688897296,
          -0.07835629742378766,
          -1.4529263558977208,
          -0.470744116641777,
          -0.9297063600714525,
          -0.5232787570826094,
          1.1585138937308408,
          0.598242881542253,
          0.1466116115414334,
          -1.0310511547083212,
          0.38700678632271857,
          -0.9584346155844385,
          0.46289732465719235,
          3.0497684309977395,
          0.6308845938611453,
          -1.4611363927415932
         ],
         "yaxis": "y4"
        },
        {
         "line": {
          "color": "rgba(128, 128, 128, 1.0)",
          "dash": "solid",
          "shape": "linear",
          "width": 1.3
         },
         "marker": {
          "size": 2,
          "symbol": "circle"
         },
         "mode": "markers",
         "name": "B",
         "text": "",
         "type": "scatter",
         "x": [
          -1.1327043841981699,
          0.43957848880133177,
          1.2915937209904265,
          -0.062483491122553636,
          -0.33030927847358615,
          -0.2534474880004595,
          -0.2944241123130243,
          1.5571960481692488,
          0.6371386751068504,
          1.3768911706132103,
          -0.3111060058480483,
          0.44001685729780704,
          -1.4536275467577977,
          -1.6415748499370881,
          0.8726454311647474,
          0.948365003585562,
          -0.42647265263416617,
          -0.929921357458483,
          0.054292957326093585,
          0.017311020327317662,
          -1.5775954742239748,
          -0.31197459072302897,
          0.17374730429197757,
          -1.0417282984941945,
          -0.6280579320106916,
          -1.1132217004307798,
          -1.2361264792311064,
          -0.08786660273665906,
          1.0579986356232067,
          1.0760107706598756,
          -0.23131709679940984,
          -1.3607889094569379,
          1.3693192944478547,
          0.4302812353538046,
          0.12254684981983366,
          1.1274643722935607,
          0.18320422398547292,
          0.30394428324033396,
          -0.6294843259909126,
          -0.4823586953926577,
          -0.7180018874614976,
          -1.0560574742310123,
          -1.3085350821883401,
          -0.5814075572348782,
          -0.16184044883768145,
          -1.5721324300161514,
          0.6950065710683002,
          -0.8314692641278058,
          -0.12355865229498265,
          -0.8329353995904607,
          0.17274297111644685,
          1.2443883422087991,
          0.9702273312635,
          0.30752907318544453,
          0.061608252054063374,
          -0.17333362701213742,
          -0.27282472623696086,
          0.8606730370573321,
          -0.8747093448472467,
          0.17042438544837848,
          -0.29221679794432104,
          1.7156012441377246,
          -1.4258483478797175,
          0.30797346436635253,
          0.2539845798111618,
          -0.24376782227695817,
          -0.06566607781142401,
          -0.3573574364488877,
          0.8950415597885233,
          0.599948696764544,
          1.9671354385302708,
          0.4635816065027918,
          -1.7576051479490429,
          -0.47463512313190587,
          0.6279840259871928,
          2.337365144079594,
          -0.30212451393262035,
          0.5324425304553116,
          -2.277238747080297,
          0.7441042927887853,
          0.45514531157539384,
          -2.3927510413580046,
          1.8952133023412787,
          0.9295907286676737,
          2.3536974688897296,
          -0.07835629742378766,
          -1.4529263558977208,
          -0.470744116641777,
          -0.9297063600714525,
          -0.5232787570826094,
          1.1585138937308408,
          0.598242881542253,
          0.1466116115414334,
          -1.0310511547083212,
          0.38700678632271857,
          -0.9584346155844385,
          0.46289732465719235,
          3.0497684309977395,
          0.6308845938611453,
          -1.4611363927415932
         ],
         "xaxis": "x5",
         "y": [
          0.665870159846067,
          -0.14322607048636532,
          0.5318270388110853,
          -0.6349234266796756,
          -0.4003475532487801,
          -0.5648983511179678,
          -0.7868393349779677,
          -0.6977220811260706,
          -0.08410301006555644,
          -1.0875280178558606,
          -0.5813926009753025,
          2.0588212711119307,
          -0.29362776595135764,
          -1.0843270366508906,
          -1.1876750858089375,
          -0.8481012043049085,
          0.15115715164747018,
          0.986639206646197,
          0.6402679098611134,
          0.18569066860703448,
          0.17087934983854336,
          -0.9611474334822284,
          -0.26471419660693096,
          1.3791691335019767,
          0.35181547138612795,
          -1.614213824314603,
          -1.299624277229161,
          0.23004522824337525,
          1.6144219444173153,
          0.7919221560977986,
          0.2872860203211714,
          -0.5149219514402005,
          0.2975366731248288,
          -1.008429973075412,
          0.5485802844833003,
          1.5947496255817897,
          0.7066061632436781,
          -0.3837385185155636,
          0.9588566124987895,
          -0.9038242341284818,
          0.19864496231610398,
          0.8399281489736665,
          0.8755052791264989,
          -2.2848796379452807,
          -0.20460032519565421,
          1.1201605960496122,
          0.42101963431300726,
          -0.7835440011445806,
          2.032566975890477,
          -2.0758540626813393,
          -0.6711835421104947,
          1.466861985095549,
          0.6192939192575811,
          0.41885332743147474,
          -0.140269495838045,
          -0.07160648641668739,
          0.8750017053597382,
          -1.1442755166946703,
          0.3540075381504812,
          0.22908929279481738,
          0.7616887868101634,
          0.8477474043328368,
          -0.9042239194228446,
          -0.023855384432606208,
          -0.6751103840032416,
          0.2052442964890146,
          -0.3251011638220956,
          0.39013623321288604,
          -1.0296381246978157,
          -0.4546981272029886,
          1.5560621922946916,
          -0.4554359860667604,
          -0.8307087366697378,
          -0.19347791554707675,
          1.0515865454701203,
          1.731965959242706,
          1.4031900858127881,
          -0.8303645821590848,
          1.256240361048191,
          1.4459290132286562,
          0.3275422203143726,
          1.0142235608790378,
          -1.310549925967843,
          -0.6726162465356665,
          1.5502226863152053,
          1.6654382664402356,
          -1.4278663850474882,
          -0.148037772856079,
          0.04258018210714182,
          0.4690647010904504,
          -0.376808202236462,
          1.4729082242912048,
          -1.2435688512973602,
          -1.4291702134049045,
          1.6788176270289137,
          2.457059270314667,
          -0.21964616796569672,
          -0.8747718755043745,
          -1.149008068776763,
          -0.6204953223835069
         ],
         "yaxis": "y5"
        },
        {
         "histfunc": "count",
         "histnorm": "",
         "marker": {
          "color": "rgba(55, 128, 191, 1.0)",
          "line": {
           "color": "#4D5663",
           "width": 1.3
          }
         },
         "name": "B",
         "nbinsx": 10,
         "opacity": 0.8,
         "orientation": "v",
         "type": "histogram",
         "x": [
          0.665870159846067,
          -0.14322607048636532,
          0.5318270388110853,
          -0.6349234266796756,
          -0.4003475532487801,
          -0.5648983511179678,
          -0.7868393349779677,
          -0.6977220811260706,
          -0.08410301006555644,
          -1.0875280178558606,
          -0.5813926009753025,
          2.0588212711119307,
          -0.29362776595135764,
          -1.0843270366508906,
          -1.1876750858089375,
          -0.8481012043049085,
          0.15115715164747018,
          0.986639206646197,
          0.6402679098611134,
          0.18569066860703448,
          0.17087934983854336,
          -0.9611474334822284,
          -0.26471419660693096,
          1.3791691335019767,
          0.35181547138612795,
          -1.614213824314603,
          -1.299624277229161,
          0.23004522824337525,
          1.6144219444173153,
          0.7919221560977986,
          0.2872860203211714,
          -0.5149219514402005,
          0.2975366731248288,
          -1.008429973075412,
          0.5485802844833003,
          1.5947496255817897,
          0.7066061632436781,
          -0.3837385185155636,
          0.9588566124987895,
          -0.9038242341284818,
          0.19864496231610398,
          0.8399281489736665,
          0.8755052791264989,
          -2.2848796379452807,
          -0.20460032519565421,
          1.1201605960496122,
          0.42101963431300726,
          -0.7835440011445806,
          2.032566975890477,
          -2.0758540626813393,
          -0.6711835421104947,
          1.466861985095549,
          0.6192939192575811,
          0.41885332743147474,
          -0.140269495838045,
          -0.07160648641668739,
          0.8750017053597382,
          -1.1442755166946703,
          0.3540075381504812,
          0.22908929279481738,
          0.7616887868101634,
          0.8477474043328368,
          -0.9042239194228446,
          -0.023855384432606208,
          -0.6751103840032416,
          0.2052442964890146,
          -0.3251011638220956,
          0.39013623321288604,
          -1.0296381246978157,
          -0.4546981272029886,
          1.5560621922946916,
          -0.4554359860667604,
          -0.8307087366697378,
          -0.19347791554707675,
          1.0515865454701203,
          1.731965959242706,
          1.4031900858127881,
          -0.8303645821590848,
          1.256240361048191,
          1.4459290132286562,
          0.3275422203143726,
          1.0142235608790378,
          -1.310549925967843,
          -0.6726162465356665,
          1.5502226863152053,
          1.6654382664402356,
          -1.4278663850474882,
          -0.148037772856079,
          0.04258018210714182,
          0.4690647010904504,
          -0.376808202236462,
          1.4729082242912048,
          -1.2435688512973602,
          -1.4291702134049045,
          1.6788176270289137,
          2.457059270314667,
          -0.21964616796569672,
          -0.8747718755043745,
          -1.149008068776763,
          -0.6204953223835069
         ],
         "xaxis": "x6",
         "yaxis": "y6"
        },
        {
         "line": {
          "color": "rgba(128, 128, 128, 1.0)",
          "dash": "solid",
          "shape": "linear",
          "width": 1.3
         },
         "marker": {
          "size": 2,
          "symbol": "circle"
         },
         "mode": "markers",
         "name": "B",
         "text": "",
         "type": "scatter",
         "x": [
          -0.11645279052094908,
          0.4393779609408233,
          0.6063046691984406,
          0.5047887138664606,
          -0.7372395073019394,
          -0.29932624994445084,
          -1.1307407122344446,
          -0.6436125721844698,
          -0.856329877440604,
          0.4332931849795575,
          -1.8329129235255013,
          0.100111067257256,
          0.3000657389621631,
          1.5879783688248816,
          -0.3599104859954278,
          -0.7906378998344055,
          -1.257504606293411,
          1.685825304447206,
          0.9371792834014308,
          -0.10589666566123403,
          1.0134311445053685,
          0.1368319379636196,
          -1.7647251313589065,
          0.683101984420053,
          0.72563965087473,
          0.23277616930636896,
          -0.4978725557654149,
          -0.3346479500270642,
          1.2509392121105265,
          0.05580075425742243,
          0.982496119310506,
          0.050133712744056314,
          -0.0036888623704976644,
          -1.7197393243013206,
          1.3404440765223675,
          0.11115872450960106,
          0.25529858453109816,
          -2.235696719358137,
          0.24354183223249412,
          0.855585555947541,
          -1.5199347723104777,
          0.9448867355378978,
          -0.8736669314088429,
          0.29914480180680775,
          -0.40935143794640605,
          0.9131919034653941,
          -0.29624885806132945,
          -0.44208934293992785,
          2.3333246167579382,
          -0.03579950282208326,
          0.387660626360157,
          1.628332133003226,
          -1.8836353518007312,
          0.32046336645543944,
          0.6935661975653568,
          -0.5563822278155446,
          0.4699155331692268,
          -0.15064486271484978,
          -0.042174703806003924,
          1.4196476652505239,
          2.2805502889992426,
          1.0246270131862365,
          -1.2870217432166955,
          -0.0030200811525446696,
          1.128420913987406,
          -0.5850404255256592,
          -0.37154945661918515,
          -0.6660861526137942,
          1.0616149434443025,
          0.864987851982718,
          -0.5973024227401297,
          -0.8776741161571848,
          0.6104388766966453,
          -0.9636485728105035,
          -0.6825770633411525,
          0.11553865201534792,
          0.12517000639252623,
          2.249873312502279,
          -1.498983260934329,
          -0.41117655753396803,
          1.160174244977359,
          -0.6904371357984395,
          0.8865971952724208,
          0.02755824250738164,
          0.44537658566349947,
          -1.3360760763576893,
          0.2661491335768126,
          1.4501604152017185,
          0.4499609195014744,
          -0.2919890507880548,
          -0.4824392756168685,
          -1.2014226979848543,
          -2.2151321821310384,
          0.25453623455366897,
          -0.23587600341657405,
          -1.0459253648906333,
          -0.675197069499754,
          -0.2106098846092165,
          -0.5476859628743922,
          0.38923816162895675
         ],
         "xaxis": "x7",
         "y": [
          0.665870159846067,
          -0.14322607048636532,
          0.5318270388110853,
          -0.6349234266796756,
          -0.4003475532487801,
          -0.5648983511179678,
          -0.7868393349779677,
          -0.6977220811260706,
          -0.08410301006555644,
          -1.0875280178558606,
          -0.5813926009753025,
          2.0588212711119307,
          -0.29362776595135764,
          -1.0843270366508906,
          -1.1876750858089375,
          -0.8481012043049085,
          0.15115715164747018,
          0.986639206646197,
          0.6402679098611134,
          0.18569066860703448,
          0.17087934983854336,
          -0.9611474334822284,
          -0.26471419660693096,
          1.3791691335019767,
          0.35181547138612795,
          -1.614213824314603,
          -1.299624277229161,
          0.23004522824337525,
          1.6144219444173153,
          0.7919221560977986,
          0.2872860203211714,
          -0.5149219514402005,
          0.2975366731248288,
          -1.008429973075412,
          0.5485802844833003,
          1.5947496255817897,
          0.7066061632436781,
          -0.3837385185155636,
          0.9588566124987895,
          -0.9038242341284818,
          0.19864496231610398,
          0.8399281489736665,
          0.8755052791264989,
          -2.2848796379452807,
          -0.20460032519565421,
          1.1201605960496122,
          0.42101963431300726,
          -0.7835440011445806,
          2.032566975890477,
          -2.0758540626813393,
          -0.6711835421104947,
          1.466861985095549,
          0.6192939192575811,
          0.41885332743147474,
          -0.140269495838045,
          -0.07160648641668739,
          0.8750017053597382,
          -1.1442755166946703,
          0.3540075381504812,
          0.22908929279481738,
          0.7616887868101634,
          0.8477474043328368,
          -0.9042239194228446,
          -0.023855384432606208,
          -0.6751103840032416,
          0.2052442964890146,
          -0.3251011638220956,
          0.39013623321288604,
          -1.0296381246978157,
          -0.4546981272029886,
          1.5560621922946916,
          -0.4554359860667604,
          -0.8307087366697378,
          -0.19347791554707675,
          1.0515865454701203,
          1.731965959242706,
          1.4031900858127881,
          -0.8303645821590848,
          1.256240361048191,
          1.4459290132286562,
          0.3275422203143726,
          1.0142235608790378,
          -1.310549925967843,
          -0.6726162465356665,
          1.5502226863152053,
          1.6654382664402356,
          -1.4278663850474882,
          -0.148037772856079,
          0.04258018210714182,
          0.4690647010904504,
          -0.376808202236462,
          1.4729082242912048,
          -1.2435688512973602,
          -1.4291702134049045,
          1.6788176270289137,
          2.457059270314667,
          -0.21964616796569672,
          -0.8747718755043745,
          -1.149008068776763,
          -0.6204953223835069
         ],
         "yaxis": "y7"
        },
        {
         "line": {
          "color": "rgba(128, 128, 128, 1.0)",
          "dash": "solid",
          "shape": "linear",
          "width": 1.3
         },
         "marker": {
          "size": 2,
          "symbol": "circle"
         },
         "mode": "markers",
         "name": "B",
         "text": "",
         "type": "scatter",
         "x": [
          -0.5292059535844459,
          1.1064690406617308,
          0.6091854329853036,
          -2.5487489986905794,
          -0.10048358299927301,
          0.7889482561007966,
          0.2182333436305011,
          1.0803617517799833,
          0.15299196550369815,
          -1.557140895984589,
          1.0196638208896873,
          1.0262208620258977,
          0.4387054948203236,
          1.0159014940334878,
          0.4331660965478158,
          1.2835679910923108,
          1.3143615432980493,
          -0.14558412329424825,
          -0.11672342002021162,
          -0.6902438254153812,
          -0.6629440904855465,
          -1.7548174409297443,
          -0.8331569874842295,
          0.8856096488005416,
          -0.8360053707534328,
          -0.7386445398584954,
          -0.7747387940605143,
          -2.081870462287336,
          0.12498410671845074,
          0.15897009069473816,
          -1.3279117437074002,
          0.3788730487439563,
          0.1399045402023327,
          1.6512237263924514,
          1.8802882828164964,
          -1.3590980561139525,
          -1.0080151597497842,
          1.890401862264807,
          -1.4641844544383824,
          1.3022572639918328,
          -0.9168937911655377,
          0.6282793283153333,
          0.5696499848868187,
          -0.3650051021648316,
          -0.4689264710561992,
          -2.6923960767238775,
          -0.22626909338040505,
          0.6432574059183647,
          -0.5606153856204515,
          -0.4020547261677119,
          0.15399561586188468,
          -0.12279867801600693,
          -1.4328727750050765,
          -0.21348161109013392,
          -0.8968016194032269,
          -0.6028522662352118,
          0.669148636800434,
          0.5418102266506077,
          -0.28152225467927555,
          -0.41572872914430614,
          1.0253748944337442,
          -0.5948337923408132,
          -0.7883797068659848,
          -0.5154180730546724,
          -0.899356179400538,
          -0.8967263461183929,
          -2.1072065260024107,
          -0.6108332675060558,
          -0.08743087907455412,
          0.5496639244852441,
          -1.149197611956018,
          -0.06307928518652887,
          0.3128278711957126,
          -0.5437045125881234,
          -0.710993924980026,
          -0.42000882672170453,
          0.6434568654828349,
          -0.5997340089377815,
          0.4030663906846691,
          0.9858919004129562,
          1.0389105924626678,
          -0.84556996765739,
          -0.8486981949624501,
          0.3098960882585664,
          -1.1871647324625332,
          -0.07300973002730142,
          -0.26990744499832925,
          0.3959572617199409,
          -2.1097110449270424,
          -0.019609163838898234,
          0.265154898293513,
          0.7640834295508394,
          0.3781628530682208,
          0.5483399655704287,
          -1.9222072570533257,
          -0.16083411698348218,
          -0.3943933024081147,
          -0.1272060226379822,
          -0.17163116768481487,
          0.4063707246658362
         ],
         "xaxis": "x8",
         "y": [
          0.665870159846067,
          -0.14322607048636532,
          0.5318270388110853,
          -0.6349234266796756,
          -0.4003475532487801,
          -0.5648983511179678,
          -0.7868393349779677,
          -0.6977220811260706,
          -0.08410301006555644,
          -1.0875280178558606,
          -0.5813926009753025,
          2.0588212711119307,
          -0.29362776595135764,
          -1.0843270366508906,
          -1.1876750858089375,
          -0.8481012043049085,
          0.15115715164747018,
          0.986639206646197,
          0.6402679098611134,
          0.18569066860703448,
          0.17087934983854336,
          -0.9611474334822284,
          -0.26471419660693096,
          1.3791691335019767,
          0.35181547138612795,
          -1.614213824314603,
          -1.299624277229161,
          0.23004522824337525,
          1.6144219444173153,
          0.7919221560977986,
          0.2872860203211714,
          -0.5149219514402005,
          0.2975366731248288,
          -1.008429973075412,
          0.5485802844833003,
          1.5947496255817897,
          0.7066061632436781,
          -0.3837385185155636,
          0.9588566124987895,
          -0.9038242341284818,
          0.19864496231610398,
          0.8399281489736665,
          0.8755052791264989,
          -2.2848796379452807,
          -0.20460032519565421,
          1.1201605960496122,
          0.42101963431300726,
          -0.7835440011445806,
          2.032566975890477,
          -2.0758540626813393,
          -0.6711835421104947,
          1.466861985095549,
          0.6192939192575811,
          0.41885332743147474,
          -0.140269495838045,
          -0.07160648641668739,
          0.8750017053597382,
          -1.1442755166946703,
          0.3540075381504812,
          0.22908929279481738,
          0.7616887868101634,
          0.8477474043328368,
          -0.9042239194228446,
          -0.023855384432606208,
          -0.6751103840032416,
          0.2052442964890146,
          -0.3251011638220956,
          0.39013623321288604,
          -1.0296381246978157,
          -0.4546981272029886,
          1.5560621922946916,
          -0.4554359860667604,
          -0.8307087366697378,
          -0.19347791554707675,
          1.0515865454701203,
          1.731965959242706,
          1.4031900858127881,
          -0.8303645821590848,
          1.256240361048191,
          1.4459290132286562,
          0.3275422203143726,
          1.0142235608790378,
          -1.310549925967843,
          -0.6726162465356665,
          1.5502226863152053,
          1.6654382664402356,
          -1.4278663850474882,
          -0.148037772856079,
          0.04258018210714182,
          0.4690647010904504,
          -0.376808202236462,
          1.4729082242912048,
          -1.2435688512973602,
          -1.4291702134049045,
          1.6788176270289137,
          2.457059270314667,
          -0.21964616796569672,
          -0.8747718755043745,
          -1.149008068776763,
          -0.6204953223835069
         ],
         "yaxis": "y8"
        },
        {
         "line": {
          "color": "rgba(128, 128, 128, 1.0)",
          "dash": "solid",
          "shape": "linear",
          "width": 1.3
         },
         "marker": {
          "size": 2,
          "symbol": "circle"
         },
         "mode": "markers",
         "name": "C",
         "text": "",
         "type": "scatter",
         "x": [
          -1.1327043841981699,
          0.43957848880133177,
          1.2915937209904265,
          -0.062483491122553636,
          -0.33030927847358615,
          -0.2534474880004595,
          -0.2944241123130243,
          1.5571960481692488,
          0.6371386751068504,
          1.3768911706132103,
          -0.3111060058480483,
          0.44001685729780704,
          -1.4536275467577977,
          -1.6415748499370881,
          0.8726454311647474,
          0.948365003585562,
          -0.42647265263416617,
          -0.929921357458483,
          0.054292957326093585,
          0.017311020327317662,
          -1.5775954742239748,
          -0.31197459072302897,
          0.17374730429197757,
          -1.0417282984941945,
          -0.6280579320106916,
          -1.1132217004307798,
          -1.2361264792311064,
          -0.08786660273665906,
          1.0579986356232067,
          1.0760107706598756,
          -0.23131709679940984,
          -1.3607889094569379,
          1.3693192944478547,
          0.4302812353538046,
          0.12254684981983366,
          1.1274643722935607,
          0.18320422398547292,
          0.30394428324033396,
          -0.6294843259909126,
          -0.4823586953926577,
          -0.7180018874614976,
          -1.0560574742310123,
          -1.3085350821883401,
          -0.5814075572348782,
          -0.16184044883768145,
          -1.5721324300161514,
          0.6950065710683002,
          -0.8314692641278058,
          -0.12355865229498265,
          -0.8329353995904607,
          0.17274297111644685,
          1.2443883422087991,
          0.9702273312635,
          0.30752907318544453,
          0.061608252054063374,
          -0.17333362701213742,
          -0.27282472623696086,
          0.8606730370573321,
          -0.8747093448472467,
          0.17042438544837848,
          -0.29221679794432104,
          1.7156012441377246,
          -1.4258483478797175,
          0.30797346436635253,
          0.2539845798111618,
          -0.24376782227695817,
          -0.06566607781142401,
          -0.3573574364488877,
          0.8950415597885233,
          0.599948696764544,
          1.9671354385302708,
          0.4635816065027918,
          -1.7576051479490429,
          -0.47463512313190587,
          0.6279840259871928,
          2.337365144079594,
          -0.30212451393262035,
          0.5324425304553116,
          -2.277238747080297,
          0.7441042927887853,
          0.45514531157539384,
          -2.3927510413580046,
          1.8952133023412787,
          0.9295907286676737,
          2.3536974688897296,
          -0.07835629742378766,
          -1.4529263558977208,
          -0.470744116641777,
          -0.9297063600714525,
          -0.5232787570826094,
          1.1585138937308408,
          0.598242881542253,
          0.1466116115414334,
          -1.0310511547083212,
          0.38700678632271857,
          -0.9584346155844385,
          0.46289732465719235,
          3.0497684309977395,
          0.6308845938611453,
          -1.4611363927415932
         ],
         "xaxis": "x9",
         "y": [
          -0.11645279052094908,
          0.4393779609408233,
          0.6063046691984406,
          0.5047887138664606,
          -0.7372395073019394,
          -0.29932624994445084,
          -1.1307407122344446,
          -0.6436125721844698,
          -0.856329877440604,
          0.4332931849795575,
          -1.8329129235255013,
          0.100111067257256,
          0.3000657389621631,
          1.5879783688248816,
          -0.3599104859954278,
          -0.7906378998344055,
          -1.257504606293411,
          1.685825304447206,
          0.9371792834014308,
          -0.10589666566123403,
          1.0134311445053685,
          0.1368319379636196,
          -1.7647251313589065,
          0.683101984420053,
          0.72563965087473,
          0.23277616930636896,
          -0.4978725557654149,
          -0.3346479500270642,
          1.2509392121105265,
          0.05580075425742243,
          0.982496119310506,
          0.050133712744056314,
          -0.0036888623704976644,
          -1.7197393243013206,
          1.3404440765223675,
          0.11115872450960106,
          0.25529858453109816,
          -2.235696719358137,
          0.24354183223249412,
          0.855585555947541,
          -1.5199347723104777,
          0.9448867355378978,
          -0.8736669314088429,
          0.29914480180680775,
          -0.40935143794640605,
          0.9131919034653941,
          -0.29624885806132945,
          -0.44208934293992785,
          2.3333246167579382,
          -0.03579950282208326,
          0.387660626360157,
          1.628332133003226,
          -1.8836353518007312,
          0.32046336645543944,
          0.6935661975653568,
          -0.5563822278155446,
          0.4699155331692268,
          -0.15064486271484978,
          -0.042174703806003924,
          1.4196476652505239,
          2.2805502889992426,
          1.0246270131862365,
          -1.2870217432166955,
          -0.0030200811525446696,
          1.128420913987406,
          -0.5850404255256592,
          -0.37154945661918515,
          -0.6660861526137942,
          1.0616149434443025,
          0.864987851982718,
          -0.5973024227401297,
          -0.8776741161571848,
          0.6104388766966453,
          -0.9636485728105035,
          -0.6825770633411525,
          0.11553865201534792,
          0.12517000639252623,
          2.249873312502279,
          -1.498983260934329,
          -0.41117655753396803,
          1.160174244977359,
          -0.6904371357984395,
          0.8865971952724208,
          0.02755824250738164,
          0.44537658566349947,
          -1.3360760763576893,
          0.2661491335768126,
          1.4501604152017185,
          0.4499609195014744,
          -0.2919890507880548,
          -0.4824392756168685,
          -1.2014226979848543,
          -2.2151321821310384,
          0.25453623455366897,
          -0.23587600341657405,
          -1.0459253648906333,
          -0.675197069499754,
          -0.2106098846092165,
          -0.5476859628743922,
          0.38923816162895675
         ],
         "yaxis": "y9"
        },
        {
         "line": {
          "color": "rgba(128, 128, 128, 1.0)",
          "dash": "solid",
          "shape": "linear",
          "width": 1.3
         },
         "marker": {
          "size": 2,
          "symbol": "circle"
         },
         "mode": "markers",
         "name": "C",
         "text": "",
         "type": "scatter",
         "x": [
          0.665870159846067,
          -0.14322607048636532,
          0.5318270388110853,
          -0.6349234266796756,
          -0.4003475532487801,
          -0.5648983511179678,
          -0.7868393349779677,
          -0.6977220811260706,
          -0.08410301006555644,
          -1.0875280178558606,
          -0.5813926009753025,
          2.0588212711119307,
          -0.29362776595135764,
          -1.0843270366508906,
          -1.1876750858089375,
          -0.8481012043049085,
          0.15115715164747018,
          0.986639206646197,
          0.6402679098611134,
          0.18569066860703448,
          0.17087934983854336,
          -0.9611474334822284,
          -0.26471419660693096,
          1.3791691335019767,
          0.35181547138612795,
          -1.614213824314603,
          -1.299624277229161,
          0.23004522824337525,
          1.6144219444173153,
          0.7919221560977986,
          0.2872860203211714,
          -0.5149219514402005,
          0.2975366731248288,
          -1.008429973075412,
          0.5485802844833003,
          1.5947496255817897,
          0.7066061632436781,
          -0.3837385185155636,
          0.9588566124987895,
          -0.9038242341284818,
          0.19864496231610398,
          0.8399281489736665,
          0.8755052791264989,
          -2.2848796379452807,
          -0.20460032519565421,
          1.1201605960496122,
          0.42101963431300726,
          -0.7835440011445806,
          2.032566975890477,
          -2.0758540626813393,
          -0.6711835421104947,
          1.466861985095549,
          0.6192939192575811,
          0.41885332743147474,
          -0.140269495838045,
          -0.07160648641668739,
          0.8750017053597382,
          -1.1442755166946703,
          0.3540075381504812,
          0.22908929279481738,
          0.7616887868101634,
          0.8477474043328368,
          -0.9042239194228446,
          -0.023855384432606208,
          -0.6751103840032416,
          0.2052442964890146,
          -0.3251011638220956,
          0.39013623321288604,
          -1.0296381246978157,
          -0.4546981272029886,
          1.5560621922946916,
          -0.4554359860667604,
          -0.8307087366697378,
          -0.19347791554707675,
          1.0515865454701203,
          1.731965959242706,
          1.4031900858127881,
          -0.8303645821590848,
          1.256240361048191,
          1.4459290132286562,
          0.3275422203143726,
          1.0142235608790378,
          -1.310549925967843,
          -0.6726162465356665,
          1.5502226863152053,
          1.6654382664402356,
          -1.4278663850474882,
          -0.148037772856079,
          0.04258018210714182,
          0.4690647010904504,
          -0.376808202236462,
          1.4729082242912048,
          -1.2435688512973602,
          -1.4291702134049045,
          1.6788176270289137,
          2.457059270314667,
          -0.21964616796569672,
          -0.8747718755043745,
          -1.149008068776763,
          -0.6204953223835069
         ],
         "xaxis": "x10",
         "y": [
          -0.11645279052094908,
          0.4393779609408233,
          0.6063046691984406,
          0.5047887138664606,
          -0.7372395073019394,
          -0.29932624994445084,
          -1.1307407122344446,
          -0.6436125721844698,
          -0.856329877440604,
          0.4332931849795575,
          -1.8329129235255013,
          0.100111067257256,
          0.3000657389621631,
          1.5879783688248816,
          -0.3599104859954278,
          -0.7906378998344055,
          -1.257504606293411,
          1.685825304447206,
          0.9371792834014308,
          -0.10589666566123403,
          1.0134311445053685,
          0.1368319379636196,
          -1.7647251313589065,
          0.683101984420053,
          0.72563965087473,
          0.23277616930636896,
          -0.4978725557654149,
          -0.3346479500270642,
          1.2509392121105265,
          0.05580075425742243,
          0.982496119310506,
          0.050133712744056314,
          -0.0036888623704976644,
          -1.7197393243013206,
          1.3404440765223675,
          0.11115872450960106,
          0.25529858453109816,
          -2.235696719358137,
          0.24354183223249412,
          0.855585555947541,
          -1.5199347723104777,
          0.9448867355378978,
          -0.8736669314088429,
          0.29914480180680775,
          -0.40935143794640605,
          0.9131919034653941,
          -0.29624885806132945,
          -0.44208934293992785,
          2.3333246167579382,
          -0.03579950282208326,
          0.387660626360157,
          1.628332133003226,
          -1.8836353518007312,
          0.32046336645543944,
          0.6935661975653568,
          -0.5563822278155446,
          0.4699155331692268,
          -0.15064486271484978,
          -0.042174703806003924,
          1.4196476652505239,
          2.2805502889992426,
          1.0246270131862365,
          -1.2870217432166955,
          -0.0030200811525446696,
          1.128420913987406,
          -0.5850404255256592,
          -0.37154945661918515,
          -0.6660861526137942,
          1.0616149434443025,
          0.864987851982718,
          -0.5973024227401297,
          -0.8776741161571848,
          0.6104388766966453,
          -0.9636485728105035,
          -0.6825770633411525,
          0.11553865201534792,
          0.12517000639252623,
          2.249873312502279,
          -1.498983260934329,
          -0.41117655753396803,
          1.160174244977359,
          -0.6904371357984395,
          0.8865971952724208,
          0.02755824250738164,
          0.44537658566349947,
          -1.3360760763576893,
          0.2661491335768126,
          1.4501604152017185,
          0.4499609195014744,
          -0.2919890507880548,
          -0.4824392756168685,
          -1.2014226979848543,
          -2.2151321821310384,
          0.25453623455366897,
          -0.23587600341657405,
          -1.0459253648906333,
          -0.675197069499754,
          -0.2106098846092165,
          -0.5476859628743922,
          0.38923816162895675
         ],
         "yaxis": "y10"
        },
        {
         "histfunc": "count",
         "histnorm": "",
         "marker": {
          "color": "rgba(50, 171, 96, 1.0)",
          "line": {
           "color": "#4D5663",
           "width": 1.3
          }
         },
         "name": "C",
         "nbinsx": 10,
         "opacity": 0.8,
         "orientation": "v",
         "type": "histogram",
         "x": [
          -0.11645279052094908,
          0.4393779609408233,
          0.6063046691984406,
          0.5047887138664606,
          -0.7372395073019394,
          -0.29932624994445084,
          -1.1307407122344446,
          -0.6436125721844698,
          -0.856329877440604,
          0.4332931849795575,
          -1.8329129235255013,
          0.100111067257256,
          0.3000657389621631,
          1.5879783688248816,
          -0.3599104859954278,
          -0.7906378998344055,
          -1.257504606293411,
          1.685825304447206,
          0.9371792834014308,
          -0.10589666566123403,
          1.0134311445053685,
          0.1368319379636196,
          -1.7647251313589065,
          0.683101984420053,
          0.72563965087473,
          0.23277616930636896,
          -0.4978725557654149,
          -0.3346479500270642,
          1.2509392121105265,
          0.05580075425742243,
          0.982496119310506,
          0.050133712744056314,
          -0.0036888623704976644,
          -1.7197393243013206,
          1.3404440765223675,
          0.11115872450960106,
          0.25529858453109816,
          -2.235696719358137,
          0.24354183223249412,
          0.855585555947541,
          -1.5199347723104777,
          0.9448867355378978,
          -0.8736669314088429,
          0.29914480180680775,
          -0.40935143794640605,
          0.9131919034653941,
          -0.29624885806132945,
          -0.44208934293992785,
          2.3333246167579382,
          -0.03579950282208326,
          0.387660626360157,
          1.628332133003226,
          -1.8836353518007312,
          0.32046336645543944,
          0.6935661975653568,
          -0.5563822278155446,
          0.4699155331692268,
          -0.15064486271484978,
          -0.042174703806003924,
          1.4196476652505239,
          2.2805502889992426,
          1.0246270131862365,
          -1.2870217432166955,
          -0.0030200811525446696,
          1.128420913987406,
          -0.5850404255256592,
          -0.37154945661918515,
          -0.6660861526137942,
          1.0616149434443025,
          0.864987851982718,
          -0.5973024227401297,
          -0.8776741161571848,
          0.6104388766966453,
          -0.9636485728105035,
          -0.6825770633411525,
          0.11553865201534792,
          0.12517000639252623,
          2.249873312502279,
          -1.498983260934329,
          -0.41117655753396803,
          1.160174244977359,
          -0.6904371357984395,
          0.8865971952724208,
          0.02755824250738164,
          0.44537658566349947,
          -1.3360760763576893,
          0.2661491335768126,
          1.4501604152017185,
          0.4499609195014744,
          -0.2919890507880548,
          -0.4824392756168685,
          -1.2014226979848543,
          -2.2151321821310384,
          0.25453623455366897,
          -0.23587600341657405,
          -1.0459253648906333,
          -0.675197069499754,
          -0.2106098846092165,
          -0.5476859628743922,
          0.38923816162895675
         ],
         "xaxis": "x11",
         "yaxis": "y11"
        },
        {
         "line": {
          "color": "rgba(128, 128, 128, 1.0)",
          "dash": "solid",
          "shape": "linear",
          "width": 1.3
         },
         "marker": {
          "size": 2,
          "symbol": "circle"
         },
         "mode": "markers",
         "name": "C",
         "text": "",
         "type": "scatter",
         "x": [
          -0.5292059535844459,
          1.1064690406617308,
          0.6091854329853036,
          -2.5487489986905794,
          -0.10048358299927301,
          0.7889482561007966,
          0.2182333436305011,
          1.0803617517799833,
          0.15299196550369815,
          -1.557140895984589,
          1.0196638208896873,
          1.0262208620258977,
          0.4387054948203236,
          1.0159014940334878,
          0.4331660965478158,
          1.2835679910923108,
          1.3143615432980493,
          -0.14558412329424825,
          -0.11672342002021162,
          -0.6902438254153812,
          -0.6629440904855465,
          -1.7548174409297443,
          -0.8331569874842295,
          0.8856096488005416,
          -0.8360053707534328,
          -0.7386445398584954,
          -0.7747387940605143,
          -2.081870462287336,
          0.12498410671845074,
          0.15897009069473816,
          -1.3279117437074002,
          0.3788730487439563,
          0.1399045402023327,
          1.6512237263924514,
          1.8802882828164964,
          -1.3590980561139525,
          -1.0080151597497842,
          1.890401862264807,
          -1.4641844544383824,
          1.3022572639918328,
          -0.9168937911655377,
          0.6282793283153333,
          0.5696499848868187,
          -0.3650051021648316,
          -0.4689264710561992,
          -2.6923960767238775,
          -0.22626909338040505,
          0.6432574059183647,
          -0.5606153856204515,
          -0.4020547261677119,
          0.15399561586188468,
          -0.12279867801600693,
          -1.4328727750050765,
          -0.21348161109013392,
          -0.8968016194032269,
          -0.6028522662352118,
          0.669148636800434,
          0.5418102266506077,
          -0.28152225467927555,
          -0.41572872914430614,
          1.0253748944337442,
          -0.5948337923408132,
          -0.7883797068659848,
          -0.5154180730546724,
          -0.899356179400538,
          -0.8967263461183929,
          -2.1072065260024107,
          -0.6108332675060558,
          -0.08743087907455412,
          0.5496639244852441,
          -1.149197611956018,
          -0.06307928518652887,
          0.3128278711957126,
          -0.5437045125881234,
          -0.710993924980026,
          -0.42000882672170453,
          0.6434568654828349,
          -0.5997340089377815,
          0.4030663906846691,
          0.9858919004129562,
          1.0389105924626678,
          -0.84556996765739,
          -0.8486981949624501,
          0.3098960882585664,
          -1.1871647324625332,
          -0.07300973002730142,
          -0.26990744499832925,
          0.3959572617199409,
          -2.1097110449270424,
          -0.019609163838898234,
          0.265154898293513,
          0.7640834295508394,
          0.3781628530682208,
          0.5483399655704287,
          -1.9222072570533257,
          -0.16083411698348218,
          -0.3943933024081147,
          -0.1272060226379822,
          -0.17163116768481487,
          0.4063707246658362
         ],
         "xaxis": "x12",
         "y": [
          -0.11645279052094908,
          0.4393779609408233,
          0.6063046691984406,
          0.5047887138664606,
          -0.7372395073019394,
          -0.29932624994445084,
          -1.1307407122344446,
          -0.6436125721844698,
          -0.856329877440604,
          0.4332931849795575,
          -1.8329129235255013,
          0.100111067257256,
          0.3000657389621631,
          1.5879783688248816,
          -0.3599104859954278,
          -0.7906378998344055,
          -1.257504606293411,
          1.685825304447206,
          0.9371792834014308,
          -0.10589666566123403,
          1.0134311445053685,
          0.1368319379636196,
          -1.7647251313589065,
          0.683101984420053,
          0.72563965087473,
          0.23277616930636896,
          -0.4978725557654149,
          -0.3346479500270642,
          1.2509392121105265,
          0.05580075425742243,
          0.982496119310506,
          0.050133712744056314,
          -0.0036888623704976644,
          -1.7197393243013206,
          1.3404440765223675,
          0.11115872450960106,
          0.25529858453109816,
          -2.235696719358137,
          0.24354183223249412,
          0.855585555947541,
          -1.5199347723104777,
          0.9448867355378978,
          -0.8736669314088429,
          0.29914480180680775,
          -0.40935143794640605,
          0.9131919034653941,
          -0.29624885806132945,
          -0.44208934293992785,
          2.3333246167579382,
          -0.03579950282208326,
          0.387660626360157,
          1.628332133003226,
          -1.8836353518007312,
          0.32046336645543944,
          0.6935661975653568,
          -0.5563822278155446,
          0.4699155331692268,
          -0.15064486271484978,
          -0.042174703806003924,
          1.4196476652505239,
          2.2805502889992426,
          1.0246270131862365,
          -1.2870217432166955,
          -0.0030200811525446696,
          1.128420913987406,
          -0.5850404255256592,
          -0.37154945661918515,
          -0.6660861526137942,
          1.0616149434443025,
          0.864987851982718,
          -0.5973024227401297,
          -0.8776741161571848,
          0.6104388766966453,
          -0.9636485728105035,
          -0.6825770633411525,
          0.11553865201534792,
          0.12517000639252623,
          2.249873312502279,
          -1.498983260934329,
          -0.41117655753396803,
          1.160174244977359,
          -0.6904371357984395,
          0.8865971952724208,
          0.02755824250738164,
          0.44537658566349947,
          -1.3360760763576893,
          0.2661491335768126,
          1.4501604152017185,
          0.4499609195014744,
          -0.2919890507880548,
          -0.4824392756168685,
          -1.2014226979848543,
          -2.2151321821310384,
          0.25453623455366897,
          -0.23587600341657405,
          -1.0459253648906333,
          -0.675197069499754,
          -0.2106098846092165,
          -0.5476859628743922,
          0.38923816162895675
         ],
         "yaxis": "y12"
        },
        {
         "line": {
          "color": "rgba(128, 128, 128, 1.0)",
          "dash": "solid",
          "shape": "linear",
          "width": 1.3
         },
         "marker": {
          "size": 2,
          "symbol": "circle"
         },
         "mode": "markers",
         "name": "D",
         "text": "",
         "type": "scatter",
         "x": [
          -1.1327043841981699,
          0.43957848880133177,
          1.2915937209904265,
          -0.062483491122553636,
          -0.33030927847358615,
          -0.2534474880004595,
          -0.2944241123130243,
          1.5571960481692488,
          0.6371386751068504,
          1.3768911706132103,
          -0.3111060058480483,
          0.44001685729780704,
          -1.4536275467577977,
          -1.6415748499370881,
          0.8726454311647474,
          0.948365003585562,
          -0.42647265263416617,
          -0.929921357458483,
          0.054292957326093585,
          0.017311020327317662,
          -1.5775954742239748,
          -0.31197459072302897,
          0.17374730429197757,
          -1.0417282984941945,
          -0.6280579320106916,
          -1.1132217004307798,
          -1.2361264792311064,
          -0.08786660273665906,
          1.0579986356232067,
          1.0760107706598756,
          -0.23131709679940984,
          -1.3607889094569379,
          1.3693192944478547,
          0.4302812353538046,
          0.12254684981983366,
          1.1274643722935607,
          0.18320422398547292,
          0.30394428324033396,
          -0.6294843259909126,
          -0.4823586953926577,
          -0.7180018874614976,
          -1.0560574742310123,
          -1.3085350821883401,
          -0.5814075572348782,
          -0.16184044883768145,
          -1.5721324300161514,
          0.6950065710683002,
          -0.8314692641278058,
          -0.12355865229498265,
          -0.8329353995904607,
          0.17274297111644685,
          1.2443883422087991,
          0.9702273312635,
          0.30752907318544453,
          0.061608252054063374,
          -0.17333362701213742,
          -0.27282472623696086,
          0.8606730370573321,
          -0.8747093448472467,
          0.17042438544837848,
          -0.29221679794432104,
          1.7156012441377246,
          -1.4258483478797175,
          0.30797346436635253,
          0.2539845798111618,
          -0.24376782227695817,
          -0.06566607781142401,
          -0.3573574364488877,
          0.8950415597885233,
          0.599948696764544,
          1.9671354385302708,
          0.4635816065027918,
          -1.7576051479490429,
          -0.47463512313190587,
          0.6279840259871928,
          2.337365144079594,
          -0.30212451393262035,
          0.5324425304553116,
          -2.277238747080297,
          0.7441042927887853,
          0.45514531157539384,
          -2.3927510413580046,
          1.8952133023412787,
          0.9295907286676737,
          2.3536974688897296,
          -0.07835629742378766,
          -1.4529263558977208,
          -0.470744116641777,
          -0.9297063600714525,
          -0.5232787570826094,
          1.1585138937308408,
          0.598242881542253,
          0.1466116115414334,
          -1.0310511547083212,
          0.38700678632271857,
          -0.9584346155844385,
          0.46289732465719235,
          3.0497684309977395,
          0.6308845938611453,
          -1.4611363927415932
         ],
         "xaxis": "x13",
         "y": [
          -0.5292059535844459,
          1.1064690406617308,
          0.6091854329853036,
          -2.5487489986905794,
          -0.10048358299927301,
          0.7889482561007966,
          0.2182333436305011,
          1.0803617517799833,
          0.15299196550369815,
          -1.557140895984589,
          1.0196638208896873,
          1.0262208620258977,
          0.4387054948203236,
          1.0159014940334878,
          0.4331660965478158,
          1.2835679910923108,
          1.3143615432980493,
          -0.14558412329424825,
          -0.11672342002021162,
          -0.6902438254153812,
          -0.6629440904855465,
          -1.7548174409297443,
          -0.8331569874842295,
          0.8856096488005416,
          -0.8360053707534328,
          -0.7386445398584954,
          -0.7747387940605143,
          -2.081870462287336,
          0.12498410671845074,
          0.15897009069473816,
          -1.3279117437074002,
          0.3788730487439563,
          0.1399045402023327,
          1.6512237263924514,
          1.8802882828164964,
          -1.3590980561139525,
          -1.0080151597497842,
          1.890401862264807,
          -1.4641844544383824,
          1.3022572639918328,
          -0.9168937911655377,
          0.6282793283153333,
          0.5696499848868187,
          -0.3650051021648316,
          -0.4689264710561992,
          -2.6923960767238775,
          -0.22626909338040505,
          0.6432574059183647,
          -0.5606153856204515,
          -0.4020547261677119,
          0.15399561586188468,
          -0.12279867801600693,
          -1.4328727750050765,
          -0.21348161109013392,
          -0.8968016194032269,
          -0.6028522662352118,
          0.669148636800434,
          0.5418102266506077,
          -0.28152225467927555,
          -0.41572872914430614,
          1.0253748944337442,
          -0.5948337923408132,
          -0.7883797068659848,
          -0.5154180730546724,
          -0.899356179400538,
          -0.8967263461183929,
          -2.1072065260024107,
          -0.6108332675060558,
          -0.08743087907455412,
          0.5496639244852441,
          -1.149197611956018,
          -0.06307928518652887,
          0.3128278711957126,
          -0.5437045125881234,
          -0.710993924980026,
          -0.42000882672170453,
          0.6434568654828349,
          -0.5997340089377815,
          0.4030663906846691,
          0.9858919004129562,
          1.0389105924626678,
          -0.84556996765739,
          -0.8486981949624501,
          0.3098960882585664,
          -1.1871647324625332,
          -0.07300973002730142,
          -0.26990744499832925,
          0.3959572617199409,
          -2.1097110449270424,
          -0.019609163838898234,
          0.265154898293513,
          0.7640834295508394,
          0.3781628530682208,
          0.5483399655704287,
          -1.9222072570533257,
          -0.16083411698348218,
          -0.3943933024081147,
          -0.1272060226379822,
          -0.17163116768481487,
          0.4063707246658362
         ],
         "yaxis": "y13"
        },
        {
         "line": {
          "color": "rgba(128, 128, 128, 1.0)",
          "dash": "solid",
          "shape": "linear",
          "width": 1.3
         },
         "marker": {
          "size": 2,
          "symbol": "circle"
         },
         "mode": "markers",
         "name": "D",
         "text": "",
         "type": "scatter",
         "x": [
          0.665870159846067,
          -0.14322607048636532,
          0.5318270388110853,
          -0.6349234266796756,
          -0.4003475532487801,
          -0.5648983511179678,
          -0.7868393349779677,
          -0.6977220811260706,
          -0.08410301006555644,
          -1.0875280178558606,
          -0.5813926009753025,
          2.0588212711119307,
          -0.29362776595135764,
          -1.0843270366508906,
          -1.1876750858089375,
          -0.8481012043049085,
          0.15115715164747018,
          0.986639206646197,
          0.6402679098611134,
          0.18569066860703448,
          0.17087934983854336,
          -0.9611474334822284,
          -0.26471419660693096,
          1.3791691335019767,
          0.35181547138612795,
          -1.614213824314603,
          -1.299624277229161,
          0.23004522824337525,
          1.6144219444173153,
          0.7919221560977986,
          0.2872860203211714,
          -0.5149219514402005,
          0.2975366731248288,
          -1.008429973075412,
          0.5485802844833003,
          1.5947496255817897,
          0.7066061632436781,
          -0.3837385185155636,
          0.9588566124987895,
          -0.9038242341284818,
          0.19864496231610398,
          0.8399281489736665,
          0.8755052791264989,
          -2.2848796379452807,
          -0.20460032519565421,
          1.1201605960496122,
          0.42101963431300726,
          -0.7835440011445806,
          2.032566975890477,
          -2.0758540626813393,
          -0.6711835421104947,
          1.466861985095549,
          0.6192939192575811,
          0.41885332743147474,
          -0.140269495838045,
          -0.07160648641668739,
          0.8750017053597382,
          -1.1442755166946703,
          0.3540075381504812,
          0.22908929279481738,
          0.7616887868101634,
          0.8477474043328368,
          -0.9042239194228446,
          -0.023855384432606208,
          -0.6751103840032416,
          0.2052442964890146,
          -0.3251011638220956,
          0.39013623321288604,
          -1.0296381246978157,
          -0.4546981272029886,
          1.5560621922946916,
          -0.4554359860667604,
          -0.8307087366697378,
          -0.19347791554707675,
          1.0515865454701203,
          1.731965959242706,
          1.4031900858127881,
          -0.8303645821590848,
          1.256240361048191,
          1.4459290132286562,
          0.3275422203143726,
          1.0142235608790378,
          -1.310549925967843,
          -0.6726162465356665,
          1.5502226863152053,
          1.6654382664402356,
          -1.4278663850474882,
          -0.148037772856079,
          0.04258018210714182,
          0.4690647010904504,
          -0.376808202236462,
          1.4729082242912048,
          -1.2435688512973602,
          -1.4291702134049045,
          1.6788176270289137,
          2.457059270314667,
          -0.21964616796569672,
          -0.8747718755043745,
          -1.149008068776763,
          -0.6204953223835069
         ],
         "xaxis": "x14",
         "y": [
          -0.5292059535844459,
          1.1064690406617308,
          0.6091854329853036,
          -2.5487489986905794,
          -0.10048358299927301,
          0.7889482561007966,
          0.2182333436305011,
          1.0803617517799833,
          0.15299196550369815,
          -1.557140895984589,
          1.0196638208896873,
          1.0262208620258977,
          0.4387054948203236,
          1.0159014940334878,
          0.4331660965478158,
          1.2835679910923108,
          1.3143615432980493,
          -0.14558412329424825,
          -0.11672342002021162,
          -0.6902438254153812,
          -0.6629440904855465,
          -1.7548174409297443,
          -0.8331569874842295,
          0.8856096488005416,
          -0.8360053707534328,
          -0.7386445398584954,
          -0.7747387940605143,
          -2.081870462287336,
          0.12498410671845074,
          0.15897009069473816,
          -1.3279117437074002,
          0.3788730487439563,
          0.1399045402023327,
          1.6512237263924514,
          1.8802882828164964,
          -1.3590980561139525,
          -1.0080151597497842,
          1.890401862264807,
          -1.4641844544383824,
          1.3022572639918328,
          -0.9168937911655377,
          0.6282793283153333,
          0.5696499848868187,
          -0.3650051021648316,
          -0.4689264710561992,
          -2.6923960767238775,
          -0.22626909338040505,
          0.6432574059183647,
          -0.5606153856204515,
          -0.4020547261677119,
          0.15399561586188468,
          -0.12279867801600693,
          -1.4328727750050765,
          -0.21348161109013392,
          -0.8968016194032269,
          -0.6028522662352118,
          0.669148636800434,
          0.5418102266506077,
          -0.28152225467927555,
          -0.41572872914430614,
          1.0253748944337442,
          -0.5948337923408132,
          -0.7883797068659848,
          -0.5154180730546724,
          -0.899356179400538,
          -0.8967263461183929,
          -2.1072065260024107,
          -0.6108332675060558,
          -0.08743087907455412,
          0.5496639244852441,
          -1.149197611956018,
          -0.06307928518652887,
          0.3128278711957126,
          -0.5437045125881234,
          -0.710993924980026,
          -0.42000882672170453,
          0.6434568654828349,
          -0.5997340089377815,
          0.4030663906846691,
          0.9858919004129562,
          1.0389105924626678,
          -0.84556996765739,
          -0.8486981949624501,
          0.3098960882585664,
          -1.1871647324625332,
          -0.07300973002730142,
          -0.26990744499832925,
          0.3959572617199409,
          -2.1097110449270424,
          -0.019609163838898234,
          0.265154898293513,
          0.7640834295508394,
          0.3781628530682208,
          0.5483399655704287,
          -1.9222072570533257,
          -0.16083411698348218,
          -0.3943933024081147,
          -0.1272060226379822,
          -0.17163116768481487,
          0.4063707246658362
         ],
         "yaxis": "y14"
        },
        {
         "line": {
          "color": "rgba(128, 128, 128, 1.0)",
          "dash": "solid",
          "shape": "linear",
          "width": 1.3
         },
         "marker": {
          "size": 2,
          "symbol": "circle"
         },
         "mode": "markers",
         "name": "D",
         "text": "",
         "type": "scatter",
         "x": [
          -0.11645279052094908,
          0.4393779609408233,
          0.6063046691984406,
          0.5047887138664606,
          -0.7372395073019394,
          -0.29932624994445084,
          -1.1307407122344446,
          -0.6436125721844698,
          -0.856329877440604,
          0.4332931849795575,
          -1.8329129235255013,
          0.100111067257256,
          0.3000657389621631,
          1.5879783688248816,
          -0.3599104859954278,
          -0.7906378998344055,
          -1.257504606293411,
          1.685825304447206,
          0.9371792834014308,
          -0.10589666566123403,
          1.0134311445053685,
          0.1368319379636196,
          -1.7647251313589065,
          0.683101984420053,
          0.72563965087473,
          0.23277616930636896,
          -0.4978725557654149,
          -0.3346479500270642,
          1.2509392121105265,
          0.05580075425742243,
          0.982496119310506,
          0.050133712744056314,
          -0.0036888623704976644,
          -1.7197393243013206,
          1.3404440765223675,
          0.11115872450960106,
          0.25529858453109816,
          -2.235696719358137,
          0.24354183223249412,
          0.855585555947541,
          -1.5199347723104777,
          0.9448867355378978,
          -0.8736669314088429,
          0.29914480180680775,
          -0.40935143794640605,
          0.9131919034653941,
          -0.29624885806132945,
          -0.44208934293992785,
          2.3333246167579382,
          -0.03579950282208326,
          0.387660626360157,
          1.628332133003226,
          -1.8836353518007312,
          0.32046336645543944,
          0.6935661975653568,
          -0.5563822278155446,
          0.4699155331692268,
          -0.15064486271484978,
          -0.042174703806003924,
          1.4196476652505239,
          2.2805502889992426,
          1.0246270131862365,
          -1.2870217432166955,
          -0.0030200811525446696,
          1.128420913987406,
          -0.5850404255256592,
          -0.37154945661918515,
          -0.6660861526137942,
          1.0616149434443025,
          0.864987851982718,
          -0.5973024227401297,
          -0.8776741161571848,
          0.6104388766966453,
          -0.9636485728105035,
          -0.6825770633411525,
          0.11553865201534792,
          0.12517000639252623,
          2.249873312502279,
          -1.498983260934329,
          -0.41117655753396803,
          1.160174244977359,
          -0.6904371357984395,
          0.8865971952724208,
          0.02755824250738164,
          0.44537658566349947,
          -1.3360760763576893,
          0.2661491335768126,
          1.4501604152017185,
          0.4499609195014744,
          -0.2919890507880548,
          -0.4824392756168685,
          -1.2014226979848543,
          -2.2151321821310384,
          0.25453623455366897,
          -0.23587600341657405,
          -1.0459253648906333,
          -0.675197069499754,
          -0.2106098846092165,
          -0.5476859628743922,
          0.38923816162895675
         ],
         "xaxis": "x15",
         "y": [
          -0.5292059535844459,
          1.1064690406617308,
          0.6091854329853036,
          -2.5487489986905794,
          -0.10048358299927301,
          0.7889482561007966,
          0.2182333436305011,
          1.0803617517799833,
          0.15299196550369815,
          -1.557140895984589,
          1.0196638208896873,
          1.0262208620258977,
          0.4387054948203236,
          1.0159014940334878,
          0.4331660965478158,
          1.2835679910923108,
          1.3143615432980493,
          -0.14558412329424825,
          -0.11672342002021162,
          -0.6902438254153812,
          -0.6629440904855465,
          -1.7548174409297443,
          -0.8331569874842295,
          0.8856096488005416,
          -0.8360053707534328,
          -0.7386445398584954,
          -0.7747387940605143,
          -2.081870462287336,
          0.12498410671845074,
          0.15897009069473816,
          -1.3279117437074002,
          0.3788730487439563,
          0.1399045402023327,
          1.6512237263924514,
          1.8802882828164964,
          -1.3590980561139525,
          -1.0080151597497842,
          1.890401862264807,
          -1.4641844544383824,
          1.3022572639918328,
          -0.9168937911655377,
          0.6282793283153333,
          0.5696499848868187,
          -0.3650051021648316,
          -0.4689264710561992,
          -2.6923960767238775,
          -0.22626909338040505,
          0.6432574059183647,
          -0.5606153856204515,
          -0.4020547261677119,
          0.15399561586188468,
          -0.12279867801600693,
          -1.4328727750050765,
          -0.21348161109013392,
          -0.8968016194032269,
          -0.6028522662352118,
          0.669148636800434,
          0.5418102266506077,
          -0.28152225467927555,
          -0.41572872914430614,
          1.0253748944337442,
          -0.5948337923408132,
          -0.7883797068659848,
          -0.5154180730546724,
          -0.899356179400538,
          -0.8967263461183929,
          -2.1072065260024107,
          -0.6108332675060558,
          -0.08743087907455412,
          0.5496639244852441,
          -1.149197611956018,
          -0.06307928518652887,
          0.3128278711957126,
          -0.5437045125881234,
          -0.710993924980026,
          -0.42000882672170453,
          0.6434568654828349,
          -0.5997340089377815,
          0.4030663906846691,
          0.9858919004129562,
          1.0389105924626678,
          -0.84556996765739,
          -0.8486981949624501,
          0.3098960882585664,
          -1.1871647324625332,
          -0.07300973002730142,
          -0.26990744499832925,
          0.3959572617199409,
          -2.1097110449270424,
          -0.019609163838898234,
          0.265154898293513,
          0.7640834295508394,
          0.3781628530682208,
          0.5483399655704287,
          -1.9222072570533257,
          -0.16083411698348218,
          -0.3943933024081147,
          -0.1272060226379822,
          -0.17163116768481487,
          0.4063707246658362
         ],
         "yaxis": "y15"
        },
        {
         "histfunc": "count",
         "histnorm": "",
         "marker": {
          "color": "rgba(128, 0, 128, 1.0)",
          "line": {
           "color": "#4D5663",
           "width": 1.3
          }
         },
         "name": "D",
         "nbinsx": 10,
         "opacity": 0.8,
         "orientation": "v",
         "type": "histogram",
         "x": [
          -0.5292059535844459,
          1.1064690406617308,
          0.6091854329853036,
          -2.5487489986905794,
          -0.10048358299927301,
          0.7889482561007966,
          0.2182333436305011,
          1.0803617517799833,
          0.15299196550369815,
          -1.557140895984589,
          1.0196638208896873,
          1.0262208620258977,
          0.4387054948203236,
          1.0159014940334878,
          0.4331660965478158,
          1.2835679910923108,
          1.3143615432980493,
          -0.14558412329424825,
          -0.11672342002021162,
          -0.6902438254153812,
          -0.6629440904855465,
          -1.7548174409297443,
          -0.8331569874842295,
          0.8856096488005416,
          -0.8360053707534328,
          -0.7386445398584954,
          -0.7747387940605143,
          -2.081870462287336,
          0.12498410671845074,
          0.15897009069473816,
          -1.3279117437074002,
          0.3788730487439563,
          0.1399045402023327,
          1.6512237263924514,
          1.8802882828164964,
          -1.3590980561139525,
          -1.0080151597497842,
          1.890401862264807,
          -1.4641844544383824,
          1.3022572639918328,
          -0.9168937911655377,
          0.6282793283153333,
          0.5696499848868187,
          -0.3650051021648316,
          -0.4689264710561992,
          -2.6923960767238775,
          -0.22626909338040505,
          0.6432574059183647,
          -0.5606153856204515,
          -0.4020547261677119,
          0.15399561586188468,
          -0.12279867801600693,
          -1.4328727750050765,
          -0.21348161109013392,
          -0.8968016194032269,
          -0.6028522662352118,
          0.669148636800434,
          0.5418102266506077,
          -0.28152225467927555,
          -0.41572872914430614,
          1.0253748944337442,
          -0.5948337923408132,
          -0.7883797068659848,
          -0.5154180730546724,
          -0.899356179400538,
          -0.8967263461183929,
          -2.1072065260024107,
          -0.6108332675060558,
          -0.08743087907455412,
          0.5496639244852441,
          -1.149197611956018,
          -0.06307928518652887,
          0.3128278711957126,
          -0.5437045125881234,
          -0.710993924980026,
          -0.42000882672170453,
          0.6434568654828349,
          -0.5997340089377815,
          0.4030663906846691,
          0.9858919004129562,
          1.0389105924626678,
          -0.84556996765739,
          -0.8486981949624501,
          0.3098960882585664,
          -1.1871647324625332,
          -0.07300973002730142,
          -0.26990744499832925,
          0.3959572617199409,
          -2.1097110449270424,
          -0.019609163838898234,
          0.265154898293513,
          0.7640834295508394,
          0.3781628530682208,
          0.5483399655704287,
          -1.9222072570533257,
          -0.16083411698348218,
          -0.3943933024081147,
          -0.1272060226379822,
          -0.17163116768481487,
          0.4063707246658362
         ],
         "xaxis": "x16",
         "yaxis": "y16"
        }
       ],
       "layout": {
        "bargap": 0.02,
        "legend": {
         "bgcolor": "#F5F6F9",
         "font": {
          "color": "#4D5663"
         }
        },
        "paper_bgcolor": "#F5F6F9",
        "plot_bgcolor": "#F5F6F9",
        "showlegend": false,
        "template": {
         "data": {
          "bar": [
           {
            "error_x": {
             "color": "#2a3f5f"
            },
            "error_y": {
             "color": "#2a3f5f"
            },
            "marker": {
             "line": {
              "color": "#E5ECF6",
              "width": 0.5
             }
            },
            "type": "bar"
           }
          ],
          "barpolar": [
           {
            "marker": {
             "line": {
              "color": "#E5ECF6",
              "width": 0.5
             }
            },
            "type": "barpolar"
           }
          ],
          "carpet": [
           {
            "aaxis": {
             "endlinecolor": "#2a3f5f",
             "gridcolor": "white",
             "linecolor": "white",
             "minorgridcolor": "white",
             "startlinecolor": "#2a3f5f"
            },
            "baxis": {
             "endlinecolor": "#2a3f5f",
             "gridcolor": "white",
             "linecolor": "white",
             "minorgridcolor": "white",
             "startlinecolor": "#2a3f5f"
            },
            "type": "carpet"
           }
          ],
          "choropleth": [
           {
            "colorbar": {
             "outlinewidth": 0,
             "ticks": ""
            },
            "type": "choropleth"
           }
          ],
          "contour": [
           {
            "colorbar": {
             "outlinewidth": 0,
             "ticks": ""
            },
            "colorscale": [
             [
              0,
              "#0d0887"
             ],
             [
              0.1111111111111111,
              "#46039f"
             ],
             [
              0.2222222222222222,
              "#7201a8"
             ],
             [
              0.3333333333333333,
              "#9c179e"
             ],
             [
              0.4444444444444444,
              "#bd3786"
             ],
             [
              0.5555555555555556,
              "#d8576b"
             ],
             [
              0.6666666666666666,
              "#ed7953"
             ],
             [
              0.7777777777777778,
              "#fb9f3a"
             ],
             [
              0.8888888888888888,
              "#fdca26"
             ],
             [
              1,
              "#f0f921"
             ]
            ],
            "type": "contour"
           }
          ],
          "contourcarpet": [
           {
            "colorbar": {
             "outlinewidth": 0,
             "ticks": ""
            },
            "type": "contourcarpet"
           }
          ],
          "heatmap": [
           {
            "colorbar": {
             "outlinewidth": 0,
             "ticks": ""
            },
            "colorscale": [
             [
              0,
              "#0d0887"
             ],
             [
              0.1111111111111111,
              "#46039f"
             ],
             [
              0.2222222222222222,
              "#7201a8"
             ],
             [
              0.3333333333333333,
              "#9c179e"
             ],
             [
              0.4444444444444444,
              "#bd3786"
             ],
             [
              0.5555555555555556,
              "#d8576b"
             ],
             [
              0.6666666666666666,
              "#ed7953"
             ],
             [
              0.7777777777777778,
              "#fb9f3a"
             ],
             [
              0.8888888888888888,
              "#fdca26"
             ],
             [
              1,
              "#f0f921"
             ]
            ],
            "type": "heatmap"
           }
          ],
          "heatmapgl": [
           {
            "colorbar": {
             "outlinewidth": 0,
             "ticks": ""
            },
            "colorscale": [
             [
              0,
              "#0d0887"
             ],
             [
              0.1111111111111111,
              "#46039f"
             ],
             [
              0.2222222222222222,
              "#7201a8"
             ],
             [
              0.3333333333333333,
              "#9c179e"
             ],
             [
              0.4444444444444444,
              "#bd3786"
             ],
             [
              0.5555555555555556,
              "#d8576b"
             ],
             [
              0.6666666666666666,
              "#ed7953"
             ],
             [
              0.7777777777777778,
              "#fb9f3a"
             ],
             [
              0.8888888888888888,
              "#fdca26"
             ],
             [
              1,
              "#f0f921"
             ]
            ],
            "type": "heatmapgl"
           }
          ],
          "histogram": [
           {
            "marker": {
             "colorbar": {
              "outlinewidth": 0,
              "ticks": ""
             }
            },
            "type": "histogram"
           }
          ],
          "histogram2d": [
           {
            "colorbar": {
             "outlinewidth": 0,
             "ticks": ""
            },
            "colorscale": [
             [
              0,
              "#0d0887"
             ],
             [
              0.1111111111111111,
              "#46039f"
             ],
             [
              0.2222222222222222,
              "#7201a8"
             ],
             [
              0.3333333333333333,
              "#9c179e"
             ],
             [
              0.4444444444444444,
              "#bd3786"
             ],
             [
              0.5555555555555556,
              "#d8576b"
             ],
             [
              0.6666666666666666,
              "#ed7953"
             ],
             [
              0.7777777777777778,
              "#fb9f3a"
             ],
             [
              0.8888888888888888,
              "#fdca26"
             ],
             [
              1,
              "#f0f921"
             ]
            ],
            "type": "histogram2d"
           }
          ],
          "histogram2dcontour": [
           {
            "colorbar": {
             "outlinewidth": 0,
             "ticks": ""
            },
            "colorscale": [
             [
              0,
              "#0d0887"
             ],
             [
              0.1111111111111111,
              "#46039f"
             ],
             [
              0.2222222222222222,
              "#7201a8"
             ],
             [
              0.3333333333333333,
              "#9c179e"
             ],
             [
              0.4444444444444444,
              "#bd3786"
             ],
             [
              0.5555555555555556,
              "#d8576b"
             ],
             [
              0.6666666666666666,
              "#ed7953"
             ],
             [
              0.7777777777777778,
              "#fb9f3a"
             ],
             [
              0.8888888888888888,
              "#fdca26"
             ],
             [
              1,
              "#f0f921"
             ]
            ],
            "type": "histogram2dcontour"
           }
          ],
          "mesh3d": [
           {
            "colorbar": {
             "outlinewidth": 0,
             "ticks": ""
            },
            "type": "mesh3d"
           }
          ],
          "parcoords": [
           {
            "line": {
             "colorbar": {
              "outlinewidth": 0,
              "ticks": ""
             }
            },
            "type": "parcoords"
           }
          ],
          "pie": [
           {
            "automargin": true,
            "type": "pie"
           }
          ],
          "scatter": [
           {
            "marker": {
             "colorbar": {
              "outlinewidth": 0,
              "ticks": ""
             }
            },
            "type": "scatter"
           }
          ],
          "scatter3d": [
           {
            "line": {
             "colorbar": {
              "outlinewidth": 0,
              "ticks": ""
             }
            },
            "marker": {
             "colorbar": {
              "outlinewidth": 0,
              "ticks": ""
             }
            },
            "type": "scatter3d"
           }
          ],
          "scattercarpet": [
           {
            "marker": {
             "colorbar": {
              "outlinewidth": 0,
              "ticks": ""
             }
            },
            "type": "scattercarpet"
           }
          ],
          "scattergeo": [
           {
            "marker": {
             "colorbar": {
              "outlinewidth": 0,
              "ticks": ""
             }
            },
            "type": "scattergeo"
           }
          ],
          "scattergl": [
           {
            "marker": {
             "colorbar": {
              "outlinewidth": 0,
              "ticks": ""
             }
            },
            "type": "scattergl"
           }
          ],
          "scattermapbox": [
           {
            "marker": {
             "colorbar": {
              "outlinewidth": 0,
              "ticks": ""
             }
            },
            "type": "scattermapbox"
           }
          ],
          "scatterpolar": [
           {
            "marker": {
             "colorbar": {
              "outlinewidth": 0,
              "ticks": ""
             }
            },
            "type": "scatterpolar"
           }
          ],
          "scatterpolargl": [
           {
            "marker": {
             "colorbar": {
              "outlinewidth": 0,
              "ticks": ""
             }
            },
            "type": "scatterpolargl"
           }
          ],
          "scatterternary": [
           {
            "marker": {
             "colorbar": {
              "outlinewidth": 0,
              "ticks": ""
             }
            },
            "type": "scatterternary"
           }
          ],
          "surface": [
           {
            "colorbar": {
             "outlinewidth": 0,
             "ticks": ""
            },
            "colorscale": [
             [
              0,
              "#0d0887"
             ],
             [
              0.1111111111111111,
              "#46039f"
             ],
             [
              0.2222222222222222,
              "#7201a8"
             ],
             [
              0.3333333333333333,
              "#9c179e"
             ],
             [
              0.4444444444444444,
              "#bd3786"
             ],
             [
              0.5555555555555556,
              "#d8576b"
             ],
             [
              0.6666666666666666,
              "#ed7953"
             ],
             [
              0.7777777777777778,
              "#fb9f3a"
             ],
             [
              0.8888888888888888,
              "#fdca26"
             ],
             [
              1,
              "#f0f921"
             ]
            ],
            "type": "surface"
           }
          ],
          "table": [
           {
            "cells": {
             "fill": {
              "color": "#EBF0F8"
             },
             "line": {
              "color": "white"
             }
            },
            "header": {
             "fill": {
              "color": "#C8D4E3"
             },
             "line": {
              "color": "white"
             }
            },
            "type": "table"
           }
          ]
         },
         "layout": {
          "annotationdefaults": {
           "arrowcolor": "#2a3f5f",
           "arrowhead": 0,
           "arrowwidth": 1
          },
          "autotypenumbers": "strict",
          "coloraxis": {
           "colorbar": {
            "outlinewidth": 0,
            "ticks": ""
           }
          },
          "colorscale": {
           "diverging": [
            [
             0,
             "#8e0152"
            ],
            [
             0.1,
             "#c51b7d"
            ],
            [
             0.2,
             "#de77ae"
            ],
            [
             0.3,
             "#f1b6da"
            ],
            [
             0.4,
             "#fde0ef"
            ],
            [
             0.5,
             "#f7f7f7"
            ],
            [
             0.6,
             "#e6f5d0"
            ],
            [
             0.7,
             "#b8e186"
            ],
            [
             0.8,
             "#7fbc41"
            ],
            [
             0.9,
             "#4d9221"
            ],
            [
             1,
             "#276419"
            ]
           ],
           "sequential": [
            [
             0,
             "#0d0887"
            ],
            [
             0.1111111111111111,
             "#46039f"
            ],
            [
             0.2222222222222222,
             "#7201a8"
            ],
            [
             0.3333333333333333,
             "#9c179e"
            ],
            [
             0.4444444444444444,
             "#bd3786"
            ],
            [
             0.5555555555555556,
             "#d8576b"
            ],
            [
             0.6666666666666666,
             "#ed7953"
            ],
            [
             0.7777777777777778,
             "#fb9f3a"
            ],
            [
             0.8888888888888888,
             "#fdca26"
            ],
            [
             1,
             "#f0f921"
            ]
           ],
           "sequentialminus": [
            [
             0,
             "#0d0887"
            ],
            [
             0.1111111111111111,
             "#46039f"
            ],
            [
             0.2222222222222222,
             "#7201a8"
            ],
            [
             0.3333333333333333,
             "#9c179e"
            ],
            [
             0.4444444444444444,
             "#bd3786"
            ],
            [
             0.5555555555555556,
             "#d8576b"
            ],
            [
             0.6666666666666666,
             "#ed7953"
            ],
            [
             0.7777777777777778,
             "#fb9f3a"
            ],
            [
             0.8888888888888888,
             "#fdca26"
            ],
            [
             1,
             "#f0f921"
            ]
           ]
          },
          "colorway": [
           "#636efa",
           "#EF553B",
           "#00cc96",
           "#ab63fa",
           "#FFA15A",
           "#19d3f3",
           "#FF6692",
           "#B6E880",
           "#FF97FF",
           "#FECB52"
          ],
          "font": {
           "color": "#2a3f5f"
          },
          "geo": {
           "bgcolor": "white",
           "lakecolor": "white",
           "landcolor": "#E5ECF6",
           "showlakes": true,
           "showland": true,
           "subunitcolor": "white"
          },
          "hoverlabel": {
           "align": "left"
          },
          "hovermode": "closest",
          "mapbox": {
           "style": "light"
          },
          "paper_bgcolor": "white",
          "plot_bgcolor": "#E5ECF6",
          "polar": {
           "angularaxis": {
            "gridcolor": "white",
            "linecolor": "white",
            "ticks": ""
           },
           "bgcolor": "#E5ECF6",
           "radialaxis": {
            "gridcolor": "white",
            "linecolor": "white",
            "ticks": ""
           }
          },
          "scene": {
           "xaxis": {
            "backgroundcolor": "#E5ECF6",
            "gridcolor": "white",
            "gridwidth": 2,
            "linecolor": "white",
            "showbackground": true,
            "ticks": "",
            "zerolinecolor": "white"
           },
           "yaxis": {
            "backgroundcolor": "#E5ECF6",
            "gridcolor": "white",
            "gridwidth": 2,
            "linecolor": "white",
            "showbackground": true,
            "ticks": "",
            "zerolinecolor": "white"
           },
           "zaxis": {
            "backgroundcolor": "#E5ECF6",
            "gridcolor": "white",
            "gridwidth": 2,
            "linecolor": "white",
            "showbackground": true,
            "ticks": "",
            "zerolinecolor": "white"
           }
          },
          "shapedefaults": {
           "line": {
            "color": "#2a3f5f"
           }
          },
          "ternary": {
           "aaxis": {
            "gridcolor": "white",
            "linecolor": "white",
            "ticks": ""
           },
           "baxis": {
            "gridcolor": "white",
            "linecolor": "white",
            "ticks": ""
           },
           "bgcolor": "#E5ECF6",
           "caxis": {
            "gridcolor": "white",
            "linecolor": "white",
            "ticks": ""
           }
          },
          "title": {
           "x": 0.05
          },
          "xaxis": {
           "automargin": true,
           "gridcolor": "white",
           "linecolor": "white",
           "ticks": "",
           "title": {
            "standoff": 15
           },
           "zerolinecolor": "white",
           "zerolinewidth": 2
          },
          "yaxis": {
           "automargin": true,
           "gridcolor": "white",
           "linecolor": "white",
           "ticks": "",
           "title": {
            "standoff": 15
           },
           "zerolinecolor": "white",
           "zerolinewidth": 2
          }
         }
        },
        "title": {
         "font": {
          "color": "#4D5663"
         }
        },
        "xaxis": {
         "anchor": "y",
         "domain": [
          0,
          0.2125
         ],
         "gridcolor": "#E1E5ED",
         "showgrid": false,
         "tickfont": {
          "color": "#4D5663"
         },
         "title": {
          "font": {
           "color": "#4D5663"
          },
          "text": ""
         },
         "zerolinecolor": "#E1E5ED"
        },
        "xaxis10": {
         "anchor": "y10",
         "domain": [
          0.2625,
          0.475
         ],
         "gridcolor": "#E1E5ED",
         "showgrid": false,
         "tickfont": {
          "color": "#4D5663"
         },
         "title": {
          "font": {
           "color": "#4D5663"
          },
          "text": ""
         },
         "zerolinecolor": "#E1E5ED"
        },
        "xaxis11": {
         "anchor": "y11",
         "domain": [
          0.525,
          0.7375
         ],
         "gridcolor": "#E1E5ED",
         "showgrid": false,
         "tickfont": {
          "color": "#4D5663"
         },
         "title": {
          "font": {
           "color": "#4D5663"
          },
          "text": ""
         },
         "zerolinecolor": "#E1E5ED"
        },
        "xaxis12": {
         "anchor": "y12",
         "domain": [
          0.7875,
          1
         ],
         "gridcolor": "#E1E5ED",
         "showgrid": false,
         "tickfont": {
          "color": "#4D5663"
         },
         "title": {
          "font": {
           "color": "#4D5663"
          },
          "text": ""
         },
         "zerolinecolor": "#E1E5ED"
        },
        "xaxis13": {
         "anchor": "y13",
         "domain": [
          0,
          0.2125
         ],
         "gridcolor": "#E1E5ED",
         "showgrid": false,
         "tickfont": {
          "color": "#4D5663"
         },
         "title": {
          "font": {
           "color": "#4D5663"
          },
          "text": ""
         },
         "zerolinecolor": "#E1E5ED"
        },
        "xaxis14": {
         "anchor": "y14",
         "domain": [
          0.2625,
          0.475
         ],
         "gridcolor": "#E1E5ED",
         "showgrid": false,
         "tickfont": {
          "color": "#4D5663"
         },
         "title": {
          "font": {
           "color": "#4D5663"
          },
          "text": ""
         },
         "zerolinecolor": "#E1E5ED"
        },
        "xaxis15": {
         "anchor": "y15",
         "domain": [
          0.525,
          0.7375
         ],
         "gridcolor": "#E1E5ED",
         "showgrid": false,
         "tickfont": {
          "color": "#4D5663"
         },
         "title": {
          "font": {
           "color": "#4D5663"
          },
          "text": ""
         },
         "zerolinecolor": "#E1E5ED"
        },
        "xaxis16": {
         "anchor": "y16",
         "domain": [
          0.7875,
          1
         ],
         "gridcolor": "#E1E5ED",
         "showgrid": false,
         "tickfont": {
          "color": "#4D5663"
         },
         "title": {
          "font": {
           "color": "#4D5663"
          },
          "text": ""
         },
         "zerolinecolor": "#E1E5ED"
        },
        "xaxis2": {
         "anchor": "y2",
         "domain": [
          0.2625,
          0.475
         ],
         "gridcolor": "#E1E5ED",
         "showgrid": false,
         "tickfont": {
          "color": "#4D5663"
         },
         "title": {
          "font": {
           "color": "#4D5663"
          },
          "text": ""
         },
         "zerolinecolor": "#E1E5ED"
        },
        "xaxis3": {
         "anchor": "y3",
         "domain": [
          0.525,
          0.7375
         ],
         "gridcolor": "#E1E5ED",
         "showgrid": false,
         "tickfont": {
          "color": "#4D5663"
         },
         "title": {
          "font": {
           "color": "#4D5663"
          },
          "text": ""
         },
         "zerolinecolor": "#E1E5ED"
        },
        "xaxis4": {
         "anchor": "y4",
         "domain": [
          0.7875,
          1
         ],
         "gridcolor": "#E1E5ED",
         "showgrid": false,
         "tickfont": {
          "color": "#4D5663"
         },
         "title": {
          "font": {
           "color": "#4D5663"
          },
          "text": ""
         },
         "zerolinecolor": "#E1E5ED"
        },
        "xaxis5": {
         "anchor": "y5",
         "domain": [
          0,
          0.2125
         ],
         "gridcolor": "#E1E5ED",
         "showgrid": false,
         "tickfont": {
          "color": "#4D5663"
         },
         "title": {
          "font": {
           "color": "#4D5663"
          },
          "text": ""
         },
         "zerolinecolor": "#E1E5ED"
        },
        "xaxis6": {
         "anchor": "y6",
         "domain": [
          0.2625,
          0.475
         ],
         "gridcolor": "#E1E5ED",
         "showgrid": false,
         "tickfont": {
          "color": "#4D5663"
         },
         "title": {
          "font": {
           "color": "#4D5663"
          },
          "text": ""
         },
         "zerolinecolor": "#E1E5ED"
        },
        "xaxis7": {
         "anchor": "y7",
         "domain": [
          0.525,
          0.7375
         ],
         "gridcolor": "#E1E5ED",
         "showgrid": false,
         "tickfont": {
          "color": "#4D5663"
         },
         "title": {
          "font": {
           "color": "#4D5663"
          },
          "text": ""
         },
         "zerolinecolor": "#E1E5ED"
        },
        "xaxis8": {
         "anchor": "y8",
         "domain": [
          0.7875,
          1
         ],
         "gridcolor": "#E1E5ED",
         "showgrid": false,
         "tickfont": {
          "color": "#4D5663"
         },
         "title": {
          "font": {
           "color": "#4D5663"
          },
          "text": ""
         },
         "zerolinecolor": "#E1E5ED"
        },
        "xaxis9": {
         "anchor": "y9",
         "domain": [
          0,
          0.2125
         ],
         "gridcolor": "#E1E5ED",
         "showgrid": false,
         "tickfont": {
          "color": "#4D5663"
         },
         "title": {
          "font": {
           "color": "#4D5663"
          },
          "text": ""
         },
         "zerolinecolor": "#E1E5ED"
        },
        "yaxis": {
         "anchor": "x",
         "domain": [
          0.8025,
          1
         ],
         "gridcolor": "#E1E5ED",
         "showgrid": false,
         "tickfont": {
          "color": "#4D5663"
         },
         "title": {
          "font": {
           "color": "#4D5663"
          },
          "text": ""
         },
         "zerolinecolor": "#E1E5ED"
        },
        "yaxis10": {
         "anchor": "x10",
         "domain": [
          0.2675,
          0.465
         ],
         "gridcolor": "#E1E5ED",
         "showgrid": false,
         "tickfont": {
          "color": "#4D5663"
         },
         "title": {
          "font": {
           "color": "#4D5663"
          },
          "text": ""
         },
         "zerolinecolor": "#E1E5ED"
        },
        "yaxis11": {
         "anchor": "x11",
         "domain": [
          0.2675,
          0.465
         ],
         "gridcolor": "#E1E5ED",
         "showgrid": false,
         "tickfont": {
          "color": "#4D5663"
         },
         "title": {
          "font": {
           "color": "#4D5663"
          },
          "text": ""
         },
         "zerolinecolor": "#E1E5ED"
        },
        "yaxis12": {
         "anchor": "x12",
         "domain": [
          0.2675,
          0.465
         ],
         "gridcolor": "#E1E5ED",
         "showgrid": false,
         "tickfont": {
          "color": "#4D5663"
         },
         "title": {
          "font": {
           "color": "#4D5663"
          },
          "text": ""
         },
         "zerolinecolor": "#E1E5ED"
        },
        "yaxis13": {
         "anchor": "x13",
         "domain": [
          0,
          0.1975
         ],
         "gridcolor": "#E1E5ED",
         "showgrid": false,
         "tickfont": {
          "color": "#4D5663"
         },
         "title": {
          "font": {
           "color": "#4D5663"
          },
          "text": ""
         },
         "zerolinecolor": "#E1E5ED"
        },
        "yaxis14": {
         "anchor": "x14",
         "domain": [
          0,
          0.1975
         ],
         "gridcolor": "#E1E5ED",
         "showgrid": false,
         "tickfont": {
          "color": "#4D5663"
         },
         "title": {
          "font": {
           "color": "#4D5663"
          },
          "text": ""
         },
         "zerolinecolor": "#E1E5ED"
        },
        "yaxis15": {
         "anchor": "x15",
         "domain": [
          0,
          0.1975
         ],
         "gridcolor": "#E1E5ED",
         "showgrid": false,
         "tickfont": {
          "color": "#4D5663"
         },
         "title": {
          "font": {
           "color": "#4D5663"
          },
          "text": ""
         },
         "zerolinecolor": "#E1E5ED"
        },
        "yaxis16": {
         "anchor": "x16",
         "domain": [
          0,
          0.1975
         ],
         "gridcolor": "#E1E5ED",
         "showgrid": false,
         "tickfont": {
          "color": "#4D5663"
         },
         "title": {
          "font": {
           "color": "#4D5663"
          },
          "text": ""
         },
         "zerolinecolor": "#E1E5ED"
        },
        "yaxis2": {
         "anchor": "x2",
         "domain": [
          0.8025,
          1
         ],
         "gridcolor": "#E1E5ED",
         "showgrid": false,
         "tickfont": {
          "color": "#4D5663"
         },
         "title": {
          "font": {
           "color": "#4D5663"
          },
          "text": ""
         },
         "zerolinecolor": "#E1E5ED"
        },
        "yaxis3": {
         "anchor": "x3",
         "domain": [
          0.8025,
          1
         ],
         "gridcolor": "#E1E5ED",
         "showgrid": false,
         "tickfont": {
          "color": "#4D5663"
         },
         "title": {
          "font": {
           "color": "#4D5663"
          },
          "text": ""
         },
         "zerolinecolor": "#E1E5ED"
        },
        "yaxis4": {
         "anchor": "x4",
         "domain": [
          0.8025,
          1
         ],
         "gridcolor": "#E1E5ED",
         "showgrid": false,
         "tickfont": {
          "color": "#4D5663"
         },
         "title": {
          "font": {
           "color": "#4D5663"
          },
          "text": ""
         },
         "zerolinecolor": "#E1E5ED"
        },
        "yaxis5": {
         "anchor": "x5",
         "domain": [
          0.535,
          0.7325
         ],
         "gridcolor": "#E1E5ED",
         "showgrid": false,
         "tickfont": {
          "color": "#4D5663"
         },
         "title": {
          "font": {
           "color": "#4D5663"
          },
          "text": ""
         },
         "zerolinecolor": "#E1E5ED"
        },
        "yaxis6": {
         "anchor": "x6",
         "domain": [
          0.535,
          0.7325
         ],
         "gridcolor": "#E1E5ED",
         "showgrid": false,
         "tickfont": {
          "color": "#4D5663"
         },
         "title": {
          "font": {
           "color": "#4D5663"
          },
          "text": ""
         },
         "zerolinecolor": "#E1E5ED"
        },
        "yaxis7": {
         "anchor": "x7",
         "domain": [
          0.535,
          0.7325
         ],
         "gridcolor": "#E1E5ED",
         "showgrid": false,
         "tickfont": {
          "color": "#4D5663"
         },
         "title": {
          "font": {
           "color": "#4D5663"
          },
          "text": ""
         },
         "zerolinecolor": "#E1E5ED"
        },
        "yaxis8": {
         "anchor": "x8",
         "domain": [
          0.535,
          0.7325
         ],
         "gridcolor": "#E1E5ED",
         "showgrid": false,
         "tickfont": {
          "color": "#4D5663"
         },
         "title": {
          "font": {
           "color": "#4D5663"
          },
          "text": ""
         },
         "zerolinecolor": "#E1E5ED"
        },
        "yaxis9": {
         "anchor": "x9",
         "domain": [
          0.2675,
          0.465
         ],
         "gridcolor": "#E1E5ED",
         "showgrid": false,
         "tickfont": {
          "color": "#4D5663"
         },
         "title": {
          "font": {
           "color": "#4D5663"
          },
          "text": ""
         },
         "zerolinecolor": "#E1E5ED"
        }
       }
      },
      "text/html": [
       "<div>                            <div id=\"42b14b7e-0792-49de-af75-14ec688e6298\" class=\"plotly-graph-div\" style=\"height:525px; width:100%;\"></div>            <script type=\"text/javascript\">                require([\"plotly\"], function(Plotly) {                    window.PLOTLYENV=window.PLOTLYENV || {};\n",
       "                    window.PLOTLYENV.BASE_URL='https://plot.ly';                                    if (document.getElementById(\"42b14b7e-0792-49de-af75-14ec688e6298\")) {                    Plotly.newPlot(                        \"42b14b7e-0792-49de-af75-14ec688e6298\",                        [{\"histfunc\": \"count\", \"histnorm\": \"\", \"marker\": {\"color\": \"rgba(255, 153, 51, 1.0)\", \"line\": {\"color\": \"#4D5663\", \"width\": 1.3}}, \"name\": \"A\", \"nbinsx\": 10, \"opacity\": 0.8, \"orientation\": \"v\", \"type\": \"histogram\", \"x\": [-1.1327043841981699, 0.43957848880133177, 1.2915937209904265, -0.062483491122553636, -0.33030927847358615, -0.2534474880004595, -0.2944241123130243, 1.5571960481692488, 0.6371386751068504, 1.3768911706132103, -0.3111060058480483, 0.44001685729780704, -1.4536275467577977, -1.6415748499370881, 0.8726454311647474, 0.948365003585562, -0.42647265263416617, -0.929921357458483, 0.054292957326093585, 0.017311020327317662, -1.5775954742239748, -0.31197459072302897, 0.17374730429197757, -1.0417282984941945, -0.6280579320106916, -1.1132217004307798, -1.2361264792311064, -0.08786660273665906, 1.0579986356232067, 1.0760107706598756, -0.23131709679940984, -1.3607889094569379, 1.3693192944478547, 0.4302812353538046, 0.12254684981983366, 1.1274643722935607, 0.18320422398547292, 0.30394428324033396, -0.6294843259909126, -0.4823586953926577, -0.7180018874614976, -1.0560574742310123, -1.3085350821883401, -0.5814075572348782, -0.16184044883768145, -1.5721324300161514, 0.6950065710683002, -0.8314692641278058, -0.12355865229498265, -0.8329353995904607, 0.17274297111644685, 1.2443883422087991, 0.9702273312635, 0.30752907318544453, 0.061608252054063374, -0.17333362701213742, -0.27282472623696086, 0.8606730370573321, -0.8747093448472467, 0.17042438544837848, -0.29221679794432104, 1.7156012441377246, -1.4258483478797175, 0.30797346436635253, 0.2539845798111618, -0.24376782227695817, -0.06566607781142401, -0.3573574364488877, 0.8950415597885233, 0.599948696764544, 1.9671354385302708, 0.4635816065027918, -1.7576051479490429, -0.47463512313190587, 0.6279840259871928, 2.337365144079594, -0.30212451393262035, 0.5324425304553116, -2.277238747080297, 0.7441042927887853, 0.45514531157539384, -2.3927510413580046, 1.8952133023412787, 0.9295907286676737, 2.3536974688897296, -0.07835629742378766, -1.4529263558977208, -0.470744116641777, -0.9297063600714525, -0.5232787570826094, 1.1585138937308408, 0.598242881542253, 0.1466116115414334, -1.0310511547083212, 0.38700678632271857, -0.9584346155844385, 0.46289732465719235, 3.0497684309977395, 0.6308845938611453, -1.4611363927415932], \"xaxis\": \"x\", \"yaxis\": \"y\"}, {\"line\": {\"color\": \"rgba(128, 128, 128, 1.0)\", \"dash\": \"solid\", \"shape\": \"linear\", \"width\": 1.3}, \"marker\": {\"size\": 2, \"symbol\": \"circle\"}, \"mode\": \"markers\", \"name\": \"A\", \"text\": \"\", \"type\": \"scatter\", \"x\": [0.665870159846067, -0.14322607048636532, 0.5318270388110853, -0.6349234266796756, -0.4003475532487801, -0.5648983511179678, -0.7868393349779677, -0.6977220811260706, -0.08410301006555644, -1.0875280178558606, -0.5813926009753025, 2.0588212711119307, -0.29362776595135764, -1.0843270366508906, -1.1876750858089375, -0.8481012043049085, 0.15115715164747018, 0.986639206646197, 0.6402679098611134, 0.18569066860703448, 0.17087934983854336, -0.9611474334822284, -0.26471419660693096, 1.3791691335019767, 0.35181547138612795, -1.614213824314603, -1.299624277229161, 0.23004522824337525, 1.6144219444173153, 0.7919221560977986, 0.2872860203211714, -0.5149219514402005, 0.2975366731248288, -1.008429973075412, 0.5485802844833003, 1.5947496255817897, 0.7066061632436781, -0.3837385185155636, 0.9588566124987895, -0.9038242341284818, 0.19864496231610398, 0.8399281489736665, 0.8755052791264989, -2.2848796379452807, -0.20460032519565421, 1.1201605960496122, 0.42101963431300726, -0.7835440011445806, 2.032566975890477, -2.0758540626813393, -0.6711835421104947, 1.466861985095549, 0.6192939192575811, 0.41885332743147474, -0.140269495838045, -0.07160648641668739, 0.8750017053597382, -1.1442755166946703, 0.3540075381504812, 0.22908929279481738, 0.7616887868101634, 0.8477474043328368, -0.9042239194228446, -0.023855384432606208, -0.6751103840032416, 0.2052442964890146, -0.3251011638220956, 0.39013623321288604, -1.0296381246978157, -0.4546981272029886, 1.5560621922946916, -0.4554359860667604, -0.8307087366697378, -0.19347791554707675, 1.0515865454701203, 1.731965959242706, 1.4031900858127881, -0.8303645821590848, 1.256240361048191, 1.4459290132286562, 0.3275422203143726, 1.0142235608790378, -1.310549925967843, -0.6726162465356665, 1.5502226863152053, 1.6654382664402356, -1.4278663850474882, -0.148037772856079, 0.04258018210714182, 0.4690647010904504, -0.376808202236462, 1.4729082242912048, -1.2435688512973602, -1.4291702134049045, 1.6788176270289137, 2.457059270314667, -0.21964616796569672, -0.8747718755043745, -1.149008068776763, -0.6204953223835069], \"xaxis\": \"x2\", \"y\": [-1.1327043841981699, 0.43957848880133177, 1.2915937209904265, -0.062483491122553636, -0.33030927847358615, -0.2534474880004595, -0.2944241123130243, 1.5571960481692488, 0.6371386751068504, 1.3768911706132103, -0.3111060058480483, 0.44001685729780704, -1.4536275467577977, -1.6415748499370881, 0.8726454311647474, 0.948365003585562, -0.42647265263416617, -0.929921357458483, 0.054292957326093585, 0.017311020327317662, -1.5775954742239748, -0.31197459072302897, 0.17374730429197757, -1.0417282984941945, -0.6280579320106916, -1.1132217004307798, -1.2361264792311064, -0.08786660273665906, 1.0579986356232067, 1.0760107706598756, -0.23131709679940984, -1.3607889094569379, 1.3693192944478547, 0.4302812353538046, 0.12254684981983366, 1.1274643722935607, 0.18320422398547292, 0.30394428324033396, -0.6294843259909126, -0.4823586953926577, -0.7180018874614976, -1.0560574742310123, -1.3085350821883401, -0.5814075572348782, -0.16184044883768145, -1.5721324300161514, 0.6950065710683002, -0.8314692641278058, -0.12355865229498265, -0.8329353995904607, 0.17274297111644685, 1.2443883422087991, 0.9702273312635, 0.30752907318544453, 0.061608252054063374, -0.17333362701213742, -0.27282472623696086, 0.8606730370573321, -0.8747093448472467, 0.17042438544837848, -0.29221679794432104, 1.7156012441377246, -1.4258483478797175, 0.30797346436635253, 0.2539845798111618, -0.24376782227695817, -0.06566607781142401, -0.3573574364488877, 0.8950415597885233, 0.599948696764544, 1.9671354385302708, 0.4635816065027918, -1.7576051479490429, -0.47463512313190587, 0.6279840259871928, 2.337365144079594, -0.30212451393262035, 0.5324425304553116, -2.277238747080297, 0.7441042927887853, 0.45514531157539384, -2.3927510413580046, 1.8952133023412787, 0.9295907286676737, 2.3536974688897296, -0.07835629742378766, -1.4529263558977208, -0.470744116641777, -0.9297063600714525, -0.5232787570826094, 1.1585138937308408, 0.598242881542253, 0.1466116115414334, -1.0310511547083212, 0.38700678632271857, -0.9584346155844385, 0.46289732465719235, 3.0497684309977395, 0.6308845938611453, -1.4611363927415932], \"yaxis\": \"y2\"}, {\"line\": {\"color\": \"rgba(128, 128, 128, 1.0)\", \"dash\": \"solid\", \"shape\": \"linear\", \"width\": 1.3}, \"marker\": {\"size\": 2, \"symbol\": \"circle\"}, \"mode\": \"markers\", \"name\": \"A\", \"text\": \"\", \"type\": \"scatter\", \"x\": [-0.11645279052094908, 0.4393779609408233, 0.6063046691984406, 0.5047887138664606, -0.7372395073019394, -0.29932624994445084, -1.1307407122344446, -0.6436125721844698, -0.856329877440604, 0.4332931849795575, -1.8329129235255013, 0.100111067257256, 0.3000657389621631, 1.5879783688248816, -0.3599104859954278, -0.7906378998344055, -1.257504606293411, 1.685825304447206, 0.9371792834014308, -0.10589666566123403, 1.0134311445053685, 0.1368319379636196, -1.7647251313589065, 0.683101984420053, 0.72563965087473, 0.23277616930636896, -0.4978725557654149, -0.3346479500270642, 1.2509392121105265, 0.05580075425742243, 0.982496119310506, 0.050133712744056314, -0.0036888623704976644, -1.7197393243013206, 1.3404440765223675, 0.11115872450960106, 0.25529858453109816, -2.235696719358137, 0.24354183223249412, 0.855585555947541, -1.5199347723104777, 0.9448867355378978, -0.8736669314088429, 0.29914480180680775, -0.40935143794640605, 0.9131919034653941, -0.29624885806132945, -0.44208934293992785, 2.3333246167579382, -0.03579950282208326, 0.387660626360157, 1.628332133003226, -1.8836353518007312, 0.32046336645543944, 0.6935661975653568, -0.5563822278155446, 0.4699155331692268, -0.15064486271484978, -0.042174703806003924, 1.4196476652505239, 2.2805502889992426, 1.0246270131862365, -1.2870217432166955, -0.0030200811525446696, 1.128420913987406, -0.5850404255256592, -0.37154945661918515, -0.6660861526137942, 1.0616149434443025, 0.864987851982718, -0.5973024227401297, -0.8776741161571848, 0.6104388766966453, -0.9636485728105035, -0.6825770633411525, 0.11553865201534792, 0.12517000639252623, 2.249873312502279, -1.498983260934329, -0.41117655753396803, 1.160174244977359, -0.6904371357984395, 0.8865971952724208, 0.02755824250738164, 0.44537658566349947, -1.3360760763576893, 0.2661491335768126, 1.4501604152017185, 0.4499609195014744, -0.2919890507880548, -0.4824392756168685, -1.2014226979848543, -2.2151321821310384, 0.25453623455366897, -0.23587600341657405, -1.0459253648906333, -0.675197069499754, -0.2106098846092165, -0.5476859628743922, 0.38923816162895675], \"xaxis\": \"x3\", \"y\": [-1.1327043841981699, 0.43957848880133177, 1.2915937209904265, -0.062483491122553636, -0.33030927847358615, -0.2534474880004595, -0.2944241123130243, 1.5571960481692488, 0.6371386751068504, 1.3768911706132103, -0.3111060058480483, 0.44001685729780704, -1.4536275467577977, -1.6415748499370881, 0.8726454311647474, 0.948365003585562, -0.42647265263416617, -0.929921357458483, 0.054292957326093585, 0.017311020327317662, -1.5775954742239748, -0.31197459072302897, 0.17374730429197757, -1.0417282984941945, -0.6280579320106916, -1.1132217004307798, -1.2361264792311064, -0.08786660273665906, 1.0579986356232067, 1.0760107706598756, -0.23131709679940984, -1.3607889094569379, 1.3693192944478547, 0.4302812353538046, 0.12254684981983366, 1.1274643722935607, 0.18320422398547292, 0.30394428324033396, -0.6294843259909126, -0.4823586953926577, -0.7180018874614976, -1.0560574742310123, -1.3085350821883401, -0.5814075572348782, -0.16184044883768145, -1.5721324300161514, 0.6950065710683002, -0.8314692641278058, -0.12355865229498265, -0.8329353995904607, 0.17274297111644685, 1.2443883422087991, 0.9702273312635, 0.30752907318544453, 0.061608252054063374, -0.17333362701213742, -0.27282472623696086, 0.8606730370573321, -0.8747093448472467, 0.17042438544837848, -0.29221679794432104, 1.7156012441377246, -1.4258483478797175, 0.30797346436635253, 0.2539845798111618, -0.24376782227695817, -0.06566607781142401, -0.3573574364488877, 0.8950415597885233, 0.599948696764544, 1.9671354385302708, 0.4635816065027918, -1.7576051479490429, -0.47463512313190587, 0.6279840259871928, 2.337365144079594, -0.30212451393262035, 0.5324425304553116, -2.277238747080297, 0.7441042927887853, 0.45514531157539384, -2.3927510413580046, 1.8952133023412787, 0.9295907286676737, 2.3536974688897296, -0.07835629742378766, -1.4529263558977208, -0.470744116641777, -0.9297063600714525, -0.5232787570826094, 1.1585138937308408, 0.598242881542253, 0.1466116115414334, -1.0310511547083212, 0.38700678632271857, -0.9584346155844385, 0.46289732465719235, 3.0497684309977395, 0.6308845938611453, -1.4611363927415932], \"yaxis\": \"y3\"}, {\"line\": {\"color\": \"rgba(128, 128, 128, 1.0)\", \"dash\": \"solid\", \"shape\": \"linear\", \"width\": 1.3}, \"marker\": {\"size\": 2, \"symbol\": \"circle\"}, \"mode\": \"markers\", \"name\": \"A\", \"text\": \"\", \"type\": \"scatter\", \"x\": [-0.5292059535844459, 1.1064690406617308, 0.6091854329853036, -2.5487489986905794, -0.10048358299927301, 0.7889482561007966, 0.2182333436305011, 1.0803617517799833, 0.15299196550369815, -1.557140895984589, 1.0196638208896873, 1.0262208620258977, 0.4387054948203236, 1.0159014940334878, 0.4331660965478158, 1.2835679910923108, 1.3143615432980493, -0.14558412329424825, -0.11672342002021162, -0.6902438254153812, -0.6629440904855465, -1.7548174409297443, -0.8331569874842295, 0.8856096488005416, -0.8360053707534328, -0.7386445398584954, -0.7747387940605143, -2.081870462287336, 0.12498410671845074, 0.15897009069473816, -1.3279117437074002, 0.3788730487439563, 0.1399045402023327, 1.6512237263924514, 1.8802882828164964, -1.3590980561139525, -1.0080151597497842, 1.890401862264807, -1.4641844544383824, 1.3022572639918328, -0.9168937911655377, 0.6282793283153333, 0.5696499848868187, -0.3650051021648316, -0.4689264710561992, -2.6923960767238775, -0.22626909338040505, 0.6432574059183647, -0.5606153856204515, -0.4020547261677119, 0.15399561586188468, -0.12279867801600693, -1.4328727750050765, -0.21348161109013392, -0.8968016194032269, -0.6028522662352118, 0.669148636800434, 0.5418102266506077, -0.28152225467927555, -0.41572872914430614, 1.0253748944337442, -0.5948337923408132, -0.7883797068659848, -0.5154180730546724, -0.899356179400538, -0.8967263461183929, -2.1072065260024107, -0.6108332675060558, -0.08743087907455412, 0.5496639244852441, -1.149197611956018, -0.06307928518652887, 0.3128278711957126, -0.5437045125881234, -0.710993924980026, -0.42000882672170453, 0.6434568654828349, -0.5997340089377815, 0.4030663906846691, 0.9858919004129562, 1.0389105924626678, -0.84556996765739, -0.8486981949624501, 0.3098960882585664, -1.1871647324625332, -0.07300973002730142, -0.26990744499832925, 0.3959572617199409, -2.1097110449270424, -0.019609163838898234, 0.265154898293513, 0.7640834295508394, 0.3781628530682208, 0.5483399655704287, -1.9222072570533257, -0.16083411698348218, -0.3943933024081147, -0.1272060226379822, -0.17163116768481487, 0.4063707246658362], \"xaxis\": \"x4\", \"y\": [-1.1327043841981699, 0.43957848880133177, 1.2915937209904265, -0.062483491122553636, -0.33030927847358615, -0.2534474880004595, -0.2944241123130243, 1.5571960481692488, 0.6371386751068504, 1.3768911706132103, -0.3111060058480483, 0.44001685729780704, -1.4536275467577977, -1.6415748499370881, 0.8726454311647474, 0.948365003585562, -0.42647265263416617, -0.929921357458483, 0.054292957326093585, 0.017311020327317662, -1.5775954742239748, -0.31197459072302897, 0.17374730429197757, -1.0417282984941945, -0.6280579320106916, -1.1132217004307798, -1.2361264792311064, -0.08786660273665906, 1.0579986356232067, 1.0760107706598756, -0.23131709679940984, -1.3607889094569379, 1.3693192944478547, 0.4302812353538046, 0.12254684981983366, 1.1274643722935607, 0.18320422398547292, 0.30394428324033396, -0.6294843259909126, -0.4823586953926577, -0.7180018874614976, -1.0560574742310123, -1.3085350821883401, -0.5814075572348782, -0.16184044883768145, -1.5721324300161514, 0.6950065710683002, -0.8314692641278058, -0.12355865229498265, -0.8329353995904607, 0.17274297111644685, 1.2443883422087991, 0.9702273312635, 0.30752907318544453, 0.061608252054063374, -0.17333362701213742, -0.27282472623696086, 0.8606730370573321, -0.8747093448472467, 0.17042438544837848, -0.29221679794432104, 1.7156012441377246, -1.4258483478797175, 0.30797346436635253, 0.2539845798111618, -0.24376782227695817, -0.06566607781142401, -0.3573574364488877, 0.8950415597885233, 0.599948696764544, 1.9671354385302708, 0.4635816065027918, -1.7576051479490429, -0.47463512313190587, 0.6279840259871928, 2.337365144079594, -0.30212451393262035, 0.5324425304553116, -2.277238747080297, 0.7441042927887853, 0.45514531157539384, -2.3927510413580046, 1.8952133023412787, 0.9295907286676737, 2.3536974688897296, -0.07835629742378766, -1.4529263558977208, -0.470744116641777, -0.9297063600714525, -0.5232787570826094, 1.1585138937308408, 0.598242881542253, 0.1466116115414334, -1.0310511547083212, 0.38700678632271857, -0.9584346155844385, 0.46289732465719235, 3.0497684309977395, 0.6308845938611453, -1.4611363927415932], \"yaxis\": \"y4\"}, {\"line\": {\"color\": \"rgba(128, 128, 128, 1.0)\", \"dash\": \"solid\", \"shape\": \"linear\", \"width\": 1.3}, \"marker\": {\"size\": 2, \"symbol\": \"circle\"}, \"mode\": \"markers\", \"name\": \"B\", \"text\": \"\", \"type\": \"scatter\", \"x\": [-1.1327043841981699, 0.43957848880133177, 1.2915937209904265, -0.062483491122553636, -0.33030927847358615, -0.2534474880004595, -0.2944241123130243, 1.5571960481692488, 0.6371386751068504, 1.3768911706132103, -0.3111060058480483, 0.44001685729780704, -1.4536275467577977, -1.6415748499370881, 0.8726454311647474, 0.948365003585562, -0.42647265263416617, -0.929921357458483, 0.054292957326093585, 0.017311020327317662, -1.5775954742239748, -0.31197459072302897, 0.17374730429197757, -1.0417282984941945, -0.6280579320106916, -1.1132217004307798, -1.2361264792311064, -0.08786660273665906, 1.0579986356232067, 1.0760107706598756, -0.23131709679940984, -1.3607889094569379, 1.3693192944478547, 0.4302812353538046, 0.12254684981983366, 1.1274643722935607, 0.18320422398547292, 0.30394428324033396, -0.6294843259909126, -0.4823586953926577, -0.7180018874614976, -1.0560574742310123, -1.3085350821883401, -0.5814075572348782, -0.16184044883768145, -1.5721324300161514, 0.6950065710683002, -0.8314692641278058, -0.12355865229498265, -0.8329353995904607, 0.17274297111644685, 1.2443883422087991, 0.9702273312635, 0.30752907318544453, 0.061608252054063374, -0.17333362701213742, -0.27282472623696086, 0.8606730370573321, -0.8747093448472467, 0.17042438544837848, -0.29221679794432104, 1.7156012441377246, -1.4258483478797175, 0.30797346436635253, 0.2539845798111618, -0.24376782227695817, -0.06566607781142401, -0.3573574364488877, 0.8950415597885233, 0.599948696764544, 1.9671354385302708, 0.4635816065027918, -1.7576051479490429, -0.47463512313190587, 0.6279840259871928, 2.337365144079594, -0.30212451393262035, 0.5324425304553116, -2.277238747080297, 0.7441042927887853, 0.45514531157539384, -2.3927510413580046, 1.8952133023412787, 0.9295907286676737, 2.3536974688897296, -0.07835629742378766, -1.4529263558977208, -0.470744116641777, -0.9297063600714525, -0.5232787570826094, 1.1585138937308408, 0.598242881542253, 0.1466116115414334, -1.0310511547083212, 0.38700678632271857, -0.9584346155844385, 0.46289732465719235, 3.0497684309977395, 0.6308845938611453, -1.4611363927415932], \"xaxis\": \"x5\", \"y\": [0.665870159846067, -0.14322607048636532, 0.5318270388110853, -0.6349234266796756, -0.4003475532487801, -0.5648983511179678, -0.7868393349779677, -0.6977220811260706, -0.08410301006555644, -1.0875280178558606, -0.5813926009753025, 2.0588212711119307, -0.29362776595135764, -1.0843270366508906, -1.1876750858089375, -0.8481012043049085, 0.15115715164747018, 0.986639206646197, 0.6402679098611134, 0.18569066860703448, 0.17087934983854336, -0.9611474334822284, -0.26471419660693096, 1.3791691335019767, 0.35181547138612795, -1.614213824314603, -1.299624277229161, 0.23004522824337525, 1.6144219444173153, 0.7919221560977986, 0.2872860203211714, -0.5149219514402005, 0.2975366731248288, -1.008429973075412, 0.5485802844833003, 1.5947496255817897, 0.7066061632436781, -0.3837385185155636, 0.9588566124987895, -0.9038242341284818, 0.19864496231610398, 0.8399281489736665, 0.8755052791264989, -2.2848796379452807, -0.20460032519565421, 1.1201605960496122, 0.42101963431300726, -0.7835440011445806, 2.032566975890477, -2.0758540626813393, -0.6711835421104947, 1.466861985095549, 0.6192939192575811, 0.41885332743147474, -0.140269495838045, -0.07160648641668739, 0.8750017053597382, -1.1442755166946703, 0.3540075381504812, 0.22908929279481738, 0.7616887868101634, 0.8477474043328368, -0.9042239194228446, -0.023855384432606208, -0.6751103840032416, 0.2052442964890146, -0.3251011638220956, 0.39013623321288604, -1.0296381246978157, -0.4546981272029886, 1.5560621922946916, -0.4554359860667604, -0.8307087366697378, -0.19347791554707675, 1.0515865454701203, 1.731965959242706, 1.4031900858127881, -0.8303645821590848, 1.256240361048191, 1.4459290132286562, 0.3275422203143726, 1.0142235608790378, -1.310549925967843, -0.6726162465356665, 1.5502226863152053, 1.6654382664402356, -1.4278663850474882, -0.148037772856079, 0.04258018210714182, 0.4690647010904504, -0.376808202236462, 1.4729082242912048, -1.2435688512973602, -1.4291702134049045, 1.6788176270289137, 2.457059270314667, -0.21964616796569672, -0.8747718755043745, -1.149008068776763, -0.6204953223835069], \"yaxis\": \"y5\"}, {\"histfunc\": \"count\", \"histnorm\": \"\", \"marker\": {\"color\": \"rgba(55, 128, 191, 1.0)\", \"line\": {\"color\": \"#4D5663\", \"width\": 1.3}}, \"name\": \"B\", \"nbinsx\": 10, \"opacity\": 0.8, \"orientation\": \"v\", \"type\": \"histogram\", \"x\": [0.665870159846067, -0.14322607048636532, 0.5318270388110853, -0.6349234266796756, -0.4003475532487801, -0.5648983511179678, -0.7868393349779677, -0.6977220811260706, -0.08410301006555644, -1.0875280178558606, -0.5813926009753025, 2.0588212711119307, -0.29362776595135764, -1.0843270366508906, -1.1876750858089375, -0.8481012043049085, 0.15115715164747018, 0.986639206646197, 0.6402679098611134, 0.18569066860703448, 0.17087934983854336, -0.9611474334822284, -0.26471419660693096, 1.3791691335019767, 0.35181547138612795, -1.614213824314603, -1.299624277229161, 0.23004522824337525, 1.6144219444173153, 0.7919221560977986, 0.2872860203211714, -0.5149219514402005, 0.2975366731248288, -1.008429973075412, 0.5485802844833003, 1.5947496255817897, 0.7066061632436781, -0.3837385185155636, 0.9588566124987895, -0.9038242341284818, 0.19864496231610398, 0.8399281489736665, 0.8755052791264989, -2.2848796379452807, -0.20460032519565421, 1.1201605960496122, 0.42101963431300726, -0.7835440011445806, 2.032566975890477, -2.0758540626813393, -0.6711835421104947, 1.466861985095549, 0.6192939192575811, 0.41885332743147474, -0.140269495838045, -0.07160648641668739, 0.8750017053597382, -1.1442755166946703, 0.3540075381504812, 0.22908929279481738, 0.7616887868101634, 0.8477474043328368, -0.9042239194228446, -0.023855384432606208, -0.6751103840032416, 0.2052442964890146, -0.3251011638220956, 0.39013623321288604, -1.0296381246978157, -0.4546981272029886, 1.5560621922946916, -0.4554359860667604, -0.8307087366697378, -0.19347791554707675, 1.0515865454701203, 1.731965959242706, 1.4031900858127881, -0.8303645821590848, 1.256240361048191, 1.4459290132286562, 0.3275422203143726, 1.0142235608790378, -1.310549925967843, -0.6726162465356665, 1.5502226863152053, 1.6654382664402356, -1.4278663850474882, -0.148037772856079, 0.04258018210714182, 0.4690647010904504, -0.376808202236462, 1.4729082242912048, -1.2435688512973602, -1.4291702134049045, 1.6788176270289137, 2.457059270314667, -0.21964616796569672, -0.8747718755043745, -1.149008068776763, -0.6204953223835069], \"xaxis\": \"x6\", \"yaxis\": \"y6\"}, {\"line\": {\"color\": \"rgba(128, 128, 128, 1.0)\", \"dash\": \"solid\", \"shape\": \"linear\", \"width\": 1.3}, \"marker\": {\"size\": 2, \"symbol\": \"circle\"}, \"mode\": \"markers\", \"name\": \"B\", \"text\": \"\", \"type\": \"scatter\", \"x\": [-0.11645279052094908, 0.4393779609408233, 0.6063046691984406, 0.5047887138664606, -0.7372395073019394, -0.29932624994445084, -1.1307407122344446, -0.6436125721844698, -0.856329877440604, 0.4332931849795575, -1.8329129235255013, 0.100111067257256, 0.3000657389621631, 1.5879783688248816, -0.3599104859954278, -0.7906378998344055, -1.257504606293411, 1.685825304447206, 0.9371792834014308, -0.10589666566123403, 1.0134311445053685, 0.1368319379636196, -1.7647251313589065, 0.683101984420053, 0.72563965087473, 0.23277616930636896, -0.4978725557654149, -0.3346479500270642, 1.2509392121105265, 0.05580075425742243, 0.982496119310506, 0.050133712744056314, -0.0036888623704976644, -1.7197393243013206, 1.3404440765223675, 0.11115872450960106, 0.25529858453109816, -2.235696719358137, 0.24354183223249412, 0.855585555947541, -1.5199347723104777, 0.9448867355378978, -0.8736669314088429, 0.29914480180680775, -0.40935143794640605, 0.9131919034653941, -0.29624885806132945, -0.44208934293992785, 2.3333246167579382, -0.03579950282208326, 0.387660626360157, 1.628332133003226, -1.8836353518007312, 0.32046336645543944, 0.6935661975653568, -0.5563822278155446, 0.4699155331692268, -0.15064486271484978, -0.042174703806003924, 1.4196476652505239, 2.2805502889992426, 1.0246270131862365, -1.2870217432166955, -0.0030200811525446696, 1.128420913987406, -0.5850404255256592, -0.37154945661918515, -0.6660861526137942, 1.0616149434443025, 0.864987851982718, -0.5973024227401297, -0.8776741161571848, 0.6104388766966453, -0.9636485728105035, -0.6825770633411525, 0.11553865201534792, 0.12517000639252623, 2.249873312502279, -1.498983260934329, -0.41117655753396803, 1.160174244977359, -0.6904371357984395, 0.8865971952724208, 0.02755824250738164, 0.44537658566349947, -1.3360760763576893, 0.2661491335768126, 1.4501604152017185, 0.4499609195014744, -0.2919890507880548, -0.4824392756168685, -1.2014226979848543, -2.2151321821310384, 0.25453623455366897, -0.23587600341657405, -1.0459253648906333, -0.675197069499754, -0.2106098846092165, -0.5476859628743922, 0.38923816162895675], \"xaxis\": \"x7\", \"y\": [0.665870159846067, -0.14322607048636532, 0.5318270388110853, -0.6349234266796756, -0.4003475532487801, -0.5648983511179678, -0.7868393349779677, -0.6977220811260706, -0.08410301006555644, -1.0875280178558606, -0.5813926009753025, 2.0588212711119307, -0.29362776595135764, -1.0843270366508906, -1.1876750858089375, -0.8481012043049085, 0.15115715164747018, 0.986639206646197, 0.6402679098611134, 0.18569066860703448, 0.17087934983854336, -0.9611474334822284, -0.26471419660693096, 1.3791691335019767, 0.35181547138612795, -1.614213824314603, -1.299624277229161, 0.23004522824337525, 1.6144219444173153, 0.7919221560977986, 0.2872860203211714, -0.5149219514402005, 0.2975366731248288, -1.008429973075412, 0.5485802844833003, 1.5947496255817897, 0.7066061632436781, -0.3837385185155636, 0.9588566124987895, -0.9038242341284818, 0.19864496231610398, 0.8399281489736665, 0.8755052791264989, -2.2848796379452807, -0.20460032519565421, 1.1201605960496122, 0.42101963431300726, -0.7835440011445806, 2.032566975890477, -2.0758540626813393, -0.6711835421104947, 1.466861985095549, 0.6192939192575811, 0.41885332743147474, -0.140269495838045, -0.07160648641668739, 0.8750017053597382, -1.1442755166946703, 0.3540075381504812, 0.22908929279481738, 0.7616887868101634, 0.8477474043328368, -0.9042239194228446, -0.023855384432606208, -0.6751103840032416, 0.2052442964890146, -0.3251011638220956, 0.39013623321288604, -1.0296381246978157, -0.4546981272029886, 1.5560621922946916, -0.4554359860667604, -0.8307087366697378, -0.19347791554707675, 1.0515865454701203, 1.731965959242706, 1.4031900858127881, -0.8303645821590848, 1.256240361048191, 1.4459290132286562, 0.3275422203143726, 1.0142235608790378, -1.310549925967843, -0.6726162465356665, 1.5502226863152053, 1.6654382664402356, -1.4278663850474882, -0.148037772856079, 0.04258018210714182, 0.4690647010904504, -0.376808202236462, 1.4729082242912048, -1.2435688512973602, -1.4291702134049045, 1.6788176270289137, 2.457059270314667, -0.21964616796569672, -0.8747718755043745, -1.149008068776763, -0.6204953223835069], \"yaxis\": \"y7\"}, {\"line\": {\"color\": \"rgba(128, 128, 128, 1.0)\", \"dash\": \"solid\", \"shape\": \"linear\", \"width\": 1.3}, \"marker\": {\"size\": 2, \"symbol\": \"circle\"}, \"mode\": \"markers\", \"name\": \"B\", \"text\": \"\", \"type\": \"scatter\", \"x\": [-0.5292059535844459, 1.1064690406617308, 0.6091854329853036, -2.5487489986905794, -0.10048358299927301, 0.7889482561007966, 0.2182333436305011, 1.0803617517799833, 0.15299196550369815, -1.557140895984589, 1.0196638208896873, 1.0262208620258977, 0.4387054948203236, 1.0159014940334878, 0.4331660965478158, 1.2835679910923108, 1.3143615432980493, -0.14558412329424825, -0.11672342002021162, -0.6902438254153812, -0.6629440904855465, -1.7548174409297443, -0.8331569874842295, 0.8856096488005416, -0.8360053707534328, -0.7386445398584954, -0.7747387940605143, -2.081870462287336, 0.12498410671845074, 0.15897009069473816, -1.3279117437074002, 0.3788730487439563, 0.1399045402023327, 1.6512237263924514, 1.8802882828164964, -1.3590980561139525, -1.0080151597497842, 1.890401862264807, -1.4641844544383824, 1.3022572639918328, -0.9168937911655377, 0.6282793283153333, 0.5696499848868187, -0.3650051021648316, -0.4689264710561992, -2.6923960767238775, -0.22626909338040505, 0.6432574059183647, -0.5606153856204515, -0.4020547261677119, 0.15399561586188468, -0.12279867801600693, -1.4328727750050765, -0.21348161109013392, -0.8968016194032269, -0.6028522662352118, 0.669148636800434, 0.5418102266506077, -0.28152225467927555, -0.41572872914430614, 1.0253748944337442, -0.5948337923408132, -0.7883797068659848, -0.5154180730546724, -0.899356179400538, -0.8967263461183929, -2.1072065260024107, -0.6108332675060558, -0.08743087907455412, 0.5496639244852441, -1.149197611956018, -0.06307928518652887, 0.3128278711957126, -0.5437045125881234, -0.710993924980026, -0.42000882672170453, 0.6434568654828349, -0.5997340089377815, 0.4030663906846691, 0.9858919004129562, 1.0389105924626678, -0.84556996765739, -0.8486981949624501, 0.3098960882585664, -1.1871647324625332, -0.07300973002730142, -0.26990744499832925, 0.3959572617199409, -2.1097110449270424, -0.019609163838898234, 0.265154898293513, 0.7640834295508394, 0.3781628530682208, 0.5483399655704287, -1.9222072570533257, -0.16083411698348218, -0.3943933024081147, -0.1272060226379822, -0.17163116768481487, 0.4063707246658362], \"xaxis\": \"x8\", \"y\": [0.665870159846067, -0.14322607048636532, 0.5318270388110853, -0.6349234266796756, -0.4003475532487801, -0.5648983511179678, -0.7868393349779677, -0.6977220811260706, -0.08410301006555644, -1.0875280178558606, -0.5813926009753025, 2.0588212711119307, -0.29362776595135764, -1.0843270366508906, -1.1876750858089375, -0.8481012043049085, 0.15115715164747018, 0.986639206646197, 0.6402679098611134, 0.18569066860703448, 0.17087934983854336, -0.9611474334822284, -0.26471419660693096, 1.3791691335019767, 0.35181547138612795, -1.614213824314603, -1.299624277229161, 0.23004522824337525, 1.6144219444173153, 0.7919221560977986, 0.2872860203211714, -0.5149219514402005, 0.2975366731248288, -1.008429973075412, 0.5485802844833003, 1.5947496255817897, 0.7066061632436781, -0.3837385185155636, 0.9588566124987895, -0.9038242341284818, 0.19864496231610398, 0.8399281489736665, 0.8755052791264989, -2.2848796379452807, -0.20460032519565421, 1.1201605960496122, 0.42101963431300726, -0.7835440011445806, 2.032566975890477, -2.0758540626813393, -0.6711835421104947, 1.466861985095549, 0.6192939192575811, 0.41885332743147474, -0.140269495838045, -0.07160648641668739, 0.8750017053597382, -1.1442755166946703, 0.3540075381504812, 0.22908929279481738, 0.7616887868101634, 0.8477474043328368, -0.9042239194228446, -0.023855384432606208, -0.6751103840032416, 0.2052442964890146, -0.3251011638220956, 0.39013623321288604, -1.0296381246978157, -0.4546981272029886, 1.5560621922946916, -0.4554359860667604, -0.8307087366697378, -0.19347791554707675, 1.0515865454701203, 1.731965959242706, 1.4031900858127881, -0.8303645821590848, 1.256240361048191, 1.4459290132286562, 0.3275422203143726, 1.0142235608790378, -1.310549925967843, -0.6726162465356665, 1.5502226863152053, 1.6654382664402356, -1.4278663850474882, -0.148037772856079, 0.04258018210714182, 0.4690647010904504, -0.376808202236462, 1.4729082242912048, -1.2435688512973602, -1.4291702134049045, 1.6788176270289137, 2.457059270314667, -0.21964616796569672, -0.8747718755043745, -1.149008068776763, -0.6204953223835069], \"yaxis\": \"y8\"}, {\"line\": {\"color\": \"rgba(128, 128, 128, 1.0)\", \"dash\": \"solid\", \"shape\": \"linear\", \"width\": 1.3}, \"marker\": {\"size\": 2, \"symbol\": \"circle\"}, \"mode\": \"markers\", \"name\": \"C\", \"text\": \"\", \"type\": \"scatter\", \"x\": [-1.1327043841981699, 0.43957848880133177, 1.2915937209904265, -0.062483491122553636, -0.33030927847358615, -0.2534474880004595, -0.2944241123130243, 1.5571960481692488, 0.6371386751068504, 1.3768911706132103, -0.3111060058480483, 0.44001685729780704, -1.4536275467577977, -1.6415748499370881, 0.8726454311647474, 0.948365003585562, -0.42647265263416617, -0.929921357458483, 0.054292957326093585, 0.017311020327317662, -1.5775954742239748, -0.31197459072302897, 0.17374730429197757, -1.0417282984941945, -0.6280579320106916, -1.1132217004307798, -1.2361264792311064, -0.08786660273665906, 1.0579986356232067, 1.0760107706598756, -0.23131709679940984, -1.3607889094569379, 1.3693192944478547, 0.4302812353538046, 0.12254684981983366, 1.1274643722935607, 0.18320422398547292, 0.30394428324033396, -0.6294843259909126, -0.4823586953926577, -0.7180018874614976, -1.0560574742310123, -1.3085350821883401, -0.5814075572348782, -0.16184044883768145, -1.5721324300161514, 0.6950065710683002, -0.8314692641278058, -0.12355865229498265, -0.8329353995904607, 0.17274297111644685, 1.2443883422087991, 0.9702273312635, 0.30752907318544453, 0.061608252054063374, -0.17333362701213742, -0.27282472623696086, 0.8606730370573321, -0.8747093448472467, 0.17042438544837848, -0.29221679794432104, 1.7156012441377246, -1.4258483478797175, 0.30797346436635253, 0.2539845798111618, -0.24376782227695817, -0.06566607781142401, -0.3573574364488877, 0.8950415597885233, 0.599948696764544, 1.9671354385302708, 0.4635816065027918, -1.7576051479490429, -0.47463512313190587, 0.6279840259871928, 2.337365144079594, -0.30212451393262035, 0.5324425304553116, -2.277238747080297, 0.7441042927887853, 0.45514531157539384, -2.3927510413580046, 1.8952133023412787, 0.9295907286676737, 2.3536974688897296, -0.07835629742378766, -1.4529263558977208, -0.470744116641777, -0.9297063600714525, -0.5232787570826094, 1.1585138937308408, 0.598242881542253, 0.1466116115414334, -1.0310511547083212, 0.38700678632271857, -0.9584346155844385, 0.46289732465719235, 3.0497684309977395, 0.6308845938611453, -1.4611363927415932], \"xaxis\": \"x9\", \"y\": [-0.11645279052094908, 0.4393779609408233, 0.6063046691984406, 0.5047887138664606, -0.7372395073019394, -0.29932624994445084, -1.1307407122344446, -0.6436125721844698, -0.856329877440604, 0.4332931849795575, -1.8329129235255013, 0.100111067257256, 0.3000657389621631, 1.5879783688248816, -0.3599104859954278, -0.7906378998344055, -1.257504606293411, 1.685825304447206, 0.9371792834014308, -0.10589666566123403, 1.0134311445053685, 0.1368319379636196, -1.7647251313589065, 0.683101984420053, 0.72563965087473, 0.23277616930636896, -0.4978725557654149, -0.3346479500270642, 1.2509392121105265, 0.05580075425742243, 0.982496119310506, 0.050133712744056314, -0.0036888623704976644, -1.7197393243013206, 1.3404440765223675, 0.11115872450960106, 0.25529858453109816, -2.235696719358137, 0.24354183223249412, 0.855585555947541, -1.5199347723104777, 0.9448867355378978, -0.8736669314088429, 0.29914480180680775, -0.40935143794640605, 0.9131919034653941, -0.29624885806132945, -0.44208934293992785, 2.3333246167579382, -0.03579950282208326, 0.387660626360157, 1.628332133003226, -1.8836353518007312, 0.32046336645543944, 0.6935661975653568, -0.5563822278155446, 0.4699155331692268, -0.15064486271484978, -0.042174703806003924, 1.4196476652505239, 2.2805502889992426, 1.0246270131862365, -1.2870217432166955, -0.0030200811525446696, 1.128420913987406, -0.5850404255256592, -0.37154945661918515, -0.6660861526137942, 1.0616149434443025, 0.864987851982718, -0.5973024227401297, -0.8776741161571848, 0.6104388766966453, -0.9636485728105035, -0.6825770633411525, 0.11553865201534792, 0.12517000639252623, 2.249873312502279, -1.498983260934329, -0.41117655753396803, 1.160174244977359, -0.6904371357984395, 0.8865971952724208, 0.02755824250738164, 0.44537658566349947, -1.3360760763576893, 0.2661491335768126, 1.4501604152017185, 0.4499609195014744, -0.2919890507880548, -0.4824392756168685, -1.2014226979848543, -2.2151321821310384, 0.25453623455366897, -0.23587600341657405, -1.0459253648906333, -0.675197069499754, -0.2106098846092165, -0.5476859628743922, 0.38923816162895675], \"yaxis\": \"y9\"}, {\"line\": {\"color\": \"rgba(128, 128, 128, 1.0)\", \"dash\": \"solid\", \"shape\": \"linear\", \"width\": 1.3}, \"marker\": {\"size\": 2, \"symbol\": \"circle\"}, \"mode\": \"markers\", \"name\": \"C\", \"text\": \"\", \"type\": \"scatter\", \"x\": [0.665870159846067, -0.14322607048636532, 0.5318270388110853, -0.6349234266796756, -0.4003475532487801, -0.5648983511179678, -0.7868393349779677, -0.6977220811260706, -0.08410301006555644, -1.0875280178558606, -0.5813926009753025, 2.0588212711119307, -0.29362776595135764, -1.0843270366508906, -1.1876750858089375, -0.8481012043049085, 0.15115715164747018, 0.986639206646197, 0.6402679098611134, 0.18569066860703448, 0.17087934983854336, -0.9611474334822284, -0.26471419660693096, 1.3791691335019767, 0.35181547138612795, -1.614213824314603, -1.299624277229161, 0.23004522824337525, 1.6144219444173153, 0.7919221560977986, 0.2872860203211714, -0.5149219514402005, 0.2975366731248288, -1.008429973075412, 0.5485802844833003, 1.5947496255817897, 0.7066061632436781, -0.3837385185155636, 0.9588566124987895, -0.9038242341284818, 0.19864496231610398, 0.8399281489736665, 0.8755052791264989, -2.2848796379452807, -0.20460032519565421, 1.1201605960496122, 0.42101963431300726, -0.7835440011445806, 2.032566975890477, -2.0758540626813393, -0.6711835421104947, 1.466861985095549, 0.6192939192575811, 0.41885332743147474, -0.140269495838045, -0.07160648641668739, 0.8750017053597382, -1.1442755166946703, 0.3540075381504812, 0.22908929279481738, 0.7616887868101634, 0.8477474043328368, -0.9042239194228446, -0.023855384432606208, -0.6751103840032416, 0.2052442964890146, -0.3251011638220956, 0.39013623321288604, -1.0296381246978157, -0.4546981272029886, 1.5560621922946916, -0.4554359860667604, -0.8307087366697378, -0.19347791554707675, 1.0515865454701203, 1.731965959242706, 1.4031900858127881, -0.8303645821590848, 1.256240361048191, 1.4459290132286562, 0.3275422203143726, 1.0142235608790378, -1.310549925967843, -0.6726162465356665, 1.5502226863152053, 1.6654382664402356, -1.4278663850474882, -0.148037772856079, 0.04258018210714182, 0.4690647010904504, -0.376808202236462, 1.4729082242912048, -1.2435688512973602, -1.4291702134049045, 1.6788176270289137, 2.457059270314667, -0.21964616796569672, -0.8747718755043745, -1.149008068776763, -0.6204953223835069], \"xaxis\": \"x10\", \"y\": [-0.11645279052094908, 0.4393779609408233, 0.6063046691984406, 0.5047887138664606, -0.7372395073019394, -0.29932624994445084, -1.1307407122344446, -0.6436125721844698, -0.856329877440604, 0.4332931849795575, -1.8329129235255013, 0.100111067257256, 0.3000657389621631, 1.5879783688248816, -0.3599104859954278, -0.7906378998344055, -1.257504606293411, 1.685825304447206, 0.9371792834014308, -0.10589666566123403, 1.0134311445053685, 0.1368319379636196, -1.7647251313589065, 0.683101984420053, 0.72563965087473, 0.23277616930636896, -0.4978725557654149, -0.3346479500270642, 1.2509392121105265, 0.05580075425742243, 0.982496119310506, 0.050133712744056314, -0.0036888623704976644, -1.7197393243013206, 1.3404440765223675, 0.11115872450960106, 0.25529858453109816, -2.235696719358137, 0.24354183223249412, 0.855585555947541, -1.5199347723104777, 0.9448867355378978, -0.8736669314088429, 0.29914480180680775, -0.40935143794640605, 0.9131919034653941, -0.29624885806132945, -0.44208934293992785, 2.3333246167579382, -0.03579950282208326, 0.387660626360157, 1.628332133003226, -1.8836353518007312, 0.32046336645543944, 0.6935661975653568, -0.5563822278155446, 0.4699155331692268, -0.15064486271484978, -0.042174703806003924, 1.4196476652505239, 2.2805502889992426, 1.0246270131862365, -1.2870217432166955, -0.0030200811525446696, 1.128420913987406, -0.5850404255256592, -0.37154945661918515, -0.6660861526137942, 1.0616149434443025, 0.864987851982718, -0.5973024227401297, -0.8776741161571848, 0.6104388766966453, -0.9636485728105035, -0.6825770633411525, 0.11553865201534792, 0.12517000639252623, 2.249873312502279, -1.498983260934329, -0.41117655753396803, 1.160174244977359, -0.6904371357984395, 0.8865971952724208, 0.02755824250738164, 0.44537658566349947, -1.3360760763576893, 0.2661491335768126, 1.4501604152017185, 0.4499609195014744, -0.2919890507880548, -0.4824392756168685, -1.2014226979848543, -2.2151321821310384, 0.25453623455366897, -0.23587600341657405, -1.0459253648906333, -0.675197069499754, -0.2106098846092165, -0.5476859628743922, 0.38923816162895675], \"yaxis\": \"y10\"}, {\"histfunc\": \"count\", \"histnorm\": \"\", \"marker\": {\"color\": \"rgba(50, 171, 96, 1.0)\", \"line\": {\"color\": \"#4D5663\", \"width\": 1.3}}, \"name\": \"C\", \"nbinsx\": 10, \"opacity\": 0.8, \"orientation\": \"v\", \"type\": \"histogram\", \"x\": [-0.11645279052094908, 0.4393779609408233, 0.6063046691984406, 0.5047887138664606, -0.7372395073019394, -0.29932624994445084, -1.1307407122344446, -0.6436125721844698, -0.856329877440604, 0.4332931849795575, -1.8329129235255013, 0.100111067257256, 0.3000657389621631, 1.5879783688248816, -0.3599104859954278, -0.7906378998344055, -1.257504606293411, 1.685825304447206, 0.9371792834014308, -0.10589666566123403, 1.0134311445053685, 0.1368319379636196, -1.7647251313589065, 0.683101984420053, 0.72563965087473, 0.23277616930636896, -0.4978725557654149, -0.3346479500270642, 1.2509392121105265, 0.05580075425742243, 0.982496119310506, 0.050133712744056314, -0.0036888623704976644, -1.7197393243013206, 1.3404440765223675, 0.11115872450960106, 0.25529858453109816, -2.235696719358137, 0.24354183223249412, 0.855585555947541, -1.5199347723104777, 0.9448867355378978, -0.8736669314088429, 0.29914480180680775, -0.40935143794640605, 0.9131919034653941, -0.29624885806132945, -0.44208934293992785, 2.3333246167579382, -0.03579950282208326, 0.387660626360157, 1.628332133003226, -1.8836353518007312, 0.32046336645543944, 0.6935661975653568, -0.5563822278155446, 0.4699155331692268, -0.15064486271484978, -0.042174703806003924, 1.4196476652505239, 2.2805502889992426, 1.0246270131862365, -1.2870217432166955, -0.0030200811525446696, 1.128420913987406, -0.5850404255256592, -0.37154945661918515, -0.6660861526137942, 1.0616149434443025, 0.864987851982718, -0.5973024227401297, -0.8776741161571848, 0.6104388766966453, -0.9636485728105035, -0.6825770633411525, 0.11553865201534792, 0.12517000639252623, 2.249873312502279, -1.498983260934329, -0.41117655753396803, 1.160174244977359, -0.6904371357984395, 0.8865971952724208, 0.02755824250738164, 0.44537658566349947, -1.3360760763576893, 0.2661491335768126, 1.4501604152017185, 0.4499609195014744, -0.2919890507880548, -0.4824392756168685, -1.2014226979848543, -2.2151321821310384, 0.25453623455366897, -0.23587600341657405, -1.0459253648906333, -0.675197069499754, -0.2106098846092165, -0.5476859628743922, 0.38923816162895675], \"xaxis\": \"x11\", \"yaxis\": \"y11\"}, {\"line\": {\"color\": \"rgba(128, 128, 128, 1.0)\", \"dash\": \"solid\", \"shape\": \"linear\", \"width\": 1.3}, \"marker\": {\"size\": 2, \"symbol\": \"circle\"}, \"mode\": \"markers\", \"name\": \"C\", \"text\": \"\", \"type\": \"scatter\", \"x\": [-0.5292059535844459, 1.1064690406617308, 0.6091854329853036, -2.5487489986905794, -0.10048358299927301, 0.7889482561007966, 0.2182333436305011, 1.0803617517799833, 0.15299196550369815, -1.557140895984589, 1.0196638208896873, 1.0262208620258977, 0.4387054948203236, 1.0159014940334878, 0.4331660965478158, 1.2835679910923108, 1.3143615432980493, -0.14558412329424825, -0.11672342002021162, -0.6902438254153812, -0.6629440904855465, -1.7548174409297443, -0.8331569874842295, 0.8856096488005416, -0.8360053707534328, -0.7386445398584954, -0.7747387940605143, -2.081870462287336, 0.12498410671845074, 0.15897009069473816, -1.3279117437074002, 0.3788730487439563, 0.1399045402023327, 1.6512237263924514, 1.8802882828164964, -1.3590980561139525, -1.0080151597497842, 1.890401862264807, -1.4641844544383824, 1.3022572639918328, -0.9168937911655377, 0.6282793283153333, 0.5696499848868187, -0.3650051021648316, -0.4689264710561992, -2.6923960767238775, -0.22626909338040505, 0.6432574059183647, -0.5606153856204515, -0.4020547261677119, 0.15399561586188468, -0.12279867801600693, -1.4328727750050765, -0.21348161109013392, -0.8968016194032269, -0.6028522662352118, 0.669148636800434, 0.5418102266506077, -0.28152225467927555, -0.41572872914430614, 1.0253748944337442, -0.5948337923408132, -0.7883797068659848, -0.5154180730546724, -0.899356179400538, -0.8967263461183929, -2.1072065260024107, -0.6108332675060558, -0.08743087907455412, 0.5496639244852441, -1.149197611956018, -0.06307928518652887, 0.3128278711957126, -0.5437045125881234, -0.710993924980026, -0.42000882672170453, 0.6434568654828349, -0.5997340089377815, 0.4030663906846691, 0.9858919004129562, 1.0389105924626678, -0.84556996765739, -0.8486981949624501, 0.3098960882585664, -1.1871647324625332, -0.07300973002730142, -0.26990744499832925, 0.3959572617199409, -2.1097110449270424, -0.019609163838898234, 0.265154898293513, 0.7640834295508394, 0.3781628530682208, 0.5483399655704287, -1.9222072570533257, -0.16083411698348218, -0.3943933024081147, -0.1272060226379822, -0.17163116768481487, 0.4063707246658362], \"xaxis\": \"x12\", \"y\": [-0.11645279052094908, 0.4393779609408233, 0.6063046691984406, 0.5047887138664606, -0.7372395073019394, -0.29932624994445084, -1.1307407122344446, -0.6436125721844698, -0.856329877440604, 0.4332931849795575, -1.8329129235255013, 0.100111067257256, 0.3000657389621631, 1.5879783688248816, -0.3599104859954278, -0.7906378998344055, -1.257504606293411, 1.685825304447206, 0.9371792834014308, -0.10589666566123403, 1.0134311445053685, 0.1368319379636196, -1.7647251313589065, 0.683101984420053, 0.72563965087473, 0.23277616930636896, -0.4978725557654149, -0.3346479500270642, 1.2509392121105265, 0.05580075425742243, 0.982496119310506, 0.050133712744056314, -0.0036888623704976644, -1.7197393243013206, 1.3404440765223675, 0.11115872450960106, 0.25529858453109816, -2.235696719358137, 0.24354183223249412, 0.855585555947541, -1.5199347723104777, 0.9448867355378978, -0.8736669314088429, 0.29914480180680775, -0.40935143794640605, 0.9131919034653941, -0.29624885806132945, -0.44208934293992785, 2.3333246167579382, -0.03579950282208326, 0.387660626360157, 1.628332133003226, -1.8836353518007312, 0.32046336645543944, 0.6935661975653568, -0.5563822278155446, 0.4699155331692268, -0.15064486271484978, -0.042174703806003924, 1.4196476652505239, 2.2805502889992426, 1.0246270131862365, -1.2870217432166955, -0.0030200811525446696, 1.128420913987406, -0.5850404255256592, -0.37154945661918515, -0.6660861526137942, 1.0616149434443025, 0.864987851982718, -0.5973024227401297, -0.8776741161571848, 0.6104388766966453, -0.9636485728105035, -0.6825770633411525, 0.11553865201534792, 0.12517000639252623, 2.249873312502279, -1.498983260934329, -0.41117655753396803, 1.160174244977359, -0.6904371357984395, 0.8865971952724208, 0.02755824250738164, 0.44537658566349947, -1.3360760763576893, 0.2661491335768126, 1.4501604152017185, 0.4499609195014744, -0.2919890507880548, -0.4824392756168685, -1.2014226979848543, -2.2151321821310384, 0.25453623455366897, -0.23587600341657405, -1.0459253648906333, -0.675197069499754, -0.2106098846092165, -0.5476859628743922, 0.38923816162895675], \"yaxis\": \"y12\"}, {\"line\": {\"color\": \"rgba(128, 128, 128, 1.0)\", \"dash\": \"solid\", \"shape\": \"linear\", \"width\": 1.3}, \"marker\": {\"size\": 2, \"symbol\": \"circle\"}, \"mode\": \"markers\", \"name\": \"D\", \"text\": \"\", \"type\": \"scatter\", \"x\": [-1.1327043841981699, 0.43957848880133177, 1.2915937209904265, -0.062483491122553636, -0.33030927847358615, -0.2534474880004595, -0.2944241123130243, 1.5571960481692488, 0.6371386751068504, 1.3768911706132103, -0.3111060058480483, 0.44001685729780704, -1.4536275467577977, -1.6415748499370881, 0.8726454311647474, 0.948365003585562, -0.42647265263416617, -0.929921357458483, 0.054292957326093585, 0.017311020327317662, -1.5775954742239748, -0.31197459072302897, 0.17374730429197757, -1.0417282984941945, -0.6280579320106916, -1.1132217004307798, -1.2361264792311064, -0.08786660273665906, 1.0579986356232067, 1.0760107706598756, -0.23131709679940984, -1.3607889094569379, 1.3693192944478547, 0.4302812353538046, 0.12254684981983366, 1.1274643722935607, 0.18320422398547292, 0.30394428324033396, -0.6294843259909126, -0.4823586953926577, -0.7180018874614976, -1.0560574742310123, -1.3085350821883401, -0.5814075572348782, -0.16184044883768145, -1.5721324300161514, 0.6950065710683002, -0.8314692641278058, -0.12355865229498265, -0.8329353995904607, 0.17274297111644685, 1.2443883422087991, 0.9702273312635, 0.30752907318544453, 0.061608252054063374, -0.17333362701213742, -0.27282472623696086, 0.8606730370573321, -0.8747093448472467, 0.17042438544837848, -0.29221679794432104, 1.7156012441377246, -1.4258483478797175, 0.30797346436635253, 0.2539845798111618, -0.24376782227695817, -0.06566607781142401, -0.3573574364488877, 0.8950415597885233, 0.599948696764544, 1.9671354385302708, 0.4635816065027918, -1.7576051479490429, -0.47463512313190587, 0.6279840259871928, 2.337365144079594, -0.30212451393262035, 0.5324425304553116, -2.277238747080297, 0.7441042927887853, 0.45514531157539384, -2.3927510413580046, 1.8952133023412787, 0.9295907286676737, 2.3536974688897296, -0.07835629742378766, -1.4529263558977208, -0.470744116641777, -0.9297063600714525, -0.5232787570826094, 1.1585138937308408, 0.598242881542253, 0.1466116115414334, -1.0310511547083212, 0.38700678632271857, -0.9584346155844385, 0.46289732465719235, 3.0497684309977395, 0.6308845938611453, -1.4611363927415932], \"xaxis\": \"x13\", \"y\": [-0.5292059535844459, 1.1064690406617308, 0.6091854329853036, -2.5487489986905794, -0.10048358299927301, 0.7889482561007966, 0.2182333436305011, 1.0803617517799833, 0.15299196550369815, -1.557140895984589, 1.0196638208896873, 1.0262208620258977, 0.4387054948203236, 1.0159014940334878, 0.4331660965478158, 1.2835679910923108, 1.3143615432980493, -0.14558412329424825, -0.11672342002021162, -0.6902438254153812, -0.6629440904855465, -1.7548174409297443, -0.8331569874842295, 0.8856096488005416, -0.8360053707534328, -0.7386445398584954, -0.7747387940605143, -2.081870462287336, 0.12498410671845074, 0.15897009069473816, -1.3279117437074002, 0.3788730487439563, 0.1399045402023327, 1.6512237263924514, 1.8802882828164964, -1.3590980561139525, -1.0080151597497842, 1.890401862264807, -1.4641844544383824, 1.3022572639918328, -0.9168937911655377, 0.6282793283153333, 0.5696499848868187, -0.3650051021648316, -0.4689264710561992, -2.6923960767238775, -0.22626909338040505, 0.6432574059183647, -0.5606153856204515, -0.4020547261677119, 0.15399561586188468, -0.12279867801600693, -1.4328727750050765, -0.21348161109013392, -0.8968016194032269, -0.6028522662352118, 0.669148636800434, 0.5418102266506077, -0.28152225467927555, -0.41572872914430614, 1.0253748944337442, -0.5948337923408132, -0.7883797068659848, -0.5154180730546724, -0.899356179400538, -0.8967263461183929, -2.1072065260024107, -0.6108332675060558, -0.08743087907455412, 0.5496639244852441, -1.149197611956018, -0.06307928518652887, 0.3128278711957126, -0.5437045125881234, -0.710993924980026, -0.42000882672170453, 0.6434568654828349, -0.5997340089377815, 0.4030663906846691, 0.9858919004129562, 1.0389105924626678, -0.84556996765739, -0.8486981949624501, 0.3098960882585664, -1.1871647324625332, -0.07300973002730142, -0.26990744499832925, 0.3959572617199409, -2.1097110449270424, -0.019609163838898234, 0.265154898293513, 0.7640834295508394, 0.3781628530682208, 0.5483399655704287, -1.9222072570533257, -0.16083411698348218, -0.3943933024081147, -0.1272060226379822, -0.17163116768481487, 0.4063707246658362], \"yaxis\": \"y13\"}, {\"line\": {\"color\": \"rgba(128, 128, 128, 1.0)\", \"dash\": \"solid\", \"shape\": \"linear\", \"width\": 1.3}, \"marker\": {\"size\": 2, \"symbol\": \"circle\"}, \"mode\": \"markers\", \"name\": \"D\", \"text\": \"\", \"type\": \"scatter\", \"x\": [0.665870159846067, -0.14322607048636532, 0.5318270388110853, -0.6349234266796756, -0.4003475532487801, -0.5648983511179678, -0.7868393349779677, -0.6977220811260706, -0.08410301006555644, -1.0875280178558606, -0.5813926009753025, 2.0588212711119307, -0.29362776595135764, -1.0843270366508906, -1.1876750858089375, -0.8481012043049085, 0.15115715164747018, 0.986639206646197, 0.6402679098611134, 0.18569066860703448, 0.17087934983854336, -0.9611474334822284, -0.26471419660693096, 1.3791691335019767, 0.35181547138612795, -1.614213824314603, -1.299624277229161, 0.23004522824337525, 1.6144219444173153, 0.7919221560977986, 0.2872860203211714, -0.5149219514402005, 0.2975366731248288, -1.008429973075412, 0.5485802844833003, 1.5947496255817897, 0.7066061632436781, -0.3837385185155636, 0.9588566124987895, -0.9038242341284818, 0.19864496231610398, 0.8399281489736665, 0.8755052791264989, -2.2848796379452807, -0.20460032519565421, 1.1201605960496122, 0.42101963431300726, -0.7835440011445806, 2.032566975890477, -2.0758540626813393, -0.6711835421104947, 1.466861985095549, 0.6192939192575811, 0.41885332743147474, -0.140269495838045, -0.07160648641668739, 0.8750017053597382, -1.1442755166946703, 0.3540075381504812, 0.22908929279481738, 0.7616887868101634, 0.8477474043328368, -0.9042239194228446, -0.023855384432606208, -0.6751103840032416, 0.2052442964890146, -0.3251011638220956, 0.39013623321288604, -1.0296381246978157, -0.4546981272029886, 1.5560621922946916, -0.4554359860667604, -0.8307087366697378, -0.19347791554707675, 1.0515865454701203, 1.731965959242706, 1.4031900858127881, -0.8303645821590848, 1.256240361048191, 1.4459290132286562, 0.3275422203143726, 1.0142235608790378, -1.310549925967843, -0.6726162465356665, 1.5502226863152053, 1.6654382664402356, -1.4278663850474882, -0.148037772856079, 0.04258018210714182, 0.4690647010904504, -0.376808202236462, 1.4729082242912048, -1.2435688512973602, -1.4291702134049045, 1.6788176270289137, 2.457059270314667, -0.21964616796569672, -0.8747718755043745, -1.149008068776763, -0.6204953223835069], \"xaxis\": \"x14\", \"y\": [-0.5292059535844459, 1.1064690406617308, 0.6091854329853036, -2.5487489986905794, -0.10048358299927301, 0.7889482561007966, 0.2182333436305011, 1.0803617517799833, 0.15299196550369815, -1.557140895984589, 1.0196638208896873, 1.0262208620258977, 0.4387054948203236, 1.0159014940334878, 0.4331660965478158, 1.2835679910923108, 1.3143615432980493, -0.14558412329424825, -0.11672342002021162, -0.6902438254153812, -0.6629440904855465, -1.7548174409297443, -0.8331569874842295, 0.8856096488005416, -0.8360053707534328, -0.7386445398584954, -0.7747387940605143, -2.081870462287336, 0.12498410671845074, 0.15897009069473816, -1.3279117437074002, 0.3788730487439563, 0.1399045402023327, 1.6512237263924514, 1.8802882828164964, -1.3590980561139525, -1.0080151597497842, 1.890401862264807, -1.4641844544383824, 1.3022572639918328, -0.9168937911655377, 0.6282793283153333, 0.5696499848868187, -0.3650051021648316, -0.4689264710561992, -2.6923960767238775, -0.22626909338040505, 0.6432574059183647, -0.5606153856204515, -0.4020547261677119, 0.15399561586188468, -0.12279867801600693, -1.4328727750050765, -0.21348161109013392, -0.8968016194032269, -0.6028522662352118, 0.669148636800434, 0.5418102266506077, -0.28152225467927555, -0.41572872914430614, 1.0253748944337442, -0.5948337923408132, -0.7883797068659848, -0.5154180730546724, -0.899356179400538, -0.8967263461183929, -2.1072065260024107, -0.6108332675060558, -0.08743087907455412, 0.5496639244852441, -1.149197611956018, -0.06307928518652887, 0.3128278711957126, -0.5437045125881234, -0.710993924980026, -0.42000882672170453, 0.6434568654828349, -0.5997340089377815, 0.4030663906846691, 0.9858919004129562, 1.0389105924626678, -0.84556996765739, -0.8486981949624501, 0.3098960882585664, -1.1871647324625332, -0.07300973002730142, -0.26990744499832925, 0.3959572617199409, -2.1097110449270424, -0.019609163838898234, 0.265154898293513, 0.7640834295508394, 0.3781628530682208, 0.5483399655704287, -1.9222072570533257, -0.16083411698348218, -0.3943933024081147, -0.1272060226379822, -0.17163116768481487, 0.4063707246658362], \"yaxis\": \"y14\"}, {\"line\": {\"color\": \"rgba(128, 128, 128, 1.0)\", \"dash\": \"solid\", \"shape\": \"linear\", \"width\": 1.3}, \"marker\": {\"size\": 2, \"symbol\": \"circle\"}, \"mode\": \"markers\", \"name\": \"D\", \"text\": \"\", \"type\": \"scatter\", \"x\": [-0.11645279052094908, 0.4393779609408233, 0.6063046691984406, 0.5047887138664606, -0.7372395073019394, -0.29932624994445084, -1.1307407122344446, -0.6436125721844698, -0.856329877440604, 0.4332931849795575, -1.8329129235255013, 0.100111067257256, 0.3000657389621631, 1.5879783688248816, -0.3599104859954278, -0.7906378998344055, -1.257504606293411, 1.685825304447206, 0.9371792834014308, -0.10589666566123403, 1.0134311445053685, 0.1368319379636196, -1.7647251313589065, 0.683101984420053, 0.72563965087473, 0.23277616930636896, -0.4978725557654149, -0.3346479500270642, 1.2509392121105265, 0.05580075425742243, 0.982496119310506, 0.050133712744056314, -0.0036888623704976644, -1.7197393243013206, 1.3404440765223675, 0.11115872450960106, 0.25529858453109816, -2.235696719358137, 0.24354183223249412, 0.855585555947541, -1.5199347723104777, 0.9448867355378978, -0.8736669314088429, 0.29914480180680775, -0.40935143794640605, 0.9131919034653941, -0.29624885806132945, -0.44208934293992785, 2.3333246167579382, -0.03579950282208326, 0.387660626360157, 1.628332133003226, -1.8836353518007312, 0.32046336645543944, 0.6935661975653568, -0.5563822278155446, 0.4699155331692268, -0.15064486271484978, -0.042174703806003924, 1.4196476652505239, 2.2805502889992426, 1.0246270131862365, -1.2870217432166955, -0.0030200811525446696, 1.128420913987406, -0.5850404255256592, -0.37154945661918515, -0.6660861526137942, 1.0616149434443025, 0.864987851982718, -0.5973024227401297, -0.8776741161571848, 0.6104388766966453, -0.9636485728105035, -0.6825770633411525, 0.11553865201534792, 0.12517000639252623, 2.249873312502279, -1.498983260934329, -0.41117655753396803, 1.160174244977359, -0.6904371357984395, 0.8865971952724208, 0.02755824250738164, 0.44537658566349947, -1.3360760763576893, 0.2661491335768126, 1.4501604152017185, 0.4499609195014744, -0.2919890507880548, -0.4824392756168685, -1.2014226979848543, -2.2151321821310384, 0.25453623455366897, -0.23587600341657405, -1.0459253648906333, -0.675197069499754, -0.2106098846092165, -0.5476859628743922, 0.38923816162895675], \"xaxis\": \"x15\", \"y\": [-0.5292059535844459, 1.1064690406617308, 0.6091854329853036, -2.5487489986905794, -0.10048358299927301, 0.7889482561007966, 0.2182333436305011, 1.0803617517799833, 0.15299196550369815, -1.557140895984589, 1.0196638208896873, 1.0262208620258977, 0.4387054948203236, 1.0159014940334878, 0.4331660965478158, 1.2835679910923108, 1.3143615432980493, -0.14558412329424825, -0.11672342002021162, -0.6902438254153812, -0.6629440904855465, -1.7548174409297443, -0.8331569874842295, 0.8856096488005416, -0.8360053707534328, -0.7386445398584954, -0.7747387940605143, -2.081870462287336, 0.12498410671845074, 0.15897009069473816, -1.3279117437074002, 0.3788730487439563, 0.1399045402023327, 1.6512237263924514, 1.8802882828164964, -1.3590980561139525, -1.0080151597497842, 1.890401862264807, -1.4641844544383824, 1.3022572639918328, -0.9168937911655377, 0.6282793283153333, 0.5696499848868187, -0.3650051021648316, -0.4689264710561992, -2.6923960767238775, -0.22626909338040505, 0.6432574059183647, -0.5606153856204515, -0.4020547261677119, 0.15399561586188468, -0.12279867801600693, -1.4328727750050765, -0.21348161109013392, -0.8968016194032269, -0.6028522662352118, 0.669148636800434, 0.5418102266506077, -0.28152225467927555, -0.41572872914430614, 1.0253748944337442, -0.5948337923408132, -0.7883797068659848, -0.5154180730546724, -0.899356179400538, -0.8967263461183929, -2.1072065260024107, -0.6108332675060558, -0.08743087907455412, 0.5496639244852441, -1.149197611956018, -0.06307928518652887, 0.3128278711957126, -0.5437045125881234, -0.710993924980026, -0.42000882672170453, 0.6434568654828349, -0.5997340089377815, 0.4030663906846691, 0.9858919004129562, 1.0389105924626678, -0.84556996765739, -0.8486981949624501, 0.3098960882585664, -1.1871647324625332, -0.07300973002730142, -0.26990744499832925, 0.3959572617199409, -2.1097110449270424, -0.019609163838898234, 0.265154898293513, 0.7640834295508394, 0.3781628530682208, 0.5483399655704287, -1.9222072570533257, -0.16083411698348218, -0.3943933024081147, -0.1272060226379822, -0.17163116768481487, 0.4063707246658362], \"yaxis\": \"y15\"}, {\"histfunc\": \"count\", \"histnorm\": \"\", \"marker\": {\"color\": \"rgba(128, 0, 128, 1.0)\", \"line\": {\"color\": \"#4D5663\", \"width\": 1.3}}, \"name\": \"D\", \"nbinsx\": 10, \"opacity\": 0.8, \"orientation\": \"v\", \"type\": \"histogram\", \"x\": [-0.5292059535844459, 1.1064690406617308, 0.6091854329853036, -2.5487489986905794, -0.10048358299927301, 0.7889482561007966, 0.2182333436305011, 1.0803617517799833, 0.15299196550369815, -1.557140895984589, 1.0196638208896873, 1.0262208620258977, 0.4387054948203236, 1.0159014940334878, 0.4331660965478158, 1.2835679910923108, 1.3143615432980493, -0.14558412329424825, -0.11672342002021162, -0.6902438254153812, -0.6629440904855465, -1.7548174409297443, -0.8331569874842295, 0.8856096488005416, -0.8360053707534328, -0.7386445398584954, -0.7747387940605143, -2.081870462287336, 0.12498410671845074, 0.15897009069473816, -1.3279117437074002, 0.3788730487439563, 0.1399045402023327, 1.6512237263924514, 1.8802882828164964, -1.3590980561139525, -1.0080151597497842, 1.890401862264807, -1.4641844544383824, 1.3022572639918328, -0.9168937911655377, 0.6282793283153333, 0.5696499848868187, -0.3650051021648316, -0.4689264710561992, -2.6923960767238775, -0.22626909338040505, 0.6432574059183647, -0.5606153856204515, -0.4020547261677119, 0.15399561586188468, -0.12279867801600693, -1.4328727750050765, -0.21348161109013392, -0.8968016194032269, -0.6028522662352118, 0.669148636800434, 0.5418102266506077, -0.28152225467927555, -0.41572872914430614, 1.0253748944337442, -0.5948337923408132, -0.7883797068659848, -0.5154180730546724, -0.899356179400538, -0.8967263461183929, -2.1072065260024107, -0.6108332675060558, -0.08743087907455412, 0.5496639244852441, -1.149197611956018, -0.06307928518652887, 0.3128278711957126, -0.5437045125881234, -0.710993924980026, -0.42000882672170453, 0.6434568654828349, -0.5997340089377815, 0.4030663906846691, 0.9858919004129562, 1.0389105924626678, -0.84556996765739, -0.8486981949624501, 0.3098960882585664, -1.1871647324625332, -0.07300973002730142, -0.26990744499832925, 0.3959572617199409, -2.1097110449270424, -0.019609163838898234, 0.265154898293513, 0.7640834295508394, 0.3781628530682208, 0.5483399655704287, -1.9222072570533257, -0.16083411698348218, -0.3943933024081147, -0.1272060226379822, -0.17163116768481487, 0.4063707246658362], \"xaxis\": \"x16\", \"yaxis\": \"y16\"}],                        {\"bargap\": 0.02, \"legend\": {\"bgcolor\": \"#F5F6F9\", \"font\": {\"color\": \"#4D5663\"}}, \"paper_bgcolor\": \"#F5F6F9\", \"plot_bgcolor\": \"#F5F6F9\", \"showlegend\": false, \"template\": {\"data\": {\"bar\": [{\"error_x\": {\"color\": \"#2a3f5f\"}, \"error_y\": {\"color\": \"#2a3f5f\"}, \"marker\": {\"line\": {\"color\": \"#E5ECF6\", \"width\": 0.5}}, \"type\": \"bar\"}], \"barpolar\": [{\"marker\": {\"line\": {\"color\": \"#E5ECF6\", \"width\": 0.5}}, \"type\": \"barpolar\"}], \"carpet\": [{\"aaxis\": {\"endlinecolor\": \"#2a3f5f\", \"gridcolor\": \"white\", \"linecolor\": \"white\", \"minorgridcolor\": \"white\", \"startlinecolor\": \"#2a3f5f\"}, \"baxis\": {\"endlinecolor\": \"#2a3f5f\", \"gridcolor\": \"white\", \"linecolor\": \"white\", \"minorgridcolor\": \"white\", \"startlinecolor\": \"#2a3f5f\"}, \"type\": \"carpet\"}], \"choropleth\": [{\"colorbar\": {\"outlinewidth\": 0, \"ticks\": \"\"}, \"type\": \"choropleth\"}], \"contour\": [{\"colorbar\": {\"outlinewidth\": 0, \"ticks\": \"\"}, \"colorscale\": [[0.0, \"#0d0887\"], [0.1111111111111111, \"#46039f\"], [0.2222222222222222, \"#7201a8\"], [0.3333333333333333, \"#9c179e\"], [0.4444444444444444, \"#bd3786\"], [0.5555555555555556, \"#d8576b\"], [0.6666666666666666, \"#ed7953\"], [0.7777777777777778, \"#fb9f3a\"], [0.8888888888888888, \"#fdca26\"], [1.0, \"#f0f921\"]], \"type\": \"contour\"}], \"contourcarpet\": [{\"colorbar\": {\"outlinewidth\": 0, \"ticks\": \"\"}, \"type\": \"contourcarpet\"}], \"heatmap\": [{\"colorbar\": {\"outlinewidth\": 0, \"ticks\": \"\"}, \"colorscale\": [[0.0, \"#0d0887\"], [0.1111111111111111, \"#46039f\"], [0.2222222222222222, \"#7201a8\"], [0.3333333333333333, \"#9c179e\"], [0.4444444444444444, \"#bd3786\"], [0.5555555555555556, \"#d8576b\"], [0.6666666666666666, \"#ed7953\"], [0.7777777777777778, \"#fb9f3a\"], [0.8888888888888888, \"#fdca26\"], [1.0, \"#f0f921\"]], \"type\": \"heatmap\"}], \"heatmapgl\": [{\"colorbar\": {\"outlinewidth\": 0, \"ticks\": \"\"}, \"colorscale\": [[0.0, \"#0d0887\"], [0.1111111111111111, \"#46039f\"], [0.2222222222222222, \"#7201a8\"], [0.3333333333333333, \"#9c179e\"], [0.4444444444444444, \"#bd3786\"], [0.5555555555555556, \"#d8576b\"], [0.6666666666666666, \"#ed7953\"], [0.7777777777777778, \"#fb9f3a\"], [0.8888888888888888, \"#fdca26\"], [1.0, \"#f0f921\"]], \"type\": \"heatmapgl\"}], \"histogram\": [{\"marker\": {\"colorbar\": {\"outlinewidth\": 0, \"ticks\": \"\"}}, \"type\": \"histogram\"}], \"histogram2d\": [{\"colorbar\": {\"outlinewidth\": 0, \"ticks\": \"\"}, \"colorscale\": [[0.0, \"#0d0887\"], [0.1111111111111111, \"#46039f\"], [0.2222222222222222, \"#7201a8\"], [0.3333333333333333, \"#9c179e\"], [0.4444444444444444, \"#bd3786\"], [0.5555555555555556, \"#d8576b\"], [0.6666666666666666, \"#ed7953\"], [0.7777777777777778, \"#fb9f3a\"], [0.8888888888888888, \"#fdca26\"], [1.0, \"#f0f921\"]], \"type\": \"histogram2d\"}], \"histogram2dcontour\": [{\"colorbar\": {\"outlinewidth\": 0, \"ticks\": \"\"}, \"colorscale\": [[0.0, \"#0d0887\"], [0.1111111111111111, \"#46039f\"], [0.2222222222222222, \"#7201a8\"], [0.3333333333333333, \"#9c179e\"], [0.4444444444444444, \"#bd3786\"], [0.5555555555555556, \"#d8576b\"], [0.6666666666666666, \"#ed7953\"], [0.7777777777777778, \"#fb9f3a\"], [0.8888888888888888, \"#fdca26\"], [1.0, \"#f0f921\"]], \"type\": \"histogram2dcontour\"}], \"mesh3d\": [{\"colorbar\": {\"outlinewidth\": 0, \"ticks\": \"\"}, \"type\": \"mesh3d\"}], \"parcoords\": [{\"line\": {\"colorbar\": {\"outlinewidth\": 0, \"ticks\": \"\"}}, \"type\": \"parcoords\"}], \"pie\": [{\"automargin\": true, \"type\": \"pie\"}], \"scatter\": [{\"marker\": {\"colorbar\": {\"outlinewidth\": 0, \"ticks\": \"\"}}, \"type\": \"scatter\"}], \"scatter3d\": [{\"line\": {\"colorbar\": {\"outlinewidth\": 0, \"ticks\": \"\"}}, \"marker\": {\"colorbar\": {\"outlinewidth\": 0, \"ticks\": \"\"}}, \"type\": \"scatter3d\"}], \"scattercarpet\": [{\"marker\": {\"colorbar\": {\"outlinewidth\": 0, \"ticks\": \"\"}}, \"type\": \"scattercarpet\"}], \"scattergeo\": [{\"marker\": {\"colorbar\": {\"outlinewidth\": 0, \"ticks\": \"\"}}, \"type\": \"scattergeo\"}], \"scattergl\": [{\"marker\": {\"colorbar\": {\"outlinewidth\": 0, \"ticks\": \"\"}}, \"type\": \"scattergl\"}], \"scattermapbox\": [{\"marker\": {\"colorbar\": {\"outlinewidth\": 0, \"ticks\": \"\"}}, \"type\": \"scattermapbox\"}], \"scatterpolar\": [{\"marker\": {\"colorbar\": {\"outlinewidth\": 0, \"ticks\": \"\"}}, \"type\": \"scatterpolar\"}], \"scatterpolargl\": [{\"marker\": {\"colorbar\": {\"outlinewidth\": 0, \"ticks\": \"\"}}, \"type\": \"scatterpolargl\"}], \"scatterternary\": [{\"marker\": {\"colorbar\": {\"outlinewidth\": 0, \"ticks\": \"\"}}, \"type\": \"scatterternary\"}], \"surface\": [{\"colorbar\": {\"outlinewidth\": 0, \"ticks\": \"\"}, \"colorscale\": [[0.0, \"#0d0887\"], [0.1111111111111111, \"#46039f\"], [0.2222222222222222, \"#7201a8\"], [0.3333333333333333, \"#9c179e\"], [0.4444444444444444, \"#bd3786\"], [0.5555555555555556, \"#d8576b\"], [0.6666666666666666, \"#ed7953\"], [0.7777777777777778, \"#fb9f3a\"], [0.8888888888888888, \"#fdca26\"], [1.0, \"#f0f921\"]], \"type\": \"surface\"}], \"table\": [{\"cells\": {\"fill\": {\"color\": \"#EBF0F8\"}, \"line\": {\"color\": \"white\"}}, \"header\": {\"fill\": {\"color\": \"#C8D4E3\"}, \"line\": {\"color\": \"white\"}}, \"type\": \"table\"}]}, \"layout\": {\"annotationdefaults\": {\"arrowcolor\": \"#2a3f5f\", \"arrowhead\": 0, \"arrowwidth\": 1}, \"autotypenumbers\": \"strict\", \"coloraxis\": {\"colorbar\": {\"outlinewidth\": 0, \"ticks\": \"\"}}, \"colorscale\": {\"diverging\": [[0, \"#8e0152\"], [0.1, \"#c51b7d\"], [0.2, \"#de77ae\"], [0.3, \"#f1b6da\"], [0.4, \"#fde0ef\"], [0.5, \"#f7f7f7\"], [0.6, \"#e6f5d0\"], [0.7, \"#b8e186\"], [0.8, \"#7fbc41\"], [0.9, \"#4d9221\"], [1, \"#276419\"]], \"sequential\": [[0.0, \"#0d0887\"], [0.1111111111111111, \"#46039f\"], [0.2222222222222222, \"#7201a8\"], [0.3333333333333333, \"#9c179e\"], [0.4444444444444444, \"#bd3786\"], [0.5555555555555556, \"#d8576b\"], [0.6666666666666666, \"#ed7953\"], [0.7777777777777778, \"#fb9f3a\"], [0.8888888888888888, \"#fdca26\"], [1.0, \"#f0f921\"]], \"sequentialminus\": [[0.0, \"#0d0887\"], [0.1111111111111111, \"#46039f\"], [0.2222222222222222, \"#7201a8\"], [0.3333333333333333, \"#9c179e\"], [0.4444444444444444, \"#bd3786\"], [0.5555555555555556, \"#d8576b\"], [0.6666666666666666, \"#ed7953\"], [0.7777777777777778, \"#fb9f3a\"], [0.8888888888888888, \"#fdca26\"], [1.0, \"#f0f921\"]]}, \"colorway\": [\"#636efa\", \"#EF553B\", \"#00cc96\", \"#ab63fa\", \"#FFA15A\", \"#19d3f3\", \"#FF6692\", \"#B6E880\", \"#FF97FF\", \"#FECB52\"], \"font\": {\"color\": \"#2a3f5f\"}, \"geo\": {\"bgcolor\": \"white\", \"lakecolor\": \"white\", \"landcolor\": \"#E5ECF6\", \"showlakes\": true, \"showland\": true, \"subunitcolor\": \"white\"}, \"hoverlabel\": {\"align\": \"left\"}, \"hovermode\": \"closest\", \"mapbox\": {\"style\": \"light\"}, \"paper_bgcolor\": \"white\", \"plot_bgcolor\": \"#E5ECF6\", \"polar\": {\"angularaxis\": {\"gridcolor\": \"white\", \"linecolor\": \"white\", \"ticks\": \"\"}, \"bgcolor\": \"#E5ECF6\", \"radialaxis\": {\"gridcolor\": \"white\", \"linecolor\": \"white\", \"ticks\": \"\"}}, \"scene\": {\"xaxis\": {\"backgroundcolor\": \"#E5ECF6\", \"gridcolor\": \"white\", \"gridwidth\": 2, \"linecolor\": \"white\", \"showbackground\": true, \"ticks\": \"\", \"zerolinecolor\": \"white\"}, \"yaxis\": {\"backgroundcolor\": \"#E5ECF6\", \"gridcolor\": \"white\", \"gridwidth\": 2, \"linecolor\": \"white\", \"showbackground\": true, \"ticks\": \"\", \"zerolinecolor\": \"white\"}, \"zaxis\": {\"backgroundcolor\": \"#E5ECF6\", \"gridcolor\": \"white\", \"gridwidth\": 2, \"linecolor\": \"white\", \"showbackground\": true, \"ticks\": \"\", \"zerolinecolor\": \"white\"}}, \"shapedefaults\": {\"line\": {\"color\": \"#2a3f5f\"}}, \"ternary\": {\"aaxis\": {\"gridcolor\": \"white\", \"linecolor\": \"white\", \"ticks\": \"\"}, \"baxis\": {\"gridcolor\": \"white\", \"linecolor\": \"white\", \"ticks\": \"\"}, \"bgcolor\": \"#E5ECF6\", \"caxis\": {\"gridcolor\": \"white\", \"linecolor\": \"white\", \"ticks\": \"\"}}, \"title\": {\"x\": 0.05}, \"xaxis\": {\"automargin\": true, \"gridcolor\": \"white\", \"linecolor\": \"white\", \"ticks\": \"\", \"title\": {\"standoff\": 15}, \"zerolinecolor\": \"white\", \"zerolinewidth\": 2}, \"yaxis\": {\"automargin\": true, \"gridcolor\": \"white\", \"linecolor\": \"white\", \"ticks\": \"\", \"title\": {\"standoff\": 15}, \"zerolinecolor\": \"white\", \"zerolinewidth\": 2}}}, \"title\": {\"font\": {\"color\": \"#4D5663\"}}, \"xaxis\": {\"anchor\": \"y\", \"domain\": [0.0, 0.2125], \"gridcolor\": \"#E1E5ED\", \"showgrid\": false, \"tickfont\": {\"color\": \"#4D5663\"}, \"title\": {\"font\": {\"color\": \"#4D5663\"}, \"text\": \"\"}, \"zerolinecolor\": \"#E1E5ED\"}, \"xaxis10\": {\"anchor\": \"y10\", \"domain\": [0.2625, 0.475], \"gridcolor\": \"#E1E5ED\", \"showgrid\": false, \"tickfont\": {\"color\": \"#4D5663\"}, \"title\": {\"font\": {\"color\": \"#4D5663\"}, \"text\": \"\"}, \"zerolinecolor\": \"#E1E5ED\"}, \"xaxis11\": {\"anchor\": \"y11\", \"domain\": [0.525, 0.7375], \"gridcolor\": \"#E1E5ED\", \"showgrid\": false, \"tickfont\": {\"color\": \"#4D5663\"}, \"title\": {\"font\": {\"color\": \"#4D5663\"}, \"text\": \"\"}, \"zerolinecolor\": \"#E1E5ED\"}, \"xaxis12\": {\"anchor\": \"y12\", \"domain\": [0.7875, 1.0], \"gridcolor\": \"#E1E5ED\", \"showgrid\": false, \"tickfont\": {\"color\": \"#4D5663\"}, \"title\": {\"font\": {\"color\": \"#4D5663\"}, \"text\": \"\"}, \"zerolinecolor\": \"#E1E5ED\"}, \"xaxis13\": {\"anchor\": \"y13\", \"domain\": [0.0, 0.2125], \"gridcolor\": \"#E1E5ED\", \"showgrid\": false, \"tickfont\": {\"color\": \"#4D5663\"}, \"title\": {\"font\": {\"color\": \"#4D5663\"}, \"text\": \"\"}, \"zerolinecolor\": \"#E1E5ED\"}, \"xaxis14\": {\"anchor\": \"y14\", \"domain\": [0.2625, 0.475], \"gridcolor\": \"#E1E5ED\", \"showgrid\": false, \"tickfont\": {\"color\": \"#4D5663\"}, \"title\": {\"font\": {\"color\": \"#4D5663\"}, \"text\": \"\"}, \"zerolinecolor\": \"#E1E5ED\"}, \"xaxis15\": {\"anchor\": \"y15\", \"domain\": [0.525, 0.7375], \"gridcolor\": \"#E1E5ED\", \"showgrid\": false, \"tickfont\": {\"color\": \"#4D5663\"}, \"title\": {\"font\": {\"color\": \"#4D5663\"}, \"text\": \"\"}, \"zerolinecolor\": \"#E1E5ED\"}, \"xaxis16\": {\"anchor\": \"y16\", \"domain\": [0.7875, 1.0], \"gridcolor\": \"#E1E5ED\", \"showgrid\": false, \"tickfont\": {\"color\": \"#4D5663\"}, \"title\": {\"font\": {\"color\": \"#4D5663\"}, \"text\": \"\"}, \"zerolinecolor\": \"#E1E5ED\"}, \"xaxis2\": {\"anchor\": \"y2\", \"domain\": [0.2625, 0.475], \"gridcolor\": \"#E1E5ED\", \"showgrid\": false, \"tickfont\": {\"color\": \"#4D5663\"}, \"title\": {\"font\": {\"color\": \"#4D5663\"}, \"text\": \"\"}, \"zerolinecolor\": \"#E1E5ED\"}, \"xaxis3\": {\"anchor\": \"y3\", \"domain\": [0.525, 0.7375], \"gridcolor\": \"#E1E5ED\", \"showgrid\": false, \"tickfont\": {\"color\": \"#4D5663\"}, \"title\": {\"font\": {\"color\": \"#4D5663\"}, \"text\": \"\"}, \"zerolinecolor\": \"#E1E5ED\"}, \"xaxis4\": {\"anchor\": \"y4\", \"domain\": [0.7875, 1.0], \"gridcolor\": \"#E1E5ED\", \"showgrid\": false, \"tickfont\": {\"color\": \"#4D5663\"}, \"title\": {\"font\": {\"color\": \"#4D5663\"}, \"text\": \"\"}, \"zerolinecolor\": \"#E1E5ED\"}, \"xaxis5\": {\"anchor\": \"y5\", \"domain\": [0.0, 0.2125], \"gridcolor\": \"#E1E5ED\", \"showgrid\": false, \"tickfont\": {\"color\": \"#4D5663\"}, \"title\": {\"font\": {\"color\": \"#4D5663\"}, \"text\": \"\"}, \"zerolinecolor\": \"#E1E5ED\"}, \"xaxis6\": {\"anchor\": \"y6\", \"domain\": [0.2625, 0.475], \"gridcolor\": \"#E1E5ED\", \"showgrid\": false, \"tickfont\": {\"color\": \"#4D5663\"}, \"title\": {\"font\": {\"color\": \"#4D5663\"}, \"text\": \"\"}, \"zerolinecolor\": \"#E1E5ED\"}, \"xaxis7\": {\"anchor\": \"y7\", \"domain\": [0.525, 0.7375], \"gridcolor\": \"#E1E5ED\", \"showgrid\": false, \"tickfont\": {\"color\": \"#4D5663\"}, \"title\": {\"font\": {\"color\": \"#4D5663\"}, \"text\": \"\"}, \"zerolinecolor\": \"#E1E5ED\"}, \"xaxis8\": {\"anchor\": \"y8\", \"domain\": [0.7875, 1.0], \"gridcolor\": \"#E1E5ED\", \"showgrid\": false, \"tickfont\": {\"color\": \"#4D5663\"}, \"title\": {\"font\": {\"color\": \"#4D5663\"}, \"text\": \"\"}, \"zerolinecolor\": \"#E1E5ED\"}, \"xaxis9\": {\"anchor\": \"y9\", \"domain\": [0.0, 0.2125], \"gridcolor\": \"#E1E5ED\", \"showgrid\": false, \"tickfont\": {\"color\": \"#4D5663\"}, \"title\": {\"font\": {\"color\": \"#4D5663\"}, \"text\": \"\"}, \"zerolinecolor\": \"#E1E5ED\"}, \"yaxis\": {\"anchor\": \"x\", \"domain\": [0.8025, 1.0], \"gridcolor\": \"#E1E5ED\", \"showgrid\": false, \"tickfont\": {\"color\": \"#4D5663\"}, \"title\": {\"font\": {\"color\": \"#4D5663\"}, \"text\": \"\"}, \"zerolinecolor\": \"#E1E5ED\"}, \"yaxis10\": {\"anchor\": \"x10\", \"domain\": [0.2675, 0.465], \"gridcolor\": \"#E1E5ED\", \"showgrid\": false, \"tickfont\": {\"color\": \"#4D5663\"}, \"title\": {\"font\": {\"color\": \"#4D5663\"}, \"text\": \"\"}, \"zerolinecolor\": \"#E1E5ED\"}, \"yaxis11\": {\"anchor\": \"x11\", \"domain\": [0.2675, 0.465], \"gridcolor\": \"#E1E5ED\", \"showgrid\": false, \"tickfont\": {\"color\": \"#4D5663\"}, \"title\": {\"font\": {\"color\": \"#4D5663\"}, \"text\": \"\"}, \"zerolinecolor\": \"#E1E5ED\"}, \"yaxis12\": {\"anchor\": \"x12\", \"domain\": [0.2675, 0.465], \"gridcolor\": \"#E1E5ED\", \"showgrid\": false, \"tickfont\": {\"color\": \"#4D5663\"}, \"title\": {\"font\": {\"color\": \"#4D5663\"}, \"text\": \"\"}, \"zerolinecolor\": \"#E1E5ED\"}, \"yaxis13\": {\"anchor\": \"x13\", \"domain\": [0.0, 0.1975], \"gridcolor\": \"#E1E5ED\", \"showgrid\": false, \"tickfont\": {\"color\": \"#4D5663\"}, \"title\": {\"font\": {\"color\": \"#4D5663\"}, \"text\": \"\"}, \"zerolinecolor\": \"#E1E5ED\"}, \"yaxis14\": {\"anchor\": \"x14\", \"domain\": [0.0, 0.1975], \"gridcolor\": \"#E1E5ED\", \"showgrid\": false, \"tickfont\": {\"color\": \"#4D5663\"}, \"title\": {\"font\": {\"color\": \"#4D5663\"}, \"text\": \"\"}, \"zerolinecolor\": \"#E1E5ED\"}, \"yaxis15\": {\"anchor\": \"x15\", \"domain\": [0.0, 0.1975], \"gridcolor\": \"#E1E5ED\", \"showgrid\": false, \"tickfont\": {\"color\": \"#4D5663\"}, \"title\": {\"font\": {\"color\": \"#4D5663\"}, \"text\": \"\"}, \"zerolinecolor\": \"#E1E5ED\"}, \"yaxis16\": {\"anchor\": \"x16\", \"domain\": [0.0, 0.1975], \"gridcolor\": \"#E1E5ED\", \"showgrid\": false, \"tickfont\": {\"color\": \"#4D5663\"}, \"title\": {\"font\": {\"color\": \"#4D5663\"}, \"text\": \"\"}, \"zerolinecolor\": \"#E1E5ED\"}, \"yaxis2\": {\"anchor\": \"x2\", \"domain\": [0.8025, 1.0], \"gridcolor\": \"#E1E5ED\", \"showgrid\": false, \"tickfont\": {\"color\": \"#4D5663\"}, \"title\": {\"font\": {\"color\": \"#4D5663\"}, \"text\": \"\"}, \"zerolinecolor\": \"#E1E5ED\"}, \"yaxis3\": {\"anchor\": \"x3\", \"domain\": [0.8025, 1.0], \"gridcolor\": \"#E1E5ED\", \"showgrid\": false, \"tickfont\": {\"color\": \"#4D5663\"}, \"title\": {\"font\": {\"color\": \"#4D5663\"}, \"text\": \"\"}, \"zerolinecolor\": \"#E1E5ED\"}, \"yaxis4\": {\"anchor\": \"x4\", \"domain\": [0.8025, 1.0], \"gridcolor\": \"#E1E5ED\", \"showgrid\": false, \"tickfont\": {\"color\": \"#4D5663\"}, \"title\": {\"font\": {\"color\": \"#4D5663\"}, \"text\": \"\"}, \"zerolinecolor\": \"#E1E5ED\"}, \"yaxis5\": {\"anchor\": \"x5\", \"domain\": [0.535, 0.7325], \"gridcolor\": \"#E1E5ED\", \"showgrid\": false, \"tickfont\": {\"color\": \"#4D5663\"}, \"title\": {\"font\": {\"color\": \"#4D5663\"}, \"text\": \"\"}, \"zerolinecolor\": \"#E1E5ED\"}, \"yaxis6\": {\"anchor\": \"x6\", \"domain\": [0.535, 0.7325], \"gridcolor\": \"#E1E5ED\", \"showgrid\": false, \"tickfont\": {\"color\": \"#4D5663\"}, \"title\": {\"font\": {\"color\": \"#4D5663\"}, \"text\": \"\"}, \"zerolinecolor\": \"#E1E5ED\"}, \"yaxis7\": {\"anchor\": \"x7\", \"domain\": [0.535, 0.7325], \"gridcolor\": \"#E1E5ED\", \"showgrid\": false, \"tickfont\": {\"color\": \"#4D5663\"}, \"title\": {\"font\": {\"color\": \"#4D5663\"}, \"text\": \"\"}, \"zerolinecolor\": \"#E1E5ED\"}, \"yaxis8\": {\"anchor\": \"x8\", \"domain\": [0.535, 0.7325], \"gridcolor\": \"#E1E5ED\", \"showgrid\": false, \"tickfont\": {\"color\": \"#4D5663\"}, \"title\": {\"font\": {\"color\": \"#4D5663\"}, \"text\": \"\"}, \"zerolinecolor\": \"#E1E5ED\"}, \"yaxis9\": {\"anchor\": \"x9\", \"domain\": [0.2675, 0.465], \"gridcolor\": \"#E1E5ED\", \"showgrid\": false, \"tickfont\": {\"color\": \"#4D5663\"}, \"title\": {\"font\": {\"color\": \"#4D5663\"}, \"text\": \"\"}, \"zerolinecolor\": \"#E1E5ED\"}},                        {\"showLink\": true, \"linkText\": \"Export to plot.ly\", \"plotlyServerURL\": \"https://plot.ly\", \"responsive\": true}                    ).then(function(){\n",
       "                            \n",
       "var gd = document.getElementById('42b14b7e-0792-49de-af75-14ec688e6298');\n",
       "var x = new MutationObserver(function (mutations, observer) {{\n",
       "        var display = window.getComputedStyle(gd).display;\n",
       "        if (!display || display === 'none') {{\n",
       "            console.log([gd, 'removed!']);\n",
       "            Plotly.purge(gd);\n",
       "            observer.disconnect();\n",
       "        }}\n",
       "}});\n",
       "\n",
       "// Listen for the removal of the full notebook cells\n",
       "var notebookContainer = gd.closest('#notebook-container');\n",
       "if (notebookContainer) {{\n",
       "    x.observe(notebookContainer, {childList: true});\n",
       "}}\n",
       "\n",
       "// Listen for the clearing of the current output cell\n",
       "var outputEl = gd.closest('.output');\n",
       "if (outputEl) {{\n",
       "    x.observe(outputEl, {childList: true});\n",
       "}}\n",
       "\n",
       "                        })                };                });            </script>        </div>"
      ]
     },
     "metadata": {},
     "output_type": "display_data"
    }
   ],
   "source": [
    "df.scatter_matrix()"
   ]
  },
  {
   "cell_type": "markdown",
   "metadata": {
    "collapsed": true
   },
   "source": [
    "# Great Job!"
   ]
  }
 ],
 "metadata": {
  "kernelspec": {
   "display_name": "Python 3",
   "language": "python",
   "name": "python3"
  },
  "language_info": {
   "codemirror_mode": {
    "name": "ipython",
    "version": 3
   },
   "file_extension": ".py",
   "mimetype": "text/x-python",
   "name": "python",
   "nbconvert_exporter": "python",
   "pygments_lexer": "ipython3",
   "version": "3.8.5"
  }
 },
 "nbformat": 4,
 "nbformat_minor": 1
}
